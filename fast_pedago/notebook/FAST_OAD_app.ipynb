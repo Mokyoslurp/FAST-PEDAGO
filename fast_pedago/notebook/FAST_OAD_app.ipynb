{
 "cells": [
  {
   "cell_type": "markdown",
   "id": "5c924dbe",
   "metadata": {},
   "source": [
    "# WELCOME TO FAST-OAD Graphical User Interface"
   ]
  },
  {
   "cell_type": "code",
   "execution_count": null,
   "id": "75a700d8",
   "metadata": {},
   "outputs": [],
   "source": [
    "import os\n",
    "import sys\n",
    "\n",
    "# For using all screen width\n",
    "from IPython.display import display, HTML\n",
    "\n",
    "module_path = os.path.abspath(os.path.join('../..'))\n",
    "if module_path not in sys.path:\n",
    "    sys.path.append(module_path)\n",
    "    \n",
    "display(HTML(\"<style>.container { width:95% !important; }</style>\"))"
   ]
  },
  {
   "cell_type": "code",
   "execution_count": null,
   "id": "a92b006f",
   "metadata": {
    "scrolled": false
   },
   "outputs": [],
   "source": [
    "from fast_pedago.gui.Interface import Interface\n",
    "\n",
    "Interface().Menu()"
   ]
  },
  {
   "cell_type": "code",
   "execution_count": null,
   "id": "b78deb72",
   "metadata": {},
   "outputs": [],
   "source": [
    "from fast_pedago.gui.interface_sensitivity_analysis import SensitivityAnalysisInterface\n",
    "\n",
    "_ = SensitivityAnalysisInterface()"
   ]
  },
  {
   "cell_type": "code",
   "execution_count": null,
   "id": "c2ec461f",
   "metadata": {},
   "outputs": [],
   "source": []
  }
 ],
 "metadata": {
  "kernelspec": {
   "display_name": "Python 3 (ipykernel)",
   "language": "python",
   "name": "python3"
  },
  "language_info": {
   "codemirror_mode": {
    "name": "ipython",
    "version": 3
   },
   "file_extension": ".py",
   "mimetype": "text/x-python",
   "name": "python",
   "nbconvert_exporter": "python",
   "pygments_lexer": "ipython3",
   "version": "3.8.18"
  }
 },
 "nbformat": 4,
 "nbformat_minor": 5
}
