{
 "cells": [
  {
   "cell_type": "code",
   "execution_count": null,
   "id": "9257d31b-de6d-4728-9441-bb553b4021fb",
   "metadata": {},
   "outputs": [],
   "source": [
    "import warnings\n",
    "warnings.filterwarnings(action='ignore')"
   ]
  },
  {
   "cell_type": "code",
   "execution_count": null,
   "id": "cb3948d7-177a-4a10-9703-83251f9487df",
   "metadata": {},
   "outputs": [],
   "source": []
  },
  {
   "cell_type": "code",
   "execution_count": null,
   "id": "ebe294c0-139a-48c4-8f00-fb7e2069c536",
   "metadata": {},
   "outputs": [],
   "source": [
    "import os.path as pth\n",
    "import openmdao.api as om\n",
    "import logging\n",
    "import shutil\n",
    "import fastoad.api as oad\n",
    "\n",
    "\n",
    "DATA_FOLDER_PATH = \"data\"\n",
    "\n",
    "WORK_FOLDER_PATH = \"workdir\"\n",
    "CONFIGURATION_FILE = pth.join(WORK_FOLDER_PATH, \"oad_sizing.yml\")\n",
    "SOURCE_FILE = pth.join(DATA_FOLDER_PATH, \"CeRAS01_baseline.xml\")\n",
    "\n",
    "# For having log messages on screen\n",
    "logging.basicConfig(level=logging.INFO, format=\"%(levelname)-8s: %(message)s\")\n",
    "\n",
    "# For using all screen width\n",
    "from IPython.core.display import display, HTML\n",
    "\n",
    "display(HTML(\"<style>.container { width:95% !important; }</style>\"))"
   ]
  },
  {
   "cell_type": "code",
   "execution_count": null,
   "id": "c4381466-31f2-4345-bdeb-ed4c50d76760",
   "metadata": {},
   "outputs": [],
   "source": []
  },
  {
   "cell_type": "code",
   "execution_count": null,
   "id": "1a3d75aa-4cfd-4807-92c5-88fdc2e555a1",
   "metadata": {},
   "outputs": [],
   "source": []
  },
  {
   "cell_type": "code",
   "execution_count": null,
   "id": "3c05cd0a-b4c1-48d2-b593-16f14fe9a054",
   "metadata": {},
   "outputs": [],
   "source": []
  },
  {
   "cell_type": "code",
   "execution_count": null,
   "id": "f5bf8823-4d81-4b32-b42d-baa4eff8e947",
   "metadata": {},
   "outputs": [],
   "source": []
  },
  {
   "cell_type": "code",
   "execution_count": null,
   "id": "d4610398-2405-49a2-932d-0fca1efae4a1",
   "metadata": {},
   "outputs": [],
   "source": [
    "#oad.generate_configuration_file(CONFIGURATION_FILE, overwrite=True)\n",
    "\n",
    "# The above generated configuration uses the quick and simple Breguet module to compute performances.\n",
    "# If you want to use the more accurate, much more CPU-costly time-step integration, uncomment and run\n",
    "# the next line:\n",
    "shutil.copy(pth.join(DATA_FOLDER_PATH, \"oad_sizing.yml\"), CONFIGURATION_FILE)"
   ]
  },
  {
   "cell_type": "code",
   "execution_count": null,
   "id": "87fc432f-b452-4739-b1a6-e08b992ba0e0",
   "metadata": {},
   "outputs": [],
   "source": []
  },
  {
   "cell_type": "code",
   "execution_count": null,
   "id": "79d9ea89-47ee-441c-8cef-f489c38fd1f8",
   "metadata": {},
   "outputs": [],
   "source": [
    "oad.generate_inputs(CONFIGURATION_FILE, SOURCE_FILE, overwrite=True)"
   ]
  },
  {
   "cell_type": "code",
   "execution_count": null,
   "id": "ed5421d8-7081-4cf8-bc60-8bbb0dac4191",
   "metadata": {},
   "outputs": [],
   "source": [
    "oad.list_variables(CONFIGURATION_FILE)"
   ]
  },
  {
   "cell_type": "code",
   "execution_count": null,
   "id": "7d7f2c1d-606a-4a6f-a570-56a3106291a7",
   "metadata": {},
   "outputs": [],
   "source": [
    "oad.list_modules(CONFIGURATION_FILE)\n",
    "# api.list_modules(CONFIGURATION_FILE, verbose=True) # Use this line instead of the previous one for detailed information (text format only)"
   ]
  },
  {
   "cell_type": "code",
   "execution_count": null,
   "id": "f64ac8c7-3110-4b24-b1cf-004ba9c41756",
   "metadata": {},
   "outputs": [],
   "source": [
    "N2_FILE = pth.join(WORK_FOLDER_PATH, \"n2.html\")\n",
    "oad.write_n2(CONFIGURATION_FILE, N2_FILE, overwrite=True)\n",
    "from IPython.display import IFrame\n",
    "\n",
    "IFrame(src=N2_FILE, width=\"100%\", height=\"500px\")"
   ]
  },
  {
   "cell_type": "code",
   "execution_count": null,
   "id": "34f5d181-a123-47bf-a0a7-75f5d51a904d",
   "metadata": {},
   "outputs": [],
   "source": [
    "XDSM_FILE = pth.join(WORK_FOLDER_PATH, 'xdsm.html')\n",
    "oad.write_xdsm(CONFIGURATION_FILE, XDSM_FILE, overwrite=True)\n",
    "from IPython.display import IFrame\n",
    "IFrame(src=XDSM_FILE, width='100%', height='500px')"
   ]
  },
  {
   "cell_type": "code",
   "execution_count": null,
   "id": "f20e0a5a-5695-41d9-b935-14e613535967",
   "metadata": {},
   "outputs": [],
   "source": [
    "eval_problem = oad.evaluate_problem(CONFIGURATION_FILE, overwrite=True)"
   ]
  },
  {
   "cell_type": "code",
   "execution_count": null,
   "id": "3f38c83a-74df-46ca-a7f9-e4112d83102a",
   "metadata": {},
   "outputs": [],
   "source": [
    "oad.variable_viewer(eval_problem.output_file_path)"
   ]
  },
  {
   "cell_type": "code",
   "execution_count": null,
   "id": "631cb633-fde6-407c-a90d-dc9d3e2ab3e9",
   "metadata": {},
   "outputs": [],
   "source": [
    "oad.mass_breakdown_sun_plot(eval_problem.output_file_path)"
   ]
  },
  {
   "cell_type": "code",
   "execution_count": null,
   "id": "cbeb5c6e-0428-4f28-a841-ff7d587fde4c",
   "metadata": {},
   "outputs": [],
   "source": [
    "fig = oad.mass_breakdown_bar_plot(eval_problem.output_file_path, name=\"FAST-OAD\")\n",
    "fig.show()"
   ]
  },
  {
   "cell_type": "code",
   "execution_count": null,
   "id": "069453b6-beba-482c-a686-3884ebd40ea9",
   "metadata": {},
   "outputs": [],
   "source": [
    "fig = oad.wing_geometry_plot(eval_problem.output_file_path, name=\"FAST-OAD\")\n",
    "fig.show()"
   ]
  },
  {
   "cell_type": "code",
   "execution_count": null,
   "id": "f82884b1-dbec-4cf2-875e-efec8f1e448b",
   "metadata": {},
   "outputs": [],
   "source": [
    "oad.aircraft_geometry_plot(eval_problem.output_file_path)"
   ]
  },
  {
   "cell_type": "code",
   "execution_count": null,
   "id": "d043336b-c3b7-459a-997a-4cbc2829e21a",
   "metadata": {},
   "outputs": [],
   "source": [
    "input_file = oad.DataFile(INPUT_FILE)\n",
    "\n",
    "# TLARs\n",
    "input_file[\"data:TLAR:NPAX\"].value = \n",
    "input_file[\"data:TLAR:approach_speed\"].value = \n",
    "input_file[\"data:TLAR:cruise_mach\"].value = \n",
    "input_file[\"data:TLAR:range\"].value = \n",
    "\n",
    "# Geometry\n",
    "input_file[\"data:geometry:cabin:aisle_width\"].value = \n",
    "input_file[\"data:geometry:cabin:seats:economical:count_by_row\"].value = \n",
    "input_file[\"data:geometry:cabin:seats:economical:length\"].value = \n",
    "input_file[\"data:geometry:cabin:seats:economical:width\"].value = \n",
    "\n",
    "input_file[\"data:geometry:flap:chord_ratio\"].value =\n",
    "input_file[\"data:geometry:flap:span_ratio\"].value = \n",
    "\n",
    "input_file[\"data:geometry:horizontal_tail:aspect_ratio\"].value = \n",
    "input_file[\"data:geometry:horizontal_tail:sweep_25\"].value = \n",
    "input_file[\"data:geometry:horizontal_tail:taper_ratio\"].value = \n",
    "input_file[\"data:geometry:horizontal_tail:thickness_ratio\"].value = \n",
    "\n",
    "input_file[\"data:geometry:propulsion:engine:y_ratio\"].value = \n",
    "\n",
    "input_file[\"data:geometry:vertical_tail:aspect_ratio\"].value = \n",
    "input_file[\"data:geometry:vertical_tail:sweep_25\"].value =\n",
    "input_file[\"data:geometry:vertical_tail:taper_ratio\"].value = \n",
    "input_file[\"data:geometry:vertical_tail:thickness_ratio\"].value = \n",
    "\n",
    "input_file[\"data:geometry:wing:aspect_ratio\"].value = \n",
    "input_file[\"data:geometry:wing:sweep_25\"].value =\n",
    "input_file[\"data:geometry:wing:kink:span_ratio\"].value =\n",
    "input_file[\"data:geometry:wing:virtual_taper_ratio\"].value = # Put arround 1.5 * the actual wing taper ratio\n",
    "input_file[\"data:geometry:wing:MAC:at25percent:x\"].value = \n",
    "\n",
    "# Propulsion\n",
    "input_file[\"data:propulsion:MTO_thrust\"].value = \n",
    "\n",
    "input_file[\"data:propulsion:rubber_engine:design_altitude\"].value = \n",
    "input_file[\"data:propulsion:rubber_engine:maximum_mach\"].value =\n",
    "input_file[\"data:propulsion:rubber_engine:overall_pressure_ratio\"].value =\n",
    "\n",
    "# Weight\n",
    "input_file[\"data:weight:aircraft:max_payload\"].value = \n",
    "input_file[\"data:weight:aircraft:payload\"].value = \n",
    "\n",
    "# Mission\n",
    "input_file[\"data:mission:MTOW_mission:diversion:distance\"].value = \n",
    "input_file[\"data:mission:MTOW_mission:holding:duration\"].value = \n",
    "input_file[\"data:mission:MTOW_mission:main_route:range\"].value = \n",
    "input_file[\"data:mission:MTOW_mission:takeoff:V2\"].value = \n",
    "input_file[\"data:mission:MTOW_mission:takeoff:fuel\"].value = \n",
    "\n",
    "input_file[\"data:mission:sizing:takeoff:flap_angle\"].value = \n",
    "input_file[\"data:mission:sizing:takeoff:slat_angle\"].value = \n",
    "input_file[\"data:mission:sizing:landing:flap_angle\"].value = \n",
    "input_file[\"data:mission:sizing:landing:slat_angle\"].value = \n",
    "input_file[\"data:mission:sizing:main_route:cruise:altitude\"].value = \n",
    "\n",
    "# The motor model is very sensitive to the input, this is the reason why there might be a great over- or under-estimation of \n",
    "# the sfc in cruise. For this reason we propose to first run the aircraft without any tuning and to then adjust the sfc based \n",
    "# on the results of the first run. You can change the following value after your first run:\n",
    "\n",
    "input_file[\"tuning:propulsion:rubber_engine:SFC:k_cr\"].value = 1.0\n",
    "\n",
    "input_file.save()"
   ]
  }
 ],
 "metadata": {
  "kernelspec": {
   "display_name": "Python 3 (ipykernel)",
   "language": "python",
   "name": "python3"
  },
  "language_info": {
   "codemirror_mode": {
    "name": "ipython",
    "version": 3
   },
   "file_extension": ".py",
   "mimetype": "text/x-python",
   "name": "python",
   "nbconvert_exporter": "python",
   "pygments_lexer": "ipython3",
   "version": "3.8.13"
  }
 },
 "nbformat": 4,
 "nbformat_minor": 5
}
