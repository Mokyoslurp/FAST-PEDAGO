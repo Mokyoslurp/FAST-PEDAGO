{
 "cells": [
  {
   "cell_type": "code",
   "execution_count": 1,
   "id": "9257d31b-de6d-4728-9441-bb553b4021fb",
   "metadata": {},
   "outputs": [],
   "source": [
    "import warnings\n",
    "warnings.filterwarnings(action='ignore')"
   ]
  },
  {
   "cell_type": "code",
   "execution_count": 2,
   "id": "ebe294c0-139a-48c4-8f00-fb7e2069c536",
   "metadata": {},
   "outputs": [
    {
     "data": {
      "text/html": [
       "<style>.container { width:95% !important; }</style>"
      ],
      "text/plain": [
       "<IPython.core.display.HTML object>"
      ]
     },
     "metadata": {},
     "output_type": "display_data"
    }
   ],
   "source": [
    "import os.path as pth\n",
    "import openmdao.api as om\n",
    "import logging\n",
    "import shutil\n",
    "import fastoad.api as oad\n",
    "\n",
    "\n",
    "DATA_FOLDER_PATH = \"data\"\n",
    "\n",
    "WORK_FOLDER_PATH = \"workdir\"\n",
    "CONFIGURATION_FILE = pth.join(WORK_FOLDER_PATH, \"oad_sizing.yml\")\n",
    "SOURCE_FILE = pth.join(DATA_FOLDER_PATH, \"CeRAS01_baseline.xml\")\n",
    "\n",
    "# For having log messages on screen\n",
    "logging.basicConfig(level=logging.INFO, format=\"%(levelname)-8s: %(message)s\")\n",
    "\n",
    "# For using all screen width\n",
    "from IPython.core.display import display, HTML\n",
    "\n",
    "display(HTML(\"<style>.container { width:95% !important; }</style>\"))"
   ]
  },
  {
   "cell_type": "code",
   "execution_count": 3,
   "id": "d4610398-2405-49a2-932d-0fca1efae4a1",
   "metadata": {},
   "outputs": [
    {
     "data": {
      "text/plain": [
       "'workdir\\\\oad_sizing.yml'"
      ]
     },
     "execution_count": 3,
     "metadata": {},
     "output_type": "execute_result"
    }
   ],
   "source": [
    "#oad.generate_configuration_file(CONFIGURATION_FILE, overwrite=True)\n",
    "\n",
    "# The above generated configuration uses the quick and simple Breguet module to compute performances.\n",
    "# If you want to use the more accurate, much more CPU-costly time-step integration, uncomment and run\n",
    "# the next line:\n",
    "shutil.copy(pth.join(DATA_FOLDER_PATH, \"oad_sizing.yml\"), CONFIGURATION_FILE)"
   ]
  },
  {
   "cell_type": "code",
   "execution_count": 4,
   "id": "79d9ea89-47ee-441c-8cef-f489c38fd1f8",
   "metadata": {},
   "outputs": [
    {
     "name": "stderr",
     "output_type": "stream",
     "text": [
      "INFO    : Loading FAST-OAD plugin bundled\n",
      "INFO    : Loading bundles from fastoad.models\n",
      "INFO    : Installed bundle fastoad.models.performances.mission.openmdao.__init__ (ID 21 )\n",
      "INFO    : Installed bundle fastoad.models.performances.mission.segments.__init__ (ID 31 )\n",
      "INFO    : Installed bundle fastoad.models.performances.mission.segments.cruise (ID 26 )\n",
      "INFO    : Installed bundle fastoad.models.performances.mission.mission_definition.__init__ (ID 16 )\n",
      "INFO    : Installed bundle fastoad.models.performances.mission.polar (ID 22 )\n",
      "INFO    : Installed bundle fastoad.models.performances.mission.mission_definition.exceptions (ID 12 )\n",
      "INFO    : Installed bundle fastoad.models.performances.mission.openmdao.mission (ID 18 )\n",
      "INFO    : Installed bundle fastoad.models.performances.mission.routes (ID 23 )\n",
      "INFO    : Installed bundle fastoad.models.performances.mission.__init__ (ID 33 )\n",
      "INFO    : Installed bundle fastoad.models.performances.mission.segments.hold (ID 27 )\n",
      "INFO    : Installed bundle fastoad.models.performances.__init__ (ID 34 )\n",
      "INFO    : Installed bundle fastoad.models.performances.mission.exceptions (ID 11 )\n",
      "INFO    : Installed bundle fastoad.models.performances.mission.openmdao.mission_wrapper (ID 19 )\n",
      "INFO    : Installed bundle fastoad.models.__init__ (ID 35 )\n",
      "INFO    : Installed bundle fastoad.models.performances.mission.segments.speed_change (ID 28 )\n",
      "INFO    : Installed bundle fastoad.models.performances.mission.mission_definition.resources.__init__ (ID 14 )\n",
      "INFO    : Installed bundle fastoad.models.performances.mission.mission_definition.mission_builder (ID 13 )\n",
      "INFO    : Installed bundle fastoad.models.performances.mission.segments.altitude_change (ID 24 )\n",
      "INFO    : Installed bundle fastoad.models.performances.mission.openmdao.resources.__init__ (ID 20 )\n",
      "INFO    : Installed bundle fastoad.models.performances.mission.segments.transition (ID 30 )\n",
      "INFO    : Installed bundle fastoad.models.performances.mission.base (ID 10 )\n",
      "INFO    : Installed bundle fastoad.models.performances.mission.openmdao.link_mtow (ID 17 )\n",
      "INFO    : Installed bundle fastoad.models.performances.mission.mission_definition.schema (ID 15 )\n",
      "INFO    : Installed bundle fastoad.models.performances.mission.segments.taxi (ID 29 )\n",
      "INFO    : Installed bundle fastoad.models.performances.mission.util (ID 32 )\n",
      "INFO    : Installed bundle fastoad.models.performances.mission.segments.base (ID 25 )\n",
      "INFO    : Loaded variable descriptions in fastoad.models\n",
      "INFO    : Loading FAST-OAD plugin cs25\n",
      "INFO    : Loading bundles from fastoad_cs25.models\n",
      "INFO    : Installed bundle fastoad_cs25.models.aerodynamics.components.cd_trim (ID 48 )\n",
      "INFO    : Installed bundle fastoad_cs25.models.geometry.geometry (ID 71 )\n",
      "INFO    : Installed bundle fastoad_cs25.models.weight.cg.cg_components.load_cases.compute_cg_loadcase1 (ID 139 )\n",
      "INFO    : Installed bundle fastoad_cs25.models.geometry.profiles.resources.__init__ (ID 110 )\n",
      "INFO    : Installed bundle fastoad_cs25.models.aerodynamics.components.compute_low_speed_aero (ID 49 )\n",
      "INFO    : Installed bundle fastoad_cs25.models.weight.mass_breakdown.c_systems.sum (ID 176 )\n",
      "INFO    : Installed bundle fastoad_cs25.models.weight.mass_breakdown.d_furniture.d1_cargo_configuration_weight (ID 179 )\n",
      "INFO    : Installed bundle fastoad_cs25.models.aerodynamics.components.compute_max_cl_landing (ID 50 )\n",
      "INFO    : Installed bundle fastoad_cs25.models.geometry.geom_components.compute_wetted_area (ID 72 )\n",
      "INFO    : Installed bundle fastoad_cs25.models.geometry.geom_components.ht.components.compute_ht_cl_alpha (ID 77 )\n",
      "INFO    : Installed bundle fastoad_cs25.models.geometry.profiles.__init__ (ID 111 )\n",
      "INFO    : Installed bundle fastoad_cs25.models.weight.mass_breakdown.d_furniture.d2_passenger_seats_weight (ID 180 )\n",
      "INFO    : Installed bundle fastoad_cs25.models.geometry.geom_components.ht.components.compute_ht_mac (ID 78 )\n",
      "INFO    : Installed bundle fastoad_cs25.models.weight.mass_breakdown.d_furniture.d3_food_water_weight (ID 181 )\n",
      "INFO    : Installed bundle fastoad_cs25.models.geometry.geom_components.fuselage.compute_cnbeta_fuselage (ID 73 )\n",
      "INFO    : Installed bundle fastoad_cs25.models.geometry.geom_components.ht.components.compute_ht_sweep (ID 79 )\n",
      "INFO    : Installed bundle fastoad_cs25.models.handling_qualities.tail_sizing.compute_ht_area (ID 114 )\n",
      "INFO    : Installed bundle fastoad_cs25.models.weight.cg.cg_components.compute_vt_cg (ID 138 )\n",
      "INFO    : Installed bundle fastoad_cs25.models.weight.mass_breakdown.d_furniture.d4_security_kit_weight (ID 182 )\n",
      "INFO    : Installed bundle fastoad_cs25.models.geometry.geom_components.ht.components.__init__ (ID 80 )\n",
      "INFO    : Installed bundle fastoad_cs25.models.weight.mass_breakdown.d_furniture.d5_toilets_weight (ID 183 )\n",
      "INFO    : Installed bundle fastoad_cs25.models.handling_qualities.compute_static_margin (ID 113 )\n",
      "INFO    : Installed bundle fastoad_cs25.models.geometry.geom_components.fuselage.compute_fuselage (ID 74 )\n",
      "INFO    : Installed bundle fastoad_cs25.models.weight.cg.cg_components.load_cases.compute_cg_loadcase2 (ID 140 )\n",
      "INFO    : Installed bundle fastoad_cs25.models.weight.mass_breakdown.d_furniture.sum (ID 184 )\n",
      "INFO    : Installed bundle fastoad_cs25.models.geometry.geom_components.ht.compute_horizontal_tail (ID 81 )\n",
      "INFO    : Installed bundle fastoad_cs25.models.geometry.geom_components.vt.components.compute_vt_distance (ID 87 )\n",
      "INFO    : Installed bundle fastoad_cs25.models.handling_qualities.tail_sizing.compute_tail_areas (ID 115 )\n",
      "INFO    : Installed bundle fastoad_cs25.models.geometry.geom_components.vt.components.compute_vt_mac (ID 88 )\n",
      "INFO    : Installed bundle fastoad_cs25.models.geometry.geom_components.vt.components.compute_vt_sweep (ID 89 )\n",
      "INFO    : Installed bundle fastoad_cs25.models.weight.mass_breakdown.c_systems.__init__ (ID 177 )\n",
      "INFO    : Installed bundle fastoad_cs25.models.weight.mass_breakdown.d_furniture.__init__ (ID 185 )\n",
      "INFO    : Installed bundle fastoad_cs25.models.aerodynamics.components.compute_polar (ID 51 )\n",
      "INFO    : Installed bundle fastoad_cs25.models.geometry.geom_components.vt.components.__init__ (ID 90 )\n",
      "INFO    : Installed bundle fastoad_cs25.models.geometry.geom_components.ht.__init__ (ID 82 )\n",
      "INFO    : Installed bundle fastoad_cs25.models.geometry.geom_components.vt.compute_vertical_tail (ID 91 )\n",
      "INFO    : Installed bundle fastoad_cs25.models.geometry.geom_components.fuselage.__init__ (ID 75 )\n",
      "INFO    : Installed bundle fastoad_cs25.models.geometry.geom_components.nacelle_pylons.compute_nacelle_pylons (ID 83 )\n",
      "INFO    : Installed bundle fastoad_cs25.models.weight.mass_breakdown.d_furniture.constants (ID 178 )\n",
      "INFO    : Installed bundle fastoad_cs25.models.aerodynamics.components.compute_reynolds (ID 52 )\n",
      "INFO    : Installed bundle fastoad_cs25.models.aerodynamics.aerodynamics_low_speed (ID 38 )\n",
      "INFO    : Installed bundle fastoad_cs25.models.handling_qualities.tail_sizing.compute_vt_area (ID 116 )\n",
      "INFO    : Installed bundle fastoad_cs25.models.aerodynamics.components.high_lift_aero (ID 53 )\n",
      "INFO    : Installed bundle fastoad_cs25.models.geometry.geom_components.vt.__init__ (ID 92 )\n",
      "INFO    : Installed bundle fastoad_cs25.models.geometry.geom_components.nacelle_pylons.__init__ (ID 84 )\n",
      "INFO    : Installed bundle fastoad_cs25.models.weight.cg.cg_components.load_cases.compute_cg_loadcase3 (ID 141 )\n",
      "INFO    : Installed bundle fastoad_cs25.models.weight.mass_breakdown.e_crew.crew_weight (ID 186 )\n",
      "INFO    : Installed bundle fastoad_cs25.models.geometry.geom_components.ht.components.compute_ht_chords (ID 76 )\n",
      "INFO    : Installed bundle fastoad_cs25.models.aerodynamics.aerodynamics_takeoff (ID 39 )\n",
      "INFO    : Installed bundle fastoad_cs25.models.geometry.geom_components.wing.components.compute_b_50 (ID 93 )\n",
      "INFO    : Installed bundle fastoad_cs25.models.handling_qualities.tail_sizing.__init__ (ID 117 )\n",
      "INFO    : Installed bundle fastoad_cs25.models.weight.mass_breakdown.e_crew.__init__ (ID 187 )\n",
      "INFO    : Installed bundle fastoad_cs25.models.aerodynamics.components.cd0 (ID 40 )\n",
      "INFO    : Installed bundle fastoad_cs25.models.geometry.geom_components.vt.components.compute_vt_chords (ID 85 )\n",
      "INFO    : Installed bundle fastoad_cs25.models.geometry.geom_components.wing.components.compute_cl_alpha (ID 94 )\n",
      "INFO    : Installed bundle fastoad_cs25.models.weight.cg.cg_components.load_cases.compute_cg_loadcase4 (ID 142 )\n",
      "INFO    : Installed bundle fastoad_cs25.models.handling_qualities.__init__ (ID 118 )\n",
      "INFO    : Installed bundle fastoad_cs25.models.geometry.geom_components.vt.components.compute_vt_clalpha (ID 86 )\n",
      "INFO    : Installed bundle fastoad_cs25.models.weight.mass_breakdown.mass_breakdown (ID 188 )\n",
      "INFO    : Installed bundle fastoad_cs25.models.loops.compute_wing_area (ID 119 )\n",
      "INFO    : Installed bundle fastoad_cs25.models.weight.cg.cg_components.load_cases.compute_cg_loadcases (ID 143 )\n",
      "INFO    : Installed bundle fastoad_cs25.models.loops.__init__ (ID 121 )\n",
      "INFO    : Installed bundle fastoad_cs25.models.weight.cg.cg_components.load_cases.compute_cg_loadcase_base (ID 144 )\n",
      "INFO    : Installed bundle fastoad_cs25.models.weight.mass_breakdown.c_systems.c2_life_support_systems_weight (ID 170 )\n",
      "INFO    : Installed bundle fastoad_cs25.models.aerodynamics.components.cd0_fuselage (ID 41 )\n",
      "INFO    : Installed bundle fastoad_cs25.models.aerodynamics.components.initialize_cl (ID 54 )\n",
      "INFO    : Installed bundle fastoad_cs25.models.loops.compute_wing_position (ID 120 )\n",
      "INFO    : Installed bundle fastoad_cs25.models.weight.cg.cg_components.load_cases.__init__ (ID 145 )\n",
      "INFO    : Installed bundle fastoad_cs25.models.weight.mass_breakdown.c_systems.c3_navigation_systems_weight (ID 171 )\n",
      "INFO    : Installed bundle fastoad_cs25.models.weight.mass_breakdown.payload (ID 189 )\n",
      "INFO    : Installed bundle fastoad_cs25.models.weight.mass_breakdown.c_systems.c4_transmissions_systems_weight (ID 172 )\n",
      "INFO    : Installed bundle fastoad_cs25.models.weight.mass_breakdown.update_mlw_and_mzfw (ID 190 )\n",
      "INFO    : Installed bundle fastoad_cs25.models.propulsion.fuel_propulsion.rubber_engine.constants (ID 122 )\n",
      "INFO    : Installed bundle fastoad_cs25.models.weight.mass_breakdown.c_systems.c5_fixed_operational_systems_weight (ID 173 )\n",
      "INFO    : Installed bundle fastoad_cs25.models.weight.mass_breakdown.c_systems.c6_flight_kit_weight (ID 174 )\n",
      "INFO    : Installed bundle fastoad_cs25.models.weight.mass_breakdown.__init__ (ID 191 )\n",
      "INFO    : Installed bundle fastoad_cs25.models.aerodynamics.components.cd0_ht (ID 42 )\n",
      "INFO    : Installed bundle fastoad_cs25.models.weight.mass_breakdown.c_systems.constants (ID 175 )\n",
      "INFO    : Installed bundle fastoad_cs25.models.weight.weight (ID 192 )\n",
      "INFO    : Installed bundle fastoad_cs25.models.weight.__init__ (ID 193 )\n",
      "INFO    : Installed bundle fastoad_cs25.models.aerodynamics.components.oswald (ID 55 )\n",
      "INFO    : Installed bundle fastoad_cs25.models.weight.cg.cg_components.update_mlg (ID 146 )\n",
      "INFO    : Installed bundle fastoad_cs25.models.weight.mass_breakdown.b_propulsion.b2_fuel_lines_weight (ID 162 )\n",
      "INFO    : Installed bundle fastoad_cs25.models.__init__ (ID 194 )\n",
      "INFO    : Installed bundle fastoad_cs25.models.aerodynamics.components.utils.cd0_lifting_surface (ID 57 )\n",
      "INFO    : Installed bundle fastoad_cs25.models.weight.cg.constants (ID 148 )\n",
      "INFO    : Installed bundle fastoad_cs25.models.weight.mass_breakdown.b_propulsion.b3_unconsumables_weight (ID 163 )\n",
      "INFO    : Installed bundle fastoad_cs25.models.aerodynamics.components.resources.__init__ (ID 56 )\n",
      "INFO    : Installed bundle fastoad_cs25.models.weight.cg.cg_components.__init__ (ID 147 )\n",
      "INFO    : Installed bundle fastoad_cs25.models.weight.mass_breakdown.b_propulsion.constants (ID 164 )\n",
      "INFO    : Installed bundle fastoad_cs25.models.aerodynamics.aerodynamics_high_speed (ID 36 )\n",
      "INFO    : Installed bundle fastoad_cs25.models.propulsion.fuel_propulsion.rubber_engine.exceptions (ID 123 )\n",
      "INFO    : Installed bundle fastoad_cs25.models.propulsion.fuel_propulsion.rubber_engine.__init__ (ID 126 )\n",
      "INFO    : Installed bundle fastoad_cs25.models.weight.cg.__init__ (ID 149 )\n",
      "INFO    : Installed bundle fastoad_cs25.models.propulsion.fuel_propulsion.rubber_engine.rubber_engine (ID 125 )\n",
      "INFO    : Installed bundle fastoad_cs25.models.weight.constants (ID 150 )\n",
      "INFO    : Installed bundle fastoad_cs25.models.weight.mass_breakdown.b_propulsion.sum (ID 165 )\n",
      "INFO    : Installed bundle fastoad_cs25.models.aerodynamics.components.utils.friction_drag (ID 58 )\n",
      "INFO    : Installed bundle fastoad_cs25.models.propulsion.fuel_propulsion.rubber_engine.openmdao (ID 124 )\n",
      "INFO    : Installed bundle fastoad_cs25.models.aerodynamics.components.cd0_nacelles_pylons (ID 43 )\n",
      "INFO    : Installed bundle fastoad_cs25.models.aerodynamics.constants (ID 61 )\n",
      "INFO    : Installed bundle fastoad_cs25.models.weight.mass_breakdown.b_propulsion.__init__ (ID 166 )\n",
      "INFO    : Installed bundle fastoad_cs25.models.propulsion.__init__ (ID 128 )\n",
      "INFO    : Installed bundle fastoad_cs25.models.geometry.profiles.profile_getter (ID 109 )\n",
      "INFO    : Installed bundle fastoad_cs25.models.aerodynamics.components.utils.__init__ (ID 59 )\n",
      "INFO    : Installed bundle fastoad_cs25.models.geometry.geom_components.wing.components.compute_l1_l4 (ID 95 )\n",
      "INFO    : Installed bundle fastoad_cs25.models.geometry.geom_components.wing.components.compute_l2_l3 (ID 96 )\n",
      "INFO    : Installed bundle fastoad_cs25.models.propulsion.fuel_propulsion.__init__ (ID 127 )\n",
      "INFO    : Installed bundle fastoad_cs25.models.weight.mass_breakdown.a_airframe.a2_fuselage_weight (ID 152 )\n",
      "INFO    : Installed bundle fastoad_cs25.models.weight.cg.cg_components.compute_ht_cg (ID 136 )\n",
      "INFO    : Installed bundle fastoad_cs25.models.geometry.geom_components.wing.components.compute_mac_wing (ID 97 )\n",
      "INFO    : Installed bundle fastoad_cs25.models.weight.mass_breakdown.constants (ID 167 )\n",
      "INFO    : Installed bundle fastoad_cs25.models.weight.mass_breakdown.a_airframe.a3_empennage_weight (ID 153 )\n",
      "INFO    : Installed bundle fastoad_cs25.models.aerodynamics.components.__init__ (ID 60 )\n",
      "INFO    : Installed bundle fastoad_cs25.models.geometry.geom_components.wing.components.compute_mfw (ID 98 )\n",
      "INFO    : Installed bundle fastoad_cs25.models.weight.mass_breakdown.a_airframe.a4_flight_control_weight (ID 154 )\n",
      "INFO    : Installed bundle fastoad_cs25.models.weight.mass_breakdown.c_systems.c1_power_systems_weight (ID 169 )\n",
      "INFO    : Installed bundle fastoad_cs25.models.geometry.geom_components.wing.components.compute_sweep_wing (ID 99 )\n",
      "INFO    : Installed bundle fastoad_cs25.models.weight.cg.cg_components.compute_cg_ratio_aft (ID 132 )\n",
      "INFO    : Installed bundle fastoad_cs25.models.weight.mass_breakdown.a_airframe.a5_landing_gear_weight (ID 155 )\n",
      "INFO    : Installed bundle fastoad_cs25.models.weight.mass_breakdown.a_airframe.a1_wing_weight (ID 151 )\n",
      "INFO    : Installed bundle fastoad_cs25.models.weight.mass_breakdown.cs25 (ID 168 )\n",
      "INFO    : Installed bundle fastoad_cs25.models.aerodynamics.aerodynamics_landing (ID 37 )\n",
      "INFO    : Installed bundle fastoad_cs25.models.aerodynamics.external.xfoil.xfoil699.__init__ (ID 63 )\n",
      "INFO    : Installed bundle fastoad_cs25.models.geometry.geom_components.wing.components.compute_toc_wing (ID 100 )\n",
      "INFO    : Installed bundle fastoad_cs25.models.weight.cg.cg (ID 129 )\n",
      "INFO    : Installed bundle fastoad_cs25.models.weight.mass_breakdown.a_airframe.a6_pylons_weight (ID 156 )\n",
      "INFO    : Installed bundle fastoad_cs25.models.aerodynamics.external.xfoil.resources.__init__ (ID 62 )\n",
      "INFO    : Installed bundle fastoad_cs25.models.geometry.geom_components.wing.components.compute_wet_area_wing (ID 101 )\n",
      "INFO    : Installed bundle fastoad_cs25.models.weight.mass_breakdown.a_airframe.a7_paint_weight (ID 157 )\n",
      "INFO    : Installed bundle fastoad_cs25.models.geometry.geom_components.wing.components.compute_x_wing (ID 102 )\n",
      "INFO    : Installed bundle fastoad_cs25.models.weight.cg.cg_components.compute_cg_tanks (ID 133 )\n",
      "INFO    : Installed bundle fastoad_cs25.models.geometry.geom_components.wing.components.compute_y_wing (ID 103 )\n",
      "INFO    : Installed bundle fastoad_cs25.models.weight.cg.cg_components.compute_cg_control_surfaces (ID 130 )\n",
      "INFO    : Installed bundle fastoad_cs25.models.weight.mass_breakdown.a_airframe.constants (ID 158 )\n",
      "INFO    : Installed bundle fastoad_cs25.models.geometry.geom_components.wing.components.__init__ (ID 104 )\n",
      "INFO    : Installed bundle fastoad_cs25.models.aerodynamics.components.cd0_total (ID 44 )\n",
      "INFO    : Installed bundle fastoad_cs25.models.weight.cg.cg_components.compute_cg_wing (ID 134 )\n",
      "INFO    : Installed bundle fastoad_cs25.models.aerodynamics.external.xfoil.xfoil_polar (ID 64 )\n",
      "INFO    : Installed bundle fastoad_cs25.models.weight.mass_breakdown.a_airframe.sum (ID 159 )\n",
      "INFO    : Installed bundle fastoad_cs25.models.aerodynamics.__init__ (ID 67 )\n",
      "INFO    : Installed bundle fastoad_cs25.models.geometry.geom_components.wing.compute_wing (ID 105 )\n",
      "INFO    : Installed bundle fastoad_cs25.models.aerodynamics.external.xfoil.__init__ (ID 65 )\n",
      "INFO    : Installed bundle fastoad_cs25.models.weight.mass_breakdown.a_airframe.__init__ (ID 160 )\n",
      "INFO    : Installed bundle fastoad_cs25.models.aerodynamics.components.cd0_vt (ID 45 )\n",
      "INFO    : Installed bundle fastoad_cs25.models.aerodynamics.components.cd0_wing (ID 46 )\n",
      "INFO    : Installed bundle fastoad_cs25.models.aerodynamics.external.__init__ (ID 66 )\n",
      "INFO    : Installed bundle fastoad_cs25.models.geometry.geom_components.wing.__init__ (ID 106 )\n",
      "INFO    : Installed bundle fastoad_cs25.models.weight.cg.cg_components.compute_global_cg (ID 135 )\n",
      "INFO    : Installed bundle fastoad_cs25.models.weight.mass_breakdown.b_propulsion.b1_engine_weight (ID 161 )\n",
      "INFO    : Installed bundle fastoad_cs25.models.weight.cg.cg_components.compute_max_cg_ratio (ID 137 )\n",
      "INFO    : Installed bundle fastoad_cs25.models.constants (ID 68 )\n",
      "INFO    : Installed bundle fastoad_cs25.models.aerodynamics.components.cd_compressibility (ID 47 )\n",
      "INFO    : Installed bundle fastoad_cs25.models.geometry.constants (ID 70 )\n",
      "INFO    : Installed bundle fastoad_cs25.models.geometry.geom_components.__init__ (ID 107 )\n",
      "INFO    : Installed bundle fastoad_cs25.models.weight.cg.cg_components.compute_cg_others (ID 131 )\n",
      "INFO    : Installed bundle fastoad_cs25.models.geometry.profiles.profile (ID 108 )\n",
      "INFO    : Installed bundle fastoad_cs25.models.geometry.__init__ (ID 112 )\n",
      "INFO    : Installed bundle fastoad_cs25.models.geometry.compute_aero_center (ID 69 )\n",
      "INFO    : Loaded variable descriptions in fastoad_cs25.models\n",
      "INFO    : Problem inputs written in C:\\Users\\PC\\PycharmProjects\\FAST-PEDAGO\\Presentation\\workdir\\problem_inputs.xml\n"
     ]
    },
    {
     "data": {
      "text/plain": [
       "'C:\\\\Users\\\\PC\\\\PycharmProjects\\\\FAST-PEDAGO\\\\Presentation\\\\workdir\\\\problem_inputs.xml'"
      ]
     },
     "execution_count": 4,
     "metadata": {},
     "output_type": "execute_result"
    }
   ],
   "source": [
    "oad.generate_inputs(CONFIGURATION_FILE, SOURCE_FILE, overwrite=True)"
   ]
  },
  {
   "cell_type": "code",
   "execution_count": 5,
   "id": "ed5421d8-7081-4cf8-bc60-8bbb0dac4191",
   "metadata": {},
   "outputs": [
    {
     "data": {
      "text/html": [
       "<table border=\"1\" class=\"dataframe\">\n",
       "  <thead>\n",
       "    <tr style=\"text-align: right;\">\n",
       "      <th>NAME</th>\n",
       "      <th>I/O</th>\n",
       "      <th>DESCRIPTION</th>\n",
       "    </tr>\n",
       "  </thead>\n",
       "  <tbody>\n",
       "    <tr>\n",
       "      <td>data:TLAR:NPAX</td>\n",
       "      <td>IN</td>\n",
       "      <td>top-level requirement: number of passengers, assuming a classic eco/business class repartition</td>\n",
       "    </tr>\n",
       "    <tr>\n",
       "      <td>data:TLAR:approach_speed</td>\n",
       "      <td>IN</td>\n",
       "      <td>top-level requirement: approach speed</td>\n",
       "    </tr>\n",
       "    <tr>\n",
       "      <td>data:TLAR:cruise_mach</td>\n",
       "      <td>IN</td>\n",
       "      <td>Input defined by the mission.</td>\n",
       "    </tr>\n",
       "    <tr>\n",
       "      <td>data:TLAR:range</td>\n",
       "      <td>IN</td>\n",
       "      <td>Input defined by the mission.</td>\n",
       "    </tr>\n",
       "    <tr>\n",
       "      <td>data:aerodynamics:aircraft:landing:CL_max_clean_2D</td>\n",
       "      <td>IN</td>\n",
       "      <td>maximum lift coefficient of 2D average profile in landing conditions without high-lift devices</td>\n",
       "    </tr>\n",
       "    <tr>\n",
       "      <td>data:aerodynamics:aircraft:takeoff:mach</td>\n",
       "      <td>IN</td>\n",
       "      <td>considered Mach number for takeoff phase</td>\n",
       "    </tr>\n",
       "    <tr>\n",
       "      <td>data:geometry:cabin:aisle_width</td>\n",
       "      <td>IN</td>\n",
       "      <td>width of aisles</td>\n",
       "    </tr>\n",
       "    <tr>\n",
       "      <td>data:geometry:cabin:containers:count_by_row</td>\n",
       "      <td>IN</td>\n",
       "      <td>number of cargo containers along width</td>\n",
       "    </tr>\n",
       "    <tr>\n",
       "      <td>data:geometry:cabin:crew_count:technical</td>\n",
       "      <td>IN</td>\n",
       "      <td>number of technical crew members</td>\n",
       "    </tr>\n",
       "    <tr>\n",
       "      <td>data:geometry:cabin:exit_width</td>\n",
       "      <td>IN</td>\n",
       "      <td>width of exits</td>\n",
       "    </tr>\n",
       "    <tr>\n",
       "      <td>data:geometry:cabin:seats:economical:count_by_row</td>\n",
       "      <td>IN</td>\n",
       "      <td>number of economical class seats along width</td>\n",
       "    </tr>\n",
       "    <tr>\n",
       "      <td>data:geometry:cabin:seats:economical:length</td>\n",
       "      <td>IN</td>\n",
       "      <td>length of economical class seats</td>\n",
       "    </tr>\n",
       "    <tr>\n",
       "      <td>data:geometry:cabin:seats:economical:width</td>\n",
       "      <td>IN</td>\n",
       "      <td>width of economical class seats</td>\n",
       "    </tr>\n",
       "    <tr>\n",
       "      <td>data:geometry:flap:chord_ratio</td>\n",
       "      <td>IN</td>\n",
       "      <td>mean value of (flap chord)/(section chord)</td>\n",
       "    </tr>\n",
       "    <tr>\n",
       "      <td>data:geometry:flap:span_ratio</td>\n",
       "      <td>IN</td>\n",
       "      <td>ratio (width of flaps)/(total span)</td>\n",
       "    </tr>\n",
       "    <tr>\n",
       "      <td>data:geometry:has_T_tail</td>\n",
       "      <td>IN</td>\n",
       "      <td>0=horizontal tail is attached to fuselage / 1=horizontal tail is attached to top of vertical tail</td>\n",
       "    </tr>\n",
       "    <tr>\n",
       "      <td>data:geometry:horizontal_tail:aspect_ratio</td>\n",
       "      <td>IN</td>\n",
       "      <td>aspect ratio of horizontal tail</td>\n",
       "    </tr>\n",
       "    <tr>\n",
       "      <td>data:geometry:horizontal_tail:sweep_25</td>\n",
       "      <td>IN</td>\n",
       "      <td>sweep angle at 25% chord of horizontal tail</td>\n",
       "    </tr>\n",
       "    <tr>\n",
       "      <td>data:geometry:horizontal_tail:taper_ratio</td>\n",
       "      <td>IN</td>\n",
       "      <td>taper ratio of horizontal tail</td>\n",
       "    </tr>\n",
       "    <tr>\n",
       "      <td>data:geometry:horizontal_tail:thickness_ratio</td>\n",
       "      <td>IN</td>\n",
       "      <td>thickness ratio of horizontal tail</td>\n",
       "    </tr>\n",
       "    <tr>\n",
       "      <td>data:geometry:propulsion:engine:count</td>\n",
       "      <td>IN</td>\n",
       "      <td>number of engines</td>\n",
       "    </tr>\n",
       "    <tr>\n",
       "      <td>data:geometry:propulsion:engine:y_ratio</td>\n",
       "      <td>IN</td>\n",
       "      <td>engine position with respect to total span</td>\n",
       "    </tr>\n",
       "    <tr>\n",
       "      <td>data:geometry:propulsion:layout</td>\n",
       "      <td>IN</td>\n",
       "      <td>position of engines (1=under the wing / 2=rear fuselage)</td>\n",
       "    </tr>\n",
       "    <tr>\n",
       "      <td>data:geometry:slat:chord_ratio</td>\n",
       "      <td>IN</td>\n",
       "      <td>mean value of slat chord)/(section chord)</td>\n",
       "    </tr>\n",
       "    <tr>\n",
       "      <td>data:geometry:slat:span_ratio</td>\n",
       "      <td>IN</td>\n",
       "      <td>ratio (width of slats)/(total span)</td>\n",
       "    </tr>\n",
       "    <tr>\n",
       "      <td>data:geometry:vertical_tail:aspect_ratio</td>\n",
       "      <td>IN</td>\n",
       "      <td>aspect ratio of vertical tail</td>\n",
       "    </tr>\n",
       "    <tr>\n",
       "      <td>data:geometry:vertical_tail:sweep_25</td>\n",
       "      <td>IN</td>\n",
       "      <td>sweep angle at 25% chord of vertical tail</td>\n",
       "    </tr>\n",
       "    <tr>\n",
       "      <td>data:geometry:vertical_tail:taper_ratio</td>\n",
       "      <td>IN</td>\n",
       "      <td>taper ratio of vertical tail</td>\n",
       "    </tr>\n",
       "    <tr>\n",
       "      <td>data:geometry:vertical_tail:thickness_ratio</td>\n",
       "      <td>IN</td>\n",
       "      <td>thickness ratio of vertical tail</td>\n",
       "    </tr>\n",
       "    <tr>\n",
       "      <td>data:geometry:wing:aspect_ratio</td>\n",
       "      <td>IN</td>\n",
       "      <td>wing aspect ratio</td>\n",
       "    </tr>\n",
       "    <tr>\n",
       "      <td>data:geometry:wing:kink:span_ratio</td>\n",
       "      <td>IN</td>\n",
       "      <td>ratio (Y-position of kink)/(semi-span)</td>\n",
       "    </tr>\n",
       "    <tr>\n",
       "      <td>data:geometry:wing:spar_ratio:front:kink</td>\n",
       "      <td>IN</td>\n",
       "      <td>ratio (front spar position)/(chord length) at wing kink</td>\n",
       "    </tr>\n",
       "    <tr>\n",
       "      <td>data:geometry:wing:spar_ratio:front:root</td>\n",
       "      <td>IN</td>\n",
       "      <td>ratio (front spar position)/(chord length) at wing root</td>\n",
       "    </tr>\n",
       "    <tr>\n",
       "      <td>data:geometry:wing:spar_ratio:front:tip</td>\n",
       "      <td>IN</td>\n",
       "      <td>ratio (front spar position)/(chord length) at wing tip</td>\n",
       "    </tr>\n",
       "    <tr>\n",
       "      <td>data:geometry:wing:spar_ratio:rear:kink</td>\n",
       "      <td>IN</td>\n",
       "      <td>ratio (rear spar position)/(chord length) at wing kink</td>\n",
       "    </tr>\n",
       "    <tr>\n",
       "      <td>data:geometry:wing:spar_ratio:rear:root</td>\n",
       "      <td>IN</td>\n",
       "      <td>ratio (rear spar position)/(chord length) at wing root</td>\n",
       "    </tr>\n",
       "    <tr>\n",
       "      <td>data:geometry:wing:spar_ratio:rear:tip</td>\n",
       "      <td>IN</td>\n",
       "      <td>ratio (rear spar position)/(chord length) at wing tip</td>\n",
       "    </tr>\n",
       "    <tr>\n",
       "      <td>data:geometry:wing:sweep_25</td>\n",
       "      <td>IN</td>\n",
       "      <td>sweep angle at 25% chord of wing</td>\n",
       "    </tr>\n",
       "    <tr>\n",
       "      <td>data:geometry:wing:virtual_taper_ratio</td>\n",
       "      <td>IN</td>\n",
       "      <td>taper ratio of wing computed from virtual root chord</td>\n",
       "    </tr>\n",
       "    <tr>\n",
       "      <td>data:handling_qualities:static_margin:target</td>\n",
       "      <td>IN</td>\n",
       "      <td></td>\n",
       "    </tr>\n",
       "    <tr>\n",
       "      <td>data:load_case:lc1:U_gust</td>\n",
       "      <td>IN</td>\n",
       "      <td>gust vertical speed for sizing load case 1 (gust with minimum aircraft mass)</td>\n",
       "    </tr>\n",
       "    <tr>\n",
       "      <td>data:load_case:lc1:Vc_EAS</td>\n",
       "      <td>IN</td>\n",
       "      <td>equivalent air speed for sizing load case 1 (gust with minimum aircraft mass)</td>\n",
       "    </tr>\n",
       "    <tr>\n",
       "      <td>data:load_case:lc1:altitude</td>\n",
       "      <td>IN</td>\n",
       "      <td>altitude for sizing load case 1 (gust with minimum aircraft mass)</td>\n",
       "    </tr>\n",
       "    <tr>\n",
       "      <td>data:load_case:lc2:U_gust</td>\n",
       "      <td>IN</td>\n",
       "      <td>gust vertical speed for sizing load case 2 (gust with maximum aircraft mass)</td>\n",
       "    </tr>\n",
       "    <tr>\n",
       "      <td>data:load_case:lc2:Vc_EAS</td>\n",
       "      <td>IN</td>\n",
       "      <td>equivalent air speed for sizing load case 2 (gust with maximum aircraft mass)</td>\n",
       "    </tr>\n",
       "    <tr>\n",
       "      <td>data:load_case:lc2:altitude</td>\n",
       "      <td>IN</td>\n",
       "      <td>altitude for sizing load case 2 (gust with maximum aircraft mass)</td>\n",
       "    </tr>\n",
       "    <tr>\n",
       "      <td>data:mission:sizing:landing:flap_angle</td>\n",
       "      <td>IN</td>\n",
       "      <td></td>\n",
       "    </tr>\n",
       "    <tr>\n",
       "      <td>data:mission:sizing:landing:slat_angle</td>\n",
       "      <td>IN</td>\n",
       "      <td></td>\n",
       "    </tr>\n",
       "    <tr>\n",
       "      <td>data:mission:sizing:main_route:cruise:altitude</td>\n",
       "      <td>IN</td>\n",
       "      <td>Input defined by the mission.</td>\n",
       "    </tr>\n",
       "    <tr>\n",
       "      <td>data:mission:sizing:takeoff:V2</td>\n",
       "      <td>IN</td>\n",
       "      <td>takeoff safety speed for mission \"sizing\"</td>\n",
       "    </tr>\n",
       "    <tr>\n",
       "      <td>data:mission:sizing:takeoff:altitude</td>\n",
       "      <td>IN</td>\n",
       "      <td>altitude of airport for mission \"sizing\"</td>\n",
       "    </tr>\n",
       "    <tr>\n",
       "      <td>data:mission:sizing:takeoff:flap_angle</td>\n",
       "      <td>IN</td>\n",
       "      <td></td>\n",
       "    </tr>\n",
       "    <tr>\n",
       "      <td>data:mission:sizing:takeoff:fuel</td>\n",
       "      <td>IN</td>\n",
       "      <td>Loaded fuel before taxi-out for mission \"sizing\"_inp_data:mission:sizing:takeoff:fuel</td>\n",
       "    </tr>\n",
       "    <tr>\n",
       "      <td>data:mission:sizing:takeoff:slat_angle</td>\n",
       "      <td>IN</td>\n",
       "      <td></td>\n",
       "    </tr>\n",
       "    <tr>\n",
       "      <td>data:mission:sizing:taxi_out:duration</td>\n",
       "      <td>IN</td>\n",
       "      <td>duration of taxi-out in mission \"sizing\"</td>\n",
       "    </tr>\n",
       "    <tr>\n",
       "      <td>data:mission:sizing:taxi_out:thrust_rate</td>\n",
       "      <td>IN</td>\n",
       "      <td>thrust rate during taxi-out in mission \"sizing\"</td>\n",
       "    </tr>\n",
       "    <tr>\n",
       "      <td>data:propulsion:MTO_thrust</td>\n",
       "      <td>IN</td>\n",
       "      <td>maximum thrust of one engine at sea level</td>\n",
       "    </tr>\n",
       "    <tr>\n",
       "      <td>data:propulsion:rubber_engine:bypass_ratio</td>\n",
       "      <td>IN</td>\n",
       "      <td>bypass ratio for rubber engine model</td>\n",
       "    </tr>\n",
       "    <tr>\n",
       "      <td>data:propulsion:rubber_engine:delta_t4_climb</td>\n",
       "      <td>IN</td>\n",
       "      <td>As it is a delta, unit is K or °C, but is not specified to avoid OpenMDAO making unwanted conversion</td>\n",
       "    </tr>\n",
       "    <tr>\n",
       "      <td>data:propulsion:rubber_engine:delta_t4_cruise</td>\n",
       "      <td>IN</td>\n",
       "      <td>As it is a delta, unit is K or °C, but is not specified to avoid OpenMDAO making unwanted conversion</td>\n",
       "    </tr>\n",
       "    <tr>\n",
       "      <td>data:propulsion:rubber_engine:design_altitude</td>\n",
       "      <td>IN</td>\n",
       "      <td>design altitude for rubber engine model</td>\n",
       "    </tr>\n",
       "    <tr>\n",
       "      <td>data:propulsion:rubber_engine:maximum_mach</td>\n",
       "      <td>IN</td>\n",
       "      <td>maximum Mach number for rubber engine model</td>\n",
       "    </tr>\n",
       "    <tr>\n",
       "      <td>data:propulsion:rubber_engine:overall_pressure_ratio</td>\n",
       "      <td>IN</td>\n",
       "      <td>Overall pressure ratio for rubber engine model</td>\n",
       "    </tr>\n",
       "    <tr>\n",
       "      <td>data:propulsion:rubber_engine:turbine_inlet_temperature</td>\n",
       "      <td>IN</td>\n",
       "      <td>design turbine inlet temperature (T4) for rubber engine model</td>\n",
       "    </tr>\n",
       "    <tr>\n",
       "      <td>settings:aerodynamics:wing:CD:fuselage_interaction</td>\n",
       "      <td>IN</td>\n",
       "      <td></td>\n",
       "    </tr>\n",
       "    <tr>\n",
       "      <td>settings:geometry:horizontal_tail:position_ratio_on_fuselage</td>\n",
       "      <td>IN</td>\n",
       "      <td>(does not apply for T-tails) distance to aircraft nose of 25% MAC of horizontal tail divided by fuselage length</td>\n",
       "    </tr>\n",
       "    <tr>\n",
       "      <td>settings:mission:sizing:breguet:climb:mass_ratio</td>\n",
       "      <td>IN</td>\n",
       "      <td>Input defined by the mission.</td>\n",
       "    </tr>\n",
       "    <tr>\n",
       "      <td>settings:mission:sizing:breguet:descent:mass_ratio</td>\n",
       "      <td>IN</td>\n",
       "      <td>Input defined by the mission.</td>\n",
       "    </tr>\n",
       "    <tr>\n",
       "      <td>settings:mission:sizing:breguet:reserve:mass_ratio</td>\n",
       "      <td>IN</td>\n",
       "      <td>Input defined by the mission.</td>\n",
       "    </tr>\n",
       "    <tr>\n",
       "      <td>settings:weight:aircraft:CG:aft:MAC_position:margin</td>\n",
       "      <td>IN</td>\n",
       "      <td>Added margin for getting most aft CG position, as ratio of mean aerodynamic chord</td>\n",
       "    </tr>\n",
       "    <tr>\n",
       "      <td>settings:weight:aircraft:CG:range</td>\n",
       "      <td>IN</td>\n",
       "      <td>distance between front position and aft position of CG, as ratio of mean aerodynamic chord (allows to have front position of CG, as currently, FAST-OAD estimates only the aft position of CG)</td>\n",
       "    </tr>\n",
       "    <tr>\n",
       "      <td>settings:weight:aircraft:payload:design_mass_per_passenger</td>\n",
       "      <td>IN</td>\n",
       "      <td>Design value of mass per passenger</td>\n",
       "    </tr>\n",
       "    <tr>\n",
       "      <td>settings:weight:aircraft:payload:max_mass_per_passenger</td>\n",
       "      <td>IN</td>\n",
       "      <td>Maximum value of mass per passenger</td>\n",
       "    </tr>\n",
       "    <tr>\n",
       "      <td>settings:weight:airframe:flight_controls:mass:k_fc</td>\n",
       "      <td>IN</td>\n",
       "      <td>flight controls (A4): 0.85e-4 if electrical, 1.35e-4 if conventional</td>\n",
       "    </tr>\n",
       "    <tr>\n",
       "      <td>settings:weight:airframe:fuselage:mass:k_fus</td>\n",
       "      <td>IN</td>\n",
       "      <td>correction coefficient: 1.00 if all engines under wing / 1.02 with 2 engines at rear / 1.03 if 3 engines at rear / 1.05 if 1 engine in vertical tail (with or without 2 engines under wing)</td>\n",
       "    </tr>\n",
       "    <tr>\n",
       "      <td>settings:weight:airframe:fuselage:mass:k_lg</td>\n",
       "      <td>IN</td>\n",
       "      <td>correction coefficient: 1.05 if main landing gear under wing / 1.10 if main landing gear under fuselage</td>\n",
       "    </tr>\n",
       "    <tr>\n",
       "      <td>settings:weight:airframe:landing_gear:front:weight_ratio</td>\n",
       "      <td>IN</td>\n",
       "      <td>part of aircraft weight that is supported by front landing gear</td>\n",
       "    </tr>\n",
       "    <tr>\n",
       "      <td>settings:weight:airframe:wing:mass:k_mvo</td>\n",
       "      <td>IN</td>\n",
       "      <td>1.39 for Airbus type aircrafts</td>\n",
       "    </tr>\n",
       "    <tr>\n",
       "      <td>settings:weight:systems:power:mass:k_elec</td>\n",
       "      <td>IN</td>\n",
       "      <td>electricity coefficient: 1.00 if 2 engines (A300, A310 type) / (1.02 if 2 engines (DC9, Caravelle type) / 1.03 if 3 engines (B727 type) / 1.05 if 3 engines (DC10, L1011 type) / 1.08 if 4 engines (B747 type)</td>\n",
       "    </tr>\n",
       "    <tr>\n",
       "      <td>tuning:aerodynamics:aircraft:cruise:CD:compressibility:characteristic_mach_increment</td>\n",
       "      <td>IN</td>\n",
       "      <td>Increment to apply to the computed characteristic Mach (where compressibility drag is 20 d.c.)</td>\n",
       "    </tr>\n",
       "    <tr>\n",
       "      <td>tuning:aerodynamics:aircraft:cruise:CD:compressibility:max_value</td>\n",
       "      <td>IN</td>\n",
       "      <td>maximum authorized value for compressibility drag. Allows to prevent the model from overestimating the compressibility effect, especially for aircraft models after year 2000.</td>\n",
       "    </tr>\n",
       "    <tr>\n",
       "      <td>tuning:aerodynamics:aircraft:cruise:CD:k</td>\n",
       "      <td>IN</td>\n",
       "      <td>correction ratio to apply to computed drag coefficient in cruise conditions</td>\n",
       "    </tr>\n",
       "    <tr>\n",
       "      <td>tuning:aerodynamics:aircraft:cruise:CD:offset</td>\n",
       "      <td>IN</td>\n",
       "      <td>correction offset to apply to computed drag coefficient in cruise conditions</td>\n",
       "    </tr>\n",
       "    <tr>\n",
       "      <td>tuning:aerodynamics:aircraft:cruise:CD:winglet_effect:k</td>\n",
       "      <td>IN</td>\n",
       "      <td>correction ratio to apply to computed induced drag coefficient in cruise conditions</td>\n",
       "    </tr>\n",
       "    <tr>\n",
       "      <td>tuning:aerodynamics:aircraft:cruise:CD:winglet_effect:offset</td>\n",
       "      <td>IN</td>\n",
       "      <td>correction ratio to apply to computed drag coefficient in cruise conditions</td>\n",
       "    </tr>\n",
       "    <tr>\n",
       "      <td>tuning:aerodynamics:aircraft:cruise:CL:k</td>\n",
       "      <td>IN</td>\n",
       "      <td>ratio to apply to defined cl range (which goes by default from 0.0 to 1.5) in cruise polar computation</td>\n",
       "    </tr>\n",
       "    <tr>\n",
       "      <td>tuning:aerodynamics:aircraft:cruise:CL:offset</td>\n",
       "      <td>IN</td>\n",
       "      <td>offset to apply to defined cl range (which goes by default from 0.0 to 1.5) in cruise polar computation</td>\n",
       "    </tr>\n",
       "    <tr>\n",
       "      <td>tuning:aerodynamics:aircraft:cruise:CL:winglet_effect:k</td>\n",
       "      <td>IN</td>\n",
       "      <td>ratio to apply to defined cl range (which goes by default from 0.0 to 1.5) in cruise polar computation</td>\n",
       "    </tr>\n",
       "    <tr>\n",
       "      <td>tuning:aerodynamics:aircraft:cruise:CL:winglet_effect:offset</td>\n",
       "      <td>IN</td>\n",
       "      <td>offset to apply to defined cl range (which goes by default from 0.0 to 1.5) in cruise polar computation</td>\n",
       "    </tr>\n",
       "    <tr>\n",
       "      <td>tuning:aerodynamics:aircraft:landing:CL_max:landing_gear_effect:k</td>\n",
       "      <td>IN</td>\n",
       "      <td>correction ratio to apply to computed maximum lift coefficient in landing conditions to take into account effect of landing gear</td>\n",
       "    </tr>\n",
       "    <tr>\n",
       "      <td>tuning:aerodynamics:high_lift_devices:landing:CD:multi_slotted_flap_effect:k</td>\n",
       "      <td>IN</td>\n",
       "      <td>correction ratio to apply to computed additional drag from flap to take into account multiple slots flaps</td>\n",
       "    </tr>\n",
       "    <tr>\n",
       "      <td>tuning:aerodynamics:high_lift_devices:landing:CL:multi_slotted_flap_effect:k</td>\n",
       "      <td>IN</td>\n",
       "      <td>correction ratio to apply to computed additional lift from flap to take into account multiple slots flaps</td>\n",
       "    </tr>\n",
       "    <tr>\n",
       "      <td>tuning:propulsion:rubber_engine:SFC:k_cr</td>\n",
       "      <td>IN</td>\n",
       "      <td>correction ratio to apply to the computed SFC at cruise ceiling</td>\n",
       "    </tr>\n",
       "    <tr>\n",
       "      <td>tuning:propulsion:rubber_engine:SFC:k_sl</td>\n",
       "      <td>IN</td>\n",
       "      <td>correction ratio to apply to the computed SFC at sea level</td>\n",
       "    </tr>\n",
       "    <tr>\n",
       "      <td>tuning:weight:airframe:flight_controls:mass:k</td>\n",
       "      <td>IN</td>\n",
       "      <td>flight controls (A4): correction ratio to be applied on computed mass</td>\n",
       "    </tr>\n",
       "    <tr>\n",
       "      <td>tuning:weight:airframe:flight_controls:mass:offset</td>\n",
       "      <td>IN</td>\n",
       "      <td>flight controls (A4): correction offset to be applied on computed mass</td>\n",
       "    </tr>\n",
       "    <tr>\n",
       "      <td>tuning:weight:airframe:fuselage:mass:k</td>\n",
       "      <td>IN</td>\n",
       "      <td>fuselage (A2): correction ratio to be applied on computed mass</td>\n",
       "    </tr>\n",
       "    <tr>\n",
       "      <td>tuning:weight:airframe:fuselage:mass:offset</td>\n",
       "      <td>IN</td>\n",
       "      <td>fuselage (A2): correction offset to be applied on computed mass</td>\n",
       "    </tr>\n",
       "    <tr>\n",
       "      <td>tuning:weight:airframe:horizontal_tail:mass:k</td>\n",
       "      <td>IN</td>\n",
       "      <td>horizontal tail (A31): correction ratio to be applied on computed mass</td>\n",
       "    </tr>\n",
       "    <tr>\n",
       "      <td>tuning:weight:airframe:horizontal_tail:mass:offset</td>\n",
       "      <td>IN</td>\n",
       "      <td>horizontal tail (A31): correction offset to be applied on computed mass</td>\n",
       "    </tr>\n",
       "    <tr>\n",
       "      <td>tuning:weight:airframe:landing_gear:mass:k</td>\n",
       "      <td>IN</td>\n",
       "      <td>landing gears (A5): correction ratio to be applied on computed mass</td>\n",
       "    </tr>\n",
       "    <tr>\n",
       "      <td>tuning:weight:airframe:landing_gear:mass:offset</td>\n",
       "      <td>IN</td>\n",
       "      <td>landing gears (A5): correction offset to be applied on computed mass</td>\n",
       "    </tr>\n",
       "    <tr>\n",
       "      <td>tuning:weight:airframe:paint:mass:k</td>\n",
       "      <td>IN</td>\n",
       "      <td>paint (A7): correction ratio to be applied on computed mass</td>\n",
       "    </tr>\n",
       "    <tr>\n",
       "      <td>tuning:weight:airframe:paint:mass:offset</td>\n",
       "      <td>IN</td>\n",
       "      <td>paint (A7): correction offset to be applied on computed mass</td>\n",
       "    </tr>\n",
       "    <tr>\n",
       "      <td>tuning:weight:airframe:pylon:mass:k</td>\n",
       "      <td>IN</td>\n",
       "      <td>pylon (A6): correction ratio to be applied on computed mass</td>\n",
       "    </tr>\n",
       "    <tr>\n",
       "      <td>tuning:weight:airframe:pylon:mass:offset</td>\n",
       "      <td>IN</td>\n",
       "      <td>pylon (A6): correction offset to be applied on computed mass</td>\n",
       "    </tr>\n",
       "    <tr>\n",
       "      <td>tuning:weight:airframe:vertical_tail:mass:k</td>\n",
       "      <td>IN</td>\n",
       "      <td>vertical tail (A32): correction ratio to be applied on computed mass</td>\n",
       "    </tr>\n",
       "    <tr>\n",
       "      <td>tuning:weight:airframe:vertical_tail:mass:offset</td>\n",
       "      <td>IN</td>\n",
       "      <td>vertical tail (A32): correction offset to be applied on computed mass</td>\n",
       "    </tr>\n",
       "    <tr>\n",
       "      <td>tuning:weight:airframe:wing:bending_sizing:mass:k</td>\n",
       "      <td>IN</td>\n",
       "      <td>wing bending sizing (A11): correction ratio to be applied on computed mass</td>\n",
       "    </tr>\n",
       "    <tr>\n",
       "      <td>tuning:weight:airframe:wing:bending_sizing:mass:offset</td>\n",
       "      <td>IN</td>\n",
       "      <td>wing bending sizing (A11): correction offset to be applied on computed mass</td>\n",
       "    </tr>\n",
       "    <tr>\n",
       "      <td>tuning:weight:airframe:wing:mass:k</td>\n",
       "      <td>IN</td>\n",
       "      <td>wing (A1): correction ratio to be applied on computed mass</td>\n",
       "    </tr>\n",
       "    <tr>\n",
       "      <td>tuning:weight:airframe:wing:mass:offset</td>\n",
       "      <td>IN</td>\n",
       "      <td>wing (A1): correction offset to be applied on computed mass</td>\n",
       "    </tr>\n",
       "    <tr>\n",
       "      <td>tuning:weight:airframe:wing:reinforcements:mass:k</td>\n",
       "      <td>IN</td>\n",
       "      <td>wing reinforcements (A14): correction ratio to be applied on computed mass</td>\n",
       "    </tr>\n",
       "    <tr>\n",
       "      <td>tuning:weight:airframe:wing:reinforcements:mass:offset</td>\n",
       "      <td>IN</td>\n",
       "      <td>wing reinforcements (A14): correction offset to be applied on computed mass</td>\n",
       "    </tr>\n",
       "    <tr>\n",
       "      <td>tuning:weight:airframe:wing:ribs:mass:k</td>\n",
       "      <td>IN</td>\n",
       "      <td>wing ribs (A13): correction ratio to be applied on computed mass</td>\n",
       "    </tr>\n",
       "    <tr>\n",
       "      <td>tuning:weight:airframe:wing:ribs:mass:offset</td>\n",
       "      <td>IN</td>\n",
       "      <td>wing ribs (A13): correction offset to be applied on computed mass</td>\n",
       "    </tr>\n",
       "    <tr>\n",
       "      <td>tuning:weight:airframe:wing:secondary_parts:mass:k</td>\n",
       "      <td>IN</td>\n",
       "      <td>wing secondary parts (A15): correction ratio to be applied on computed mass</td>\n",
       "    </tr>\n",
       "    <tr>\n",
       "      <td>tuning:weight:airframe:wing:secondary_parts:mass:offset</td>\n",
       "      <td>IN</td>\n",
       "      <td>wing secondary parts (A15): correction offset to be applied on computed mass</td>\n",
       "    </tr>\n",
       "    <tr>\n",
       "      <td>tuning:weight:airframe:wing:shear_sizing:mass:k</td>\n",
       "      <td>IN</td>\n",
       "      <td>wing shear sizing (A12): correction ratio to be applied on computed mass</td>\n",
       "    </tr>\n",
       "    <tr>\n",
       "      <td>tuning:weight:airframe:wing:shear_sizing:mass:offset</td>\n",
       "      <td>IN</td>\n",
       "      <td>wing shear sizing (A12): correction offset to be applied on computed mass</td>\n",
       "    </tr>\n",
       "    <tr>\n",
       "      <td>tuning:weight:furniture:food_water:mass:k</td>\n",
       "      <td>IN</td>\n",
       "      <td>food water (D3): correction ratio to be applied on computed mass</td>\n",
       "    </tr>\n",
       "    <tr>\n",
       "      <td>tuning:weight:furniture:food_water:mass:offset</td>\n",
       "      <td>IN</td>\n",
       "      <td>food water (D3): correction offset to be applied on computed mass</td>\n",
       "    </tr>\n",
       "    <tr>\n",
       "      <td>tuning:weight:furniture:passenger_seats:mass:k</td>\n",
       "      <td>IN</td>\n",
       "      <td>passenger seats (D2): correction ratio to be applied on computed mass</td>\n",
       "    </tr>\n",
       "    <tr>\n",
       "      <td>tuning:weight:furniture:passenger_seats:mass:offset</td>\n",
       "      <td>IN</td>\n",
       "      <td>passenger seats (D2): correction offset to be applied on computed mass</td>\n",
       "    </tr>\n",
       "    <tr>\n",
       "      <td>tuning:weight:furniture:security_kit:mass:k</td>\n",
       "      <td>IN</td>\n",
       "      <td>security kit (D4): correction ratio to be applied on computed mass</td>\n",
       "    </tr>\n",
       "    <tr>\n",
       "      <td>tuning:weight:furniture:security_kit:mass:offset</td>\n",
       "      <td>IN</td>\n",
       "      <td>security kit (D4): correction offset to be applied on computed mass</td>\n",
       "    </tr>\n",
       "    <tr>\n",
       "      <td>tuning:weight:furniture:toilets:mass:k</td>\n",
       "      <td>IN</td>\n",
       "      <td>toilets (D5): correction ratio to be applied on computed mass</td>\n",
       "    </tr>\n",
       "    <tr>\n",
       "      <td>tuning:weight:furniture:toilets:mass:offset</td>\n",
       "      <td>IN</td>\n",
       "      <td>toilets (D5): correction offset to be applied on computed mass</td>\n",
       "    </tr>\n",
       "    <tr>\n",
       "      <td>tuning:weight:propulsion:engine:mass:k</td>\n",
       "      <td>IN</td>\n",
       "      <td>engine (B1): correction ratio to be applied on computed mass</td>\n",
       "    </tr>\n",
       "    <tr>\n",
       "      <td>tuning:weight:propulsion:engine:mass:offset</td>\n",
       "      <td>IN</td>\n",
       "      <td>engine (B1): correction offset to be applied on computed mass</td>\n",
       "    </tr>\n",
       "    <tr>\n",
       "      <td>tuning:weight:propulsion:fuel_lines:mass:k</td>\n",
       "      <td>IN</td>\n",
       "      <td>fuel lines (B2): correction ratio to be applied on computed mass</td>\n",
       "    </tr>\n",
       "    <tr>\n",
       "      <td>tuning:weight:propulsion:fuel_lines:mass:offset</td>\n",
       "      <td>IN</td>\n",
       "      <td>fuel lines (B2): correction offset to be applied on computed mass</td>\n",
       "    </tr>\n",
       "    <tr>\n",
       "      <td>tuning:weight:propulsion:unconsumables:mass:k</td>\n",
       "      <td>IN</td>\n",
       "      <td>unconsumables (B3): correction ratio to be applied on computed mass</td>\n",
       "    </tr>\n",
       "    <tr>\n",
       "      <td>tuning:weight:propulsion:unconsumables:mass:offset</td>\n",
       "      <td>IN</td>\n",
       "      <td>unconsumables (B3): correction offset to be applied on computed mass</td>\n",
       "    </tr>\n",
       "    <tr>\n",
       "      <td>tuning:weight:systems:flight_kit:mass:k</td>\n",
       "      <td>IN</td>\n",
       "      <td>flight kit (C6): correction ratio to be applied on computed mass</td>\n",
       "    </tr>\n",
       "    <tr>\n",
       "      <td>tuning:weight:systems:flight_kit:mass:offset</td>\n",
       "      <td>IN</td>\n",
       "      <td>flight kit (C6): correction offset to be applied on computed mass</td>\n",
       "    </tr>\n",
       "    <tr>\n",
       "      <td>tuning:weight:systems:life_support:air_conditioning:mass:k</td>\n",
       "      <td>IN</td>\n",
       "      <td>air conditioning (C21): correction ratio to be applied on computed mass</td>\n",
       "    </tr>\n",
       "    <tr>\n",
       "      <td>tuning:weight:systems:life_support:air_conditioning:mass:offset</td>\n",
       "      <td>IN</td>\n",
       "      <td>air conditioning (C21): correction offset to be applied on computed mass</td>\n",
       "    </tr>\n",
       "    <tr>\n",
       "      <td>tuning:weight:systems:life_support:cabin_lighting:mass:k</td>\n",
       "      <td>IN</td>\n",
       "      <td>cabin lighting (C21): correction ratio to be applied on computed mass</td>\n",
       "    </tr>\n",
       "    <tr>\n",
       "      <td>tuning:weight:systems:life_support:cabin_lighting:mass:offset</td>\n",
       "      <td>IN</td>\n",
       "      <td>cabin lighting (C21): correction offset to be applied on computed mass</td>\n",
       "    </tr>\n",
       "    <tr>\n",
       "      <td>tuning:weight:systems:life_support:de-icing:mass:k</td>\n",
       "      <td>IN</td>\n",
       "      <td>de-icing (C21): correction ratio to be applied on computed mass</td>\n",
       "    </tr>\n",
       "    <tr>\n",
       "      <td>tuning:weight:systems:life_support:de-icing:mass:offset</td>\n",
       "      <td>IN</td>\n",
       "      <td>de-icing (C21): correction offset to be applied on computed mass</td>\n",
       "    </tr>\n",
       "    <tr>\n",
       "      <td>tuning:weight:systems:life_support:insulation:mass:k</td>\n",
       "      <td>IN</td>\n",
       "      <td>insulation (C21): correction ratio to be applied on computed mass</td>\n",
       "    </tr>\n",
       "    <tr>\n",
       "      <td>tuning:weight:systems:life_support:insulation:mass:offset</td>\n",
       "      <td>IN</td>\n",
       "      <td>insulation (C21): correction offset to be applied on computed mass</td>\n",
       "    </tr>\n",
       "    <tr>\n",
       "      <td>tuning:weight:systems:life_support:oxygen:mass:k</td>\n",
       "      <td>IN</td>\n",
       "      <td>oxygen (C21): correction ratio to be applied on computed mass</td>\n",
       "    </tr>\n",
       "    <tr>\n",
       "      <td>tuning:weight:systems:life_support:oxygen:mass:offset</td>\n",
       "      <td>IN</td>\n",
       "      <td>oxygen (C21): correction offset to be applied on computed mass</td>\n",
       "    </tr>\n",
       "    <tr>\n",
       "      <td>tuning:weight:systems:life_support:safety_equipment:mass:k</td>\n",
       "      <td>IN</td>\n",
       "      <td>safety equipment (C21): correction ratio to be applied on computed mass</td>\n",
       "    </tr>\n",
       "    <tr>\n",
       "      <td>tuning:weight:systems:life_support:safety_equipment:mass:offset</td>\n",
       "      <td>IN</td>\n",
       "      <td>safety equipment (C21): correction offset to be applied on computed mass</td>\n",
       "    </tr>\n",
       "    <tr>\n",
       "      <td>tuning:weight:systems:life_support:seats_crew_accommodation:mass:k</td>\n",
       "      <td>IN</td>\n",
       "      <td>seats crew accommodation (C21): correction ratio to be applied on computed mass</td>\n",
       "    </tr>\n",
       "    <tr>\n",
       "      <td>tuning:weight:systems:life_support:seats_crew_accommodation:mass:offset</td>\n",
       "      <td>IN</td>\n",
       "      <td>seats crew accommodation (C21): correction offset to be applied on computed mass</td>\n",
       "    </tr>\n",
       "    <tr>\n",
       "      <td>tuning:weight:systems:navigation:mass:k</td>\n",
       "      <td>IN</td>\n",
       "      <td>navigation (C3): correction ratio to be applied on computed mass</td>\n",
       "    </tr>\n",
       "    <tr>\n",
       "      <td>tuning:weight:systems:navigation:mass:offset</td>\n",
       "      <td>IN</td>\n",
       "      <td>navigation (C3): correction offset to be applied on computed mass</td>\n",
       "    </tr>\n",
       "    <tr>\n",
       "      <td>tuning:weight:systems:operational:mass:k</td>\n",
       "      <td>IN</td>\n",
       "      <td>operational (C5): correction ratio to be applied on computed mass</td>\n",
       "    </tr>\n",
       "    <tr>\n",
       "      <td>tuning:weight:systems:operational:mass:offset</td>\n",
       "      <td>IN</td>\n",
       "      <td>operational (C5): correction offset to be applied on computed mass</td>\n",
       "    </tr>\n",
       "    <tr>\n",
       "      <td>tuning:weight:systems:power:auxiliary_power_unit:mass:k</td>\n",
       "      <td>IN</td>\n",
       "      <td>power (C1): correction ratio to be applied on computed mass</td>\n",
       "    </tr>\n",
       "    <tr>\n",
       "      <td>tuning:weight:systems:power:auxiliary_power_unit:mass:offset</td>\n",
       "      <td>IN</td>\n",
       "      <td>power (C1): correction offset to be applied on computed mass</td>\n",
       "    </tr>\n",
       "    <tr>\n",
       "      <td>tuning:weight:systems:power:electric_systems:mass:k</td>\n",
       "      <td>IN</td>\n",
       "      <td>power (C1): correction ratio to be applied on computed mass</td>\n",
       "    </tr>\n",
       "    <tr>\n",
       "      <td>tuning:weight:systems:power:electric_systems:mass:offset</td>\n",
       "      <td>IN</td>\n",
       "      <td>power (C1): correction offset to be applied on computed mass</td>\n",
       "    </tr>\n",
       "    <tr>\n",
       "      <td>tuning:weight:systems:power:hydraulic_systems:mass:k</td>\n",
       "      <td>IN</td>\n",
       "      <td>power (C1): correction ratio to be applied on computed mass</td>\n",
       "    </tr>\n",
       "    <tr>\n",
       "      <td>tuning:weight:systems:power:hydraulic_systems:mass:offset</td>\n",
       "      <td>IN</td>\n",
       "      <td>power (C1): correction offset to be applied on computed mass</td>\n",
       "    </tr>\n",
       "    <tr>\n",
       "      <td>tuning:weight:systems:transmission:mass:k</td>\n",
       "      <td>IN</td>\n",
       "      <td>transmission (C4): correction ratio to be applied on computed mass</td>\n",
       "    </tr>\n",
       "    <tr>\n",
       "      <td>tuning:weight:systems:transmission:mass:offset</td>\n",
       "      <td>IN</td>\n",
       "      <td>transmission (C4): correction offset to be applied on computed mass</td>\n",
       "    </tr>\n",
       "    <tr>\n",
       "      <td>data:aerodynamics:aircraft:cruise:CD</td>\n",
       "      <td>OUT</td>\n",
       "      <td>Input defined by the mission.</td>\n",
       "    </tr>\n",
       "    <tr>\n",
       "      <td>data:aerodynamics:aircraft:cruise:CD0</td>\n",
       "      <td>OUT</td>\n",
       "      <td>profile drag coefficient for whole aircraft in cruise conditions w.r.t. data:aerodynamics:aircraft:cruise:CL</td>\n",
       "    </tr>\n",
       "    <tr>\n",
       "      <td>data:aerodynamics:aircraft:cruise:CD0:clean</td>\n",
       "      <td>OUT</td>\n",
       "      <td>like data:aerodynamics:aircraft:cruise:CD0 but without parasitic drag</td>\n",
       "    </tr>\n",
       "    <tr>\n",
       "      <td>data:aerodynamics:aircraft:cruise:CD0:parasitic</td>\n",
       "      <td>OUT</td>\n",
       "      <td>estimated parasitic drag for whole aircraft in cruise conditions (no high-lift) w.r.t. data:aerodynamics:aircraft:low_speed:CL</td>\n",
       "    </tr>\n",
       "    <tr>\n",
       "      <td>data:aerodynamics:aircraft:cruise:CD:compressibility</td>\n",
       "      <td>OUT</td>\n",
       "      <td>increment of drag coefficient due to compressibility effects (shock waves) w.r.t. data:aerodynamics:aircraft:cruise:CL</td>\n",
       "    </tr>\n",
       "    <tr>\n",
       "      <td>data:aerodynamics:aircraft:cruise:CD:trim</td>\n",
       "      <td>OUT</td>\n",
       "      <td>increment of drag coefficient due to aircraft trim w.r.t. data:aerodynamics:aircraft:cruise:CL</td>\n",
       "    </tr>\n",
       "    <tr>\n",
       "      <td>data:aerodynamics:aircraft:cruise:CL</td>\n",
       "      <td>OUT</td>\n",
       "      <td>Input defined by the mission.</td>\n",
       "    </tr>\n",
       "    <tr>\n",
       "      <td>data:aerodynamics:aircraft:cruise:CL_alpha</td>\n",
       "      <td>OUT</td>\n",
       "      <td>derivative of lift coefficient with respect to angle of attack in cruise conditions</td>\n",
       "    </tr>\n",
       "    <tr>\n",
       "      <td>data:aerodynamics:aircraft:cruise:L_D_max</td>\n",
       "      <td>OUT</td>\n",
       "      <td>max lift/drag ratio in cruise conditions</td>\n",
       "    </tr>\n",
       "    <tr>\n",
       "      <td>data:aerodynamics:aircraft:cruise:induced_drag_coefficient</td>\n",
       "      <td>OUT</td>\n",
       "      <td>multiply squared lift coefficient by this coefficient to get induced drag coefficient</td>\n",
       "    </tr>\n",
       "    <tr>\n",
       "      <td>data:aerodynamics:aircraft:cruise:optimal_CD</td>\n",
       "      <td>OUT</td>\n",
       "      <td>drag coefficient at maximum lift/drag ratio in cruise conditions</td>\n",
       "    </tr>\n",
       "    <tr>\n",
       "      <td>data:aerodynamics:aircraft:cruise:optimal_CL</td>\n",
       "      <td>OUT</td>\n",
       "      <td>lift coefficient at maximum lift/drag ratio in cruise conditions</td>\n",
       "    </tr>\n",
       "    <tr>\n",
       "      <td>data:aerodynamics:aircraft:cruise:oswald_coefficient</td>\n",
       "      <td>OUT</td>\n",
       "      <td>Oswald coefficient for cruise conditions</td>\n",
       "    </tr>\n",
       "    <tr>\n",
       "      <td>data:aerodynamics:aircraft:landing:CL_max</td>\n",
       "      <td>OUT</td>\n",
       "      <td>maximum lift coefficient in landing conditions</td>\n",
       "    </tr>\n",
       "    <tr>\n",
       "      <td>data:aerodynamics:aircraft:landing:CL_max_clean</td>\n",
       "      <td>OUT</td>\n",
       "      <td>maximum lift coefficient in landing conditions without high-lift devices</td>\n",
       "    </tr>\n",
       "    <tr>\n",
       "      <td>data:aerodynamics:aircraft:landing:additional_CL_capacity</td>\n",
       "      <td>OUT</td>\n",
       "      <td>at landing, is equal to (maximum lift coefficient)-(maximum required lift coefficient)</td>\n",
       "    </tr>\n",
       "    <tr>\n",
       "      <td>data:aerodynamics:aircraft:landing:mach</td>\n",
       "      <td>OUT</td>\n",
       "      <td>considered Mach number for landing phase</td>\n",
       "    </tr>\n",
       "    <tr>\n",
       "      <td>data:aerodynamics:aircraft:low_speed:CD</td>\n",
       "      <td>OUT</td>\n",
       "      <td>drag coefficient in low speed conditions (no high-lift) w.r.t. data:aerodynamics:aircraft:low_speed:CL</td>\n",
       "    </tr>\n",
       "    <tr>\n",
       "      <td>data:aerodynamics:aircraft:low_speed:CD0</td>\n",
       "      <td>OUT</td>\n",
       "      <td>profile drag coefficient for whole aircraft in low speed conditions (no high-lift) w.r.t. data:aerodynamics:aircraft:low_speed:CL</td>\n",
       "    </tr>\n",
       "    <tr>\n",
       "      <td>data:aerodynamics:aircraft:low_speed:CD0:clean</td>\n",
       "      <td>OUT</td>\n",
       "      <td>like data:aerodynamics:aircraft:low_speed:CD0 but without parasitic drag</td>\n",
       "    </tr>\n",
       "    <tr>\n",
       "      <td>data:aerodynamics:aircraft:low_speed:CD0:parasitic</td>\n",
       "      <td>OUT</td>\n",
       "      <td>estimated parasitic drag for whole aircraft in low speed conditions (no high-lift) w.r.t. data:aerodynamics:aircraft:low_speed:CL</td>\n",
       "    </tr>\n",
       "    <tr>\n",
       "      <td>data:aerodynamics:aircraft:low_speed:CD:trim</td>\n",
       "      <td>OUT</td>\n",
       "      <td>increment of drag coefficient due to aircraft trim in low speed conditions (no high-lift) w.r.t. data:aerodynamics:aircraft:low_speed:CL</td>\n",
       "    </tr>\n",
       "    <tr>\n",
       "      <td>data:aerodynamics:aircraft:low_speed:CL</td>\n",
       "      <td>OUT</td>\n",
       "      <td>scale of lift coefficient values for drag computations in low speed conditions</td>\n",
       "    </tr>\n",
       "    <tr>\n",
       "      <td>data:aerodynamics:aircraft:low_speed:induced_drag_coefficient</td>\n",
       "      <td>OUT</td>\n",
       "      <td>multiply squared lift coefficient by this coefficient to get induced drag coefficient</td>\n",
       "    </tr>\n",
       "    <tr>\n",
       "      <td>data:aerodynamics:aircraft:low_speed:oswald_coefficient</td>\n",
       "      <td>OUT</td>\n",
       "      <td>Oswald coefficient for low speed conditions</td>\n",
       "    </tr>\n",
       "    <tr>\n",
       "      <td>data:aerodynamics:aircraft:takeoff:CD</td>\n",
       "      <td>OUT</td>\n",
       "      <td>drag coefficient in takeoff conditions w.r.t. data:aerodynamics:aircraft:takeoff:CL</td>\n",
       "    </tr>\n",
       "    <tr>\n",
       "      <td>data:aerodynamics:aircraft:takeoff:CL</td>\n",
       "      <td>OUT</td>\n",
       "      <td>scale of lift coefficient values for drag computations in takeoff conditions</td>\n",
       "    </tr>\n",
       "    <tr>\n",
       "      <td>data:aerodynamics:aircraft:takeoff:CL0_clean</td>\n",
       "      <td>OUT</td>\n",
       "      <td>value of lift coefficient at angle of attack 0 in clean configuration at takeoff</td>\n",
       "    </tr>\n",
       "    <tr>\n",
       "      <td>data:aerodynamics:aircraft:takeoff:CL_alpha</td>\n",
       "      <td>OUT</td>\n",
       "      <td>derivative of lift coefficient with respect to angle of attack in takeoff conditions</td>\n",
       "    </tr>\n",
       "    <tr>\n",
       "      <td>data:aerodynamics:cruise:neutral_point:x</td>\n",
       "      <td>OUT</td>\n",
       "      <td>X-position of neutral point - X-position of aircraft nose</td>\n",
       "    </tr>\n",
       "    <tr>\n",
       "      <td>data:aerodynamics:fuselage:cruise:CD0</td>\n",
       "      <td>OUT</td>\n",
       "      <td>profile drag coefficient for fuselage w.r.t. data:aerodynamics:aircraft:cruise:CL</td>\n",
       "    </tr>\n",
       "    <tr>\n",
       "      <td>data:aerodynamics:fuselage:cruise:CnBeta</td>\n",
       "      <td>OUT</td>\n",
       "      <td>derivative of yawing moment against sideslip angle for fuselage in cruise conditions</td>\n",
       "    </tr>\n",
       "    <tr>\n",
       "      <td>data:aerodynamics:fuselage:low_speed:CD0</td>\n",
       "      <td>OUT</td>\n",
       "      <td>profile drag coefficient for fuselage w.r.t. data:aerodynamics:aircraft:low_speed:CL</td>\n",
       "    </tr>\n",
       "    <tr>\n",
       "      <td>data:aerodynamics:high_lift_devices:landing:CD</td>\n",
       "      <td>OUT</td>\n",
       "      <td>increment of CD due to high-lift devices for landing phase</td>\n",
       "    </tr>\n",
       "    <tr>\n",
       "      <td>data:aerodynamics:high_lift_devices:landing:CL</td>\n",
       "      <td>OUT</td>\n",
       "      <td>increment of CL due to high-lift devices for landing phase</td>\n",
       "    </tr>\n",
       "    <tr>\n",
       "      <td>data:aerodynamics:high_lift_devices:takeoff:CD</td>\n",
       "      <td>OUT</td>\n",
       "      <td>increment of CD due to high-lift devices for takeoff phase</td>\n",
       "    </tr>\n",
       "    <tr>\n",
       "      <td>data:aerodynamics:high_lift_devices:takeoff:CL</td>\n",
       "      <td>OUT</td>\n",
       "      <td>increment of CL due to high-lift devices for takeoff phase</td>\n",
       "    </tr>\n",
       "    <tr>\n",
       "      <td>data:aerodynamics:horizontal_tail:cruise:CD0</td>\n",
       "      <td>OUT</td>\n",
       "      <td>profile drag coefficient for horizontal tail in cruise conditions</td>\n",
       "    </tr>\n",
       "    <tr>\n",
       "      <td>data:aerodynamics:horizontal_tail:cruise:CL_alpha</td>\n",
       "      <td>OUT</td>\n",
       "      <td>derivative of lift coefficient of horizontal tail with respect to local angle of attack in cruise conditions</td>\n",
       "    </tr>\n",
       "    <tr>\n",
       "      <td>data:aerodynamics:horizontal_tail:low_speed:CD0</td>\n",
       "      <td>OUT</td>\n",
       "      <td>profile drag coefficient for horizontal tail in low speed conditions</td>\n",
       "    </tr>\n",
       "    <tr>\n",
       "      <td>data:aerodynamics:nacelles:cruise:CD0</td>\n",
       "      <td>OUT</td>\n",
       "      <td>profile drag coefficient for nacelles in cruise conditions</td>\n",
       "    </tr>\n",
       "    <tr>\n",
       "      <td>data:aerodynamics:nacelles:low_speed:CD0</td>\n",
       "      <td>OUT</td>\n",
       "      <td>profile drag coefficient for nacelles in low speed conditions</td>\n",
       "    </tr>\n",
       "    <tr>\n",
       "      <td>data:aerodynamics:pylons:cruise:CD0</td>\n",
       "      <td>OUT</td>\n",
       "      <td>profile drag coefficient for pylons in cruise conditions</td>\n",
       "    </tr>\n",
       "    <tr>\n",
       "      <td>data:aerodynamics:pylons:low_speed:CD0</td>\n",
       "      <td>OUT</td>\n",
       "      <td>profile drag coefficient for pylons in low speed conditions</td>\n",
       "    </tr>\n",
       "    <tr>\n",
       "      <td>data:aerodynamics:vertical_tail:cruise:CD0</td>\n",
       "      <td>OUT</td>\n",
       "      <td>profile drag coefficient for vertical tail in cruise conditions</td>\n",
       "    </tr>\n",
       "    <tr>\n",
       "      <td>data:aerodynamics:vertical_tail:cruise:CL_alpha</td>\n",
       "      <td>OUT</td>\n",
       "      <td>derivative of lift coefficient of horizontal tail with respect to local \"angle of attack\" in cruise conditions</td>\n",
       "    </tr>\n",
       "    <tr>\n",
       "      <td>data:aerodynamics:vertical_tail:cruise:CnBeta</td>\n",
       "      <td>OUT</td>\n",
       "      <td>derivative of yawing moment against sideslip angle for vertical tail in cruise conditions</td>\n",
       "    </tr>\n",
       "    <tr>\n",
       "      <td>data:aerodynamics:vertical_tail:low_speed:CD0</td>\n",
       "      <td>OUT</td>\n",
       "      <td>profile drag coefficient for vertical tail in low speed conditions</td>\n",
       "    </tr>\n",
       "    <tr>\n",
       "      <td>data:aerodynamics:wing:cruise:CD0</td>\n",
       "      <td>OUT</td>\n",
       "      <td>profile drag coefficient for wing w.r.t. data:aerodynamics:aircraft:cruise:CL</td>\n",
       "    </tr>\n",
       "    <tr>\n",
       "      <td>data:aerodynamics:wing:cruise:reynolds</td>\n",
       "      <td>OUT</td>\n",
       "      <td>Reynolds number based on wing mean aerodynamic chord in cruise conditions</td>\n",
       "    </tr>\n",
       "    <tr>\n",
       "      <td>data:aerodynamics:wing:landing:reynolds</td>\n",
       "      <td>OUT</td>\n",
       "      <td>Reynolds number based on wing mean aerodynamic chord in landing conditions</td>\n",
       "    </tr>\n",
       "    <tr>\n",
       "      <td>data:aerodynamics:wing:low_speed:CD0</td>\n",
       "      <td>OUT</td>\n",
       "      <td>profile drag coefficient for wing w.r.t. data:aerodynamics:aircraft:low_speed:CL</td>\n",
       "    </tr>\n",
       "    <tr>\n",
       "      <td>data:aerodynamics:wing:low_speed:reynolds</td>\n",
       "      <td>OUT</td>\n",
       "      <td>Reynolds number based on wing mean aerodynamic chord in low speed conditions</td>\n",
       "    </tr>\n",
       "    <tr>\n",
       "      <td>data:geometry:aircraft:wetted_area</td>\n",
       "      <td>OUT</td>\n",
       "      <td>total wetted area</td>\n",
       "    </tr>\n",
       "    <tr>\n",
       "      <td>data:geometry:cabin:NPAX1</td>\n",
       "      <td>OUT</td>\n",
       "      <td>number of passengers if there are only economical class seats</td>\n",
       "    </tr>\n",
       "    <tr>\n",
       "      <td>data:geometry:cabin:crew_count:commercial</td>\n",
       "      <td>OUT</td>\n",
       "      <td>number of commercial crew members</td>\n",
       "    </tr>\n",
       "    <tr>\n",
       "      <td>data:geometry:cabin:length</td>\n",
       "      <td>OUT</td>\n",
       "      <td>cabin length</td>\n",
       "    </tr>\n",
       "    <tr>\n",
       "      <td>data:geometry:fuselage:PAX_length</td>\n",
       "      <td>OUT</td>\n",
       "      <td>length of passenger-dedicated zone</td>\n",
       "    </tr>\n",
       "    <tr>\n",
       "      <td>data:geometry:fuselage:front_length</td>\n",
       "      <td>OUT</td>\n",
       "      <td>length of front non-cylindrical part of the fuselage</td>\n",
       "    </tr>\n",
       "    <tr>\n",
       "      <td>data:geometry:fuselage:length</td>\n",
       "      <td>OUT</td>\n",
       "      <td>total fuselage length</td>\n",
       "    </tr>\n",
       "    <tr>\n",
       "      <td>data:geometry:fuselage:maximum_height</td>\n",
       "      <td>OUT</td>\n",
       "      <td>maximum fuselage height</td>\n",
       "    </tr>\n",
       "    <tr>\n",
       "      <td>data:geometry:fuselage:maximum_width</td>\n",
       "      <td>OUT</td>\n",
       "      <td>maximum fuselage width</td>\n",
       "    </tr>\n",
       "    <tr>\n",
       "      <td>data:geometry:fuselage:rear_length</td>\n",
       "      <td>OUT</td>\n",
       "      <td>length of rear non-cylindrical part of the fuselage</td>\n",
       "    </tr>\n",
       "    <tr>\n",
       "      <td>data:geometry:fuselage:wetted_area</td>\n",
       "      <td>OUT</td>\n",
       "      <td>wetted area of fuselage</td>\n",
       "    </tr>\n",
       "    <tr>\n",
       "      <td>data:geometry:horizontal_tail:MAC:at25percent:x:from_wingMAC25</td>\n",
       "      <td>OUT</td>\n",
       "      <td>distance along X between 25% MAC of wing and 25% MAC of horizontal tail</td>\n",
       "    </tr>\n",
       "    <tr>\n",
       "      <td>data:geometry:horizontal_tail:MAC:at25percent:x:local</td>\n",
       "      <td>OUT</td>\n",
       "      <td>X-position of the 25% of mean aerodynamic chord of horizontal tail w.r.t. leading edge of root chord</td>\n",
       "    </tr>\n",
       "    <tr>\n",
       "      <td>data:geometry:horizontal_tail:MAC:length</td>\n",
       "      <td>OUT</td>\n",
       "      <td>mean aerodynamic chord length of horizontal tail</td>\n",
       "    </tr>\n",
       "    <tr>\n",
       "      <td>data:geometry:horizontal_tail:MAC:y</td>\n",
       "      <td>OUT</td>\n",
       "      <td>Y-position of mean aerodynamic chord of horizontal tail</td>\n",
       "    </tr>\n",
       "    <tr>\n",
       "      <td>data:geometry:horizontal_tail:area</td>\n",
       "      <td>OUT</td>\n",
       "      <td>horizontal tail area</td>\n",
       "    </tr>\n",
       "    <tr>\n",
       "      <td>data:geometry:horizontal_tail:root:chord</td>\n",
       "      <td>OUT</td>\n",
       "      <td>chord length at root of horizontal tail</td>\n",
       "    </tr>\n",
       "    <tr>\n",
       "      <td>data:geometry:horizontal_tail:span</td>\n",
       "      <td>OUT</td>\n",
       "      <td>horizontal tail span</td>\n",
       "    </tr>\n",
       "    <tr>\n",
       "      <td>data:geometry:horizontal_tail:sweep_0</td>\n",
       "      <td>OUT</td>\n",
       "      <td>sweep angle at leading edge of horizontal tail</td>\n",
       "    </tr>\n",
       "    <tr>\n",
       "      <td>data:geometry:horizontal_tail:sweep_100</td>\n",
       "      <td>OUT</td>\n",
       "      <td>sweep angle at trailing edge of horizontal tail</td>\n",
       "    </tr>\n",
       "    <tr>\n",
       "      <td>data:geometry:horizontal_tail:tip:chord</td>\n",
       "      <td>OUT</td>\n",
       "      <td>chord length at tip of horizontal tail</td>\n",
       "    </tr>\n",
       "    <tr>\n",
       "      <td>data:geometry:horizontal_tail:wetted_area</td>\n",
       "      <td>OUT</td>\n",
       "      <td>wetted area of horizontal tail</td>\n",
       "    </tr>\n",
       "    <tr>\n",
       "      <td>data:geometry:landing_gear:height</td>\n",
       "      <td>OUT</td>\n",
       "      <td>height of landing gear</td>\n",
       "    </tr>\n",
       "    <tr>\n",
       "      <td>data:geometry:propulsion:fan:length</td>\n",
       "      <td>OUT</td>\n",
       "      <td>engine length</td>\n",
       "    </tr>\n",
       "    <tr>\n",
       "      <td>data:geometry:propulsion:nacelle:diameter</td>\n",
       "      <td>OUT</td>\n",
       "      <td>nacelle diameter</td>\n",
       "    </tr>\n",
       "    <tr>\n",
       "      <td>data:geometry:propulsion:nacelle:length</td>\n",
       "      <td>OUT</td>\n",
       "      <td>nacelle length</td>\n",
       "    </tr>\n",
       "    <tr>\n",
       "      <td>data:geometry:propulsion:nacelle:wetted_area</td>\n",
       "      <td>OUT</td>\n",
       "      <td>wetted area of nacelle</td>\n",
       "    </tr>\n",
       "    <tr>\n",
       "      <td>data:geometry:propulsion:nacelle:y</td>\n",
       "      <td>OUT</td>\n",
       "      <td>Y-position of nacelle center</td>\n",
       "    </tr>\n",
       "    <tr>\n",
       "      <td>data:geometry:propulsion:pylon:length</td>\n",
       "      <td>OUT</td>\n",
       "      <td>pylon length</td>\n",
       "    </tr>\n",
       "    <tr>\n",
       "      <td>data:geometry:propulsion:pylon:wetted_area</td>\n",
       "      <td>OUT</td>\n",
       "      <td>wetted area of pylon</td>\n",
       "    </tr>\n",
       "    <tr>\n",
       "      <td>data:geometry:vertical_tail:MAC:at25percent:x:from_wingMAC25</td>\n",
       "      <td>OUT</td>\n",
       "      <td>distance along X between 25% MAC of wing and 25% MAC of vertical tail</td>\n",
       "    </tr>\n",
       "    <tr>\n",
       "      <td>data:geometry:vertical_tail:MAC:at25percent:x:local</td>\n",
       "      <td>OUT</td>\n",
       "      <td>X-position of the 25% of mean aerodynamic chord of vertical tail w.r.t. leading edge of root chord</td>\n",
       "    </tr>\n",
       "    <tr>\n",
       "      <td>data:geometry:vertical_tail:MAC:length</td>\n",
       "      <td>OUT</td>\n",
       "      <td>mean aerodynamic chord length of vertical tail</td>\n",
       "    </tr>\n",
       "    <tr>\n",
       "      <td>data:geometry:vertical_tail:MAC:z</td>\n",
       "      <td>OUT</td>\n",
       "      <td>Z-position of mean aerodynamic chord of vertical tail</td>\n",
       "    </tr>\n",
       "    <tr>\n",
       "      <td>data:geometry:vertical_tail:area</td>\n",
       "      <td>OUT</td>\n",
       "      <td>vertical tail area</td>\n",
       "    </tr>\n",
       "    <tr>\n",
       "      <td>data:geometry:vertical_tail:root:chord</td>\n",
       "      <td>OUT</td>\n",
       "      <td>chord length at root of vertical tail</td>\n",
       "    </tr>\n",
       "    <tr>\n",
       "      <td>data:geometry:vertical_tail:span</td>\n",
       "      <td>OUT</td>\n",
       "      <td>vertical tail span</td>\n",
       "    </tr>\n",
       "    <tr>\n",
       "      <td>data:geometry:vertical_tail:sweep_0</td>\n",
       "      <td>OUT</td>\n",
       "      <td>sweep angle at leading edge of vertical tail</td>\n",
       "    </tr>\n",
       "    <tr>\n",
       "      <td>data:geometry:vertical_tail:sweep_100</td>\n",
       "      <td>OUT</td>\n",
       "      <td>sweep angle at trailing edge of vertical tail</td>\n",
       "    </tr>\n",
       "    <tr>\n",
       "      <td>data:geometry:vertical_tail:tip:chord</td>\n",
       "      <td>OUT</td>\n",
       "      <td>chord length at tip of vertical tail</td>\n",
       "    </tr>\n",
       "    <tr>\n",
       "      <td>data:geometry:vertical_tail:wetted_area</td>\n",
       "      <td>OUT</td>\n",
       "      <td>wetted area of vertical tail</td>\n",
       "    </tr>\n",
       "    <tr>\n",
       "      <td>data:geometry:wing:MAC:at25percent:x</td>\n",
       "      <td>OUT</td>\n",
       "      <td>X-position of the 25% of mean aerodynamic chord of wing w.r.t. aircraft nose (drives position of wing along fuselage)</td>\n",
       "    </tr>\n",
       "    <tr>\n",
       "      <td>data:geometry:wing:MAC:leading_edge:x:local</td>\n",
       "      <td>OUT</td>\n",
       "      <td>X-position of leading edge of mean aerodynamic chord w.r.t. leading edge of root chord</td>\n",
       "    </tr>\n",
       "    <tr>\n",
       "      <td>data:geometry:wing:MAC:length</td>\n",
       "      <td>OUT</td>\n",
       "      <td>length of mean aerodynamic chord of wing</td>\n",
       "    </tr>\n",
       "    <tr>\n",
       "      <td>data:geometry:wing:MAC:y</td>\n",
       "      <td>OUT</td>\n",
       "      <td>Y-position of mean aerodynamic chord of wing</td>\n",
       "    </tr>\n",
       "    <tr>\n",
       "      <td>data:geometry:wing:area</td>\n",
       "      <td>OUT</td>\n",
       "      <td>wing reference area</td>\n",
       "    </tr>\n",
       "    <tr>\n",
       "      <td>data:geometry:wing:b_50</td>\n",
       "      <td>OUT</td>\n",
       "      <td>actual length between root and tip along 50% of chord</td>\n",
       "    </tr>\n",
       "    <tr>\n",
       "      <td>data:geometry:wing:kink:chord</td>\n",
       "      <td>OUT</td>\n",
       "      <td>chord length at wing kink</td>\n",
       "    </tr>\n",
       "    <tr>\n",
       "      <td>data:geometry:wing:kink:leading_edge:x:local</td>\n",
       "      <td>OUT</td>\n",
       "      <td>X-position of leading edge at wing kink w.r.t. leading edge of root chord</td>\n",
       "    </tr>\n",
       "    <tr>\n",
       "      <td>data:geometry:wing:kink:thickness_ratio</td>\n",
       "      <td>OUT</td>\n",
       "      <td>thickness ratio at wing kink</td>\n",
       "    </tr>\n",
       "    <tr>\n",
       "      <td>data:geometry:wing:kink:y</td>\n",
       "      <td>OUT</td>\n",
       "      <td>Y-position of wing kink</td>\n",
       "    </tr>\n",
       "    <tr>\n",
       "      <td>data:geometry:wing:outer_area</td>\n",
       "      <td>OUT</td>\n",
       "      <td>wing area outside of fuselage</td>\n",
       "    </tr>\n",
       "    <tr>\n",
       "      <td>data:geometry:wing:root:chord</td>\n",
       "      <td>OUT</td>\n",
       "      <td>chord length at wing root</td>\n",
       "    </tr>\n",
       "    <tr>\n",
       "      <td>data:geometry:wing:root:thickness_ratio</td>\n",
       "      <td>OUT</td>\n",
       "      <td>thickness ratio at wing root</td>\n",
       "    </tr>\n",
       "    <tr>\n",
       "      <td>data:geometry:wing:root:virtual_chord</td>\n",
       "      <td>OUT</td>\n",
       "      <td>virtual chord length at wing root if sweep angle of trailing edge of outer wing part was on the whole wing (no kink)</td>\n",
       "    </tr>\n",
       "    <tr>\n",
       "      <td>data:geometry:wing:root:y</td>\n",
       "      <td>OUT</td>\n",
       "      <td>Y-position of wing root</td>\n",
       "    </tr>\n",
       "    <tr>\n",
       "      <td>data:geometry:wing:span</td>\n",
       "      <td>OUT</td>\n",
       "      <td>wing span</td>\n",
       "    </tr>\n",
       "    <tr>\n",
       "      <td>data:geometry:wing:sweep_0</td>\n",
       "      <td>OUT</td>\n",
       "      <td>sweep angle at leading edge of wing</td>\n",
       "    </tr>\n",
       "    <tr>\n",
       "      <td>data:geometry:wing:sweep_100_inner</td>\n",
       "      <td>OUT</td>\n",
       "      <td>sweep angle at trailing edge of wing (inner side of the kink)</td>\n",
       "    </tr>\n",
       "    <tr>\n",
       "      <td>data:geometry:wing:sweep_100_outer</td>\n",
       "      <td>OUT</td>\n",
       "      <td>sweep angle at trailing edge of wing (outer side of the kink)</td>\n",
       "    </tr>\n",
       "    <tr>\n",
       "      <td>data:geometry:wing:taper_ratio</td>\n",
       "      <td>OUT</td>\n",
       "      <td>taper ratio of wing</td>\n",
       "    </tr>\n",
       "    <tr>\n",
       "      <td>data:geometry:wing:thickness_ratio</td>\n",
       "      <td>OUT</td>\n",
       "      <td>mean thickness ratio of wing</td>\n",
       "    </tr>\n",
       "    <tr>\n",
       "      <td>data:geometry:wing:tip:chord</td>\n",
       "      <td>OUT</td>\n",
       "      <td>chord length at wing tip</td>\n",
       "    </tr>\n",
       "    <tr>\n",
       "      <td>data:geometry:wing:tip:leading_edge:x:local</td>\n",
       "      <td>OUT</td>\n",
       "      <td>X-position of leading edge at wing tip w.r.t. leading edge of root chord</td>\n",
       "    </tr>\n",
       "    <tr>\n",
       "      <td>data:geometry:wing:tip:thickness_ratio</td>\n",
       "      <td>OUT</td>\n",
       "      <td>thickness ratio at wing tip</td>\n",
       "    </tr>\n",
       "    <tr>\n",
       "      <td>data:geometry:wing:tip:y</td>\n",
       "      <td>OUT</td>\n",
       "      <td>Y-position of wing tip</td>\n",
       "    </tr>\n",
       "    <tr>\n",
       "      <td>data:geometry:wing:wetted_area</td>\n",
       "      <td>OUT</td>\n",
       "      <td>wetted area of wing</td>\n",
       "    </tr>\n",
       "    <tr>\n",
       "      <td>data:handling_qualities:static_margin</td>\n",
       "      <td>OUT</td>\n",
       "      <td>(X-position of neutral point - X-position of center of gravity ) / (mean aerodynamic chord)</td>\n",
       "    </tr>\n",
       "    <tr>\n",
       "      <td>data:mission:sizing:TOW</td>\n",
       "      <td>OUT</td>\n",
       "      <td>TakeOff Weight for mission \"sizing\"</td>\n",
       "    </tr>\n",
       "    <tr>\n",
       "      <td>data:mission:sizing:ZFW</td>\n",
       "      <td>OUT</td>\n",
       "      <td>Zero Fuel Weight for mission \"sizing\"</td>\n",
       "    </tr>\n",
       "    <tr>\n",
       "      <td>data:mission:sizing:block_fuel</td>\n",
       "      <td>OUT</td>\n",
       "      <td>Loaded fuel before taxi-out for mission \"sizing\"</td>\n",
       "    </tr>\n",
       "    <tr>\n",
       "      <td>data:mission:sizing:cs25:sizing_load_1</td>\n",
       "      <td>OUT</td>\n",
       "      <td></td>\n",
       "    </tr>\n",
       "    <tr>\n",
       "      <td>data:mission:sizing:cs25:sizing_load_2</td>\n",
       "      <td>OUT</td>\n",
       "      <td></td>\n",
       "    </tr>\n",
       "    <tr>\n",
       "      <td>data:mission:sizing:distance</td>\n",
       "      <td>OUT</td>\n",
       "      <td>covered ground distance during mission \"sizing\"</td>\n",
       "    </tr>\n",
       "    <tr>\n",
       "      <td>data:mission:sizing:duration</td>\n",
       "      <td>OUT</td>\n",
       "      <td>duration of mission \"sizing\"</td>\n",
       "    </tr>\n",
       "    <tr>\n",
       "      <td>data:mission:sizing:fuel</td>\n",
       "      <td>OUT</td>\n",
       "      <td>burned fuel during mission \"sizing\"</td>\n",
       "    </tr>\n",
       "    <tr>\n",
       "      <td>data:mission:sizing:global_reserve:distance</td>\n",
       "      <td>OUT</td>\n",
       "      <td>covered ground distance during phase \"global_reserve\" in mission \"sizing\"</td>\n",
       "    </tr>\n",
       "    <tr>\n",
       "      <td>data:mission:sizing:global_reserve:duration</td>\n",
       "      <td>OUT</td>\n",
       "      <td>duration of phase \"global_reserve\" in mission \"sizing\"</td>\n",
       "    </tr>\n",
       "    <tr>\n",
       "      <td>data:mission:sizing:global_reserve:fuel</td>\n",
       "      <td>OUT</td>\n",
       "      <td>burned fuel during phase \"global_reserve\" in mission \"sizing\"</td>\n",
       "    </tr>\n",
       "    <tr>\n",
       "      <td>data:mission:sizing:main_route:climb:distance</td>\n",
       "      <td>OUT</td>\n",
       "      <td>covered ground distance during phase \"climb\" of route \"main_route\" in mission \"sizing\"</td>\n",
       "    </tr>\n",
       "    <tr>\n",
       "      <td>data:mission:sizing:main_route:climb:duration</td>\n",
       "      <td>OUT</td>\n",
       "      <td>duration of phase \"climb\" of route \"main_route\" in mission \"sizing\"</td>\n",
       "    </tr>\n",
       "    <tr>\n",
       "      <td>data:mission:sizing:main_route:climb:fuel</td>\n",
       "      <td>OUT</td>\n",
       "      <td>burned fuel during phase \"climb\" of route \"main_route\" in mission \"sizing\"</td>\n",
       "    </tr>\n",
       "    <tr>\n",
       "      <td>data:mission:sizing:main_route:cruise:distance</td>\n",
       "      <td>OUT</td>\n",
       "      <td>covered ground distance during phase \"cruise\" of route \"main_route\" in mission \"sizing\"</td>\n",
       "    </tr>\n",
       "    <tr>\n",
       "      <td>data:mission:sizing:main_route:cruise:duration</td>\n",
       "      <td>OUT</td>\n",
       "      <td>duration of phase \"cruise\" of route \"main_route\" in mission \"sizing\"</td>\n",
       "    </tr>\n",
       "    <tr>\n",
       "      <td>data:mission:sizing:main_route:cruise:fuel</td>\n",
       "      <td>OUT</td>\n",
       "      <td>burned fuel during phase \"cruise\" of route \"main_route\" in mission \"sizing\"</td>\n",
       "    </tr>\n",
       "    <tr>\n",
       "      <td>data:mission:sizing:main_route:descent:distance</td>\n",
       "      <td>OUT</td>\n",
       "      <td>covered ground distance during phase \"descent\" of route \"main_route\" in mission \"sizing\"</td>\n",
       "    </tr>\n",
       "    <tr>\n",
       "      <td>data:mission:sizing:main_route:descent:duration</td>\n",
       "      <td>OUT</td>\n",
       "      <td>duration of phase \"descent\" of route \"main_route\" in mission \"sizing\"</td>\n",
       "    </tr>\n",
       "    <tr>\n",
       "      <td>data:mission:sizing:main_route:descent:fuel</td>\n",
       "      <td>OUT</td>\n",
       "      <td>burned fuel during phase \"descent\" of route \"main_route\" in mission \"sizing\"</td>\n",
       "    </tr>\n",
       "    <tr>\n",
       "      <td>data:mission:sizing:main_route:distance</td>\n",
       "      <td>OUT</td>\n",
       "      <td>covered ground distance during route \"main_route\" in mission \"sizing\"</td>\n",
       "    </tr>\n",
       "    <tr>\n",
       "      <td>data:mission:sizing:main_route:duration</td>\n",
       "      <td>OUT</td>\n",
       "      <td>duration of route \"main_route\" in mission \"sizing\"</td>\n",
       "    </tr>\n",
       "    <tr>\n",
       "      <td>data:mission:sizing:main_route:fuel</td>\n",
       "      <td>OUT</td>\n",
       "      <td>burned fuel during route \"main_route\" in mission \"sizing\"</td>\n",
       "    </tr>\n",
       "    <tr>\n",
       "      <td>data:mission:sizing:needed_block_fuel</td>\n",
       "      <td>OUT</td>\n",
       "      <td>Needed fuel to complete mission \"sizing\", including reserve fuel</td>\n",
       "    </tr>\n",
       "    <tr>\n",
       "      <td>data:mission:sizing:needed_onboard_fuel_at_takeoff</td>\n",
       "      <td>OUT</td>\n",
       "      <td>fuel quantity at instant of takeoff of mission \"sizing\"</td>\n",
       "    </tr>\n",
       "    <tr>\n",
       "      <td>data:mission:sizing:onboard_fuel_at_takeoff</td>\n",
       "      <td>OUT</td>\n",
       "      <td>TakeOff Weight for mission \"sizing\"_inp_data:mission:sizing:onboard_fuel_at_takeoff</td>\n",
       "    </tr>\n",
       "    <tr>\n",
       "      <td>data:mission:sizing:taxi_out:distance</td>\n",
       "      <td>OUT</td>\n",
       "      <td>distance during taxi-out of mission \"sizing\"</td>\n",
       "    </tr>\n",
       "    <tr>\n",
       "      <td>data:mission:sizing:taxi_out:fuel</td>\n",
       "      <td>OUT</td>\n",
       "      <td>burned fuel during taxi-out of mission \"sizing\"</td>\n",
       "    </tr>\n",
       "    <tr>\n",
       "      <td>data:weight:aircraft:CG:aft:MAC_position</td>\n",
       "      <td>OUT</td>\n",
       "      <td>most aft X-position of center of gravity as ratio of mean aerodynamic chord</td>\n",
       "    </tr>\n",
       "    <tr>\n",
       "      <td>data:weight:aircraft:CG:aft:x</td>\n",
       "      <td>OUT</td>\n",
       "      <td>most aft X-position of aircraft center of gravity</td>\n",
       "    </tr>\n",
       "    <tr>\n",
       "      <td>data:weight:aircraft:MFW</td>\n",
       "      <td>OUT</td>\n",
       "      <td>maximum fuel weight</td>\n",
       "    </tr>\n",
       "    <tr>\n",
       "      <td>data:weight:aircraft:MLW</td>\n",
       "      <td>OUT</td>\n",
       "      <td>maximum landing weight</td>\n",
       "    </tr>\n",
       "    <tr>\n",
       "      <td>data:weight:aircraft:MTOW</td>\n",
       "      <td>OUT</td>\n",
       "      <td>maximum takeoff weight</td>\n",
       "    </tr>\n",
       "    <tr>\n",
       "      <td>data:weight:aircraft:MZFW</td>\n",
       "      <td>OUT</td>\n",
       "      <td>maximum zero fuel weight</td>\n",
       "    </tr>\n",
       "    <tr>\n",
       "      <td>data:weight:aircraft:OWE</td>\n",
       "      <td>OUT</td>\n",
       "      <td>Mass of crew</td>\n",
       "    </tr>\n",
       "    <tr>\n",
       "      <td>data:weight:aircraft:additional_fuel_capacity</td>\n",
       "      <td>OUT</td>\n",
       "      <td>fuel mass capacity of wing that exceeds sizing mission requirement</td>\n",
       "    </tr>\n",
       "    <tr>\n",
       "      <td>data:weight:aircraft:empty:CG:MAC_position</td>\n",
       "      <td>OUT</td>\n",
       "      <td>X-position of center of gravity as ratio of mean aerodynamic chord for empty aircraft</td>\n",
       "    </tr>\n",
       "    <tr>\n",
       "      <td>data:weight:aircraft:load_cases:CG:MAC_position</td>\n",
       "      <td>OUT</td>\n",
       "      <td></td>\n",
       "    </tr>\n",
       "    <tr>\n",
       "      <td>data:weight:aircraft:load_cases:CG:MAC_position:maximum</td>\n",
       "      <td>OUT</td>\n",
       "      <td></td>\n",
       "    </tr>\n",
       "    <tr>\n",
       "      <td>data:weight:aircraft:max_payload</td>\n",
       "      <td>OUT</td>\n",
       "      <td>max payload weight</td>\n",
       "    </tr>\n",
       "    <tr>\n",
       "      <td>data:weight:aircraft:payload</td>\n",
       "      <td>OUT</td>\n",
       "      <td>_inp_data:weight:aircraft:payload</td>\n",
       "    </tr>\n",
       "    <tr>\n",
       "      <td>data:weight:aircraft:sizing_block_fuel</td>\n",
       "      <td>OUT</td>\n",
       "      <td>block fuel quantity (i.e. loaded before taxi-out) used for sizing process</td>\n",
       "    </tr>\n",
       "    <tr>\n",
       "      <td>data:weight:aircraft:sizing_onboard_fuel_at_takeoff</td>\n",
       "      <td>OUT</td>\n",
       "      <td>_inp_data:weight:aircraft:sizing_onboard_fuel_at_takeoff</td>\n",
       "    </tr>\n",
       "    <tr>\n",
       "      <td>data:weight:aircraft_empty:CG:x</td>\n",
       "      <td>OUT</td>\n",
       "      <td>X-position center of gravity of empty aircraft</td>\n",
       "    </tr>\n",
       "    <tr>\n",
       "      <td>data:weight:aircraft_empty:mass</td>\n",
       "      <td>OUT</td>\n",
       "      <td>mass of empty aircraft (=OWE - mass of crew)</td>\n",
       "    </tr>\n",
       "    <tr>\n",
       "      <td>data:weight:airframe:flight_controls:CG:x</td>\n",
       "      <td>OUT</td>\n",
       "      <td>flight controls (A4): X-position of center of gravity</td>\n",
       "    </tr>\n",
       "    <tr>\n",
       "      <td>data:weight:airframe:flight_controls:mass</td>\n",
       "      <td>OUT</td>\n",
       "      <td>Mass of airframe_inp_data:weight:airframe:flight_controls:mass</td>\n",
       "    </tr>\n",
       "    <tr>\n",
       "      <td>data:weight:airframe:fuselage:CG:x</td>\n",
       "      <td>OUT</td>\n",
       "      <td>fuselage (A2): X-position of center of gravity</td>\n",
       "    </tr>\n",
       "    <tr>\n",
       "      <td>data:weight:airframe:fuselage:mass</td>\n",
       "      <td>OUT</td>\n",
       "      <td>Mass of airframe_inp_data:weight:airframe:fuselage:mass</td>\n",
       "    </tr>\n",
       "    <tr>\n",
       "      <td>data:weight:airframe:horizontal_tail:CG:x</td>\n",
       "      <td>OUT</td>\n",
       "      <td>horizontal tail (A31): X-position of center of gravity</td>\n",
       "    </tr>\n",
       "    <tr>\n",
       "      <td>data:weight:airframe:horizontal_tail:mass</td>\n",
       "      <td>OUT</td>\n",
       "      <td>Mass of airframe_inp_data:weight:airframe:horizontal_tail:mass</td>\n",
       "    </tr>\n",
       "    <tr>\n",
       "      <td>data:weight:airframe:landing_gear:front:CG:x</td>\n",
       "      <td>OUT</td>\n",
       "      <td>front landing gear (A52): X-position of center of gravity</td>\n",
       "    </tr>\n",
       "    <tr>\n",
       "      <td>data:weight:airframe:landing_gear:front:mass</td>\n",
       "      <td>OUT</td>\n",
       "      <td>Mass of airframe_inp_data:weight:airframe:landing_gear:front:mass</td>\n",
       "    </tr>\n",
       "    <tr>\n",
       "      <td>data:weight:airframe:landing_gear:main:CG:x</td>\n",
       "      <td>OUT</td>\n",
       "      <td>main landing gear (A51): X-position of center of gravity</td>\n",
       "    </tr>\n",
       "    <tr>\n",
       "      <td>data:weight:airframe:landing_gear:main:mass</td>\n",
       "      <td>OUT</td>\n",
       "      <td>Mass of airframe_inp_data:weight:airframe:landing_gear:main:mass</td>\n",
       "    </tr>\n",
       "    <tr>\n",
       "      <td>data:weight:airframe:mass</td>\n",
       "      <td>OUT</td>\n",
       "      <td>Mass of airframe</td>\n",
       "    </tr>\n",
       "    <tr>\n",
       "      <td>data:weight:airframe:paint:CG:x</td>\n",
       "      <td>OUT</td>\n",
       "      <td>paint (A7): X-position of center of gravity</td>\n",
       "    </tr>\n",
       "    <tr>\n",
       "      <td>data:weight:airframe:paint:mass</td>\n",
       "      <td>OUT</td>\n",
       "      <td>Mass of airframe_inp_data:weight:airframe:paint:mass</td>\n",
       "    </tr>\n",
       "    <tr>\n",
       "      <td>data:weight:airframe:pylon:CG:x</td>\n",
       "      <td>OUT</td>\n",
       "      <td>pylon (A6): X-position of center of gravity</td>\n",
       "    </tr>\n",
       "    <tr>\n",
       "      <td>data:weight:airframe:pylon:mass</td>\n",
       "      <td>OUT</td>\n",
       "      <td>Mass of airframe_inp_data:weight:airframe:pylon:mass</td>\n",
       "    </tr>\n",
       "    <tr>\n",
       "      <td>data:weight:airframe:vertical_tail:CG:x</td>\n",
       "      <td>OUT</td>\n",
       "      <td>vertical tail (A32): X-position of center of gravity</td>\n",
       "    </tr>\n",
       "    <tr>\n",
       "      <td>data:weight:airframe:vertical_tail:mass</td>\n",
       "      <td>OUT</td>\n",
       "      <td>Mass of airframe_inp_data:weight:airframe:vertical_tail:mass</td>\n",
       "    </tr>\n",
       "    <tr>\n",
       "      <td>data:weight:airframe:wing:CG:x</td>\n",
       "      <td>OUT</td>\n",
       "      <td>wing (A1): X-position of center of gravity</td>\n",
       "    </tr>\n",
       "    <tr>\n",
       "      <td>data:weight:airframe:wing:mass</td>\n",
       "      <td>OUT</td>\n",
       "      <td>Mass of airframe_inp_data:weight:airframe:wing:mass</td>\n",
       "    </tr>\n",
       "    <tr>\n",
       "      <td>data:weight:crew:mass</td>\n",
       "      <td>OUT</td>\n",
       "      <td>Mass of crew_inp_data:weight:crew:mass</td>\n",
       "    </tr>\n",
       "    <tr>\n",
       "      <td>data:weight:fuel_tank:CG:x</td>\n",
       "      <td>OUT</td>\n",
       "      <td>fuel tank: X-position of center of gravity</td>\n",
       "    </tr>\n",
       "    <tr>\n",
       "      <td>data:weight:furniture:food_water:CG:x</td>\n",
       "      <td>OUT</td>\n",
       "      <td>food water (D3): X-position of center of gravity</td>\n",
       "    </tr>\n",
       "    <tr>\n",
       "      <td>data:weight:furniture:food_water:mass</td>\n",
       "      <td>OUT</td>\n",
       "      <td>Mass of aircraft furniture_inp_data:weight:furniture:food_water:mass</td>\n",
       "    </tr>\n",
       "    <tr>\n",
       "      <td>data:weight:furniture:mass</td>\n",
       "      <td>OUT</td>\n",
       "      <td>Mass of aircraft furniture</td>\n",
       "    </tr>\n",
       "    <tr>\n",
       "      <td>data:weight:furniture:passenger_seats:CG:x</td>\n",
       "      <td>OUT</td>\n",
       "      <td>passenger seats (D2): X-position of center of gravity</td>\n",
       "    </tr>\n",
       "    <tr>\n",
       "      <td>data:weight:furniture:passenger_seats:mass</td>\n",
       "      <td>OUT</td>\n",
       "      <td>Mass of aircraft furniture_inp_data:weight:furniture:passenger_seats:mass</td>\n",
       "    </tr>\n",
       "    <tr>\n",
       "      <td>data:weight:furniture:security_kit:CG:x</td>\n",
       "      <td>OUT</td>\n",
       "      <td>security kit (D4): X-position of center of gravity</td>\n",
       "    </tr>\n",
       "    <tr>\n",
       "      <td>data:weight:furniture:security_kit:mass</td>\n",
       "      <td>OUT</td>\n",
       "      <td>Mass of aircraft furniture_inp_data:weight:furniture:security_kit:mass</td>\n",
       "    </tr>\n",
       "    <tr>\n",
       "      <td>data:weight:furniture:toilets:CG:x</td>\n",
       "      <td>OUT</td>\n",
       "      <td>toilets (D5): X-position of center of gravity</td>\n",
       "    </tr>\n",
       "    <tr>\n",
       "      <td>data:weight:furniture:toilets:mass</td>\n",
       "      <td>OUT</td>\n",
       "      <td>Mass of aircraft furniture_inp_data:weight:furniture:toilets:mass</td>\n",
       "    </tr>\n",
       "    <tr>\n",
       "      <td>data:weight:payload:PAX:CG:x</td>\n",
       "      <td>OUT</td>\n",
       "      <td>passengers: X-position of center of gravity</td>\n",
       "    </tr>\n",
       "    <tr>\n",
       "      <td>data:weight:payload:front_fret:CG:x</td>\n",
       "      <td>OUT</td>\n",
       "      <td>front fret: X-position of center of gravity</td>\n",
       "    </tr>\n",
       "    <tr>\n",
       "      <td>data:weight:payload:rear_fret:CG:x</td>\n",
       "      <td>OUT</td>\n",
       "      <td>rear fret: X-position of center of gravity</td>\n",
       "    </tr>\n",
       "    <tr>\n",
       "      <td>data:weight:propulsion:engine:CG:x</td>\n",
       "      <td>OUT</td>\n",
       "      <td>engine (B1): X-position of center of gravity</td>\n",
       "    </tr>\n",
       "    <tr>\n",
       "      <td>data:weight:propulsion:engine:mass</td>\n",
       "      <td>OUT</td>\n",
       "      <td>Mass of the propulsion system_inp_data:weight:propulsion:engine:mass</td>\n",
       "    </tr>\n",
       "    <tr>\n",
       "      <td>data:weight:propulsion:fuel_lines:CG:x</td>\n",
       "      <td>OUT</td>\n",
       "      <td>fuel lines (B2): X-position of center of gravity</td>\n",
       "    </tr>\n",
       "    <tr>\n",
       "      <td>data:weight:propulsion:fuel_lines:mass</td>\n",
       "      <td>OUT</td>\n",
       "      <td>Mass of the propulsion system_inp_data:weight:propulsion:fuel_lines:mass</td>\n",
       "    </tr>\n",
       "    <tr>\n",
       "      <td>data:weight:propulsion:mass</td>\n",
       "      <td>OUT</td>\n",
       "      <td>Mass of the propulsion system</td>\n",
       "    </tr>\n",
       "    <tr>\n",
       "      <td>data:weight:propulsion:unconsumables:CG:x</td>\n",
       "      <td>OUT</td>\n",
       "      <td>unconsumables (B3): X-position of center of gravity</td>\n",
       "    </tr>\n",
       "    <tr>\n",
       "      <td>data:weight:propulsion:unconsumables:mass</td>\n",
       "      <td>OUT</td>\n",
       "      <td>Mass of the propulsion system_inp_data:weight:propulsion:unconsumables:mass</td>\n",
       "    </tr>\n",
       "    <tr>\n",
       "      <td>data:weight:systems:flight_kit:CG:x</td>\n",
       "      <td>OUT</td>\n",
       "      <td>flight kit (C6): X-position of center of gravity</td>\n",
       "    </tr>\n",
       "    <tr>\n",
       "      <td>data:weight:systems:flight_kit:mass</td>\n",
       "      <td>OUT</td>\n",
       "      <td>Mass of aircraft systems_inp_data:weight:systems:flight_kit:mass</td>\n",
       "    </tr>\n",
       "    <tr>\n",
       "      <td>data:weight:systems:life_support:air_conditioning:CG:x</td>\n",
       "      <td>OUT</td>\n",
       "      <td>air conditioning (C2): X-position of center of gravity</td>\n",
       "    </tr>\n",
       "    <tr>\n",
       "      <td>data:weight:systems:life_support:air_conditioning:mass</td>\n",
       "      <td>OUT</td>\n",
       "      <td>Mass of aircraft systems_inp_data:weight:systems:life_support:air_conditioning:mass</td>\n",
       "    </tr>\n",
       "    <tr>\n",
       "      <td>data:weight:systems:life_support:cabin_lighting:CG:x</td>\n",
       "      <td>OUT</td>\n",
       "      <td>cabin lighting (C2): X-position of center of gravity</td>\n",
       "    </tr>\n",
       "    <tr>\n",
       "      <td>data:weight:systems:life_support:cabin_lighting:mass</td>\n",
       "      <td>OUT</td>\n",
       "      <td>Mass of aircraft systems_inp_data:weight:systems:life_support:cabin_lighting:mass</td>\n",
       "    </tr>\n",
       "    <tr>\n",
       "      <td>data:weight:systems:life_support:de-icing:CG:x</td>\n",
       "      <td>OUT</td>\n",
       "      <td>de-icing (C2): X-position of center of gravity</td>\n",
       "    </tr>\n",
       "    <tr>\n",
       "      <td>data:weight:systems:life_support:de-icing:mass</td>\n",
       "      <td>OUT</td>\n",
       "      <td>Mass of aircraft systems_inp_data:weight:systems:life_support:de-icing:mass</td>\n",
       "    </tr>\n",
       "    <tr>\n",
       "      <td>data:weight:systems:life_support:insulation:CG:x</td>\n",
       "      <td>OUT</td>\n",
       "      <td>insulation (C21): X-position of center of gravity</td>\n",
       "    </tr>\n",
       "    <tr>\n",
       "      <td>data:weight:systems:life_support:insulation:mass</td>\n",
       "      <td>OUT</td>\n",
       "      <td>Mass of aircraft systems_inp_data:weight:systems:life_support:insulation:mass</td>\n",
       "    </tr>\n",
       "    <tr>\n",
       "      <td>data:weight:systems:life_support:oxygen:CG:x</td>\n",
       "      <td>OUT</td>\n",
       "      <td>oxygen (C21): X-position of center of gravity</td>\n",
       "    </tr>\n",
       "    <tr>\n",
       "      <td>data:weight:systems:life_support:oxygen:mass</td>\n",
       "      <td>OUT</td>\n",
       "      <td>Mass of aircraft systems_inp_data:weight:systems:life_support:oxygen:mass</td>\n",
       "    </tr>\n",
       "    <tr>\n",
       "      <td>data:weight:systems:life_support:safety_equipment:CG:x</td>\n",
       "      <td>OUT</td>\n",
       "      <td>safety equipment (C21): X-position of center of gravity</td>\n",
       "    </tr>\n",
       "    <tr>\n",
       "      <td>data:weight:systems:life_support:safety_equipment:mass</td>\n",
       "      <td>OUT</td>\n",
       "      <td>Mass of aircraft systems_inp_data:weight:systems:life_support:safety_equipment:mass</td>\n",
       "    </tr>\n",
       "    <tr>\n",
       "      <td>data:weight:systems:life_support:seats_crew_accommodation:CG:x</td>\n",
       "      <td>OUT</td>\n",
       "      <td>seats crew accommodation (C21): X-position of center of gravity</td>\n",
       "    </tr>\n",
       "    <tr>\n",
       "      <td>data:weight:systems:life_support:seats_crew_accommodation:mass</td>\n",
       "      <td>OUT</td>\n",
       "      <td>Mass of aircraft systems_inp_data:weight:systems:life_support:seats_crew_accommodation:mass</td>\n",
       "    </tr>\n",
       "    <tr>\n",
       "      <td>data:weight:systems:mass</td>\n",
       "      <td>OUT</td>\n",
       "      <td>Mass of aircraft systems</td>\n",
       "    </tr>\n",
       "    <tr>\n",
       "      <td>data:weight:systems:navigation:CG:x</td>\n",
       "      <td>OUT</td>\n",
       "      <td>navigation (C3): X-position of center of gravity</td>\n",
       "    </tr>\n",
       "    <tr>\n",
       "      <td>data:weight:systems:navigation:mass</td>\n",
       "      <td>OUT</td>\n",
       "      <td>Mass of aircraft systems_inp_data:weight:systems:navigation:mass</td>\n",
       "    </tr>\n",
       "    <tr>\n",
       "      <td>data:weight:systems:operational:cargo_hold:CG:x</td>\n",
       "      <td>OUT</td>\n",
       "      <td>cargo hold (C52): X-position of center of gravity</td>\n",
       "    </tr>\n",
       "    <tr>\n",
       "      <td>data:weight:systems:operational:cargo_hold:mass</td>\n",
       "      <td>OUT</td>\n",
       "      <td>Mass of aircraft systems_inp_data:weight:systems:operational:cargo_hold:mass</td>\n",
       "    </tr>\n",
       "    <tr>\n",
       "      <td>data:weight:systems:operational:radar:CG:x</td>\n",
       "      <td>OUT</td>\n",
       "      <td>radar (C51): X-position of center of gravity</td>\n",
       "    </tr>\n",
       "    <tr>\n",
       "      <td>data:weight:systems:operational:radar:mass</td>\n",
       "      <td>OUT</td>\n",
       "      <td>Mass of aircraft systems_inp_data:weight:systems:operational:radar:mass</td>\n",
       "    </tr>\n",
       "    <tr>\n",
       "      <td>data:weight:systems:power:auxiliary_power_unit:CG:x</td>\n",
       "      <td>OUT</td>\n",
       "      <td>power (C1): X-position of center of gravity</td>\n",
       "    </tr>\n",
       "    <tr>\n",
       "      <td>data:weight:systems:power:auxiliary_power_unit:mass</td>\n",
       "      <td>OUT</td>\n",
       "      <td>Mass of aircraft systems_inp_data:weight:systems:power:auxiliary_power_unit:mass</td>\n",
       "    </tr>\n",
       "    <tr>\n",
       "      <td>data:weight:systems:power:electric_systems:CG:x</td>\n",
       "      <td>OUT</td>\n",
       "      <td>power (C1): X-position of center of gravity</td>\n",
       "    </tr>\n",
       "    <tr>\n",
       "      <td>data:weight:systems:power:electric_systems:mass</td>\n",
       "      <td>OUT</td>\n",
       "      <td>Mass of aircraft systems_inp_data:weight:systems:power:electric_systems:mass</td>\n",
       "    </tr>\n",
       "    <tr>\n",
       "      <td>data:weight:systems:power:hydraulic_systems:CG:x</td>\n",
       "      <td>OUT</td>\n",
       "      <td>power (C1): X-position of center of gravity</td>\n",
       "    </tr>\n",
       "    <tr>\n",
       "      <td>data:weight:systems:power:hydraulic_systems:mass</td>\n",
       "      <td>OUT</td>\n",
       "      <td>Mass of aircraft systems_inp_data:weight:systems:power:hydraulic_systems:mass</td>\n",
       "    </tr>\n",
       "    <tr>\n",
       "      <td>data:weight:systems:transmission:CG:x</td>\n",
       "      <td>OUT</td>\n",
       "      <td>transmission (C4): X-position of center of gravity</td>\n",
       "    </tr>\n",
       "    <tr>\n",
       "      <td>data:weight:systems:transmission:mass</td>\n",
       "      <td>OUT</td>\n",
       "      <td>Mass of aircraft systems_inp_data:weight:systems:transmission:mass</td>\n",
       "    </tr>\n",
       "  </tbody>\n",
       "</table>"
      ],
      "text/plain": [
       "<IPython.core.display.HTML object>"
      ]
     },
     "metadata": {},
     "output_type": "display_data"
    }
   ],
   "source": [
    "oad.list_variables(CONFIGURATION_FILE)"
   ]
  },
  {
   "cell_type": "code",
   "execution_count": 6,
   "id": "7d7f2c1d-606a-4a6f-a570-56a3106291a7",
   "metadata": {},
   "outputs": [
    {
     "data": {
      "text/html": [
       "<table>\n",
       "<tbody>\n",
       "<tr><td>AVAILABLE MODULE IDENTIFIERS            </td><td>MODULE PATH                                                                                                                      </td></tr>\n",
       "<tr><td>fastoad.aerodynamics.highspeed.legacy   </td><td>C:\\Users\\PC\\anaconda3\\envs\\FAST-PEDAGO\\lib\\site-packages\\fastoad_cs25\\models\\aerodynamics\\aerodynamics_high_speed.py             </td></tr>\n",
       "<tr><td>fastoad.aerodynamics.landing.legacy     </td><td>C:\\Users\\PC\\anaconda3\\envs\\FAST-PEDAGO\\lib\\site-packages\\fastoad_cs25\\models\\aerodynamics\\aerodynamics_landing.py                </td></tr>\n",
       "<tr><td>fastoad.aerodynamics.lowspeed.legacy    </td><td>C:\\Users\\PC\\anaconda3\\envs\\FAST-PEDAGO\\lib\\site-packages\\fastoad_cs25\\models\\aerodynamics\\aerodynamics_low_speed.py              </td></tr>\n",
       "<tr><td>fastoad.aerodynamics.takeoff.legacy     </td><td>C:\\Users\\PC\\anaconda3\\envs\\FAST-PEDAGO\\lib\\site-packages\\fastoad_cs25\\models\\aerodynamics\\aerodynamics_takeoff.py                </td></tr>\n",
       "<tr><td>fastoad.geometry.legacy                 </td><td>C:\\Users\\PC\\anaconda3\\envs\\FAST-PEDAGO\\lib\\site-packages\\fastoad_cs25\\models\\geometry\\geometry.py                                </td></tr>\n",
       "<tr><td>fastoad.handling_qualities.static_margin</td><td>C:\\Users\\PC\\anaconda3\\envs\\FAST-PEDAGO\\lib\\site-packages\\fastoad_cs25\\models\\handling_qualities\\compute_static_margin.py         </td></tr>\n",
       "<tr><td>fastoad.handling_qualities.tail_sizing  </td><td>C:\\Users\\PC\\anaconda3\\envs\\FAST-PEDAGO\\lib\\site-packages\\fastoad_cs25\\models\\handling_qualities\\tail_sizing\\compute_tail_areas.py</td></tr>\n",
       "<tr><td>fastoad.loop.wing_area                  </td><td>C:\\Users\\PC\\anaconda3\\envs\\FAST-PEDAGO\\lib\\site-packages\\fastoad_cs25\\models\\loops\\compute_wing_area.py                          </td></tr>\n",
       "<tr><td>fastoad.loop.wing_position              </td><td>C:\\Users\\PC\\anaconda3\\envs\\FAST-PEDAGO\\lib\\site-packages\\fastoad_cs25\\models\\loops\\compute_wing_position.py                      </td></tr>\n",
       "<tr><td>fastoad.mass_performances.compute_MTOW  </td><td>C:\\Users\\PC\\anaconda3\\envs\\FAST-PEDAGO\\lib\\site-packages\\fastoad\\models\\performances\\mission\\openmdao\\link_mtow.py               </td></tr>\n",
       "<tr><td>fastoad.performances.mission            </td><td>C:\\Users\\PC\\anaconda3\\envs\\FAST-PEDAGO\\lib\\site-packages\\fastoad\\models\\performances\\mission\\openmdao\\mission.py                 </td></tr>\n",
       "<tr><td>fastoad.weight.legacy                   </td><td>C:\\Users\\PC\\anaconda3\\envs\\FAST-PEDAGO\\lib\\site-packages\\fastoad_cs25\\models\\weight\\weight.py                                    </td></tr>\n",
       "<tr><td>AVAILABLE PROPULSION WRAPPER IDENTIFIERS</td><td>MODULE PATH                                                                                                                      </td></tr>\n",
       "<tr><td>fastoad.wrapper.propulsion.rubber_engine</td><td>C:\\Users\\PC\\anaconda3\\envs\\FAST-PEDAGO\\lib\\site-packages\\fastoad_cs25\\models\\propulsion\\fuel_propulsion\\rubber_engine\\openmdao.py</td></tr>\n",
       "</tbody>\n",
       "</table>"
      ],
      "text/plain": [
       "<IPython.core.display.HTML object>"
      ]
     },
     "metadata": {},
     "output_type": "display_data"
    }
   ],
   "source": [
    "oad.list_modules(CONFIGURATION_FILE)\n",
    "# api.list_modules(CONFIGURATION_FILE, verbose=True) # Use this line instead of the previous one for detailed information (text format only)"
   ]
  },
  {
   "cell_type": "code",
   "execution_count": 7,
   "id": "f64ac8c7-3110-4b24-b1cf-004ba9c41756",
   "metadata": {},
   "outputs": [
    {
     "name": "stderr",
     "output_type": "stream",
     "text": [
      "INFO    : N2 diagram written in C:\\Users\\PC\\PycharmProjects\\FAST-PEDAGO\\Presentation\\workdir\\n2.html\n"
     ]
    },
    {
     "data": {
      "text/html": [
       "\n",
       "        <iframe\n",
       "            width=\"100%\"\n",
       "            height=\"500px\"\n",
       "            src=\"workdir\\n2.html\"\n",
       "            frameborder=\"0\"\n",
       "            allowfullscreen\n",
       "            \n",
       "        ></iframe>\n",
       "        "
      ],
      "text/plain": [
       "<IPython.lib.display.IFrame at 0x1fa55639520>"
      ]
     },
     "execution_count": 7,
     "metadata": {},
     "output_type": "execute_result"
    }
   ],
   "source": [
    "N2_FILE = pth.join(WORK_FOLDER_PATH, \"n2.html\")\n",
    "oad.write_n2(CONFIGURATION_FILE, N2_FILE, overwrite=True)\n",
    "from IPython.display import IFrame\n",
    "\n",
    "IFrame(src=N2_FILE, width=\"100%\", height=\"500px\")"
   ]
  },
  {
   "cell_type": "code",
   "execution_count": 16,
   "id": "34f5d181-a123-47bf-a0a7-75f5d51a904d",
   "metadata": {},
   "outputs": [
    {
     "name": "stdout",
     "output_type": "stream",
     "text": [
      "Analysis FASTOADModel pushed\u001b[0m\n"
     ]
    },
    {
     "data": {
      "text/html": [
       "\n",
       "        <iframe\n",
       "            width=\"100%\"\n",
       "            height=\"500px\"\n",
       "            src=\"workdir\\xdsm.html\"\n",
       "            frameborder=\"0\"\n",
       "            allowfullscreen\n",
       "            \n",
       "        ></iframe>\n",
       "        "
      ],
      "text/plain": [
       "<IPython.lib.display.IFrame at 0x1fa617dbf40>"
      ]
     },
     "execution_count": 16,
     "metadata": {},
     "output_type": "execute_result"
    }
   ],
   "source": [
    "XDSM_FILE = pth.join(WORK_FOLDER_PATH, 'xdsm.html')\n",
    "oad.write_xdsm(CONFIGURATION_FILE, XDSM_FILE, overwrite=True)\n",
    "from IPython.display import IFrame\n",
    "IFrame(src=XDSM_FILE, width='100%', height='500px')"
   ]
  },
  {
   "cell_type": "code",
   "execution_count": 17,
   "id": "f20e0a5a-5695-41d9-b935-14e613535967",
   "metadata": {},
   "outputs": [
    {
     "name": "stderr",
     "output_type": "stream",
     "text": [
      "INFO    : Mission computation - iteration 0 : Using initializer computation. OTHER ITERATIONS NEEDED.\n",
      "INFO    : Mission computation - iteration 1 : Using mission definition.\n",
      "INFO    : Mission computation - iteration 2 : Using mission definition.\n",
      "INFO    : Mission computation - iteration 3 : Using mission definition.\n",
      "INFO    : Mission computation - iteration 4 : Using mission definition.\n",
      "INFO    : Mission computation - iteration 5 : Using mission definition.\n",
      "INFO    : Mission computation - iteration 6 : Using mission definition.\n",
      "INFO    : Mission computation - iteration 7 : Using mission definition.\n",
      "INFO    : Mission computation - iteration 8 : Using mission definition.\n",
      "INFO    : Mission computation - iteration 9 : Using mission definition.\n",
      "INFO    : Mission computation - iteration 10 : Using mission definition.\n",
      "INFO    : Mission computation - iteration 11 : Using mission definition.\n",
      "INFO    : Mission computation - iteration 12 : Using mission definition.\n",
      "INFO    : Mission computation - iteration 13 : Using mission definition.\n",
      "INFO    : Mission computation - iteration 14 : Using mission definition.\n",
      "INFO    : Mission computation - iteration 15 : Using mission definition.\n",
      "INFO    : Mission computation - iteration 16 : Using mission definition.\n",
      "INFO    : Mission computation - iteration 17 : Using mission definition.\n",
      "INFO    : Mission computation - iteration 18 : Using mission definition.\n",
      "INFO    : Mission computation - iteration 19 : Using mission definition.\n",
      "INFO    : Mission computation - iteration 20 : Using mission definition.\n",
      "INFO    : Mission computation - iteration 21 : Using mission definition.\n",
      "INFO    : Mission computation - iteration 22 : Using mission definition.\n",
      "INFO    : Mission computation - iteration 23 : Using mission definition.\n",
      "INFO    : Mission computation - iteration 24 : Using mission definition.\n",
      "INFO    : Mission computation - iteration 25 : Using mission definition.\n",
      "INFO    : Mission computation - iteration 26 : Using mission definition.\n",
      "INFO    : Mission computation - iteration 27 : Using mission definition.\n",
      "INFO    : Mission computation - iteration 28 : Using mission definition.\n",
      "INFO    : Mission computation - iteration 29 : Using mission definition.\n",
      "INFO    : Mission computation - iteration 30 : Using mission definition.\n",
      "INFO    : Mission computation - iteration 31 : Using mission definition.\n",
      "INFO    : Mission computation - iteration 32 : Using mission definition.\n",
      "INFO    : Mission computation - iteration 33 : Using mission definition.\n",
      "INFO    : Mission computation - iteration 34 : Using mission definition.\n"
     ]
    },
    {
     "name": "stdout",
     "output_type": "stream",
     "text": [
      "NL: NLBGS Converged in 35 iterations\n"
     ]
    },
    {
     "name": "stderr",
     "output_type": "stream",
     "text": [
      "WARNING : Variable \"data:propulsion:rubber_engine:turbine_inlet_temperature\" out of bound: value [1633.] degK is over upper limit ( 1600.0 ) in file C:\\Users\\PC\\anaconda3\\envs\\FAST-PEDAGO\\lib\\site-packages\\fastoad_cs25\\models\\propulsion\\fuel_propulsion\\rubber_engine\\openmdao.py\n",
      "INFO    : Computation finished after 54.11 seconds\n",
      "INFO    : Problem outputs written in C:\\Users\\PC\\PycharmProjects\\FAST-PEDAGO\\Presentation\\workdir\\problem_outputs.xml\n"
     ]
    }
   ],
   "source": [
    "eval_problem = oad.evaluate_problem(CONFIGURATION_FILE, overwrite=True)"
   ]
  },
  {
   "cell_type": "code",
   "execution_count": 18,
   "id": "3f38c83a-74df-46ca-a7f9-e4112d83102a",
   "metadata": {},
   "outputs": [
    {
     "data": {
      "application/vnd.jupyter.widget-view+json": {
       "model_id": "60dac0502b834e7d9b05d0dd430c9166",
       "version_major": 2,
       "version_minor": 0
      },
      "text/plain": [
       "VBox(children=(HBox(children=(Button(description='Load', icon='upload', style=ButtonStyle(), tooltip='Load the…"
      ]
     },
     "metadata": {},
     "output_type": "display_data"
    }
   ],
   "source": [
    "oad.variable_viewer(eval_problem.output_file_path)"
   ]
  },
  {
   "cell_type": "code",
   "execution_count": 19,
   "id": "631cb633-fde6-407c-a90d-dc9d3e2ab3e9",
   "metadata": {},
   "outputs": [
    {
     "data": {
      "application/vnd.plotly.v1+json": {
       "config": {
        "plotlyServerURL": "https://plot.ly"
       },
       "data": [
        {
         "branchvalues": "total",
         "domain": {
          "x": [
           0,
           0.45
          ],
          "y": [
           0,
           1
          ]
         },
         "labels": [
          "MTOW<br>74891 [kg]",
          "payload<br>13608 [kg] (18.2%)",
          "onboard_fuel_at_takeoff<br>19165 [kg] (25.6%)",
          "OWE<br>42118 [kg] (56.2%)"
         ],
         "parents": [
          "",
          "MTOW<br>74891 [kg]",
          "MTOW<br>74891 [kg]",
          "MTOW<br>74891 [kg]"
         ],
         "type": "sunburst",
         "values": [
          74891.86033803232,
          13608,
          19165.398542616225,
          42118.46178067525
         ]
        },
        {
         "branchvalues": "total",
         "domain": {
          "x": [
           0.55,
           1
          ],
          "y": [
           0,
           1
          ]
         },
         "labels": [
          "OWE<br>42118 [kg]",
          "airframe<br>22942 [kg] (54.5%)",
          "crew<br>470 [kg] (1.1%)",
          "furniture<br>3112 [kg] (7.4%)",
          "propulsion<br>7735 [kg] (18.4%)",
          "systems<br>7858 [kg] (18.7%)",
          "flight_controls",
          "fuselage",
          "horizontal_tail",
          "paint",
          "pylon",
          "vertical_tail",
          "wing",
          "landing_gear_front",
          "landing_gear_main",
          "food_water",
          "passenger_seats",
          "security_kit",
          "toilets",
          "engine",
          "fuel_lines",
          "unconsumables",
          "flight_kit",
          "navigation",
          "transmission",
          "life_support_air_conditioning",
          "life_support_cabin_lighting",
          "life_support_de-icing",
          "life_support_insulation",
          "life_support_oxygen",
          "life_support_safety_equipment",
          "life_support_seats_crew_accommodation",
          "operational_cargo_hold",
          "operational_radar",
          "power_auxiliary_power_unit",
          "power_electric_systems",
          "power_hydraulic_systems"
         ],
         "parents": [
          "",
          "OWE<br>42118 [kg]",
          "OWE<br>42118 [kg]",
          "OWE<br>42118 [kg]",
          "OWE<br>42118 [kg]",
          "OWE<br>42118 [kg]",
          "airframe<br>22942 [kg] (54.5%)",
          "airframe<br>22942 [kg] (54.5%)",
          "airframe<br>22942 [kg] (54.5%)",
          "airframe<br>22942 [kg] (54.5%)",
          "airframe<br>22942 [kg] (54.5%)",
          "airframe<br>22942 [kg] (54.5%)",
          "airframe<br>22942 [kg] (54.5%)",
          "airframe<br>22942 [kg] (54.5%)",
          "airframe<br>22942 [kg] (54.5%)",
          "furniture<br>3112 [kg] (7.4%)",
          "furniture<br>3112 [kg] (7.4%)",
          "furniture<br>3112 [kg] (7.4%)",
          "furniture<br>3112 [kg] (7.4%)",
          "propulsion<br>7735 [kg] (18.4%)",
          "propulsion<br>7735 [kg] (18.4%)",
          "propulsion<br>7735 [kg] (18.4%)",
          "systems<br>7858 [kg] (18.7%)",
          "systems<br>7858 [kg] (18.7%)",
          "systems<br>7858 [kg] (18.7%)",
          "systems<br>7858 [kg] (18.7%)",
          "systems<br>7858 [kg] (18.7%)",
          "systems<br>7858 [kg] (18.7%)",
          "systems<br>7858 [kg] (18.7%)",
          "systems<br>7858 [kg] (18.7%)",
          "systems<br>7858 [kg] (18.7%)",
          "systems<br>7858 [kg] (18.7%)",
          "systems<br>7858 [kg] (18.7%)",
          "systems<br>7858 [kg] (18.7%)",
          "systems<br>7858 [kg] (18.7%)",
          "systems<br>7858 [kg] (18.7%)",
          "systems<br>7858 [kg] (18.7%)"
         ],
         "type": "sunburst",
         "values": [
          42118.46178067525,
          22942.058741854533,
          470,
          3112.5,
          7735.27545756292,
          7858.6275812578015,
          748.2826937447466,
          8845.367785417999,
          773.6125013446137,
          143.16413864806515,
          1211.8837953053956,
          579.3559746461351,
          8147.899348763938,
          375.01824435086394,
          2117.4742596327756,
          1312.5,
          1500,
          225,
          75,
          7161.3348000000005,
          455.5949439714516,
          118.34571359146767,
          45,
          496.2563135421818,
          200,
          942.4010810318936,
          169.67684582876902,
          159.84076350192282,
          2254.2780945822174,
          284.1,
          432.713348,
          126,
          279.6188925279303,
          100,
          287.3784652052712,
          1320.8416764906433,
          760.5221005469723
         ]
        }
       ],
       "layout": {
        "autosize": true,
        "template": {
         "data": {
          "bar": [
           {
            "error_x": {
             "color": "#2a3f5f"
            },
            "error_y": {
             "color": "#2a3f5f"
            },
            "marker": {
             "line": {
              "color": "#E5ECF6",
              "width": 0.5
             },
             "pattern": {
              "fillmode": "overlay",
              "size": 10,
              "solidity": 0.2
             }
            },
            "type": "bar"
           }
          ],
          "barpolar": [
           {
            "marker": {
             "line": {
              "color": "#E5ECF6",
              "width": 0.5
             },
             "pattern": {
              "fillmode": "overlay",
              "size": 10,
              "solidity": 0.2
             }
            },
            "type": "barpolar"
           }
          ],
          "carpet": [
           {
            "aaxis": {
             "endlinecolor": "#2a3f5f",
             "gridcolor": "white",
             "linecolor": "white",
             "minorgridcolor": "white",
             "startlinecolor": "#2a3f5f"
            },
            "baxis": {
             "endlinecolor": "#2a3f5f",
             "gridcolor": "white",
             "linecolor": "white",
             "minorgridcolor": "white",
             "startlinecolor": "#2a3f5f"
            },
            "type": "carpet"
           }
          ],
          "choropleth": [
           {
            "colorbar": {
             "outlinewidth": 0,
             "ticks": ""
            },
            "type": "choropleth"
           }
          ],
          "contour": [
           {
            "colorbar": {
             "outlinewidth": 0,
             "ticks": ""
            },
            "colorscale": [
             [
              0,
              "#0d0887"
             ],
             [
              0.1111111111111111,
              "#46039f"
             ],
             [
              0.2222222222222222,
              "#7201a8"
             ],
             [
              0.3333333333333333,
              "#9c179e"
             ],
             [
              0.4444444444444444,
              "#bd3786"
             ],
             [
              0.5555555555555556,
              "#d8576b"
             ],
             [
              0.6666666666666666,
              "#ed7953"
             ],
             [
              0.7777777777777778,
              "#fb9f3a"
             ],
             [
              0.8888888888888888,
              "#fdca26"
             ],
             [
              1,
              "#f0f921"
             ]
            ],
            "type": "contour"
           }
          ],
          "contourcarpet": [
           {
            "colorbar": {
             "outlinewidth": 0,
             "ticks": ""
            },
            "type": "contourcarpet"
           }
          ],
          "heatmap": [
           {
            "colorbar": {
             "outlinewidth": 0,
             "ticks": ""
            },
            "colorscale": [
             [
              0,
              "#0d0887"
             ],
             [
              0.1111111111111111,
              "#46039f"
             ],
             [
              0.2222222222222222,
              "#7201a8"
             ],
             [
              0.3333333333333333,
              "#9c179e"
             ],
             [
              0.4444444444444444,
              "#bd3786"
             ],
             [
              0.5555555555555556,
              "#d8576b"
             ],
             [
              0.6666666666666666,
              "#ed7953"
             ],
             [
              0.7777777777777778,
              "#fb9f3a"
             ],
             [
              0.8888888888888888,
              "#fdca26"
             ],
             [
              1,
              "#f0f921"
             ]
            ],
            "type": "heatmap"
           }
          ],
          "heatmapgl": [
           {
            "colorbar": {
             "outlinewidth": 0,
             "ticks": ""
            },
            "colorscale": [
             [
              0,
              "#0d0887"
             ],
             [
              0.1111111111111111,
              "#46039f"
             ],
             [
              0.2222222222222222,
              "#7201a8"
             ],
             [
              0.3333333333333333,
              "#9c179e"
             ],
             [
              0.4444444444444444,
              "#bd3786"
             ],
             [
              0.5555555555555556,
              "#d8576b"
             ],
             [
              0.6666666666666666,
              "#ed7953"
             ],
             [
              0.7777777777777778,
              "#fb9f3a"
             ],
             [
              0.8888888888888888,
              "#fdca26"
             ],
             [
              1,
              "#f0f921"
             ]
            ],
            "type": "heatmapgl"
           }
          ],
          "histogram": [
           {
            "marker": {
             "pattern": {
              "fillmode": "overlay",
              "size": 10,
              "solidity": 0.2
             }
            },
            "type": "histogram"
           }
          ],
          "histogram2d": [
           {
            "colorbar": {
             "outlinewidth": 0,
             "ticks": ""
            },
            "colorscale": [
             [
              0,
              "#0d0887"
             ],
             [
              0.1111111111111111,
              "#46039f"
             ],
             [
              0.2222222222222222,
              "#7201a8"
             ],
             [
              0.3333333333333333,
              "#9c179e"
             ],
             [
              0.4444444444444444,
              "#bd3786"
             ],
             [
              0.5555555555555556,
              "#d8576b"
             ],
             [
              0.6666666666666666,
              "#ed7953"
             ],
             [
              0.7777777777777778,
              "#fb9f3a"
             ],
             [
              0.8888888888888888,
              "#fdca26"
             ],
             [
              1,
              "#f0f921"
             ]
            ],
            "type": "histogram2d"
           }
          ],
          "histogram2dcontour": [
           {
            "colorbar": {
             "outlinewidth": 0,
             "ticks": ""
            },
            "colorscale": [
             [
              0,
              "#0d0887"
             ],
             [
              0.1111111111111111,
              "#46039f"
             ],
             [
              0.2222222222222222,
              "#7201a8"
             ],
             [
              0.3333333333333333,
              "#9c179e"
             ],
             [
              0.4444444444444444,
              "#bd3786"
             ],
             [
              0.5555555555555556,
              "#d8576b"
             ],
             [
              0.6666666666666666,
              "#ed7953"
             ],
             [
              0.7777777777777778,
              "#fb9f3a"
             ],
             [
              0.8888888888888888,
              "#fdca26"
             ],
             [
              1,
              "#f0f921"
             ]
            ],
            "type": "histogram2dcontour"
           }
          ],
          "mesh3d": [
           {
            "colorbar": {
             "outlinewidth": 0,
             "ticks": ""
            },
            "type": "mesh3d"
           }
          ],
          "parcoords": [
           {
            "line": {
             "colorbar": {
              "outlinewidth": 0,
              "ticks": ""
             }
            },
            "type": "parcoords"
           }
          ],
          "pie": [
           {
            "automargin": true,
            "type": "pie"
           }
          ],
          "scatter": [
           {
            "marker": {
             "colorbar": {
              "outlinewidth": 0,
              "ticks": ""
             }
            },
            "type": "scatter"
           }
          ],
          "scatter3d": [
           {
            "line": {
             "colorbar": {
              "outlinewidth": 0,
              "ticks": ""
             }
            },
            "marker": {
             "colorbar": {
              "outlinewidth": 0,
              "ticks": ""
             }
            },
            "type": "scatter3d"
           }
          ],
          "scattercarpet": [
           {
            "marker": {
             "colorbar": {
              "outlinewidth": 0,
              "ticks": ""
             }
            },
            "type": "scattercarpet"
           }
          ],
          "scattergeo": [
           {
            "marker": {
             "colorbar": {
              "outlinewidth": 0,
              "ticks": ""
             }
            },
            "type": "scattergeo"
           }
          ],
          "scattergl": [
           {
            "marker": {
             "colorbar": {
              "outlinewidth": 0,
              "ticks": ""
             }
            },
            "type": "scattergl"
           }
          ],
          "scattermapbox": [
           {
            "marker": {
             "colorbar": {
              "outlinewidth": 0,
              "ticks": ""
             }
            },
            "type": "scattermapbox"
           }
          ],
          "scatterpolar": [
           {
            "marker": {
             "colorbar": {
              "outlinewidth": 0,
              "ticks": ""
             }
            },
            "type": "scatterpolar"
           }
          ],
          "scatterpolargl": [
           {
            "marker": {
             "colorbar": {
              "outlinewidth": 0,
              "ticks": ""
             }
            },
            "type": "scatterpolargl"
           }
          ],
          "scatterternary": [
           {
            "marker": {
             "colorbar": {
              "outlinewidth": 0,
              "ticks": ""
             }
            },
            "type": "scatterternary"
           }
          ],
          "surface": [
           {
            "colorbar": {
             "outlinewidth": 0,
             "ticks": ""
            },
            "colorscale": [
             [
              0,
              "#0d0887"
             ],
             [
              0.1111111111111111,
              "#46039f"
             ],
             [
              0.2222222222222222,
              "#7201a8"
             ],
             [
              0.3333333333333333,
              "#9c179e"
             ],
             [
              0.4444444444444444,
              "#bd3786"
             ],
             [
              0.5555555555555556,
              "#d8576b"
             ],
             [
              0.6666666666666666,
              "#ed7953"
             ],
             [
              0.7777777777777778,
              "#fb9f3a"
             ],
             [
              0.8888888888888888,
              "#fdca26"
             ],
             [
              1,
              "#f0f921"
             ]
            ],
            "type": "surface"
           }
          ],
          "table": [
           {
            "cells": {
             "fill": {
              "color": "#EBF0F8"
             },
             "line": {
              "color": "white"
             }
            },
            "header": {
             "fill": {
              "color": "#C8D4E3"
             },
             "line": {
              "color": "white"
             }
            },
            "type": "table"
           }
          ]
         },
         "layout": {
          "annotationdefaults": {
           "arrowcolor": "#2a3f5f",
           "arrowhead": 0,
           "arrowwidth": 1
          },
          "autotypenumbers": "strict",
          "coloraxis": {
           "colorbar": {
            "outlinewidth": 0,
            "ticks": ""
           }
          },
          "colorscale": {
           "diverging": [
            [
             0,
             "#8e0152"
            ],
            [
             0.1,
             "#c51b7d"
            ],
            [
             0.2,
             "#de77ae"
            ],
            [
             0.3,
             "#f1b6da"
            ],
            [
             0.4,
             "#fde0ef"
            ],
            [
             0.5,
             "#f7f7f7"
            ],
            [
             0.6,
             "#e6f5d0"
            ],
            [
             0.7,
             "#b8e186"
            ],
            [
             0.8,
             "#7fbc41"
            ],
            [
             0.9,
             "#4d9221"
            ],
            [
             1,
             "#276419"
            ]
           ],
           "sequential": [
            [
             0,
             "#0d0887"
            ],
            [
             0.1111111111111111,
             "#46039f"
            ],
            [
             0.2222222222222222,
             "#7201a8"
            ],
            [
             0.3333333333333333,
             "#9c179e"
            ],
            [
             0.4444444444444444,
             "#bd3786"
            ],
            [
             0.5555555555555556,
             "#d8576b"
            ],
            [
             0.6666666666666666,
             "#ed7953"
            ],
            [
             0.7777777777777778,
             "#fb9f3a"
            ],
            [
             0.8888888888888888,
             "#fdca26"
            ],
            [
             1,
             "#f0f921"
            ]
           ],
           "sequentialminus": [
            [
             0,
             "#0d0887"
            ],
            [
             0.1111111111111111,
             "#46039f"
            ],
            [
             0.2222222222222222,
             "#7201a8"
            ],
            [
             0.3333333333333333,
             "#9c179e"
            ],
            [
             0.4444444444444444,
             "#bd3786"
            ],
            [
             0.5555555555555556,
             "#d8576b"
            ],
            [
             0.6666666666666666,
             "#ed7953"
            ],
            [
             0.7777777777777778,
             "#fb9f3a"
            ],
            [
             0.8888888888888888,
             "#fdca26"
            ],
            [
             1,
             "#f0f921"
            ]
           ]
          },
          "colorway": [
           "#636efa",
           "#EF553B",
           "#00cc96",
           "#ab63fa",
           "#FFA15A",
           "#19d3f3",
           "#FF6692",
           "#B6E880",
           "#FF97FF",
           "#FECB52"
          ],
          "font": {
           "color": "#2a3f5f"
          },
          "geo": {
           "bgcolor": "white",
           "lakecolor": "white",
           "landcolor": "#E5ECF6",
           "showlakes": true,
           "showland": true,
           "subunitcolor": "white"
          },
          "hoverlabel": {
           "align": "left"
          },
          "hovermode": "closest",
          "mapbox": {
           "style": "light"
          },
          "paper_bgcolor": "white",
          "plot_bgcolor": "#E5ECF6",
          "polar": {
           "angularaxis": {
            "gridcolor": "white",
            "linecolor": "white",
            "ticks": ""
           },
           "bgcolor": "#E5ECF6",
           "radialaxis": {
            "gridcolor": "white",
            "linecolor": "white",
            "ticks": ""
           }
          },
          "scene": {
           "xaxis": {
            "backgroundcolor": "#E5ECF6",
            "gridcolor": "white",
            "gridwidth": 2,
            "linecolor": "white",
            "showbackground": true,
            "ticks": "",
            "zerolinecolor": "white"
           },
           "yaxis": {
            "backgroundcolor": "#E5ECF6",
            "gridcolor": "white",
            "gridwidth": 2,
            "linecolor": "white",
            "showbackground": true,
            "ticks": "",
            "zerolinecolor": "white"
           },
           "zaxis": {
            "backgroundcolor": "#E5ECF6",
            "gridcolor": "white",
            "gridwidth": 2,
            "linecolor": "white",
            "showbackground": true,
            "ticks": "",
            "zerolinecolor": "white"
           }
          },
          "shapedefaults": {
           "line": {
            "color": "#2a3f5f"
           }
          },
          "ternary": {
           "aaxis": {
            "gridcolor": "white",
            "linecolor": "white",
            "ticks": ""
           },
           "baxis": {
            "gridcolor": "white",
            "linecolor": "white",
            "ticks": ""
           },
           "bgcolor": "#E5ECF6",
           "caxis": {
            "gridcolor": "white",
            "linecolor": "white",
            "ticks": ""
           }
          },
          "title": {
           "x": 0.05
          },
          "xaxis": {
           "automargin": true,
           "gridcolor": "white",
           "linecolor": "white",
           "ticks": "",
           "title": {
            "standoff": 15
           },
           "zerolinecolor": "white",
           "zerolinewidth": 2
          },
          "yaxis": {
           "automargin": true,
           "gridcolor": "white",
           "linecolor": "white",
           "ticks": "",
           "title": {
            "standoff": 15
           },
           "zerolinecolor": "white",
           "zerolinewidth": 2
          }
         }
        },
        "title": {
         "text": "Mass Breakdown",
         "x": 0.5
        }
       }
      },
      "image/png": "[encoded data removed]",
      "text/html": [
       "<div>                            <div id=\"c353834c-c21c-4866-b51e-ba3316e1fcc1\" class=\"plotly-graph-div\" style=\"height:525px; width:100%;\"></div>            <script type=\"text/javascript\">                require([\"plotly\"], function(Plotly) {                    window.PLOTLYENV=window.PLOTLYENV || {};                                    if (document.getElementById(\"c353834c-c21c-4866-b51e-ba3316e1fcc1\")) {                    Plotly.newPlot(                        \"c353834c-c21c-4866-b51e-ba3316e1fcc1\",                        [{\"branchvalues\":\"total\",\"labels\":[\"MTOW<br>74891 [kg]\",\"payload<br>13608 [kg] (18.2%)\",\"onboard_fuel_at_takeoff<br>19165 [kg] (25.6%)\",\"OWE<br>42118 [kg] (56.2%)\"],\"parents\":[\"\",\"MTOW<br>74891 [kg]\",\"MTOW<br>74891 [kg]\",\"MTOW<br>74891 [kg]\"],\"values\":[74891.86033803232,13608.0,19165.398542616225,42118.46178067525],\"type\":\"sunburst\",\"domain\":{\"x\":[0.0,0.45],\"y\":[0.0,1.0]}},{\"branchvalues\":\"total\",\"labels\":[\"OWE<br>42118 [kg]\",\"airframe<br>22942 [kg] (54.5%)\",\"crew<br>470 [kg] (1.1%)\",\"furniture<br>3112 [kg] (7.4%)\",\"propulsion<br>7735 [kg] (18.4%)\",\"systems<br>7858 [kg] (18.7%)\",\"flight_controls\",\"fuselage\",\"horizontal_tail\",\"paint\",\"pylon\",\"vertical_tail\",\"wing\",\"landing_gear_front\",\"landing_gear_main\",\"food_water\",\"passenger_seats\",\"security_kit\",\"toilets\",\"engine\",\"fuel_lines\",\"unconsumables\",\"flight_kit\",\"navigation\",\"transmission\",\"life_support_air_conditioning\",\"life_support_cabin_lighting\",\"life_support_de-icing\",\"life_support_insulation\",\"life_support_oxygen\",\"life_support_safety_equipment\",\"life_support_seats_crew_accommodation\",\"operational_cargo_hold\",\"operational_radar\",\"power_auxiliary_power_unit\",\"power_electric_systems\",\"power_hydraulic_systems\"],\"parents\":[\"\",\"OWE<br>42118 [kg]\",\"OWE<br>42118 [kg]\",\"OWE<br>42118 [kg]\",\"OWE<br>42118 [kg]\",\"OWE<br>42118 [kg]\",\"airframe<br>22942 [kg] (54.5%)\",\"airframe<br>22942 [kg] (54.5%)\",\"airframe<br>22942 [kg] (54.5%)\",\"airframe<br>22942 [kg] (54.5%)\",\"airframe<br>22942 [kg] (54.5%)\",\"airframe<br>22942 [kg] (54.5%)\",\"airframe<br>22942 [kg] (54.5%)\",\"airframe<br>22942 [kg] (54.5%)\",\"airframe<br>22942 [kg] (54.5%)\",\"furniture<br>3112 [kg] (7.4%)\",\"furniture<br>3112 [kg] (7.4%)\",\"furniture<br>3112 [kg] (7.4%)\",\"furniture<br>3112 [kg] (7.4%)\",\"propulsion<br>7735 [kg] (18.4%)\",\"propulsion<br>7735 [kg] (18.4%)\",\"propulsion<br>7735 [kg] (18.4%)\",\"systems<br>7858 [kg] (18.7%)\",\"systems<br>7858 [kg] (18.7%)\",\"systems<br>7858 [kg] (18.7%)\",\"systems<br>7858 [kg] (18.7%)\",\"systems<br>7858 [kg] (18.7%)\",\"systems<br>7858 [kg] (18.7%)\",\"systems<br>7858 [kg] (18.7%)\",\"systems<br>7858 [kg] (18.7%)\",\"systems<br>7858 [kg] (18.7%)\",\"systems<br>7858 [kg] (18.7%)\",\"systems<br>7858 [kg] (18.7%)\",\"systems<br>7858 [kg] (18.7%)\",\"systems<br>7858 [kg] (18.7%)\",\"systems<br>7858 [kg] (18.7%)\",\"systems<br>7858 [kg] (18.7%)\"],\"values\":[42118.46178067525,22942.058741854533,470.0,3112.5,7735.27545756292,7858.6275812578015,748.2826937447466,8845.367785417999,773.6125013446137,143.16413864806515,1211.8837953053956,579.3559746461351,8147.899348763938,375.01824435086394,2117.4742596327756,1312.5,1500.0,225.0,75.0,7161.3348000000005,455.5949439714516,118.34571359146767,45.0,496.2563135421818,200.0,942.4010810318936,169.67684582876902,159.84076350192282,2254.2780945822174,284.1,432.713348,126.0,279.6188925279303,100.0,287.3784652052712,1320.8416764906433,760.5221005469723],\"type\":\"sunburst\",\"domain\":{\"x\":[0.55,1.0],\"y\":[0.0,1.0]}}],                        {\"template\":{\"data\":{\"bar\":[{\"error_x\":{\"color\":\"#2a3f5f\"},\"error_y\":{\"color\":\"#2a3f5f\"},\"marker\":{\"line\":{\"color\":\"#E5ECF6\",\"width\":0.5},\"pattern\":{\"fillmode\":\"overlay\",\"size\":10,\"solidity\":0.2}},\"type\":\"bar\"}],\"barpolar\":[{\"marker\":{\"line\":{\"color\":\"#E5ECF6\",\"width\":0.5},\"pattern\":{\"fillmode\":\"overlay\",\"size\":10,\"solidity\":0.2}},\"type\":\"barpolar\"}],\"carpet\":[{\"aaxis\":{\"endlinecolor\":\"#2a3f5f\",\"gridcolor\":\"white\",\"linecolor\":\"white\",\"minorgridcolor\":\"white\",\"startlinecolor\":\"#2a3f5f\"},\"baxis\":{\"endlinecolor\":\"#2a3f5f\",\"gridcolor\":\"white\",\"linecolor\":\"white\",\"minorgridcolor\":\"white\",\"startlinecolor\":\"#2a3f5f\"},\"type\":\"carpet\"}],\"choropleth\":[{\"colorbar\":{\"outlinewidth\":0,\"ticks\":\"\"},\"type\":\"choropleth\"}],\"contour\":[{\"colorbar\":{\"outlinewidth\":0,\"ticks\":\"\"},\"colorscale\":[[0.0,\"#0d0887\"],[0.1111111111111111,\"#46039f\"],[0.2222222222222222,\"#7201a8\"],[0.3333333333333333,\"#9c179e\"],[0.4444444444444444,\"#bd3786\"],[0.5555555555555556,\"#d8576b\"],[0.6666666666666666,\"#ed7953\"],[0.7777777777777778,\"#fb9f3a\"],[0.8888888888888888,\"#fdca26\"],[1.0,\"#f0f921\"]],\"type\":\"contour\"}],\"contourcarpet\":[{\"colorbar\":{\"outlinewidth\":0,\"ticks\":\"\"},\"type\":\"contourcarpet\"}],\"heatmap\":[{\"colorbar\":{\"outlinewidth\":0,\"ticks\":\"\"},\"colorscale\":[[0.0,\"#0d0887\"],[0.1111111111111111,\"#46039f\"],[0.2222222222222222,\"#7201a8\"],[0.3333333333333333,\"#9c179e\"],[0.4444444444444444,\"#bd3786\"],[0.5555555555555556,\"#d8576b\"],[0.6666666666666666,\"#ed7953\"],[0.7777777777777778,\"#fb9f3a\"],[0.8888888888888888,\"#fdca26\"],[1.0,\"#f0f921\"]],\"type\":\"heatmap\"}],\"heatmapgl\":[{\"colorbar\":{\"outlinewidth\":0,\"ticks\":\"\"},\"colorscale\":[[0.0,\"#0d0887\"],[0.1111111111111111,\"#46039f\"],[0.2222222222222222,\"#7201a8\"],[0.3333333333333333,\"#9c179e\"],[0.4444444444444444,\"#bd3786\"],[0.5555555555555556,\"#d8576b\"],[0.6666666666666666,\"#ed7953\"],[0.7777777777777778,\"#fb9f3a\"],[0.8888888888888888,\"#fdca26\"],[1.0,\"#f0f921\"]],\"type\":\"heatmapgl\"}],\"histogram\":[{\"marker\":{\"pattern\":{\"fillmode\":\"overlay\",\"size\":10,\"solidity\":0.2}},\"type\":\"histogram\"}],\"histogram2d\":[{\"colorbar\":{\"outlinewidth\":0,\"ticks\":\"\"},\"colorscale\":[[0.0,\"#0d0887\"],[0.1111111111111111,\"#46039f\"],[0.2222222222222222,\"#7201a8\"],[0.3333333333333333,\"#9c179e\"],[0.4444444444444444,\"#bd3786\"],[0.5555555555555556,\"#d8576b\"],[0.6666666666666666,\"#ed7953\"],[0.7777777777777778,\"#fb9f3a\"],[0.8888888888888888,\"#fdca26\"],[1.0,\"#f0f921\"]],\"type\":\"histogram2d\"}],\"histogram2dcontour\":[{\"colorbar\":{\"outlinewidth\":0,\"ticks\":\"\"},\"colorscale\":[[0.0,\"#0d0887\"],[0.1111111111111111,\"#46039f\"],[0.2222222222222222,\"#7201a8\"],[0.3333333333333333,\"#9c179e\"],[0.4444444444444444,\"#bd3786\"],[0.5555555555555556,\"#d8576b\"],[0.6666666666666666,\"#ed7953\"],[0.7777777777777778,\"#fb9f3a\"],[0.8888888888888888,\"#fdca26\"],[1.0,\"#f0f921\"]],\"type\":\"histogram2dcontour\"}],\"mesh3d\":[{\"colorbar\":{\"outlinewidth\":0,\"ticks\":\"\"},\"type\":\"mesh3d\"}],\"parcoords\":[{\"line\":{\"colorbar\":{\"outlinewidth\":0,\"ticks\":\"\"}},\"type\":\"parcoords\"}],\"pie\":[{\"automargin\":true,\"type\":\"pie\"}],\"scatter\":[{\"marker\":{\"colorbar\":{\"outlinewidth\":0,\"ticks\":\"\"}},\"type\":\"scatter\"}],\"scatter3d\":[{\"line\":{\"colorbar\":{\"outlinewidth\":0,\"ticks\":\"\"}},\"marker\":{\"colorbar\":{\"outlinewidth\":0,\"ticks\":\"\"}},\"type\":\"scatter3d\"}],\"scattercarpet\":[{\"marker\":{\"colorbar\":{\"outlinewidth\":0,\"ticks\":\"\"}},\"type\":\"scattercarpet\"}],\"scattergeo\":[{\"marker\":{\"colorbar\":{\"outlinewidth\":0,\"ticks\":\"\"}},\"type\":\"scattergeo\"}],\"scattergl\":[{\"marker\":{\"colorbar\":{\"outlinewidth\":0,\"ticks\":\"\"}},\"type\":\"scattergl\"}],\"scattermapbox\":[{\"marker\":{\"colorbar\":{\"outlinewidth\":0,\"ticks\":\"\"}},\"type\":\"scattermapbox\"}],\"scatterpolar\":[{\"marker\":{\"colorbar\":{\"outlinewidth\":0,\"ticks\":\"\"}},\"type\":\"scatterpolar\"}],\"scatterpolargl\":[{\"marker\":{\"colorbar\":{\"outlinewidth\":0,\"ticks\":\"\"}},\"type\":\"scatterpolargl\"}],\"scatterternary\":[{\"marker\":{\"colorbar\":{\"outlinewidth\":0,\"ticks\":\"\"}},\"type\":\"scatterternary\"}],\"surface\":[{\"colorbar\":{\"outlinewidth\":0,\"ticks\":\"\"},\"colorscale\":[[0.0,\"#0d0887\"],[0.1111111111111111,\"#46039f\"],[0.2222222222222222,\"#7201a8\"],[0.3333333333333333,\"#9c179e\"],[0.4444444444444444,\"#bd3786\"],[0.5555555555555556,\"#d8576b\"],[0.6666666666666666,\"#ed7953\"],[0.7777777777777778,\"#fb9f3a\"],[0.8888888888888888,\"#fdca26\"],[1.0,\"#f0f921\"]],\"type\":\"surface\"}],\"table\":[{\"cells\":{\"fill\":{\"color\":\"#EBF0F8\"},\"line\":{\"color\":\"white\"}},\"header\":{\"fill\":{\"color\":\"#C8D4E3\"},\"line\":{\"color\":\"white\"}},\"type\":\"table\"}]},\"layout\":{\"annotationdefaults\":{\"arrowcolor\":\"#2a3f5f\",\"arrowhead\":0,\"arrowwidth\":1},\"autotypenumbers\":\"strict\",\"coloraxis\":{\"colorbar\":{\"outlinewidth\":0,\"ticks\":\"\"}},\"colorscale\":{\"diverging\":[[0,\"#8e0152\"],[0.1,\"#c51b7d\"],[0.2,\"#de77ae\"],[0.3,\"#f1b6da\"],[0.4,\"#fde0ef\"],[0.5,\"#f7f7f7\"],[0.6,\"#e6f5d0\"],[0.7,\"#b8e186\"],[0.8,\"#7fbc41\"],[0.9,\"#4d9221\"],[1,\"#276419\"]],\"sequential\":[[0.0,\"#0d0887\"],[0.1111111111111111,\"#46039f\"],[0.2222222222222222,\"#7201a8\"],[0.3333333333333333,\"#9c179e\"],[0.4444444444444444,\"#bd3786\"],[0.5555555555555556,\"#d8576b\"],[0.6666666666666666,\"#ed7953\"],[0.7777777777777778,\"#fb9f3a\"],[0.8888888888888888,\"#fdca26\"],[1.0,\"#f0f921\"]],\"sequentialminus\":[[0.0,\"#0d0887\"],[0.1111111111111111,\"#46039f\"],[0.2222222222222222,\"#7201a8\"],[0.3333333333333333,\"#9c179e\"],[0.4444444444444444,\"#bd3786\"],[0.5555555555555556,\"#d8576b\"],[0.6666666666666666,\"#ed7953\"],[0.7777777777777778,\"#fb9f3a\"],[0.8888888888888888,\"#fdca26\"],[1.0,\"#f0f921\"]]},\"colorway\":[\"#636efa\",\"#EF553B\",\"#00cc96\",\"#ab63fa\",\"#FFA15A\",\"#19d3f3\",\"#FF6692\",\"#B6E880\",\"#FF97FF\",\"#FECB52\"],\"font\":{\"color\":\"#2a3f5f\"},\"geo\":{\"bgcolor\":\"white\",\"lakecolor\":\"white\",\"landcolor\":\"#E5ECF6\",\"showlakes\":true,\"showland\":true,\"subunitcolor\":\"white\"},\"hoverlabel\":{\"align\":\"left\"},\"hovermode\":\"closest\",\"mapbox\":{\"style\":\"light\"},\"paper_bgcolor\":\"white\",\"plot_bgcolor\":\"#E5ECF6\",\"polar\":{\"angularaxis\":{\"gridcolor\":\"white\",\"linecolor\":\"white\",\"ticks\":\"\"},\"bgcolor\":\"#E5ECF6\",\"radialaxis\":{\"gridcolor\":\"white\",\"linecolor\":\"white\",\"ticks\":\"\"}},\"scene\":{\"xaxis\":{\"backgroundcolor\":\"#E5ECF6\",\"gridcolor\":\"white\",\"gridwidth\":2,\"linecolor\":\"white\",\"showbackground\":true,\"ticks\":\"\",\"zerolinecolor\":\"white\"},\"yaxis\":{\"backgroundcolor\":\"#E5ECF6\",\"gridcolor\":\"white\",\"gridwidth\":2,\"linecolor\":\"white\",\"showbackground\":true,\"ticks\":\"\",\"zerolinecolor\":\"white\"},\"zaxis\":{\"backgroundcolor\":\"#E5ECF6\",\"gridcolor\":\"white\",\"gridwidth\":2,\"linecolor\":\"white\",\"showbackground\":true,\"ticks\":\"\",\"zerolinecolor\":\"white\"}},\"shapedefaults\":{\"line\":{\"color\":\"#2a3f5f\"}},\"ternary\":{\"aaxis\":{\"gridcolor\":\"white\",\"linecolor\":\"white\",\"ticks\":\"\"},\"baxis\":{\"gridcolor\":\"white\",\"linecolor\":\"white\",\"ticks\":\"\"},\"bgcolor\":\"#E5ECF6\",\"caxis\":{\"gridcolor\":\"white\",\"linecolor\":\"white\",\"ticks\":\"\"}},\"title\":{\"x\":0.05},\"xaxis\":{\"automargin\":true,\"gridcolor\":\"white\",\"linecolor\":\"white\",\"ticks\":\"\",\"title\":{\"standoff\":15},\"zerolinecolor\":\"white\",\"zerolinewidth\":2},\"yaxis\":{\"automargin\":true,\"gridcolor\":\"white\",\"linecolor\":\"white\",\"ticks\":\"\",\"title\":{\"standoff\":15},\"zerolinecolor\":\"white\",\"zerolinewidth\":2}}},\"title\":{\"text\":\"Mass Breakdown\",\"x\":0.5}},                        {\"responsive\": true}                    ).then(function(){\n",
       "                            \n",
       "var gd = document.getElementById('c353834c-c21c-4866-b51e-ba3316e1fcc1');\n",
       "var x = new MutationObserver(function (mutations, observer) {{\n",
       "        var display = window.getComputedStyle(gd).display;\n",
       "        if (!display || display === 'none') {{\n",
       "            console.log([gd, 'removed!']);\n",
       "            Plotly.purge(gd);\n",
       "            observer.disconnect();\n",
       "        }}\n",
       "}});\n",
       "\n",
       "// Listen for the removal of the full notebook cells\n",
       "var notebookContainer = gd.closest('#notebook-container');\n",
       "if (notebookContainer) {{\n",
       "    x.observe(notebookContainer, {childList: true});\n",
       "}}\n",
       "\n",
       "// Listen for the clearing of the current output cell\n",
       "var outputEl = gd.closest('.output');\n",
       "if (outputEl) {{\n",
       "    x.observe(outputEl, {childList: true});\n",
       "}}\n",
       "\n",
       "                        })                };                });            </script>        </div>"
      ]
     },
     "metadata": {},
     "output_type": "display_data"
    }
   ],
   "source": [
    "oad.mass_breakdown_sun_plot(eval_problem.output_file_path)"
   ]
  },
  {
   "cell_type": "code",
   "execution_count": 20,
   "id": "cbeb5c6e-0428-4f28-a841-ff7d587fde4c",
   "metadata": {},
   "outputs": [
    {
     "data": {
      "application/vnd.plotly.v1+json": {
       "config": {
        "plotlyServerURL": "https://plot.ly"
       },
       "data": [
        {
         "marker": {
          "color": "rgb(31, 119, 180)"
         },
         "name": "",
         "showlegend": false,
         "type": "bar",
         "x": [
          "MTOW",
          "OWE",
          "Fuel - Mission",
          "Payload"
         ],
         "xaxis": "x",
         "y": [
          74891.86033803232,
          42118.46178067525,
          19165.398542616225,
          13608
         ],
         "yaxis": "y"
        },
        {
         "marker": {
          "color": "rgb(31, 119, 180)"
         },
         "name": "FAST-OAD",
         "type": "bar",
         "x": [
          "airframe",
          "crew",
          "furniture",
          "propulsion",
          "systems"
         ],
         "xaxis": "x2",
         "y": [
          22942.058741854533,
          470,
          3112.5,
          7735.27545756292,
          7858.6275812578015
         ],
         "yaxis": "y2"
        }
       ],
       "layout": {
        "annotations": [
         {
          "font": {
           "size": 16
          },
          "showarrow": false,
          "text": "Maximum Take-Off Weight Breakdown",
          "x": 0.225,
          "xanchor": "center",
          "xref": "paper",
          "y": 1,
          "yanchor": "bottom",
          "yref": "paper"
         },
         {
          "font": {
           "size": 16
          },
          "showarrow": false,
          "text": "Overall Weight Empty Breakdown",
          "x": 0.775,
          "xanchor": "center",
          "xref": "paper",
          "y": 1,
          "yanchor": "bottom",
          "yref": "paper"
         }
        ],
        "autosize": true,
        "template": {
         "data": {
          "bar": [
           {
            "error_x": {
             "color": "#2a3f5f"
            },
            "error_y": {
             "color": "#2a3f5f"
            },
            "marker": {
             "line": {
              "color": "#E5ECF6",
              "width": 0.5
             },
             "pattern": {
              "fillmode": "overlay",
              "size": 10,
              "solidity": 0.2
             }
            },
            "type": "bar"
           }
          ],
          "barpolar": [
           {
            "marker": {
             "line": {
              "color": "#E5ECF6",
              "width": 0.5
             },
             "pattern": {
              "fillmode": "overlay",
              "size": 10,
              "solidity": 0.2
             }
            },
            "type": "barpolar"
           }
          ],
          "carpet": [
           {
            "aaxis": {
             "endlinecolor": "#2a3f5f",
             "gridcolor": "white",
             "linecolor": "white",
             "minorgridcolor": "white",
             "startlinecolor": "#2a3f5f"
            },
            "baxis": {
             "endlinecolor": "#2a3f5f",
             "gridcolor": "white",
             "linecolor": "white",
             "minorgridcolor": "white",
             "startlinecolor": "#2a3f5f"
            },
            "type": "carpet"
           }
          ],
          "choropleth": [
           {
            "colorbar": {
             "outlinewidth": 0,
             "ticks": ""
            },
            "type": "choropleth"
           }
          ],
          "contour": [
           {
            "colorbar": {
             "outlinewidth": 0,
             "ticks": ""
            },
            "colorscale": [
             [
              0,
              "#0d0887"
             ],
             [
              0.1111111111111111,
              "#46039f"
             ],
             [
              0.2222222222222222,
              "#7201a8"
             ],
             [
              0.3333333333333333,
              "#9c179e"
             ],
             [
              0.4444444444444444,
              "#bd3786"
             ],
             [
              0.5555555555555556,
              "#d8576b"
             ],
             [
              0.6666666666666666,
              "#ed7953"
             ],
             [
              0.7777777777777778,
              "#fb9f3a"
             ],
             [
              0.8888888888888888,
              "#fdca26"
             ],
             [
              1,
              "#f0f921"
             ]
            ],
            "type": "contour"
           }
          ],
          "contourcarpet": [
           {
            "colorbar": {
             "outlinewidth": 0,
             "ticks": ""
            },
            "type": "contourcarpet"
           }
          ],
          "heatmap": [
           {
            "colorbar": {
             "outlinewidth": 0,
             "ticks": ""
            },
            "colorscale": [
             [
              0,
              "#0d0887"
             ],
             [
              0.1111111111111111,
              "#46039f"
             ],
             [
              0.2222222222222222,
              "#7201a8"
             ],
             [
              0.3333333333333333,
              "#9c179e"
             ],
             [
              0.4444444444444444,
              "#bd3786"
             ],
             [
              0.5555555555555556,
              "#d8576b"
             ],
             [
              0.6666666666666666,
              "#ed7953"
             ],
             [
              0.7777777777777778,
              "#fb9f3a"
             ],
             [
              0.8888888888888888,
              "#fdca26"
             ],
             [
              1,
              "#f0f921"
             ]
            ],
            "type": "heatmap"
           }
          ],
          "heatmapgl": [
           {
            "colorbar": {
             "outlinewidth": 0,
             "ticks": ""
            },
            "colorscale": [
             [
              0,
              "#0d0887"
             ],
             [
              0.1111111111111111,
              "#46039f"
             ],
             [
              0.2222222222222222,
              "#7201a8"
             ],
             [
              0.3333333333333333,
              "#9c179e"
             ],
             [
              0.4444444444444444,
              "#bd3786"
             ],
             [
              0.5555555555555556,
              "#d8576b"
             ],
             [
              0.6666666666666666,
              "#ed7953"
             ],
             [
              0.7777777777777778,
              "#fb9f3a"
             ],
             [
              0.8888888888888888,
              "#fdca26"
             ],
             [
              1,
              "#f0f921"
             ]
            ],
            "type": "heatmapgl"
           }
          ],
          "histogram": [
           {
            "marker": {
             "pattern": {
              "fillmode": "overlay",
              "size": 10,
              "solidity": 0.2
             }
            },
            "type": "histogram"
           }
          ],
          "histogram2d": [
           {
            "colorbar": {
             "outlinewidth": 0,
             "ticks": ""
            },
            "colorscale": [
             [
              0,
              "#0d0887"
             ],
             [
              0.1111111111111111,
              "#46039f"
             ],
             [
              0.2222222222222222,
              "#7201a8"
             ],
             [
              0.3333333333333333,
              "#9c179e"
             ],
             [
              0.4444444444444444,
              "#bd3786"
             ],
             [
              0.5555555555555556,
              "#d8576b"
             ],
             [
              0.6666666666666666,
              "#ed7953"
             ],
             [
              0.7777777777777778,
              "#fb9f3a"
             ],
             [
              0.8888888888888888,
              "#fdca26"
             ],
             [
              1,
              "#f0f921"
             ]
            ],
            "type": "histogram2d"
           }
          ],
          "histogram2dcontour": [
           {
            "colorbar": {
             "outlinewidth": 0,
             "ticks": ""
            },
            "colorscale": [
             [
              0,
              "#0d0887"
             ],
             [
              0.1111111111111111,
              "#46039f"
             ],
             [
              0.2222222222222222,
              "#7201a8"
             ],
             [
              0.3333333333333333,
              "#9c179e"
             ],
             [
              0.4444444444444444,
              "#bd3786"
             ],
             [
              0.5555555555555556,
              "#d8576b"
             ],
             [
              0.6666666666666666,
              "#ed7953"
             ],
             [
              0.7777777777777778,
              "#fb9f3a"
             ],
             [
              0.8888888888888888,
              "#fdca26"
             ],
             [
              1,
              "#f0f921"
             ]
            ],
            "type": "histogram2dcontour"
           }
          ],
          "mesh3d": [
           {
            "colorbar": {
             "outlinewidth": 0,
             "ticks": ""
            },
            "type": "mesh3d"
           }
          ],
          "parcoords": [
           {
            "line": {
             "colorbar": {
              "outlinewidth": 0,
              "ticks": ""
             }
            },
            "type": "parcoords"
           }
          ],
          "pie": [
           {
            "automargin": true,
            "type": "pie"
           }
          ],
          "scatter": [
           {
            "marker": {
             "colorbar": {
              "outlinewidth": 0,
              "ticks": ""
             }
            },
            "type": "scatter"
           }
          ],
          "scatter3d": [
           {
            "line": {
             "colorbar": {
              "outlinewidth": 0,
              "ticks": ""
             }
            },
            "marker": {
             "colorbar": {
              "outlinewidth": 0,
              "ticks": ""
             }
            },
            "type": "scatter3d"
           }
          ],
          "scattercarpet": [
           {
            "marker": {
             "colorbar": {
              "outlinewidth": 0,
              "ticks": ""
             }
            },
            "type": "scattercarpet"
           }
          ],
          "scattergeo": [
           {
            "marker": {
             "colorbar": {
              "outlinewidth": 0,
              "ticks": ""
             }
            },
            "type": "scattergeo"
           }
          ],
          "scattergl": [
           {
            "marker": {
             "colorbar": {
              "outlinewidth": 0,
              "ticks": ""
             }
            },
            "type": "scattergl"
           }
          ],
          "scattermapbox": [
           {
            "marker": {
             "colorbar": {
              "outlinewidth": 0,
              "ticks": ""
             }
            },
            "type": "scattermapbox"
           }
          ],
          "scatterpolar": [
           {
            "marker": {
             "colorbar": {
              "outlinewidth": 0,
              "ticks": ""
             }
            },
            "type": "scatterpolar"
           }
          ],
          "scatterpolargl": [
           {
            "marker": {
             "colorbar": {
              "outlinewidth": 0,
              "ticks": ""
             }
            },
            "type": "scatterpolargl"
           }
          ],
          "scatterternary": [
           {
            "marker": {
             "colorbar": {
              "outlinewidth": 0,
              "ticks": ""
             }
            },
            "type": "scatterternary"
           }
          ],
          "surface": [
           {
            "colorbar": {
             "outlinewidth": 0,
             "ticks": ""
            },
            "colorscale": [
             [
              0,
              "#0d0887"
             ],
             [
              0.1111111111111111,
              "#46039f"
             ],
             [
              0.2222222222222222,
              "#7201a8"
             ],
             [
              0.3333333333333333,
              "#9c179e"
             ],
             [
              0.4444444444444444,
              "#bd3786"
             ],
             [
              0.5555555555555556,
              "#d8576b"
             ],
             [
              0.6666666666666666,
              "#ed7953"
             ],
             [
              0.7777777777777778,
              "#fb9f3a"
             ],
             [
              0.8888888888888888,
              "#fdca26"
             ],
             [
              1,
              "#f0f921"
             ]
            ],
            "type": "surface"
           }
          ],
          "table": [
           {
            "cells": {
             "fill": {
              "color": "#EBF0F8"
             },
             "line": {
              "color": "white"
             }
            },
            "header": {
             "fill": {
              "color": "#C8D4E3"
             },
             "line": {
              "color": "white"
             }
            },
            "type": "table"
           }
          ]
         },
         "layout": {
          "annotationdefaults": {
           "arrowcolor": "#2a3f5f",
           "arrowhead": 0,
           "arrowwidth": 1
          },
          "autotypenumbers": "strict",
          "coloraxis": {
           "colorbar": {
            "outlinewidth": 0,
            "ticks": ""
           }
          },
          "colorscale": {
           "diverging": [
            [
             0,
             "#8e0152"
            ],
            [
             0.1,
             "#c51b7d"
            ],
            [
             0.2,
             "#de77ae"
            ],
            [
             0.3,
             "#f1b6da"
            ],
            [
             0.4,
             "#fde0ef"
            ],
            [
             0.5,
             "#f7f7f7"
            ],
            [
             0.6,
             "#e6f5d0"
            ],
            [
             0.7,
             "#b8e186"
            ],
            [
             0.8,
             "#7fbc41"
            ],
            [
             0.9,
             "#4d9221"
            ],
            [
             1,
             "#276419"
            ]
           ],
           "sequential": [
            [
             0,
             "#0d0887"
            ],
            [
             0.1111111111111111,
             "#46039f"
            ],
            [
             0.2222222222222222,
             "#7201a8"
            ],
            [
             0.3333333333333333,
             "#9c179e"
            ],
            [
             0.4444444444444444,
             "#bd3786"
            ],
            [
             0.5555555555555556,
             "#d8576b"
            ],
            [
             0.6666666666666666,
             "#ed7953"
            ],
            [
             0.7777777777777778,
             "#fb9f3a"
            ],
            [
             0.8888888888888888,
             "#fdca26"
            ],
            [
             1,
             "#f0f921"
            ]
           ],
           "sequentialminus": [
            [
             0,
             "#0d0887"
            ],
            [
             0.1111111111111111,
             "#46039f"
            ],
            [
             0.2222222222222222,
             "#7201a8"
            ],
            [
             0.3333333333333333,
             "#9c179e"
            ],
            [
             0.4444444444444444,
             "#bd3786"
            ],
            [
             0.5555555555555556,
             "#d8576b"
            ],
            [
             0.6666666666666666,
             "#ed7953"
            ],
            [
             0.7777777777777778,
             "#fb9f3a"
            ],
            [
             0.8888888888888888,
             "#fdca26"
            ],
            [
             1,
             "#f0f921"
            ]
           ]
          },
          "colorway": [
           "#636efa",
           "#EF553B",
           "#00cc96",
           "#ab63fa",
           "#FFA15A",
           "#19d3f3",
           "#FF6692",
           "#B6E880",
           "#FF97FF",
           "#FECB52"
          ],
          "font": {
           "color": "#2a3f5f"
          },
          "geo": {
           "bgcolor": "white",
           "lakecolor": "white",
           "landcolor": "#E5ECF6",
           "showlakes": true,
           "showland": true,
           "subunitcolor": "white"
          },
          "hoverlabel": {
           "align": "left"
          },
          "hovermode": "closest",
          "mapbox": {
           "style": "light"
          },
          "paper_bgcolor": "white",
          "plot_bgcolor": "#E5ECF6",
          "polar": {
           "angularaxis": {
            "gridcolor": "white",
            "linecolor": "white",
            "ticks": ""
           },
           "bgcolor": "#E5ECF6",
           "radialaxis": {
            "gridcolor": "white",
            "linecolor": "white",
            "ticks": ""
           }
          },
          "scene": {
           "xaxis": {
            "backgroundcolor": "#E5ECF6",
            "gridcolor": "white",
            "gridwidth": 2,
            "linecolor": "white",
            "showbackground": true,
            "ticks": "",
            "zerolinecolor": "white"
           },
           "yaxis": {
            "backgroundcolor": "#E5ECF6",
            "gridcolor": "white",
            "gridwidth": 2,
            "linecolor": "white",
            "showbackground": true,
            "ticks": "",
            "zerolinecolor": "white"
           },
           "zaxis": {
            "backgroundcolor": "#E5ECF6",
            "gridcolor": "white",
            "gridwidth": 2,
            "linecolor": "white",
            "showbackground": true,
            "ticks": "",
            "zerolinecolor": "white"
           }
          },
          "shapedefaults": {
           "line": {
            "color": "#2a3f5f"
           }
          },
          "ternary": {
           "aaxis": {
            "gridcolor": "white",
            "linecolor": "white",
            "ticks": ""
           },
           "baxis": {
            "gridcolor": "white",
            "linecolor": "white",
            "ticks": ""
           },
           "bgcolor": "#E5ECF6",
           "caxis": {
            "gridcolor": "white",
            "linecolor": "white",
            "ticks": ""
           }
          },
          "title": {
           "x": 0.05
          },
          "xaxis": {
           "automargin": true,
           "gridcolor": "white",
           "linecolor": "white",
           "ticks": "",
           "title": {
            "standoff": 15
           },
           "zerolinecolor": "white",
           "zerolinewidth": 2
          },
          "yaxis": {
           "automargin": true,
           "gridcolor": "white",
           "linecolor": "white",
           "ticks": "",
           "title": {
            "standoff": 15
           },
           "zerolinecolor": "white",
           "zerolinewidth": 2
          }
         }
        },
        "xaxis": {
         "anchor": "y",
         "autorange": true,
         "domain": [
          0,
          0.45
         ],
         "range": [
          -0.5,
          3.5
         ],
         "type": "category"
        },
        "xaxis2": {
         "anchor": "y2",
         "autorange": true,
         "domain": [
          0.55,
          1
         ],
         "range": [
          -0.5,
          4.5
         ],
         "type": "category"
        },
        "yaxis": {
         "anchor": "x",
         "autorange": true,
         "domain": [
          0,
          1
         ],
         "range": [
          0,
          78833.53719792876
         ],
         "title": {
          "text": "[kg]"
         },
         "type": "linear"
        },
        "yaxis2": {
         "anchor": "x2",
         "autorange": true,
         "domain": [
          0,
          1
         ],
         "range": [
          0,
          24149.535517741613
         ],
         "type": "linear"
        }
       }
      },
      "image/png": "[encoded data removed]",
      "text/html": [
       "<div>                            <div id=\"4ac24531-d8f7-48f7-bb3c-594b30b53076\" class=\"plotly-graph-div\" style=\"height:525px; width:100%;\"></div>            <script type=\"text/javascript\">                require([\"plotly\"], function(Plotly) {                    window.PLOTLYENV=window.PLOTLYENV || {};                                    if (document.getElementById(\"4ac24531-d8f7-48f7-bb3c-594b30b53076\")) {                    Plotly.newPlot(                        \"4ac24531-d8f7-48f7-bb3c-594b30b53076\",                        [{\"marker\":{\"color\":\"rgb(31, 119, 180)\"},\"name\":\"\",\"showlegend\":false,\"x\":[\"MTOW\",\"OWE\",\"Fuel - Mission\",\"Payload\"],\"y\":[74891.86033803232,42118.46178067525,19165.398542616225,13608.0],\"type\":\"bar\",\"xaxis\":\"x\",\"yaxis\":\"y\"},{\"marker\":{\"color\":\"rgb(31, 119, 180)\"},\"name\":\"FAST-OAD\",\"x\":[\"airframe\",\"crew\",\"furniture\",\"propulsion\",\"systems\"],\"y\":[22942.058741854533,470.0,3112.5,7735.27545756292,7858.6275812578015],\"type\":\"bar\",\"xaxis\":\"x2\",\"yaxis\":\"y2\"}],                        {\"template\":{\"data\":{\"bar\":[{\"error_x\":{\"color\":\"#2a3f5f\"},\"error_y\":{\"color\":\"#2a3f5f\"},\"marker\":{\"line\":{\"color\":\"#E5ECF6\",\"width\":0.5},\"pattern\":{\"fillmode\":\"overlay\",\"size\":10,\"solidity\":0.2}},\"type\":\"bar\"}],\"barpolar\":[{\"marker\":{\"line\":{\"color\":\"#E5ECF6\",\"width\":0.5},\"pattern\":{\"fillmode\":\"overlay\",\"size\":10,\"solidity\":0.2}},\"type\":\"barpolar\"}],\"carpet\":[{\"aaxis\":{\"endlinecolor\":\"#2a3f5f\",\"gridcolor\":\"white\",\"linecolor\":\"white\",\"minorgridcolor\":\"white\",\"startlinecolor\":\"#2a3f5f\"},\"baxis\":{\"endlinecolor\":\"#2a3f5f\",\"gridcolor\":\"white\",\"linecolor\":\"white\",\"minorgridcolor\":\"white\",\"startlinecolor\":\"#2a3f5f\"},\"type\":\"carpet\"}],\"choropleth\":[{\"colorbar\":{\"outlinewidth\":0,\"ticks\":\"\"},\"type\":\"choropleth\"}],\"contour\":[{\"colorbar\":{\"outlinewidth\":0,\"ticks\":\"\"},\"colorscale\":[[0.0,\"#0d0887\"],[0.1111111111111111,\"#46039f\"],[0.2222222222222222,\"#7201a8\"],[0.3333333333333333,\"#9c179e\"],[0.4444444444444444,\"#bd3786\"],[0.5555555555555556,\"#d8576b\"],[0.6666666666666666,\"#ed7953\"],[0.7777777777777778,\"#fb9f3a\"],[0.8888888888888888,\"#fdca26\"],[1.0,\"#f0f921\"]],\"type\":\"contour\"}],\"contourcarpet\":[{\"colorbar\":{\"outlinewidth\":0,\"ticks\":\"\"},\"type\":\"contourcarpet\"}],\"heatmap\":[{\"colorbar\":{\"outlinewidth\":0,\"ticks\":\"\"},\"colorscale\":[[0.0,\"#0d0887\"],[0.1111111111111111,\"#46039f\"],[0.2222222222222222,\"#7201a8\"],[0.3333333333333333,\"#9c179e\"],[0.4444444444444444,\"#bd3786\"],[0.5555555555555556,\"#d8576b\"],[0.6666666666666666,\"#ed7953\"],[0.7777777777777778,\"#fb9f3a\"],[0.8888888888888888,\"#fdca26\"],[1.0,\"#f0f921\"]],\"type\":\"heatmap\"}],\"heatmapgl\":[{\"colorbar\":{\"outlinewidth\":0,\"ticks\":\"\"},\"colorscale\":[[0.0,\"#0d0887\"],[0.1111111111111111,\"#46039f\"],[0.2222222222222222,\"#7201a8\"],[0.3333333333333333,\"#9c179e\"],[0.4444444444444444,\"#bd3786\"],[0.5555555555555556,\"#d8576b\"],[0.6666666666666666,\"#ed7953\"],[0.7777777777777778,\"#fb9f3a\"],[0.8888888888888888,\"#fdca26\"],[1.0,\"#f0f921\"]],\"type\":\"heatmapgl\"}],\"histogram\":[{\"marker\":{\"pattern\":{\"fillmode\":\"overlay\",\"size\":10,\"solidity\":0.2}},\"type\":\"histogram\"}],\"histogram2d\":[{\"colorbar\":{\"outlinewidth\":0,\"ticks\":\"\"},\"colorscale\":[[0.0,\"#0d0887\"],[0.1111111111111111,\"#46039f\"],[0.2222222222222222,\"#7201a8\"],[0.3333333333333333,\"#9c179e\"],[0.4444444444444444,\"#bd3786\"],[0.5555555555555556,\"#d8576b\"],[0.6666666666666666,\"#ed7953\"],[0.7777777777777778,\"#fb9f3a\"],[0.8888888888888888,\"#fdca26\"],[1.0,\"#f0f921\"]],\"type\":\"histogram2d\"}],\"histogram2dcontour\":[{\"colorbar\":{\"outlinewidth\":0,\"ticks\":\"\"},\"colorscale\":[[0.0,\"#0d0887\"],[0.1111111111111111,\"#46039f\"],[0.2222222222222222,\"#7201a8\"],[0.3333333333333333,\"#9c179e\"],[0.4444444444444444,\"#bd3786\"],[0.5555555555555556,\"#d8576b\"],[0.6666666666666666,\"#ed7953\"],[0.7777777777777778,\"#fb9f3a\"],[0.8888888888888888,\"#fdca26\"],[1.0,\"#f0f921\"]],\"type\":\"histogram2dcontour\"}],\"mesh3d\":[{\"colorbar\":{\"outlinewidth\":0,\"ticks\":\"\"},\"type\":\"mesh3d\"}],\"parcoords\":[{\"line\":{\"colorbar\":{\"outlinewidth\":0,\"ticks\":\"\"}},\"type\":\"parcoords\"}],\"pie\":[{\"automargin\":true,\"type\":\"pie\"}],\"scatter\":[{\"marker\":{\"colorbar\":{\"outlinewidth\":0,\"ticks\":\"\"}},\"type\":\"scatter\"}],\"scatter3d\":[{\"line\":{\"colorbar\":{\"outlinewidth\":0,\"ticks\":\"\"}},\"marker\":{\"colorbar\":{\"outlinewidth\":0,\"ticks\":\"\"}},\"type\":\"scatter3d\"}],\"scattercarpet\":[{\"marker\":{\"colorbar\":{\"outlinewidth\":0,\"ticks\":\"\"}},\"type\":\"scattercarpet\"}],\"scattergeo\":[{\"marker\":{\"colorbar\":{\"outlinewidth\":0,\"ticks\":\"\"}},\"type\":\"scattergeo\"}],\"scattergl\":[{\"marker\":{\"colorbar\":{\"outlinewidth\":0,\"ticks\":\"\"}},\"type\":\"scattergl\"}],\"scattermapbox\":[{\"marker\":{\"colorbar\":{\"outlinewidth\":0,\"ticks\":\"\"}},\"type\":\"scattermapbox\"}],\"scatterpolar\":[{\"marker\":{\"colorbar\":{\"outlinewidth\":0,\"ticks\":\"\"}},\"type\":\"scatterpolar\"}],\"scatterpolargl\":[{\"marker\":{\"colorbar\":{\"outlinewidth\":0,\"ticks\":\"\"}},\"type\":\"scatterpolargl\"}],\"scatterternary\":[{\"marker\":{\"colorbar\":{\"outlinewidth\":0,\"ticks\":\"\"}},\"type\":\"scatterternary\"}],\"surface\":[{\"colorbar\":{\"outlinewidth\":0,\"ticks\":\"\"},\"colorscale\":[[0.0,\"#0d0887\"],[0.1111111111111111,\"#46039f\"],[0.2222222222222222,\"#7201a8\"],[0.3333333333333333,\"#9c179e\"],[0.4444444444444444,\"#bd3786\"],[0.5555555555555556,\"#d8576b\"],[0.6666666666666666,\"#ed7953\"],[0.7777777777777778,\"#fb9f3a\"],[0.8888888888888888,\"#fdca26\"],[1.0,\"#f0f921\"]],\"type\":\"surface\"}],\"table\":[{\"cells\":{\"fill\":{\"color\":\"#EBF0F8\"},\"line\":{\"color\":\"white\"}},\"header\":{\"fill\":{\"color\":\"#C8D4E3\"},\"line\":{\"color\":\"white\"}},\"type\":\"table\"}]},\"layout\":{\"annotationdefaults\":{\"arrowcolor\":\"#2a3f5f\",\"arrowhead\":0,\"arrowwidth\":1},\"autotypenumbers\":\"strict\",\"coloraxis\":{\"colorbar\":{\"outlinewidth\":0,\"ticks\":\"\"}},\"colorscale\":{\"diverging\":[[0,\"#8e0152\"],[0.1,\"#c51b7d\"],[0.2,\"#de77ae\"],[0.3,\"#f1b6da\"],[0.4,\"#fde0ef\"],[0.5,\"#f7f7f7\"],[0.6,\"#e6f5d0\"],[0.7,\"#b8e186\"],[0.8,\"#7fbc41\"],[0.9,\"#4d9221\"],[1,\"#276419\"]],\"sequential\":[[0.0,\"#0d0887\"],[0.1111111111111111,\"#46039f\"],[0.2222222222222222,\"#7201a8\"],[0.3333333333333333,\"#9c179e\"],[0.4444444444444444,\"#bd3786\"],[0.5555555555555556,\"#d8576b\"],[0.6666666666666666,\"#ed7953\"],[0.7777777777777778,\"#fb9f3a\"],[0.8888888888888888,\"#fdca26\"],[1.0,\"#f0f921\"]],\"sequentialminus\":[[0.0,\"#0d0887\"],[0.1111111111111111,\"#46039f\"],[0.2222222222222222,\"#7201a8\"],[0.3333333333333333,\"#9c179e\"],[0.4444444444444444,\"#bd3786\"],[0.5555555555555556,\"#d8576b\"],[0.6666666666666666,\"#ed7953\"],[0.7777777777777778,\"#fb9f3a\"],[0.8888888888888888,\"#fdca26\"],[1.0,\"#f0f921\"]]},\"colorway\":[\"#636efa\",\"#EF553B\",\"#00cc96\",\"#ab63fa\",\"#FFA15A\",\"#19d3f3\",\"#FF6692\",\"#B6E880\",\"#FF97FF\",\"#FECB52\"],\"font\":{\"color\":\"#2a3f5f\"},\"geo\":{\"bgcolor\":\"white\",\"lakecolor\":\"white\",\"landcolor\":\"#E5ECF6\",\"showlakes\":true,\"showland\":true,\"subunitcolor\":\"white\"},\"hoverlabel\":{\"align\":\"left\"},\"hovermode\":\"closest\",\"mapbox\":{\"style\":\"light\"},\"paper_bgcolor\":\"white\",\"plot_bgcolor\":\"#E5ECF6\",\"polar\":{\"angularaxis\":{\"gridcolor\":\"white\",\"linecolor\":\"white\",\"ticks\":\"\"},\"bgcolor\":\"#E5ECF6\",\"radialaxis\":{\"gridcolor\":\"white\",\"linecolor\":\"white\",\"ticks\":\"\"}},\"scene\":{\"xaxis\":{\"backgroundcolor\":\"#E5ECF6\",\"gridcolor\":\"white\",\"gridwidth\":2,\"linecolor\":\"white\",\"showbackground\":true,\"ticks\":\"\",\"zerolinecolor\":\"white\"},\"yaxis\":{\"backgroundcolor\":\"#E5ECF6\",\"gridcolor\":\"white\",\"gridwidth\":2,\"linecolor\":\"white\",\"showbackground\":true,\"ticks\":\"\",\"zerolinecolor\":\"white\"},\"zaxis\":{\"backgroundcolor\":\"#E5ECF6\",\"gridcolor\":\"white\",\"gridwidth\":2,\"linecolor\":\"white\",\"showbackground\":true,\"ticks\":\"\",\"zerolinecolor\":\"white\"}},\"shapedefaults\":{\"line\":{\"color\":\"#2a3f5f\"}},\"ternary\":{\"aaxis\":{\"gridcolor\":\"white\",\"linecolor\":\"white\",\"ticks\":\"\"},\"baxis\":{\"gridcolor\":\"white\",\"linecolor\":\"white\",\"ticks\":\"\"},\"bgcolor\":\"#E5ECF6\",\"caxis\":{\"gridcolor\":\"white\",\"linecolor\":\"white\",\"ticks\":\"\"}},\"title\":{\"x\":0.05},\"xaxis\":{\"automargin\":true,\"gridcolor\":\"white\",\"linecolor\":\"white\",\"ticks\":\"\",\"title\":{\"standoff\":15},\"zerolinecolor\":\"white\",\"zerolinewidth\":2},\"yaxis\":{\"automargin\":true,\"gridcolor\":\"white\",\"linecolor\":\"white\",\"ticks\":\"\",\"title\":{\"standoff\":15},\"zerolinecolor\":\"white\",\"zerolinewidth\":2}}},\"xaxis\":{\"anchor\":\"y\",\"domain\":[0.0,0.45]},\"yaxis\":{\"anchor\":\"x\",\"domain\":[0.0,1.0],\"title\":{\"text\":\"[kg]\"}},\"xaxis2\":{\"anchor\":\"y2\",\"domain\":[0.55,1.0]},\"yaxis2\":{\"anchor\":\"x2\",\"domain\":[0.0,1.0]},\"annotations\":[{\"font\":{\"size\":16},\"showarrow\":false,\"text\":\"Maximum Take-Off Weight Breakdown\",\"x\":0.225,\"xanchor\":\"center\",\"xref\":\"paper\",\"y\":1.0,\"yanchor\":\"bottom\",\"yref\":\"paper\"},{\"font\":{\"size\":16},\"showarrow\":false,\"text\":\"Overall Weight Empty Breakdown\",\"x\":0.775,\"xanchor\":\"center\",\"xref\":\"paper\",\"y\":1.0,\"yanchor\":\"bottom\",\"yref\":\"paper\"}]},                        {\"responsive\": true}                    ).then(function(){\n",
       "                            \n",
       "var gd = document.getElementById('4ac24531-d8f7-48f7-bb3c-594b30b53076');\n",
       "var x = new MutationObserver(function (mutations, observer) {{\n",
       "        var display = window.getComputedStyle(gd).display;\n",
       "        if (!display || display === 'none') {{\n",
       "            console.log([gd, 'removed!']);\n",
       "            Plotly.purge(gd);\n",
       "            observer.disconnect();\n",
       "        }}\n",
       "}});\n",
       "\n",
       "// Listen for the removal of the full notebook cells\n",
       "var notebookContainer = gd.closest('#notebook-container');\n",
       "if (notebookContainer) {{\n",
       "    x.observe(notebookContainer, {childList: true});\n",
       "}}\n",
       "\n",
       "// Listen for the clearing of the current output cell\n",
       "var outputEl = gd.closest('.output');\n",
       "if (outputEl) {{\n",
       "    x.observe(outputEl, {childList: true});\n",
       "}}\n",
       "\n",
       "                        })                };                });            </script>        </div>"
      ]
     },
     "metadata": {},
     "output_type": "display_data"
    }
   ],
   "source": [
    "fig = oad.mass_breakdown_bar_plot(eval_problem.output_file_path, name=\"FAST-OAD\")\n",
    "fig.show()"
   ]
  },
  {
   "cell_type": "code",
   "execution_count": 21,
   "id": "069453b6-beba-482c-a686-3884ebd40ea9",
   "metadata": {},
   "outputs": [
    {
     "data": {
      "application/vnd.plotly.v1+json": {
       "config": {
        "plotlyServerURL": "https://plot.ly"
       },
       "data": [
        {
         "mode": "lines+markers",
         "name": "FAST-OAD",
         "type": "scatter",
         "uid": "0d51334a-a242-4696-9054-8b169b008ca7",
         "x": [
          0,
          -1.95994,
          -6.499040699237742,
          -17.330775197967313,
          -17.330775197967313,
          -6.499040699237742,
          -1.95994,
          0,
          0,
          0,
          1.95994,
          6.499040699237742,
          17.330775197967313,
          17.330775197967313,
          6.499040699237742,
          1.95994,
          0,
          0
         ],
         "y": [
          13.58309178605019,
          13.58309178605019,
          15.898271481012593,
          21.42302482629391,
          22.92118993492368,
          19.713685133917167,
          19.713685133917167,
          19.713685133917167,
          13.58309178605019,
          13.58309178605019,
          13.58309178605019,
          15.898271481012593,
          21.42302482629391,
          22.92118993492368,
          19.713685133917167,
          19.713685133917167,
          19.713685133917167,
          13.58309178605019
         ]
        }
       ],
       "layout": {
        "autosize": true,
        "template": {
         "data": {
          "bar": [
           {
            "error_x": {
             "color": "#2a3f5f"
            },
            "error_y": {
             "color": "#2a3f5f"
            },
            "marker": {
             "line": {
              "color": "#E5ECF6",
              "width": 0.5
             },
             "pattern": {
              "fillmode": "overlay",
              "size": 10,
              "solidity": 0.2
             }
            },
            "type": "bar"
           }
          ],
          "barpolar": [
           {
            "marker": {
             "line": {
              "color": "#E5ECF6",
              "width": 0.5
             },
             "pattern": {
              "fillmode": "overlay",
              "size": 10,
              "solidity": 0.2
             }
            },
            "type": "barpolar"
           }
          ],
          "carpet": [
           {
            "aaxis": {
             "endlinecolor": "#2a3f5f",
             "gridcolor": "white",
             "linecolor": "white",
             "minorgridcolor": "white",
             "startlinecolor": "#2a3f5f"
            },
            "baxis": {
             "endlinecolor": "#2a3f5f",
             "gridcolor": "white",
             "linecolor": "white",
             "minorgridcolor": "white",
             "startlinecolor": "#2a3f5f"
            },
            "type": "carpet"
           }
          ],
          "choropleth": [
           {
            "colorbar": {
             "outlinewidth": 0,
             "ticks": ""
            },
            "type": "choropleth"
           }
          ],
          "contour": [
           {
            "colorbar": {
             "outlinewidth": 0,
             "ticks": ""
            },
            "colorscale": [
             [
              0,
              "#0d0887"
             ],
             [
              0.1111111111111111,
              "#46039f"
             ],
             [
              0.2222222222222222,
              "#7201a8"
             ],
             [
              0.3333333333333333,
              "#9c179e"
             ],
             [
              0.4444444444444444,
              "#bd3786"
             ],
             [
              0.5555555555555556,
              "#d8576b"
             ],
             [
              0.6666666666666666,
              "#ed7953"
             ],
             [
              0.7777777777777778,
              "#fb9f3a"
             ],
             [
              0.8888888888888888,
              "#fdca26"
             ],
             [
              1,
              "#f0f921"
             ]
            ],
            "type": "contour"
           }
          ],
          "contourcarpet": [
           {
            "colorbar": {
             "outlinewidth": 0,
             "ticks": ""
            },
            "type": "contourcarpet"
           }
          ],
          "heatmap": [
           {
            "colorbar": {
             "outlinewidth": 0,
             "ticks": ""
            },
            "colorscale": [
             [
              0,
              "#0d0887"
             ],
             [
              0.1111111111111111,
              "#46039f"
             ],
             [
              0.2222222222222222,
              "#7201a8"
             ],
             [
              0.3333333333333333,
              "#9c179e"
             ],
             [
              0.4444444444444444,
              "#bd3786"
             ],
             [
              0.5555555555555556,
              "#d8576b"
             ],
             [
              0.6666666666666666,
              "#ed7953"
             ],
             [
              0.7777777777777778,
              "#fb9f3a"
             ],
             [
              0.8888888888888888,
              "#fdca26"
             ],
             [
              1,
              "#f0f921"
             ]
            ],
            "type": "heatmap"
           }
          ],
          "heatmapgl": [
           {
            "colorbar": {
             "outlinewidth": 0,
             "ticks": ""
            },
            "colorscale": [
             [
              0,
              "#0d0887"
             ],
             [
              0.1111111111111111,
              "#46039f"
             ],
             [
              0.2222222222222222,
              "#7201a8"
             ],
             [
              0.3333333333333333,
              "#9c179e"
             ],
             [
              0.4444444444444444,
              "#bd3786"
             ],
             [
              0.5555555555555556,
              "#d8576b"
             ],
             [
              0.6666666666666666,
              "#ed7953"
             ],
             [
              0.7777777777777778,
              "#fb9f3a"
             ],
             [
              0.8888888888888888,
              "#fdca26"
             ],
             [
              1,
              "#f0f921"
             ]
            ],
            "type": "heatmapgl"
           }
          ],
          "histogram": [
           {
            "marker": {
             "pattern": {
              "fillmode": "overlay",
              "size": 10,
              "solidity": 0.2
             }
            },
            "type": "histogram"
           }
          ],
          "histogram2d": [
           {
            "colorbar": {
             "outlinewidth": 0,
             "ticks": ""
            },
            "colorscale": [
             [
              0,
              "#0d0887"
             ],
             [
              0.1111111111111111,
              "#46039f"
             ],
             [
              0.2222222222222222,
              "#7201a8"
             ],
             [
              0.3333333333333333,
              "#9c179e"
             ],
             [
              0.4444444444444444,
              "#bd3786"
             ],
             [
              0.5555555555555556,
              "#d8576b"
             ],
             [
              0.6666666666666666,
              "#ed7953"
             ],
             [
              0.7777777777777778,
              "#fb9f3a"
             ],
             [
              0.8888888888888888,
              "#fdca26"
             ],
             [
              1,
              "#f0f921"
             ]
            ],
            "type": "histogram2d"
           }
          ],
          "histogram2dcontour": [
           {
            "colorbar": {
             "outlinewidth": 0,
             "ticks": ""
            },
            "colorscale": [
             [
              0,
              "#0d0887"
             ],
             [
              0.1111111111111111,
              "#46039f"
             ],
             [
              0.2222222222222222,
              "#7201a8"
             ],
             [
              0.3333333333333333,
              "#9c179e"
             ],
             [
              0.4444444444444444,
              "#bd3786"
             ],
             [
              0.5555555555555556,
              "#d8576b"
             ],
             [
              0.6666666666666666,
              "#ed7953"
             ],
             [
              0.7777777777777778,
              "#fb9f3a"
             ],
             [
              0.8888888888888888,
              "#fdca26"
             ],
             [
              1,
              "#f0f921"
             ]
            ],
            "type": "histogram2dcontour"
           }
          ],
          "mesh3d": [
           {
            "colorbar": {
             "outlinewidth": 0,
             "ticks": ""
            },
            "type": "mesh3d"
           }
          ],
          "parcoords": [
           {
            "line": {
             "colorbar": {
              "outlinewidth": 0,
              "ticks": ""
             }
            },
            "type": "parcoords"
           }
          ],
          "pie": [
           {
            "automargin": true,
            "type": "pie"
           }
          ],
          "scatter": [
           {
            "marker": {
             "colorbar": {
              "outlinewidth": 0,
              "ticks": ""
             }
            },
            "type": "scatter"
           }
          ],
          "scatter3d": [
           {
            "line": {
             "colorbar": {
              "outlinewidth": 0,
              "ticks": ""
             }
            },
            "marker": {
             "colorbar": {
              "outlinewidth": 0,
              "ticks": ""
             }
            },
            "type": "scatter3d"
           }
          ],
          "scattercarpet": [
           {
            "marker": {
             "colorbar": {
              "outlinewidth": 0,
              "ticks": ""
             }
            },
            "type": "scattercarpet"
           }
          ],
          "scattergeo": [
           {
            "marker": {
             "colorbar": {
              "outlinewidth": 0,
              "ticks": ""
             }
            },
            "type": "scattergeo"
           }
          ],
          "scattergl": [
           {
            "marker": {
             "colorbar": {
              "outlinewidth": 0,
              "ticks": ""
             }
            },
            "type": "scattergl"
           }
          ],
          "scattermapbox": [
           {
            "marker": {
             "colorbar": {
              "outlinewidth": 0,
              "ticks": ""
             }
            },
            "type": "scattermapbox"
           }
          ],
          "scatterpolar": [
           {
            "marker": {
             "colorbar": {
              "outlinewidth": 0,
              "ticks": ""
             }
            },
            "type": "scatterpolar"
           }
          ],
          "scatterpolargl": [
           {
            "marker": {
             "colorbar": {
              "outlinewidth": 0,
              "ticks": ""
             }
            },
            "type": "scatterpolargl"
           }
          ],
          "scatterternary": [
           {
            "marker": {
             "colorbar": {
              "outlinewidth": 0,
              "ticks": ""
             }
            },
            "type": "scatterternary"
           }
          ],
          "surface": [
           {
            "colorbar": {
             "outlinewidth": 0,
             "ticks": ""
            },
            "colorscale": [
             [
              0,
              "#0d0887"
             ],
             [
              0.1111111111111111,
              "#46039f"
             ],
             [
              0.2222222222222222,
              "#7201a8"
             ],
             [
              0.3333333333333333,
              "#9c179e"
             ],
             [
              0.4444444444444444,
              "#bd3786"
             ],
             [
              0.5555555555555556,
              "#d8576b"
             ],
             [
              0.6666666666666666,
              "#ed7953"
             ],
             [
              0.7777777777777778,
              "#fb9f3a"
             ],
             [
              0.8888888888888888,
              "#fdca26"
             ],
             [
              1,
              "#f0f921"
             ]
            ],
            "type": "surface"
           }
          ],
          "table": [
           {
            "cells": {
             "fill": {
              "color": "#EBF0F8"
             },
             "line": {
              "color": "white"
             }
            },
            "header": {
             "fill": {
              "color": "#C8D4E3"
             },
             "line": {
              "color": "white"
             }
            },
            "type": "table"
           }
          ]
         },
         "layout": {
          "annotationdefaults": {
           "arrowcolor": "#2a3f5f",
           "arrowhead": 0,
           "arrowwidth": 1
          },
          "autotypenumbers": "strict",
          "coloraxis": {
           "colorbar": {
            "outlinewidth": 0,
            "ticks": ""
           }
          },
          "colorscale": {
           "diverging": [
            [
             0,
             "#8e0152"
            ],
            [
             0.1,
             "#c51b7d"
            ],
            [
             0.2,
             "#de77ae"
            ],
            [
             0.3,
             "#f1b6da"
            ],
            [
             0.4,
             "#fde0ef"
            ],
            [
             0.5,
             "#f7f7f7"
            ],
            [
             0.6,
             "#e6f5d0"
            ],
            [
             0.7,
             "#b8e186"
            ],
            [
             0.8,
             "#7fbc41"
            ],
            [
             0.9,
             "#4d9221"
            ],
            [
             1,
             "#276419"
            ]
           ],
           "sequential": [
            [
             0,
             "#0d0887"
            ],
            [
             0.1111111111111111,
             "#46039f"
            ],
            [
             0.2222222222222222,
             "#7201a8"
            ],
            [
             0.3333333333333333,
             "#9c179e"
            ],
            [
             0.4444444444444444,
             "#bd3786"
            ],
            [
             0.5555555555555556,
             "#d8576b"
            ],
            [
             0.6666666666666666,
             "#ed7953"
            ],
            [
             0.7777777777777778,
             "#fb9f3a"
            ],
            [
             0.8888888888888888,
             "#fdca26"
            ],
            [
             1,
             "#f0f921"
            ]
           ],
           "sequentialminus": [
            [
             0,
             "#0d0887"
            ],
            [
             0.1111111111111111,
             "#46039f"
            ],
            [
             0.2222222222222222,
             "#7201a8"
            ],
            [
             0.3333333333333333,
             "#9c179e"
            ],
            [
             0.4444444444444444,
             "#bd3786"
            ],
            [
             0.5555555555555556,
             "#d8576b"
            ],
            [
             0.6666666666666666,
             "#ed7953"
            ],
            [
             0.7777777777777778,
             "#fb9f3a"
            ],
            [
             0.8888888888888888,
             "#fdca26"
            ],
            [
             1,
             "#f0f921"
            ]
           ]
          },
          "colorway": [
           "#636efa",
           "#EF553B",
           "#00cc96",
           "#ab63fa",
           "#FFA15A",
           "#19d3f3",
           "#FF6692",
           "#B6E880",
           "#FF97FF",
           "#FECB52"
          ],
          "font": {
           "color": "#2a3f5f"
          },
          "geo": {
           "bgcolor": "white",
           "lakecolor": "white",
           "landcolor": "#E5ECF6",
           "showlakes": true,
           "showland": true,
           "subunitcolor": "white"
          },
          "hoverlabel": {
           "align": "left"
          },
          "hovermode": "closest",
          "mapbox": {
           "style": "light"
          },
          "paper_bgcolor": "white",
          "plot_bgcolor": "#E5ECF6",
          "polar": {
           "angularaxis": {
            "gridcolor": "white",
            "linecolor": "white",
            "ticks": ""
           },
           "bgcolor": "#E5ECF6",
           "radialaxis": {
            "gridcolor": "white",
            "linecolor": "white",
            "ticks": ""
           }
          },
          "scene": {
           "xaxis": {
            "backgroundcolor": "#E5ECF6",
            "gridcolor": "white",
            "gridwidth": 2,
            "linecolor": "white",
            "showbackground": true,
            "ticks": "",
            "zerolinecolor": "white"
           },
           "yaxis": {
            "backgroundcolor": "#E5ECF6",
            "gridcolor": "white",
            "gridwidth": 2,
            "linecolor": "white",
            "showbackground": true,
            "ticks": "",
            "zerolinecolor": "white"
           },
           "zaxis": {
            "backgroundcolor": "#E5ECF6",
            "gridcolor": "white",
            "gridwidth": 2,
            "linecolor": "white",
            "showbackground": true,
            "ticks": "",
            "zerolinecolor": "white"
           }
          },
          "shapedefaults": {
           "line": {
            "color": "#2a3f5f"
           }
          },
          "ternary": {
           "aaxis": {
            "gridcolor": "white",
            "linecolor": "white",
            "ticks": ""
           },
           "baxis": {
            "gridcolor": "white",
            "linecolor": "white",
            "ticks": ""
           },
           "bgcolor": "#E5ECF6",
           "caxis": {
            "gridcolor": "white",
            "linecolor": "white",
            "ticks": ""
           }
          },
          "title": {
           "x": 0.05
          },
          "xaxis": {
           "automargin": true,
           "gridcolor": "white",
           "linecolor": "white",
           "ticks": "",
           "title": {
            "standoff": 15
           },
           "zerolinecolor": "white",
           "zerolinewidth": 2
          },
          "yaxis": {
           "automargin": true,
           "gridcolor": "white",
           "linecolor": "white",
           "ticks": "",
           "title": {
            "standoff": 15
           },
           "zerolinecolor": "white",
           "zerolinewidth": 2
          }
         }
        },
        "title": {
         "text": "Wing Geometry",
         "x": 0.5
        },
        "xaxis": {
         "autorange": true,
         "domain": [
          0,
          1
         ],
         "range": [
          -29.82751738814931,
          29.82751738814931
         ],
         "title": {
          "text": "y"
         },
         "type": "linear"
        },
        "yaxis": {
         "autorange": true,
         "domain": [
          0,
          1
         ],
         "range": [
          12.812472035900436,
          23.691809685073437
         ],
         "scaleanchor": "x",
         "scaleratio": 1,
         "title": {
          "text": "x"
         },
         "type": "linear"
        }
       }
      },
      "image/png": "[encoded data removed]",
      "text/html": [
       "<div>                            <div id=\"a7270aea-cc30-44f9-a9a9-01030995de59\" class=\"plotly-graph-div\" style=\"height:525px; width:100%;\"></div>            <script type=\"text/javascript\">                require([\"plotly\"], function(Plotly) {                    window.PLOTLYENV=window.PLOTLYENV || {};                                    if (document.getElementById(\"a7270aea-cc30-44f9-a9a9-01030995de59\")) {                    Plotly.newPlot(                        \"a7270aea-cc30-44f9-a9a9-01030995de59\",                        [{\"mode\":\"lines+markers\",\"name\":\"FAST-OAD\",\"x\":[-0.0,-1.95994,-6.499040699237742,-17.330775197967313,-17.330775197967313,-6.499040699237742,-1.95994,-0.0,-0.0,0.0,1.95994,6.499040699237742,17.330775197967313,17.330775197967313,6.499040699237742,1.95994,0.0,0.0],\"y\":[13.58309178605019,13.58309178605019,15.898271481012593,21.42302482629391,22.92118993492368,19.713685133917167,19.713685133917167,19.713685133917167,13.58309178605019,13.58309178605019,13.58309178605019,15.898271481012593,21.42302482629391,22.92118993492368,19.713685133917167,19.713685133917167,19.713685133917167,13.58309178605019],\"type\":\"scatter\",\"uid\":\"0d51334a-a242-4696-9054-8b169b008ca7\"}],                        {\"template\":{\"data\":{\"barpolar\":[{\"marker\":{\"line\":{\"color\":\"#E5ECF6\",\"width\":0.5},\"pattern\":{\"fillmode\":\"overlay\",\"size\":10,\"solidity\":0.2}},\"type\":\"barpolar\"}],\"bar\":[{\"error_x\":{\"color\":\"#2a3f5f\"},\"error_y\":{\"color\":\"#2a3f5f\"},\"marker\":{\"line\":{\"color\":\"#E5ECF6\",\"width\":0.5},\"pattern\":{\"fillmode\":\"overlay\",\"size\":10,\"solidity\":0.2}},\"type\":\"bar\"}],\"carpet\":[{\"aaxis\":{\"endlinecolor\":\"#2a3f5f\",\"gridcolor\":\"white\",\"linecolor\":\"white\",\"minorgridcolor\":\"white\",\"startlinecolor\":\"#2a3f5f\"},\"baxis\":{\"endlinecolor\":\"#2a3f5f\",\"gridcolor\":\"white\",\"linecolor\":\"white\",\"minorgridcolor\":\"white\",\"startlinecolor\":\"#2a3f5f\"},\"type\":\"carpet\"}],\"choropleth\":[{\"colorbar\":{\"outlinewidth\":0,\"ticks\":\"\"},\"type\":\"choropleth\"}],\"contourcarpet\":[{\"colorbar\":{\"outlinewidth\":0,\"ticks\":\"\"},\"type\":\"contourcarpet\"}],\"contour\":[{\"colorbar\":{\"outlinewidth\":0,\"ticks\":\"\"},\"colorscale\":[[0.0,\"#0d0887\"],[0.1111111111111111,\"#46039f\"],[0.2222222222222222,\"#7201a8\"],[0.3333333333333333,\"#9c179e\"],[0.4444444444444444,\"#bd3786\"],[0.5555555555555556,\"#d8576b\"],[0.6666666666666666,\"#ed7953\"],[0.7777777777777778,\"#fb9f3a\"],[0.8888888888888888,\"#fdca26\"],[1.0,\"#f0f921\"]],\"type\":\"contour\"}],\"heatmapgl\":[{\"colorbar\":{\"outlinewidth\":0,\"ticks\":\"\"},\"colorscale\":[[0.0,\"#0d0887\"],[0.1111111111111111,\"#46039f\"],[0.2222222222222222,\"#7201a8\"],[0.3333333333333333,\"#9c179e\"],[0.4444444444444444,\"#bd3786\"],[0.5555555555555556,\"#d8576b\"],[0.6666666666666666,\"#ed7953\"],[0.7777777777777778,\"#fb9f3a\"],[0.8888888888888888,\"#fdca26\"],[1.0,\"#f0f921\"]],\"type\":\"heatmapgl\"}],\"heatmap\":[{\"colorbar\":{\"outlinewidth\":0,\"ticks\":\"\"},\"colorscale\":[[0.0,\"#0d0887\"],[0.1111111111111111,\"#46039f\"],[0.2222222222222222,\"#7201a8\"],[0.3333333333333333,\"#9c179e\"],[0.4444444444444444,\"#bd3786\"],[0.5555555555555556,\"#d8576b\"],[0.6666666666666666,\"#ed7953\"],[0.7777777777777778,\"#fb9f3a\"],[0.8888888888888888,\"#fdca26\"],[1.0,\"#f0f921\"]],\"type\":\"heatmap\"}],\"histogram2dcontour\":[{\"colorbar\":{\"outlinewidth\":0,\"ticks\":\"\"},\"colorscale\":[[0.0,\"#0d0887\"],[0.1111111111111111,\"#46039f\"],[0.2222222222222222,\"#7201a8\"],[0.3333333333333333,\"#9c179e\"],[0.4444444444444444,\"#bd3786\"],[0.5555555555555556,\"#d8576b\"],[0.6666666666666666,\"#ed7953\"],[0.7777777777777778,\"#fb9f3a\"],[0.8888888888888888,\"#fdca26\"],[1.0,\"#f0f921\"]],\"type\":\"histogram2dcontour\"}],\"histogram2d\":[{\"colorbar\":{\"outlinewidth\":0,\"ticks\":\"\"},\"colorscale\":[[0.0,\"#0d0887\"],[0.1111111111111111,\"#46039f\"],[0.2222222222222222,\"#7201a8\"],[0.3333333333333333,\"#9c179e\"],[0.4444444444444444,\"#bd3786\"],[0.5555555555555556,\"#d8576b\"],[0.6666666666666666,\"#ed7953\"],[0.7777777777777778,\"#fb9f3a\"],[0.8888888888888888,\"#fdca26\"],[1.0,\"#f0f921\"]],\"type\":\"histogram2d\"}],\"histogram\":[{\"marker\":{\"pattern\":{\"fillmode\":\"overlay\",\"size\":10,\"solidity\":0.2}},\"type\":\"histogram\"}],\"mesh3d\":[{\"colorbar\":{\"outlinewidth\":0,\"ticks\":\"\"},\"type\":\"mesh3d\"}],\"parcoords\":[{\"line\":{\"colorbar\":{\"outlinewidth\":0,\"ticks\":\"\"}},\"type\":\"parcoords\"}],\"pie\":[{\"automargin\":true,\"type\":\"pie\"}],\"scatter3d\":[{\"line\":{\"colorbar\":{\"outlinewidth\":0,\"ticks\":\"\"}},\"marker\":{\"colorbar\":{\"outlinewidth\":0,\"ticks\":\"\"}},\"type\":\"scatter3d\"}],\"scattercarpet\":[{\"marker\":{\"colorbar\":{\"outlinewidth\":0,\"ticks\":\"\"}},\"type\":\"scattercarpet\"}],\"scattergeo\":[{\"marker\":{\"colorbar\":{\"outlinewidth\":0,\"ticks\":\"\"}},\"type\":\"scattergeo\"}],\"scattergl\":[{\"marker\":{\"colorbar\":{\"outlinewidth\":0,\"ticks\":\"\"}},\"type\":\"scattergl\"}],\"scattermapbox\":[{\"marker\":{\"colorbar\":{\"outlinewidth\":0,\"ticks\":\"\"}},\"type\":\"scattermapbox\"}],\"scatterpolargl\":[{\"marker\":{\"colorbar\":{\"outlinewidth\":0,\"ticks\":\"\"}},\"type\":\"scatterpolargl\"}],\"scatterpolar\":[{\"marker\":{\"colorbar\":{\"outlinewidth\":0,\"ticks\":\"\"}},\"type\":\"scatterpolar\"}],\"scatter\":[{\"marker\":{\"colorbar\":{\"outlinewidth\":0,\"ticks\":\"\"}},\"type\":\"scatter\"}],\"scatterternary\":[{\"marker\":{\"colorbar\":{\"outlinewidth\":0,\"ticks\":\"\"}},\"type\":\"scatterternary\"}],\"surface\":[{\"colorbar\":{\"outlinewidth\":0,\"ticks\":\"\"},\"colorscale\":[[0.0,\"#0d0887\"],[0.1111111111111111,\"#46039f\"],[0.2222222222222222,\"#7201a8\"],[0.3333333333333333,\"#9c179e\"],[0.4444444444444444,\"#bd3786\"],[0.5555555555555556,\"#d8576b\"],[0.6666666666666666,\"#ed7953\"],[0.7777777777777778,\"#fb9f3a\"],[0.8888888888888888,\"#fdca26\"],[1.0,\"#f0f921\"]],\"type\":\"surface\"}],\"table\":[{\"cells\":{\"fill\":{\"color\":\"#EBF0F8\"},\"line\":{\"color\":\"white\"}},\"header\":{\"fill\":{\"color\":\"#C8D4E3\"},\"line\":{\"color\":\"white\"}},\"type\":\"table\"}]},\"layout\":{\"annotationdefaults\":{\"arrowcolor\":\"#2a3f5f\",\"arrowhead\":0,\"arrowwidth\":1},\"autotypenumbers\":\"strict\",\"coloraxis\":{\"colorbar\":{\"outlinewidth\":0,\"ticks\":\"\"}},\"colorscale\":{\"diverging\":[[0,\"#8e0152\"],[0.1,\"#c51b7d\"],[0.2,\"#de77ae\"],[0.3,\"#f1b6da\"],[0.4,\"#fde0ef\"],[0.5,\"#f7f7f7\"],[0.6,\"#e6f5d0\"],[0.7,\"#b8e186\"],[0.8,\"#7fbc41\"],[0.9,\"#4d9221\"],[1,\"#276419\"]],\"sequential\":[[0.0,\"#0d0887\"],[0.1111111111111111,\"#46039f\"],[0.2222222222222222,\"#7201a8\"],[0.3333333333333333,\"#9c179e\"],[0.4444444444444444,\"#bd3786\"],[0.5555555555555556,\"#d8576b\"],[0.6666666666666666,\"#ed7953\"],[0.7777777777777778,\"#fb9f3a\"],[0.8888888888888888,\"#fdca26\"],[1.0,\"#f0f921\"]],\"sequentialminus\":[[0.0,\"#0d0887\"],[0.1111111111111111,\"#46039f\"],[0.2222222222222222,\"#7201a8\"],[0.3333333333333333,\"#9c179e\"],[0.4444444444444444,\"#bd3786\"],[0.5555555555555556,\"#d8576b\"],[0.6666666666666666,\"#ed7953\"],[0.7777777777777778,\"#fb9f3a\"],[0.8888888888888888,\"#fdca26\"],[1.0,\"#f0f921\"]]},\"colorway\":[\"#636efa\",\"#EF553B\",\"#00cc96\",\"#ab63fa\",\"#FFA15A\",\"#19d3f3\",\"#FF6692\",\"#B6E880\",\"#FF97FF\",\"#FECB52\"],\"font\":{\"color\":\"#2a3f5f\"},\"geo\":{\"bgcolor\":\"white\",\"lakecolor\":\"white\",\"landcolor\":\"#E5ECF6\",\"showlakes\":true,\"showland\":true,\"subunitcolor\":\"white\"},\"hoverlabel\":{\"align\":\"left\"},\"hovermode\":\"closest\",\"mapbox\":{\"style\":\"light\"},\"paper_bgcolor\":\"white\",\"plot_bgcolor\":\"#E5ECF6\",\"polar\":{\"angularaxis\":{\"gridcolor\":\"white\",\"linecolor\":\"white\",\"ticks\":\"\"},\"bgcolor\":\"#E5ECF6\",\"radialaxis\":{\"gridcolor\":\"white\",\"linecolor\":\"white\",\"ticks\":\"\"}},\"scene\":{\"xaxis\":{\"backgroundcolor\":\"#E5ECF6\",\"gridcolor\":\"white\",\"gridwidth\":2,\"linecolor\":\"white\",\"showbackground\":true,\"ticks\":\"\",\"zerolinecolor\":\"white\"},\"yaxis\":{\"backgroundcolor\":\"#E5ECF6\",\"gridcolor\":\"white\",\"gridwidth\":2,\"linecolor\":\"white\",\"showbackground\":true,\"ticks\":\"\",\"zerolinecolor\":\"white\"},\"zaxis\":{\"backgroundcolor\":\"#E5ECF6\",\"gridcolor\":\"white\",\"gridwidth\":2,\"linecolor\":\"white\",\"showbackground\":true,\"ticks\":\"\",\"zerolinecolor\":\"white\"}},\"shapedefaults\":{\"line\":{\"color\":\"#2a3f5f\"}},\"ternary\":{\"aaxis\":{\"gridcolor\":\"white\",\"linecolor\":\"white\",\"ticks\":\"\"},\"baxis\":{\"gridcolor\":\"white\",\"linecolor\":\"white\",\"ticks\":\"\"},\"bgcolor\":\"#E5ECF6\",\"caxis\":{\"gridcolor\":\"white\",\"linecolor\":\"white\",\"ticks\":\"\"}},\"title\":{\"x\":0.05},\"xaxis\":{\"automargin\":true,\"gridcolor\":\"white\",\"linecolor\":\"white\",\"ticks\":\"\",\"title\":{\"standoff\":15},\"zerolinecolor\":\"white\",\"zerolinewidth\":2},\"yaxis\":{\"automargin\":true,\"gridcolor\":\"white\",\"linecolor\":\"white\",\"ticks\":\"\",\"title\":{\"standoff\":15},\"zerolinecolor\":\"white\",\"zerolinewidth\":2}}},\"yaxis\":{\"scaleanchor\":\"x\",\"scaleratio\":1,\"title\":{\"text\":\"x\"}},\"title\":{\"text\":\"Wing Geometry\",\"x\":0.5},\"xaxis\":{\"title\":{\"text\":\"y\"}}},                        {\"responsive\": true}                    ).then(function(){\n",
       "                            \n",
       "var gd = document.getElementById('a7270aea-cc30-44f9-a9a9-01030995de59');\n",
       "var x = new MutationObserver(function (mutations, observer) {{\n",
       "        var display = window.getComputedStyle(gd).display;\n",
       "        if (!display || display === 'none') {{\n",
       "            console.log([gd, 'removed!']);\n",
       "            Plotly.purge(gd);\n",
       "            observer.disconnect();\n",
       "        }}\n",
       "}});\n",
       "\n",
       "// Listen for the removal of the full notebook cells\n",
       "var notebookContainer = gd.closest('#notebook-container');\n",
       "if (notebookContainer) {{\n",
       "    x.observe(notebookContainer, {childList: true});\n",
       "}}\n",
       "\n",
       "// Listen for the clearing of the current output cell\n",
       "var outputEl = gd.closest('.output');\n",
       "if (outputEl) {{\n",
       "    x.observe(outputEl, {childList: true});\n",
       "}}\n",
       "\n",
       "                        })                };                });            </script>        </div>"
      ]
     },
     "metadata": {},
     "output_type": "display_data"
    }
   ],
   "source": [
    "fig = oad.wing_geometry_plot(eval_problem.output_file_path, name=\"FAST-OAD\")\n",
    "fig.show()"
   ]
  },
  {
   "cell_type": "code",
   "execution_count": 22,
   "id": "f82884b1-dbec-4cf2-875e-efec8f1e448b",
   "metadata": {},
   "outputs": [
    {
     "data": {
      "application/vnd.jupyter.widget-view+json": {
       "model_id": "b14c7a206c94484a865e57d7dfab08d4",
       "version_major": 2,
       "version_minor": 0
      },
      "text/plain": [
       "FigureWidget({\n",
       "    'data': [{'mode': 'lines+markers',\n",
       "              'type': 'scatter',\n",
       "              'uid': 'd…"
      ]
     },
     "metadata": {},
     "output_type": "display_data"
    }
   ],
   "source": [
    "oad.aircraft_geometry_plot(eval_problem.output_file_path)"
   ]
  }
 ],
 "metadata": {
  "kernelspec": {
   "display_name": "Python 3 (ipykernel)",
   "language": "python",
   "name": "python3"
  },
  "language_info": {
   "codemirror_mode": {
    "name": "ipython",
    "version": 3
   },
   "file_extension": ".py",
   "mimetype": "text/x-python",
   "name": "python",
   "nbconvert_exporter": "python",
   "pygments_lexer": "ipython3",
   "version": "3.8.13"
  }
 },
 "nbformat": 4,
 "nbformat_minor": 5
}
