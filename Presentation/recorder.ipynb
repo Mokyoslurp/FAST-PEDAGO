{
 "cells": [
  {
   "cell_type": "code",
   "execution_count": null,
   "id": "9257d31b-de6d-4728-9441-bb553b4021fb",
   "metadata": {},
   "outputs": [],
   "source": [
    "import warnings\n",
    "warnings.filterwarnings(action='ignore')"
   ]
  },
  {
   "cell_type": "code",
   "execution_count": null,
   "id": "535ed99c-6f11-451e-8220-db61e38cc85a",
   "metadata": {},
   "outputs": [],
   "source": []
  },
  {
   "cell_type": "code",
   "execution_count": null,
   "id": "d4219548-7e61-47ee-bb4f-7bf7d7eade5c",
   "metadata": {},
   "outputs": [],
   "source": []
  },
  {
   "cell_type": "code",
   "execution_count": null,
   "id": "14024431-6ff1-467d-8b6a-3dd23235a72e",
   "metadata": {},
   "outputs": [],
   "source": []
  },
  {
   "cell_type": "code",
   "execution_count": null,
   "id": "b723cffd-7535-4866-8a9b-9cd2d1b18644",
   "metadata": {},
   "outputs": [],
   "source": []
  },
  {
   "cell_type": "code",
   "execution_count": null,
   "id": "ebe294c0-139a-48c4-8f00-fb7e2069c536",
   "metadata": {},
   "outputs": [],
   "source": [
    "import os.path as pth\n",
    "import openmdao.api as om\n",
    "import logging\n",
    "import shutil\n",
    "import fastoad.api as oad\n",
    "\n",
    "\n",
    "DATA_FOLDER_PATH = \"data\"\n",
    "\n",
    "WORK_FOLDER_PATH = \"workdir\"\n",
    "CONFIGURATION_FILE = pth.join(WORK_FOLDER_PATH, \"oad_sizing.yml\")\n",
    "SOURCE_FILE = pth.join(DATA_FOLDER_PATH, \"CeRAS01_baseline.xml\")\n",
    "\n",
    "# For having log messages on screen\n",
    "logging.basicConfig(level=logging.INFO, format=\"%(levelname)-8s: %(message)s\")\n",
    "\n",
    "# For using all screen width\n",
    "from IPython.core.display import display, HTML\n",
    "\n",
    "display(HTML(\"<style>.container { width:95% !important; }</style>\"))"
   ]
  },
  {
   "cell_type": "code",
   "execution_count": null,
   "id": "95f6a1ad-6d41-4c28-9b9c-ac3a45b504ea",
   "metadata": {},
   "outputs": [],
   "source": []
  },
  {
   "cell_type": "code",
   "execution_count": null,
   "id": "d74c567d-9ded-41fe-a546-2bec80d22bce",
   "metadata": {},
   "outputs": [],
   "source": []
  },
  {
   "cell_type": "code",
   "execution_count": null,
   "id": "aafec7f2-0875-4f16-9175-19ca3f8a2e6e",
   "metadata": {},
   "outputs": [],
   "source": []
  },
  {
   "cell_type": "code",
   "execution_count": null,
   "id": "7556cdc1-aac9-4f44-877e-d1417f2c83ba",
   "metadata": {},
   "outputs": [],
   "source": [
    "shutil.copy(pth.join(DATA_FOLDER_PATH, \"oad_sizing.yml\"), CONFIGURATION_FILE)"
   ]
  },
  {
   "cell_type": "code",
   "execution_count": null,
   "id": "dd3476fb-9ea9-49ed-989c-0b387bc6fdec",
   "metadata": {},
   "outputs": [],
   "source": []
  },
  {
   "cell_type": "code",
   "execution_count": null,
   "id": "ca95c953-ca5c-49fd-95c5-b70373d77f6a",
   "metadata": {},
   "outputs": [],
   "source": [
    "oad.generate_inputs(CONFIGURATION_FILE, SOURCE_FILE, overwrite=True)"
   ]
  },
  {
   "cell_type": "code",
   "execution_count": null,
   "id": "6bd38f8e-2482-4f3f-a914-1870b1bfd180",
   "metadata": {},
   "outputs": [],
   "source": []
  },
  {
   "cell_type": "code",
   "execution_count": null,
   "id": "5b6c54c1-8209-4d15-bfad-e85d7e3aebb7",
   "metadata": {},
   "outputs": [],
   "source": []
  },
  {
   "cell_type": "code",
   "execution_count": null,
   "id": "320af2b3-12a4-4902-8cea-db73a5a90a6b",
   "metadata": {},
   "outputs": [],
   "source": [
    "conf = oad.FASTOADProblemConfigurator(\"data/oad_sizing.yml\") # reads the configuration file\n",
    "#conf.write_needed_inputs(\"data/CeRAS01_baseline.xml\") # you may skip this step if you already generated your input file\n",
    "problem = conf.get_problem(read_inputs=True) # here you get an OpenMDAO problem (with only a few additions)\n",
    "problem.setup()"
   ]
  },
  {
   "cell_type": "code",
   "execution_count": null,
   "id": "f065b209-fa26-4b3e-a045-7de416a5ae2f",
   "metadata": {},
   "outputs": [],
   "source": []
  },
  {
   "cell_type": "code",
   "execution_count": null,
   "id": "c8e49638-3bc7-49d4-ac85-d754743a8b8a",
   "metadata": {},
   "outputs": [],
   "source": []
  },
  {
   "cell_type": "code",
   "execution_count": null,
   "id": "211db000-949c-4339-af62-978f83216b04",
   "metadata": {},
   "outputs": [],
   "source": []
  },
  {
   "cell_type": "code",
   "execution_count": null,
   "id": "e689c8d6-b663-48ef-abf2-b7464dc4a7d2",
   "metadata": {},
   "outputs": [],
   "source": []
  },
  {
   "cell_type": "code",
   "execution_count": null,
   "id": "7d8ac05e-8e1e-4adb-9b37-b745e45eaac1",
   "metadata": {},
   "outputs": [],
   "source": [
    "# Here you may add your recorder using the OpenMDAO way\n",
    "recorder = om.SqliteRecorder(\"record.sql\")\n",
    "problem.model.nonlinear_solver.add_recorder(recorder)\n",
    "problem.model.nonlinear_solver.recording_options['includes'] = ['*']\n"
   ]
  },
  {
   "cell_type": "code",
   "execution_count": null,
   "id": "5b58160b-0fd1-4d03-8f2c-6892594eafda",
   "metadata": {},
   "outputs": [],
   "source": []
  },
  {
   "cell_type": "code",
   "execution_count": null,
   "id": "f4c248da-4a38-4f65-aa6e-9b5954dd0cff",
   "metadata": {},
   "outputs": [],
   "source": []
  },
  {
   "cell_type": "code",
   "execution_count": null,
   "id": "ef3043c5-a94f-401b-a5c5-283a536a7597",
   "metadata": {},
   "outputs": [],
   "source": []
  },
  {
   "cell_type": "code",
   "execution_count": null,
   "id": "725d9df5-e75e-4061-baa1-7ba8b2bf2be3",
   "metadata": {},
   "outputs": [],
   "source": []
  },
  {
   "cell_type": "code",
   "execution_count": null,
   "id": "a2a8d5ff-f960-4d12-8083-160d13b0973a",
   "metadata": {},
   "outputs": [],
   "source": [
    "# You run the problem normally\n",
    "#problem1.setup()\n",
    "problem.run_model()"
   ]
  },
  {
   "cell_type": "code",
   "execution_count": null,
   "id": "24adb594-e87f-4ceb-a74a-85659a437320",
   "metadata": {},
   "outputs": [],
   "source": []
  },
  {
   "cell_type": "code",
   "execution_count": null,
   "id": "516e5ff4-b6a7-4575-a80b-8454e416ac6f",
   "metadata": {},
   "outputs": [],
   "source": []
  },
  {
   "cell_type": "code",
   "execution_count": null,
   "id": "7e8c7c09-31c4-42e2-adf4-cef137df2c9c",
   "metadata": {},
   "outputs": [],
   "source": []
  },
  {
   "cell_type": "code",
   "execution_count": null,
   "id": "3ea7c24f-e87b-4dfd-9413-c7055aaf4660",
   "metadata": {},
   "outputs": [],
   "source": []
  },
  {
   "cell_type": "code",
   "execution_count": null,
   "id": "c9cffe75-dac7-47eb-9ac1-acebba3dd3b8",
   "metadata": {},
   "outputs": [],
   "source": []
  },
  {
   "cell_type": "code",
   "execution_count": null,
   "id": "2d303623-ea61-403f-b6f6-d94584e8e18a",
   "metadata": {},
   "outputs": [],
   "source": [
    "# To get FAST-OAD outputs, you have to use the method we have added\n",
    "# to our slightly modified Problem class: \n",
    "problem.write_outputs()"
   ]
  },
  {
   "cell_type": "code",
   "execution_count": null,
   "id": "9f9e1019-a325-4856-9b60-d45f7e6bfb70",
   "metadata": {},
   "outputs": [],
   "source": [
    "problem.record(\"final_state\")\n",
    "\n",
    "cr = om.CaseReader(\"record.sql\")\n",
    "\n",
    "solver_cases = cr.list_cases(\"root.nonlinear_solver\", out_stream=None)"
   ]
  },
  {
   "cell_type": "code",
   "execution_count": null,
   "id": "786d1eb0-5fce-4368-adef-684620506a04",
   "metadata": {},
   "outputs": [],
   "source": [
    "for case_id in solver_cases:\n",
    "    case = cr.get_case(case_id)\n",
    "    print(case[\"data:weight:aircraft:MTOW\"])"
   ]
  },
  {
   "cell_type": "code",
   "execution_count": null,
   "id": "7872e5d6-a10f-49fe-9536-186a0b46e021",
   "metadata": {},
   "outputs": [],
   "source": []
  },
  {
   "cell_type": "code",
   "execution_count": null,
   "id": "e9abfd2c-0c43-46ae-bb7a-b12852dc184c",
   "metadata": {},
   "outputs": [],
   "source": []
  },
  {
   "cell_type": "code",
   "execution_count": null,
   "id": "6f59af02-924a-43d2-9584-ddba088cefda",
   "metadata": {},
   "outputs": [],
   "source": []
  },
  {
   "cell_type": "code",
   "execution_count": null,
   "id": "3f38c83a-74df-46ca-a7f9-e4112d83102a",
   "metadata": {},
   "outputs": [],
   "source": [
    "#oad.generate_configuration_file(CONFIGURATION_FILE, overwrite=True)\n",
    "\n",
    "# The above generated configuration uses the quick and simple Breguet module to compute performances.\n",
    "# If you want to use the more accurate, much more CPU-costly time-step integration, uncomment and run\n",
    "# the next line:\n",
    "shutil.copy(pth.join(DATA_FOLDER_PATH, \"oad_23.yml\"), CONFIGURATION_FILE)"
   ]
  },
  {
   "cell_type": "code",
   "execution_count": null,
   "id": "64409dd2-34d9-4036-ac8a-a0bf692f3280",
   "metadata": {},
   "outputs": [],
   "source": []
  },
  {
   "cell_type": "code",
   "execution_count": null,
   "id": "fa71c3fd-a51c-4b20-a365-42dabb22c98c",
   "metadata": {},
   "outputs": [],
   "source": []
  },
  {
   "cell_type": "code",
   "execution_count": null,
   "id": "7c25566d-6fea-404e-b8fc-d795246351d2",
   "metadata": {},
   "outputs": [],
   "source": []
  },
  {
   "cell_type": "code",
   "execution_count": null,
   "id": "aa531d05-35e6-4883-9d55-c9b254cecab5",
   "metadata": {},
   "outputs": [],
   "source": []
  },
  {
   "cell_type": "code",
   "execution_count": null,
   "id": "9949a6c0-569a-4ceb-990b-168f8fcb65a2",
   "metadata": {},
   "outputs": [],
   "source": []
  },
  {
   "cell_type": "code",
   "execution_count": null,
   "id": "af71c59b-b819-4857-8e0c-3dcff3a383f2",
   "metadata": {},
   "outputs": [],
   "source": []
  },
  {
   "cell_type": "code",
   "execution_count": null,
   "id": "f82884b1-dbec-4cf2-875e-efec8f1e448b",
   "metadata": {},
   "outputs": [],
   "source": [
    "oad.generate_inputs(CONFIGURATION_FILE, SOURCE_FILE, overwrite=True)"
   ]
  },
  {
   "cell_type": "code",
   "execution_count": null,
   "id": "c3f3d624-1d7f-4ce5-9ba1-3ecf0ed46968",
   "metadata": {},
   "outputs": [],
   "source": []
  },
  {
   "cell_type": "code",
   "execution_count": null,
   "id": "b909667b-a4b5-4aa8-a70f-af81eb119591",
   "metadata": {},
   "outputs": [],
   "source": []
  },
  {
   "cell_type": "code",
   "execution_count": null,
   "id": "3dc1c2be-8acd-46c0-a47c-936680a75e27",
   "metadata": {},
   "outputs": [],
   "source": []
  },
  {
   "cell_type": "code",
   "execution_count": null,
   "id": "7cb9d253-9918-40e8-b8dd-a7db5b1c19f2",
   "metadata": {},
   "outputs": [],
   "source": []
  },
  {
   "cell_type": "code",
   "execution_count": null,
   "id": "a4ad840e-d77c-4462-8225-56a4a03c1af6",
   "metadata": {},
   "outputs": [],
   "source": []
  },
  {
   "cell_type": "code",
   "execution_count": null,
   "id": "110274e2-ee26-4110-a8f7-d001a11afc05",
   "metadata": {},
   "outputs": [],
   "source": []
  },
  {
   "cell_type": "code",
   "execution_count": null,
   "id": "bcf607f9-fbae-4ca2-abf6-c5077fe5ee59",
   "metadata": {},
   "outputs": [],
   "source": []
  },
  {
   "cell_type": "code",
   "execution_count": null,
   "id": "29d59aa5-a375-4e7c-89a5-6c88b9acafdc",
   "metadata": {},
   "outputs": [],
   "source": [
    "oad.list_variables(CONFIGURATION_FILE)"
   ]
  },
  {
   "cell_type": "code",
   "execution_count": null,
   "id": "0c3d3ff0-ead1-445a-b657-b8c7ed313354",
   "metadata": {},
   "outputs": [],
   "source": []
  },
  {
   "cell_type": "code",
   "execution_count": null,
   "id": "d2bcd336-c1b5-4770-b773-5e3cb9bc66f1",
   "metadata": {},
   "outputs": [],
   "source": []
  },
  {
   "cell_type": "code",
   "execution_count": null,
   "id": "8b7b6269-e117-4236-b3e4-aee8a17e29bd",
   "metadata": {},
   "outputs": [],
   "source": []
  },
  {
   "cell_type": "code",
   "execution_count": null,
   "id": "a3af9556-449f-4b4a-8fd6-8f94686975d8",
   "metadata": {},
   "outputs": [],
   "source": []
  },
  {
   "cell_type": "code",
   "execution_count": null,
   "id": "b7add627-13ad-4041-a71e-33cf3263587f",
   "metadata": {},
   "outputs": [],
   "source": [
    "XDSM_FILE = pth.join(WORK_FOLDER_PATH, 'xdsm.html')\n",
    "oad.write_xdsm(CONFIGURATION_FILE, XDSM_FILE, overwrite=True)\n",
    "from IPython.display import IFrame\n",
    "IFrame(src=XDSM_FILE, width='100%', height='500px')"
   ]
  },
  {
   "cell_type": "code",
   "execution_count": null,
   "id": "5318ea30-6998-4452-ac10-fe5acb2935ba",
   "metadata": {},
   "outputs": [],
   "source": []
  },
  {
   "cell_type": "code",
   "execution_count": null,
   "id": "afbf4d88-b9ac-40c4-9fcd-f71a8a9bcdef",
   "metadata": {},
   "outputs": [],
   "source": []
  },
  {
   "cell_type": "code",
   "execution_count": null,
   "id": "39d13b4e-1c36-4af8-9537-a6337aad8341",
   "metadata": {},
   "outputs": [],
   "source": []
  },
  {
   "cell_type": "code",
   "execution_count": null,
   "id": "46e34fa7-fd37-4db1-ae5b-688487624604",
   "metadata": {},
   "outputs": [],
   "source": []
  },
  {
   "cell_type": "code",
   "execution_count": null,
   "id": "93452c18-677c-409a-addf-3a25e142347a",
   "metadata": {},
   "outputs": [],
   "source": []
  },
  {
   "cell_type": "code",
   "execution_count": null,
   "id": "50839e14-9fbb-4c97-b2af-3e9215840d29",
   "metadata": {},
   "outputs": [],
   "source": []
  },
  {
   "cell_type": "code",
   "execution_count": null,
   "id": "a62d44ee-a6a3-4be8-a42d-82f81ddf1a05",
   "metadata": {},
   "outputs": [],
   "source": []
  },
  {
   "cell_type": "code",
   "execution_count": null,
   "id": "16fcad2c-7ef5-4b39-b786-b02c28a34a2d",
   "metadata": {},
   "outputs": [],
   "source": []
  },
  {
   "cell_type": "code",
   "execution_count": null,
   "id": "4bab85c2-dc9c-4d5a-8869-037b2af0bb29",
   "metadata": {},
   "outputs": [],
   "source": []
  },
  {
   "cell_type": "code",
   "execution_count": null,
   "id": "75d9390c-3c35-42da-aa21-691aba9f4941",
   "metadata": {},
   "outputs": [],
   "source": []
  },
  {
   "cell_type": "code",
   "execution_count": null,
   "id": "48179024-85e1-4864-8819-333b06d42504",
   "metadata": {},
   "outputs": [],
   "source": []
  },
  {
   "cell_type": "code",
   "execution_count": null,
   "id": "bc321a8f-45bd-43a6-a611-7c15431b45a8",
   "metadata": {},
   "outputs": [],
   "source": []
  },
  {
   "cell_type": "code",
   "execution_count": null,
   "id": "44f9751e-30cb-49b3-a281-ebe35d392c8d",
   "metadata": {},
   "outputs": [],
   "source": [
    "eval_problem = oad.evaluate_problem(CONFIGURATION_FILE, overwrite=True)"
   ]
  },
  {
   "cell_type": "code",
   "execution_count": null,
   "id": "d2c4e6e1-7d5a-4de3-9faa-da2325c3bee5",
   "metadata": {},
   "outputs": [],
   "source": []
  },
  {
   "cell_type": "code",
   "execution_count": null,
   "id": "38466280-ff02-4162-a6ba-23e0a4468ca8",
   "metadata": {},
   "outputs": [],
   "source": []
  },
  {
   "cell_type": "code",
   "execution_count": null,
   "id": "3a969aac-53de-45d9-a339-bdf684d2e1bc",
   "metadata": {},
   "outputs": [],
   "source": [
    "oad.variable_viewer(eval_problem.output_file_path)"
   ]
  },
  {
   "cell_type": "code",
   "execution_count": null,
   "id": "2d5f87fc-ad9c-4758-8ec0-52d1fa47c773",
   "metadata": {},
   "outputs": [],
   "source": []
  },
  {
   "cell_type": "code",
   "execution_count": null,
   "id": "575565b7-5a92-47f2-a77b-0d20927edf8f",
   "metadata": {},
   "outputs": [],
   "source": []
  },
  {
   "cell_type": "code",
   "execution_count": null,
   "id": "a3bb7138-3ba1-4f60-bfc1-a1f27e2e7377",
   "metadata": {},
   "outputs": [],
   "source": [
    "fig = oad.wing_geometry_plot(eval_problem.output_file_path, name=\"FAST-OAD\")\n",
    "fig.show()"
   ]
  },
  {
   "cell_type": "code",
   "execution_count": null,
   "id": "40466a3a-812c-414c-b38e-208a5d1e0965",
   "metadata": {},
   "outputs": [],
   "source": [
    "oad.aircraft_geometry_plot(eval_problem.output_file_path)"
   ]
  },
  {
   "cell_type": "code",
   "execution_count": null,
   "id": "271795f3-ee96-4d69-b591-0fe4f1ef6bf0",
   "metadata": {},
   "outputs": [],
   "source": [
    "N2_FILE = pth.join(WORK_FOLDER_PATH, \"n2.html\")\n",
    "oad.write_n2(CONFIGURATION_FILE, N2_FILE, overwrite=True)\n",
    "from IPython.display import IFrame\n",
    "\n",
    "IFrame(src=N2_FILE, width=\"100%\", height=\"500px\")"
   ]
  },
  {
   "cell_type": "code",
   "execution_count": null,
   "id": "59832c7c-c9f4-41a1-9360-87317fe35dd0",
   "metadata": {},
   "outputs": [],
   "source": [
    "XDSM_FILE = pth.join(WORK_FOLDER_PATH, 'xdsm.html')\n",
    "oad.write_xdsm(CONFIGURATION_FILE, XDSM_FILE, overwrite=True)\n",
    "from IPython.display import IFrame\n",
    "IFrame(src=XDSM_FILE, width='100%', height='500px')"
   ]
  },
  {
   "cell_type": "code",
   "execution_count": null,
   "id": "75cec621-5161-4532-824e-c3c30a44ee98",
   "metadata": {},
   "outputs": [],
   "source": []
  },
  {
   "cell_type": "code",
   "execution_count": null,
   "id": "37931f20-1598-4ffa-b762-2f9f699d5ec5",
   "metadata": {},
   "outputs": [],
   "source": []
  },
  {
   "cell_type": "code",
   "execution_count": null,
   "id": "a3eb0864-be26-4fc5-9a42-32689d3741b7",
   "metadata": {},
   "outputs": [],
   "source": []
  }
 ],
 "metadata": {
  "kernelspec": {
   "display_name": "Python 3 (ipykernel)",
   "language": "python",
   "name": "python3"
  },
  "language_info": {
   "codemirror_mode": {
    "name": "ipython",
    "version": 3
   },
   "file_extension": ".py",
   "mimetype": "text/x-python",
   "name": "python",
   "nbconvert_exporter": "python",
   "pygments_lexer": "ipython3",
   "version": "3.8.13"
  }
 },
 "nbformat": 4,
 "nbformat_minor": 5
}
