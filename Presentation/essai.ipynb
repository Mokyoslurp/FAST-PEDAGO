{
 "cells": [
  {
   "cell_type": "code",
   "execution_count": 10,
   "id": "9257d31b-de6d-4728-9441-bb553b4021fb",
   "metadata": {},
   "outputs": [],
   "source": [
    "import warnings\n",
    "warnings.filterwarnings(action='ignore')"
   ]
  },
  {
   "cell_type": "code",
   "execution_count": null,
   "id": "535ed99c-6f11-451e-8220-db61e38cc85a",
   "metadata": {},
   "outputs": [],
   "source": []
  },
  {
   "cell_type": "code",
   "execution_count": null,
   "id": "d4219548-7e61-47ee-bb4f-7bf7d7eade5c",
   "metadata": {},
   "outputs": [],
   "source": []
  },
  {
   "cell_type": "code",
   "execution_count": null,
   "id": "14024431-6ff1-467d-8b6a-3dd23235a72e",
   "metadata": {},
   "outputs": [],
   "source": []
  },
  {
   "cell_type": "code",
   "execution_count": null,
   "id": "b723cffd-7535-4866-8a9b-9cd2d1b18644",
   "metadata": {},
   "outputs": [],
   "source": []
  },
  {
   "cell_type": "code",
   "execution_count": 2,
   "id": "ebe294c0-139a-48c4-8f00-fb7e2069c536",
   "metadata": {},
   "outputs": [
    {
     "data": {
      "text/html": [
       "<style>.container { width:95% !important; }</style>"
      ],
      "text/plain": [
       "<IPython.core.display.HTML object>"
      ]
     },
     "metadata": {},
     "output_type": "display_data"
    }
   ],
   "source": [
    "import os.path as pth\n",
    "import openmdao.api as om\n",
    "import logging\n",
    "import shutil\n",
    "import fastoad.api as oad\n",
    "\n",
    "\n",
    "DATA_FOLDER_PATH = \"data\"\n",
    "\n",
    "WORK_FOLDER_PATH = \"workdir\"\n",
    "CONFIGURATION_FILE = pth.join(WORK_FOLDER_PATH, \"oad_sizing.yml\")\n",
    "SOURCE_FILE = pth.join(DATA_FOLDER_PATH, \"CeRAS01_baseline.xml\")\n",
    "\n",
    "# For having log messages on screen\n",
    "logging.basicConfig(level=logging.INFO, format=\"%(levelname)-8s: %(message)s\")\n",
    "\n",
    "# For using all screen width\n",
    "from IPython.core.display import display, HTML\n",
    "\n",
    "display(HTML(\"<style>.container { width:95% !important; }</style>\"))"
   ]
  },
  {
   "cell_type": "code",
   "execution_count": null,
   "id": "95f6a1ad-6d41-4c28-9b9c-ac3a45b504ea",
   "metadata": {},
   "outputs": [],
   "source": []
  },
  {
   "cell_type": "code",
   "execution_count": null,
   "id": "d74c567d-9ded-41fe-a546-2bec80d22bce",
   "metadata": {},
   "outputs": [],
   "source": []
  },
  {
   "cell_type": "code",
   "execution_count": null,
   "id": "aafec7f2-0875-4f16-9175-19ca3f8a2e6e",
   "metadata": {},
   "outputs": [],
   "source": []
  },
  {
   "cell_type": "code",
   "execution_count": 3,
   "id": "7556cdc1-aac9-4f44-877e-d1417f2c83ba",
   "metadata": {},
   "outputs": [
    {
     "data": {
      "text/plain": [
       "'workdir\\\\oad_sizing.yml'"
      ]
     },
     "execution_count": 3,
     "metadata": {},
     "output_type": "execute_result"
    }
   ],
   "source": [
    "shutil.copy(pth.join(DATA_FOLDER_PATH, \"oad_sizing.yml\"), CONFIGURATION_FILE)"
   ]
  },
  {
   "cell_type": "code",
   "execution_count": null,
   "id": "dd3476fb-9ea9-49ed-989c-0b387bc6fdec",
   "metadata": {},
   "outputs": [],
   "source": []
  },
  {
   "cell_type": "code",
   "execution_count": 4,
   "id": "ca95c953-ca5c-49fd-95c5-b70373d77f6a",
   "metadata": {},
   "outputs": [
    {
     "name": "stderr",
     "output_type": "stream",
     "text": [
      "INFO    : Loading FAST-OAD plugin bundled\n",
      "INFO    : Loading bundles from fastoad.models\n",
      "INFO    : Installed bundle fastoad.models.performances.mission.segments.hold (ID 27 )\n",
      "INFO    : Installed bundle fastoad.models.__init__ (ID 35 )\n",
      "INFO    : Installed bundle fastoad.models.performances.mission.openmdao.mission_wrapper (ID 19 )\n",
      "INFO    : Installed bundle fastoad.models.performances.mission.mission_definition.mission_builder (ID 13 )\n",
      "INFO    : Installed bundle fastoad.models.performances.__init__ (ID 34 )\n",
      "INFO    : Installed bundle fastoad.models.performances.mission.exceptions (ID 11 )\n",
      "INFO    : Installed bundle fastoad.models.performances.mission.base (ID 10 )\n",
      "INFO    : Installed bundle fastoad.models.performances.mission.segments.speed_change (ID 28 )\n",
      "INFO    : Installed bundle fastoad.models.performances.mission.mission_definition.resources.__init__ (ID 14 )\n",
      "INFO    : Installed bundle fastoad.models.performances.mission.segments.altitude_change (ID 24 )\n",
      "INFO    : Installed bundle fastoad.models.performances.mission.openmdao.resources.__init__ (ID 20 )\n",
      "INFO    : Installed bundle fastoad.models.performances.mission.__init__ (ID 33 )\n",
      "INFO    : Installed bundle fastoad.models.performances.mission.segments.taxi (ID 29 )\n",
      "INFO    : Installed bundle fastoad.models.performances.mission.openmdao.link_mtow (ID 17 )\n",
      "INFO    : Installed bundle fastoad.models.performances.mission.mission_definition.schema (ID 15 )\n",
      "INFO    : Installed bundle fastoad.models.performances.mission.util (ID 32 )\n",
      "INFO    : Installed bundle fastoad.models.performances.mission.segments.base (ID 25 )\n",
      "INFO    : Installed bundle fastoad.models.performances.mission.segments.__init__ (ID 31 )\n",
      "INFO    : Installed bundle fastoad.models.performances.mission.mission_definition.exceptions (ID 12 )\n",
      "INFO    : Installed bundle fastoad.models.performances.mission.openmdao.__init__ (ID 21 )\n",
      "INFO    : Installed bundle fastoad.models.performances.mission.segments.cruise (ID 26 )\n",
      "INFO    : Installed bundle fastoad.models.performances.mission.mission_definition.__init__ (ID 16 )\n",
      "INFO    : Installed bundle fastoad.models.performances.mission.polar (ID 22 )\n",
      "INFO    : Installed bundle fastoad.models.performances.mission.segments.transition (ID 30 )\n",
      "INFO    : Installed bundle fastoad.models.performances.mission.openmdao.mission (ID 18 )\n",
      "INFO    : Installed bundle fastoad.models.performances.mission.routes (ID 23 )\n",
      "INFO    : Loaded variable descriptions in fastoad.models\n",
      "INFO    : Loading FAST-OAD plugin cs25\n",
      "INFO    : Loading bundles from fastoad_cs25.models\n",
      "INFO    : Installed bundle fastoad_cs25.models.weight.cg.cg_components.load_cases.__init__ (ID 145 )\n",
      "INFO    : Installed bundle fastoad_cs25.models.weight.mass_breakdown.payload (ID 189 )\n",
      "INFO    : Installed bundle fastoad_cs25.models.weight.mass_breakdown.update_mlw_and_mzfw (ID 190 )\n",
      "INFO    : Installed bundle fastoad_cs25.models.aerodynamics.components.cd0_ht (ID 42 )\n",
      "INFO    : Installed bundle fastoad_cs25.models.weight.mass_breakdown.__init__ (ID 191 )\n",
      "INFO    : Installed bundle fastoad_cs25.models.weight.weight (ID 192 )\n",
      "INFO    : Installed bundle fastoad_cs25.models.weight.__init__ (ID 193 )\n",
      "INFO    : Installed bundle fastoad_cs25.models.weight.cg.cg_components.update_mlg (ID 146 )\n",
      "INFO    : Installed bundle fastoad_cs25.models.weight.mass_breakdown.d_furniture.d1_cargo_configuration_weight (ID 179 )\n",
      "INFO    : Installed bundle fastoad_cs25.models.__init__ (ID 194 )\n",
      "INFO    : Installed bundle fastoad_cs25.models.aerodynamics.aerodynamics_high_speed (ID 36 )\n",
      "INFO    : Installed bundle fastoad_cs25.models.weight.cg.constants (ID 148 )\n",
      "INFO    : Installed bundle fastoad_cs25.models.weight.mass_breakdown.d_furniture.d2_passenger_seats_weight (ID 180 )\n",
      "INFO    : Installed bundle fastoad_cs25.models.weight.cg.cg_components.__init__ (ID 147 )\n",
      "INFO    : Installed bundle fastoad_cs25.models.weight.mass_breakdown.d_furniture.d3_food_water_weight (ID 181 )\n",
      "INFO    : Installed bundle fastoad_cs25.models.weight.mass_breakdown.d_furniture.d4_security_kit_weight (ID 182 )\n",
      "INFO    : Installed bundle fastoad_cs25.models.weight.cg.__init__ (ID 149 )\n",
      "INFO    : Installed bundle fastoad_cs25.models.weight.mass_breakdown.d_furniture.d5_toilets_weight (ID 183 )\n",
      "INFO    : Installed bundle fastoad_cs25.models.weight.constants (ID 150 )\n",
      "INFO    : Installed bundle fastoad_cs25.models.weight.mass_breakdown.d_furniture.sum (ID 184 )\n",
      "INFO    : Installed bundle fastoad_cs25.models.weight.mass_breakdown.a_airframe.a2_fuselage_weight (ID 152 )\n",
      "INFO    : Installed bundle fastoad_cs25.models.weight.mass_breakdown.d_furniture.__init__ (ID 185 )\n",
      "INFO    : Installed bundle fastoad_cs25.models.weight.mass_breakdown.a_airframe.a3_empennage_weight (ID 153 )\n",
      "INFO    : Installed bundle fastoad_cs25.models.aerodynamics.aerodynamics_landing (ID 37 )\n",
      "INFO    : Installed bundle fastoad_cs25.models.weight.mass_breakdown.a_airframe.a4_flight_control_weight (ID 154 )\n",
      "INFO    : Installed bundle fastoad_cs25.models.weight.mass_breakdown.a_airframe.a5_landing_gear_weight (ID 155 )\n",
      "INFO    : Installed bundle fastoad_cs25.models.weight.mass_breakdown.a_airframe.a1_wing_weight (ID 151 )\n",
      "INFO    : Installed bundle fastoad_cs25.models.weight.mass_breakdown.a_airframe.a6_pylons_weight (ID 156 )\n",
      "INFO    : Installed bundle fastoad_cs25.models.weight.mass_breakdown.a_airframe.a7_paint_weight (ID 157 )\n",
      "INFO    : Installed bundle fastoad_cs25.models.weight.mass_breakdown.a_airframe.constants (ID 158 )\n",
      "INFO    : Installed bundle fastoad_cs25.models.weight.mass_breakdown.e_crew.crew_weight (ID 186 )\n",
      "INFO    : Installed bundle fastoad_cs25.models.weight.mass_breakdown.a_airframe.sum (ID 159 )\n",
      "INFO    : Installed bundle fastoad_cs25.models.weight.mass_breakdown.e_crew.__init__ (ID 187 )\n",
      "INFO    : Installed bundle fastoad_cs25.models.weight.mass_breakdown.a_airframe.__init__ (ID 160 )\n",
      "INFO    : Installed bundle fastoad_cs25.models.weight.mass_breakdown.mass_breakdown (ID 188 )\n",
      "INFO    : Installed bundle fastoad_cs25.models.weight.mass_breakdown.b_propulsion.b1_engine_weight (ID 161 )\n",
      "INFO    : Installed bundle fastoad_cs25.models.aerodynamics.components.cd_compressibility (ID 47 )\n",
      "INFO    : Installed bundle fastoad_cs25.models.aerodynamics.components.initialize_cl (ID 54 )\n",
      "INFO    : Installed bundle fastoad_cs25.models.geometry.constants (ID 70 )\n",
      "INFO    : Installed bundle fastoad_cs25.models.loops.compute_wing_position (ID 120 )\n",
      "INFO    : Installed bundle fastoad_cs25.models.weight.mass_breakdown.c_systems.c3_navigation_systems_weight (ID 171 )\n",
      "INFO    : Installed bundle fastoad_cs25.models.geometry.geom_components.__init__ (ID 107 )\n",
      "INFO    : Installed bundle fastoad_cs25.models.weight.cg.cg_components.compute_cg_others (ID 131 )\n",
      "INFO    : Installed bundle fastoad_cs25.models.weight.mass_breakdown.c_systems.c4_transmissions_systems_weight (ID 172 )\n",
      "INFO    : Installed bundle fastoad_cs25.models.propulsion.fuel_propulsion.rubber_engine.constants (ID 122 )\n",
      "INFO    : Installed bundle fastoad_cs25.models.weight.mass_breakdown.c_systems.c5_fixed_operational_systems_weight (ID 173 )\n",
      "INFO    : Installed bundle fastoad_cs25.models.geometry.profiles.profile (ID 108 )\n",
      "INFO    : Installed bundle fastoad_cs25.models.weight.mass_breakdown.c_systems.c6_flight_kit_weight (ID 174 )\n",
      "INFO    : Installed bundle fastoad_cs25.models.geometry.__init__ (ID 112 )\n",
      "INFO    : Installed bundle fastoad_cs25.models.geometry.compute_aero_center (ID 69 )\n",
      "INFO    : Installed bundle fastoad_cs25.models.geometry.profiles.profile_getter (ID 109 )\n",
      "INFO    : Installed bundle fastoad_cs25.models.weight.cg.cg_components.compute_ht_cg (ID 136 )\n",
      "INFO    : Installed bundle fastoad_cs25.models.weight.mass_breakdown.c_systems.constants (ID 175 )\n",
      "INFO    : Installed bundle fastoad_cs25.models.aerodynamics.components.cd_trim (ID 48 )\n",
      "INFO    : Installed bundle fastoad_cs25.models.geometry.geometry (ID 71 )\n",
      "INFO    : Installed bundle fastoad_cs25.models.weight.cg.cg_components.load_cases.compute_cg_loadcase1 (ID 139 )\n",
      "INFO    : Installed bundle fastoad_cs25.models.geometry.profiles.resources.__init__ (ID 110 )\n",
      "INFO    : Installed bundle fastoad_cs25.models.aerodynamics.components.oswald (ID 55 )\n",
      "INFO    : Installed bundle fastoad_cs25.models.aerodynamics.components.compute_low_speed_aero (ID 49 )\n",
      "INFO    : Installed bundle fastoad_cs25.models.weight.mass_breakdown.c_systems.sum (ID 176 )\n",
      "INFO    : Installed bundle fastoad_cs25.models.weight.mass_breakdown.b_propulsion.b2_fuel_lines_weight (ID 162 )\n",
      "INFO    : Installed bundle fastoad_cs25.models.aerodynamics.components.compute_max_cl_landing (ID 50 )\n",
      "INFO    : Installed bundle fastoad_cs25.models.aerodynamics.components.utils.cd0_lifting_surface (ID 57 )\n",
      "INFO    : Installed bundle fastoad_cs25.models.geometry.geom_components.compute_wetted_area (ID 72 )\n",
      "INFO    : Installed bundle fastoad_cs25.models.geometry.geom_components.ht.components.compute_ht_cl_alpha (ID 77 )\n",
      "INFO    : Installed bundle fastoad_cs25.models.geometry.profiles.__init__ (ID 111 )\n",
      "INFO    : Installed bundle fastoad_cs25.models.weight.mass_breakdown.b_propulsion.b3_unconsumables_weight (ID 163 )\n",
      "INFO    : Installed bundle fastoad_cs25.models.aerodynamics.components.resources.__init__ (ID 56 )\n",
      "INFO    : Installed bundle fastoad_cs25.models.geometry.geom_components.ht.components.compute_ht_mac (ID 78 )\n",
      "INFO    : Installed bundle fastoad_cs25.models.weight.mass_breakdown.b_propulsion.constants (ID 164 )\n",
      "INFO    : Installed bundle fastoad_cs25.models.geometry.geom_components.fuselage.compute_cnbeta_fuselage (ID 73 )\n",
      "INFO    : Installed bundle fastoad_cs25.models.geometry.geom_components.ht.components.compute_ht_sweep (ID 79 )\n",
      "INFO    : Installed bundle fastoad_cs25.models.handling_qualities.tail_sizing.compute_ht_area (ID 114 )\n",
      "INFO    : Installed bundle fastoad_cs25.models.propulsion.fuel_propulsion.rubber_engine.exceptions (ID 123 )\n",
      "INFO    : Installed bundle fastoad_cs25.models.weight.cg.cg_components.compute_vt_cg (ID 138 )\n",
      "INFO    : Installed bundle fastoad_cs25.models.geometry.geom_components.ht.components.__init__ (ID 80 )\n",
      "INFO    : Installed bundle fastoad_cs25.models.propulsion.fuel_propulsion.rubber_engine.__init__ (ID 126 )\n",
      "INFO    : Installed bundle fastoad_cs25.models.handling_qualities.compute_static_margin (ID 113 )\n",
      "INFO    : Installed bundle fastoad_cs25.models.propulsion.fuel_propulsion.rubber_engine.rubber_engine (ID 125 )\n",
      "INFO    : Installed bundle fastoad_cs25.models.weight.mass_breakdown.b_propulsion.sum (ID 165 )\n",
      "INFO    : Installed bundle fastoad_cs25.models.aerodynamics.components.cd0 (ID 40 )\n",
      "INFO    : Installed bundle fastoad_cs25.models.aerodynamics.components.utils.friction_drag (ID 58 )\n",
      "INFO    : Installed bundle fastoad_cs25.models.propulsion.fuel_propulsion.rubber_engine.openmdao (ID 124 )\n",
      "INFO    : Installed bundle fastoad_cs25.models.aerodynamics.components.cd0_nacelles_pylons (ID 43 )\n",
      "INFO    : Installed bundle fastoad_cs25.models.aerodynamics.constants (ID 61 )\n",
      "INFO    : Installed bundle fastoad_cs25.models.geometry.geom_components.fuselage.compute_fuselage (ID 74 )\n",
      "INFO    : Installed bundle fastoad_cs25.models.weight.cg.cg_components.load_cases.compute_cg_loadcase2 (ID 140 )\n",
      "INFO    : Installed bundle fastoad_cs25.models.weight.mass_breakdown.b_propulsion.__init__ (ID 166 )\n",
      "INFO    : Installed bundle fastoad_cs25.models.geometry.geom_components.ht.compute_horizontal_tail (ID 81 )\n",
      "INFO    : Installed bundle fastoad_cs25.models.geometry.geom_components.vt.components.compute_vt_distance (ID 87 )\n",
      "INFO    : Installed bundle fastoad_cs25.models.handling_qualities.tail_sizing.compute_tail_areas (ID 115 )\n",
      "INFO    : Installed bundle fastoad_cs25.models.propulsion.__init__ (ID 128 )\n",
      "INFO    : Installed bundle fastoad_cs25.models.aerodynamics.components.utils.__init__ (ID 59 )\n",
      "INFO    : Installed bundle fastoad_cs25.models.geometry.geom_components.vt.components.compute_vt_mac (ID 88 )\n",
      "INFO    : Installed bundle fastoad_cs25.models.geometry.geom_components.wing.components.compute_l1_l4 (ID 95 )\n",
      "INFO    : Installed bundle fastoad_cs25.models.geometry.geom_components.vt.components.compute_vt_sweep (ID 89 )\n",
      "INFO    : Installed bundle fastoad_cs25.models.geometry.geom_components.wing.components.compute_l2_l3 (ID 96 )\n",
      "INFO    : Installed bundle fastoad_cs25.models.propulsion.fuel_propulsion.__init__ (ID 127 )\n",
      "INFO    : Installed bundle fastoad_cs25.models.weight.mass_breakdown.c_systems.__init__ (ID 177 )\n",
      "INFO    : Installed bundle fastoad_cs25.models.aerodynamics.components.compute_polar (ID 51 )\n",
      "INFO    : Installed bundle fastoad_cs25.models.geometry.geom_components.vt.components.__init__ (ID 90 )\n",
      "INFO    : Installed bundle fastoad_cs25.models.geometry.geom_components.wing.components.compute_mac_wing (ID 97 )\n",
      "INFO    : Installed bundle fastoad_cs25.models.weight.mass_breakdown.constants (ID 167 )\n",
      "INFO    : Installed bundle fastoad_cs25.models.aerodynamics.aerodynamics_low_speed (ID 38 )\n",
      "INFO    : Installed bundle fastoad_cs25.models.aerodynamics.components.__init__ (ID 60 )\n",
      "INFO    : Installed bundle fastoad_cs25.models.geometry.geom_components.ht.__init__ (ID 82 )\n",
      "INFO    : Installed bundle fastoad_cs25.models.geometry.geom_components.wing.components.compute_mfw (ID 98 )\n",
      "INFO    : Installed bundle fastoad_cs25.models.weight.mass_breakdown.c_systems.c1_power_systems_weight (ID 169 )\n",
      "INFO    : Installed bundle fastoad_cs25.models.geometry.geom_components.vt.compute_vertical_tail (ID 91 )\n",
      "INFO    : Installed bundle fastoad_cs25.models.geometry.geom_components.wing.components.compute_sweep_wing (ID 99 )\n",
      "INFO    : Installed bundle fastoad_cs25.models.weight.cg.cg_components.compute_cg_ratio_aft (ID 132 )\n",
      "INFO    : Installed bundle fastoad_cs25.models.weight.mass_breakdown.cs25 (ID 168 )\n",
      "INFO    : Installed bundle fastoad_cs25.models.aerodynamics.external.xfoil.xfoil699.__init__ (ID 63 )\n",
      "INFO    : Installed bundle fastoad_cs25.models.geometry.geom_components.nacelle_pylons.compute_nacelle_pylons (ID 83 )\n",
      "INFO    : Installed bundle fastoad_cs25.models.geometry.geom_components.fuselage.__init__ (ID 75 )\n",
      "INFO    : Installed bundle fastoad_cs25.models.geometry.geom_components.wing.components.compute_toc_wing (ID 100 )\n",
      "INFO    : Installed bundle fastoad_cs25.models.weight.cg.cg (ID 129 )\n",
      "INFO    : Installed bundle fastoad_cs25.models.weight.mass_breakdown.d_furniture.constants (ID 178 )\n",
      "INFO    : Installed bundle fastoad_cs25.models.aerodynamics.components.compute_reynolds (ID 52 )\n",
      "INFO    : Installed bundle fastoad_cs25.models.aerodynamics.external.xfoil.resources.__init__ (ID 62 )\n",
      "INFO    : Installed bundle fastoad_cs25.models.geometry.geom_components.wing.components.compute_wet_area_wing (ID 101 )\n",
      "INFO    : Installed bundle fastoad_cs25.models.handling_qualities.tail_sizing.compute_vt_area (ID 116 )\n",
      "INFO    : Installed bundle fastoad_cs25.models.geometry.geom_components.wing.components.compute_x_wing (ID 102 )\n",
      "INFO    : Installed bundle fastoad_cs25.models.weight.cg.cg_components.compute_cg_tanks (ID 133 )\n",
      "INFO    : Installed bundle fastoad_cs25.models.aerodynamics.components.high_lift_aero (ID 53 )\n",
      "INFO    : Installed bundle fastoad_cs25.models.geometry.geom_components.vt.__init__ (ID 92 )\n",
      "INFO    : Installed bundle fastoad_cs25.models.geometry.geom_components.wing.components.compute_y_wing (ID 103 )\n",
      "INFO    : Installed bundle fastoad_cs25.models.weight.cg.cg_components.compute_cg_control_surfaces (ID 130 )\n",
      "INFO    : Installed bundle fastoad_cs25.models.geometry.geom_components.wing.components.__init__ (ID 104 )\n",
      "INFO    : Installed bundle fastoad_cs25.models.geometry.geom_components.nacelle_pylons.__init__ (ID 84 )\n",
      "INFO    : Installed bundle fastoad_cs25.models.weight.cg.cg_components.load_cases.compute_cg_loadcase3 (ID 141 )\n",
      "INFO    : Installed bundle fastoad_cs25.models.aerodynamics.components.cd0_total (ID 44 )\n",
      "INFO    : Installed bundle fastoad_cs25.models.geometry.geom_components.ht.components.compute_ht_chords (ID 76 )\n",
      "INFO    : Installed bundle fastoad_cs25.models.weight.cg.cg_components.compute_cg_wing (ID 134 )\n",
      "INFO    : Installed bundle fastoad_cs25.models.aerodynamics.components.cd0_fuselage (ID 41 )\n",
      "INFO    : Installed bundle fastoad_cs25.models.aerodynamics.external.xfoil.xfoil_polar (ID 64 )\n",
      "INFO    : Installed bundle fastoad_cs25.models.geometry.geom_components.wing.components.compute_b_50 (ID 93 )\n",
      "INFO    : Installed bundle fastoad_cs25.models.handling_qualities.tail_sizing.__init__ (ID 117 )\n",
      "INFO    : Installed bundle fastoad_cs25.models.aerodynamics.__init__ (ID 67 )\n",
      "INFO    : Installed bundle fastoad_cs25.models.geometry.geom_components.vt.components.compute_vt_chords (ID 85 )\n",
      "INFO    : Installed bundle fastoad_cs25.models.geometry.geom_components.wing.components.compute_cl_alpha (ID 94 )\n",
      "INFO    : Installed bundle fastoad_cs25.models.geometry.geom_components.wing.compute_wing (ID 105 )\n",
      "INFO    : Installed bundle fastoad_cs25.models.weight.cg.cg_components.load_cases.compute_cg_loadcase4 (ID 142 )\n",
      "INFO    : Installed bundle fastoad_cs25.models.aerodynamics.external.xfoil.__init__ (ID 65 )\n",
      "INFO    : Installed bundle fastoad_cs25.models.aerodynamics.components.cd0_vt (ID 45 )\n",
      "INFO    : Installed bundle fastoad_cs25.models.handling_qualities.__init__ (ID 118 )\n",
      "INFO    : Installed bundle fastoad_cs25.models.geometry.geom_components.vt.components.compute_vt_clalpha (ID 86 )\n",
      "INFO    : Installed bundle fastoad_cs25.models.aerodynamics.components.cd0_wing (ID 46 )\n",
      "INFO    : Installed bundle fastoad_cs25.models.aerodynamics.external.__init__ (ID 66 )\n",
      "INFO    : Installed bundle fastoad_cs25.models.geometry.geom_components.wing.__init__ (ID 106 )\n",
      "INFO    : Installed bundle fastoad_cs25.models.loops.compute_wing_area (ID 119 )\n",
      "INFO    : Installed bundle fastoad_cs25.models.weight.cg.cg_components.compute_global_cg (ID 135 )\n",
      "INFO    : Installed bundle fastoad_cs25.models.weight.cg.cg_components.load_cases.compute_cg_loadcases (ID 143 )\n",
      "INFO    : Installed bundle fastoad_cs25.models.weight.mass_breakdown.c_systems.c2_life_support_systems_weight (ID 170 )\n",
      "INFO    : Installed bundle fastoad_cs25.models.aerodynamics.aerodynamics_takeoff (ID 39 )\n",
      "INFO    : Installed bundle fastoad_cs25.models.loops.__init__ (ID 121 )\n",
      "INFO    : Installed bundle fastoad_cs25.models.weight.cg.cg_components.compute_max_cg_ratio (ID 137 )\n",
      "INFO    : Installed bundle fastoad_cs25.models.weight.cg.cg_components.load_cases.compute_cg_loadcase_base (ID 144 )\n",
      "INFO    : Installed bundle fastoad_cs25.models.constants (ID 68 )\n",
      "INFO    : Loaded variable descriptions in fastoad_cs25.models\n",
      "INFO    : Problem inputs written in C:\\Users\\PC\\PycharmProjects\\FAST-PEDAGO\\Presentation\\workdir\\problem_inputs.xml\n"
     ]
    },
    {
     "data": {
      "text/plain": [
       "'C:\\\\Users\\\\PC\\\\PycharmProjects\\\\FAST-PEDAGO\\\\Presentation\\\\workdir\\\\problem_inputs.xml'"
      ]
     },
     "execution_count": 4,
     "metadata": {},
     "output_type": "execute_result"
    }
   ],
   "source": [
    "oad.generate_inputs(CONFIGURATION_FILE, SOURCE_FILE, overwrite=True)"
   ]
  },
  {
   "cell_type": "code",
   "execution_count": null,
   "id": "6bd38f8e-2482-4f3f-a914-1870b1bfd180",
   "metadata": {},
   "outputs": [],
   "source": []
  },
  {
   "cell_type": "code",
   "execution_count": null,
   "id": "5b6c54c1-8209-4d15-bfad-e85d7e3aebb7",
   "metadata": {},
   "outputs": [],
   "source": []
  },
  {
   "cell_type": "code",
   "execution_count": 15,
   "id": "320af2b3-12a4-4902-8cea-db73a5a90a6b",
   "metadata": {},
   "outputs": [],
   "source": [
    "conf = oad.FASTOADProblemConfigurator(\"data/oad_sizing.yml\") # reads the configuration file\n",
    "#conf.write_needed_inputs(\"data/CeRAS01_baseline.xml\") # you may skip this step if you already generated your input file\n",
    "problem = conf.get_problem(read_inputs=True) # here you get an OpenMDAO problem (with only a few additions)\n",
    "problem.setup()"
   ]
  },
  {
   "cell_type": "code",
   "execution_count": null,
   "id": "f065b209-fa26-4b3e-a045-7de416a5ae2f",
   "metadata": {},
   "outputs": [],
   "source": []
  },
  {
   "cell_type": "code",
   "execution_count": 16,
   "id": "c8e49638-3bc7-49d4-ac85-d754743a8b8a",
   "metadata": {},
   "outputs": [],
   "source": [
    "problem1=om.Problem()\n",
    "problem1.model=problem.model"
   ]
  },
  {
   "cell_type": "code",
   "execution_count": null,
   "id": "211db000-949c-4339-af62-978f83216b04",
   "metadata": {},
   "outputs": [],
   "source": []
  },
  {
   "cell_type": "code",
   "execution_count": null,
   "id": "e689c8d6-b663-48ef-abf2-b7464dc4a7d2",
   "metadata": {},
   "outputs": [],
   "source": []
  },
  {
   "cell_type": "code",
   "execution_count": 17,
   "id": "7d8ac05e-8e1e-4adb-9b37-b745e45eaac1",
   "metadata": {},
   "outputs": [],
   "source": [
    "# Here you may add your recorder using the OpenMDAO way\n",
    "recorder = om.SqliteRecorder(\"record.sql\")\n",
    "problem1.model.nonlinear_solver.add_recorder(recorder)\n",
    "problem1.model.nonlinear_solver.recording_options['includes'] = ['*']\n"
   ]
  },
  {
   "cell_type": "code",
   "execution_count": null,
   "id": "5b58160b-0fd1-4d03-8f2c-6892594eafda",
   "metadata": {},
   "outputs": [],
   "source": []
  },
  {
   "cell_type": "code",
   "execution_count": null,
   "id": "f4c248da-4a38-4f65-aa6e-9b5954dd0cff",
   "metadata": {},
   "outputs": [],
   "source": []
  },
  {
   "cell_type": "code",
   "execution_count": null,
   "id": "ef3043c5-a94f-401b-a5c5-283a536a7597",
   "metadata": {},
   "outputs": [],
   "source": []
  },
  {
   "cell_type": "code",
   "execution_count": null,
   "id": "725d9df5-e75e-4061-baa1-7ba8b2bf2be3",
   "metadata": {},
   "outputs": [],
   "source": []
  },
  {
   "cell_type": "code",
   "execution_count": 18,
   "id": "a2a8d5ff-f960-4d12-8083-160d13b0973a",
   "metadata": {},
   "outputs": [
    {
     "ename": "RuntimeError",
     "evalue": "Problem problem5: The `setup` method must be called before `run_model`.",
     "output_type": "error",
     "traceback": [
      "\u001b[1;31m---------------------------------------------------------------------------\u001b[0m",
      "\u001b[1;31mRuntimeError\u001b[0m                              Traceback (most recent call last)",
      "Input \u001b[1;32mIn [18]\u001b[0m, in \u001b[0;36m<cell line: 3>\u001b[1;34m()\u001b[0m\n\u001b[0;32m      1\u001b[0m \u001b[38;5;66;03m# You run the problem normally\u001b[39;00m\n\u001b[0;32m      2\u001b[0m \u001b[38;5;66;03m#problem1.setup()\u001b[39;00m\n\u001b[1;32m----> 3\u001b[0m \u001b[43mproblem1\u001b[49m\u001b[38;5;241;43m.\u001b[39;49m\u001b[43mrun_model\u001b[49m\u001b[43m(\u001b[49m\u001b[43m)\u001b[49m\n",
      "File \u001b[1;32m~\\anaconda3\\envs\\FAST-PEDAGO\\lib\\site-packages\\openmdao\\core\\problem.py:693\u001b[0m, in \u001b[0;36mProblem.run_model\u001b[1;34m(self, case_prefix, reset_iter_counts)\u001b[0m\n\u001b[0;32m    681\u001b[0m \u001b[38;5;124;03m\"\"\"\u001b[39;00m\n\u001b[0;32m    682\u001b[0m \u001b[38;5;124;03mRun the model by calling the root system's solve_nonlinear.\u001b[39;00m\n\u001b[0;32m    683\u001b[0m \n\u001b[1;32m   (...)\u001b[0m\n\u001b[0;32m    690\u001b[0m \u001b[38;5;124;03m    If True and model has been run previously, reset all iteration counters.\u001b[39;00m\n\u001b[0;32m    691\u001b[0m \u001b[38;5;124;03m\"\"\"\u001b[39;00m\n\u001b[0;32m    692\u001b[0m \u001b[38;5;28;01mif\u001b[39;00m \u001b[38;5;28mself\u001b[39m\u001b[38;5;241m.\u001b[39m_mode \u001b[38;5;129;01mis\u001b[39;00m \u001b[38;5;28;01mNone\u001b[39;00m:\n\u001b[1;32m--> 693\u001b[0m     \u001b[38;5;28;01mraise\u001b[39;00m \u001b[38;5;167;01mRuntimeError\u001b[39;00m(\u001b[38;5;28mself\u001b[39m\u001b[38;5;241m.\u001b[39mmsginfo \u001b[38;5;241m+\u001b[39m\n\u001b[0;32m    694\u001b[0m                        \u001b[38;5;124m\"\u001b[39m\u001b[38;5;124m: The `setup` method must be called before `run_model`.\u001b[39m\u001b[38;5;124m\"\u001b[39m)\n\u001b[0;32m    696\u001b[0m \u001b[38;5;28;01mif\u001b[39;00m case_prefix:\n\u001b[0;32m    697\u001b[0m     \u001b[38;5;28;01mif\u001b[39;00m \u001b[38;5;129;01mnot\u001b[39;00m \u001b[38;5;28misinstance\u001b[39m(case_prefix, \u001b[38;5;28mstr\u001b[39m):\n",
      "\u001b[1;31mRuntimeError\u001b[0m: Problem problem5: The `setup` method must be called before `run_model`."
     ]
    }
   ],
   "source": [
    "# You run the problem normally\n",
    "#problem1.setup()\n",
    "problem1.run_model()"
   ]
  },
  {
   "cell_type": "code",
   "execution_count": null,
   "id": "24adb594-e87f-4ceb-a74a-85659a437320",
   "metadata": {},
   "outputs": [],
   "source": []
  },
  {
   "cell_type": "code",
   "execution_count": null,
   "id": "516e5ff4-b6a7-4575-a80b-8454e416ac6f",
   "metadata": {},
   "outputs": [],
   "source": []
  },
  {
   "cell_type": "code",
   "execution_count": null,
   "id": "7e8c7c09-31c4-42e2-adf4-cef137df2c9c",
   "metadata": {},
   "outputs": [],
   "source": []
  },
  {
   "cell_type": "code",
   "execution_count": null,
   "id": "3ea7c24f-e87b-4dfd-9413-c7055aaf4660",
   "metadata": {},
   "outputs": [],
   "source": []
  },
  {
   "cell_type": "code",
   "execution_count": null,
   "id": "c9cffe75-dac7-47eb-9ac1-acebba3dd3b8",
   "metadata": {},
   "outputs": [],
   "source": []
  },
  {
   "cell_type": "code",
   "execution_count": 10,
   "id": "2d303623-ea61-403f-b6f6-d94584e8e18a",
   "metadata": {},
   "outputs": [
    {
     "ename": "TypeError",
     "evalue": "cannot pickle 'sqlite3.Connection' object",
     "output_type": "error",
     "traceback": [
      "\u001b[1;31m---------------------------------------------------------------------------\u001b[0m",
      "\u001b[1;31mTypeError\u001b[0m                                 Traceback (most recent call last)",
      "Input \u001b[1;32mIn [10]\u001b[0m, in \u001b[0;36m<cell line: 3>\u001b[1;34m()\u001b[0m\n\u001b[0;32m      1\u001b[0m \u001b[38;5;66;03m# To get FAST-OAD outputs, you have to use the method we have added\u001b[39;00m\n\u001b[0;32m      2\u001b[0m \u001b[38;5;66;03m# to our slightly modified Problem class: \u001b[39;00m\n\u001b[1;32m----> 3\u001b[0m \u001b[43mproblem\u001b[49m\u001b[38;5;241;43m.\u001b[39;49m\u001b[43mwrite_outputs\u001b[49m\u001b[43m(\u001b[49m\u001b[43m)\u001b[49m\n",
      "File \u001b[1;32m~\\anaconda3\\envs\\FAST-PEDAGO\\lib\\site-packages\\fastoad\\openmdao\\problem.py:109\u001b[0m, in \u001b[0;36mFASTOADProblem.write_outputs\u001b[1;34m(self)\u001b[0m\n\u001b[0;32m    106\u001b[0m \u001b[38;5;28;01mfor\u001b[39;00m var \u001b[38;5;129;01min\u001b[39;00m variables:\n\u001b[0;32m    107\u001b[0m     var\u001b[38;5;241m.\u001b[39mis_input \u001b[38;5;241m=\u001b[39m \u001b[38;5;28;01mNone\u001b[39;00m\n\u001b[0;32m    108\u001b[0m variables\u001b[38;5;241m.\u001b[39mupdate(\n\u001b[1;32m--> 109\u001b[0m     \u001b[43mVariableList\u001b[49m\u001b[38;5;241;43m.\u001b[39;49m\u001b[43mfrom_problem\u001b[49m\u001b[43m(\u001b[49m\u001b[38;5;28;43mself\u001b[39;49m\u001b[43m,\u001b[49m\u001b[43m \u001b[49m\u001b[43mpromoted_only\u001b[49m\u001b[38;5;241;43m=\u001b[39;49m\u001b[38;5;28;43;01mTrue\u001b[39;49;00m\u001b[43m)\u001b[49m, add_variables\u001b[38;5;241m=\u001b[39m\u001b[38;5;28;01mTrue\u001b[39;00m\n\u001b[0;32m    110\u001b[0m )\n\u001b[0;32m    111\u001b[0m writer\u001b[38;5;241m.\u001b[39mwrite(variables)\n",
      "File \u001b[1;32m~\\anaconda3\\envs\\FAST-PEDAGO\\lib\\site-packages\\fastoad\\openmdao\\variables\\variable_list.py:263\u001b[0m, in \u001b[0;36mVariableList.from_problem\u001b[1;34m(cls, problem, use_initial_values, get_promoted_names, promoted_only, io_status)\u001b[0m\n\u001b[0;32m    235\u001b[0m \u001b[38;5;129m@classmethod\u001b[39m\n\u001b[0;32m    236\u001b[0m \u001b[38;5;28;01mdef\u001b[39;00m \u001b[38;5;21mfrom_problem\u001b[39m(\n\u001b[0;32m    237\u001b[0m     \u001b[38;5;28mcls\u001b[39m,\n\u001b[1;32m   (...)\u001b[0m\n\u001b[0;32m    242\u001b[0m     io_status: \u001b[38;5;28mstr\u001b[39m \u001b[38;5;241m=\u001b[39m \u001b[38;5;124m\"\u001b[39m\u001b[38;5;124mall\u001b[39m\u001b[38;5;124m\"\u001b[39m,\n\u001b[0;32m    243\u001b[0m ) \u001b[38;5;241m-\u001b[39m\u001b[38;5;241m>\u001b[39m \u001b[38;5;124m\"\u001b[39m\u001b[38;5;124mVariableList\u001b[39m\u001b[38;5;124m\"\u001b[39m:\n\u001b[0;32m    244\u001b[0m     \u001b[38;5;124;03m\"\"\"\u001b[39;00m\n\u001b[0;32m    245\u001b[0m \u001b[38;5;124;03m    Creates a VariableList instance containing inputs and outputs of an OpenMDAO Problem.\u001b[39;00m\n\u001b[0;32m    246\u001b[0m \n\u001b[1;32m   (...)\u001b[0m\n\u001b[0;32m    260\u001b[0m \u001b[38;5;124;03m    :return: VariableList instance\u001b[39;00m\n\u001b[0;32m    261\u001b[0m \u001b[38;5;124;03m    \"\"\"\u001b[39;00m\n\u001b[1;32m--> 263\u001b[0m     problem \u001b[38;5;241m=\u001b[39m \u001b[43mdeepcopy\u001b[49m\u001b[43m(\u001b[49m\u001b[43mproblem\u001b[49m\u001b[43m)\u001b[49m\n\u001b[0;32m    264\u001b[0m     \u001b[38;5;28;01mif\u001b[39;00m \u001b[38;5;129;01mnot\u001b[39;00m problem\u001b[38;5;241m.\u001b[39m_metadata \u001b[38;5;129;01mor\u001b[39;00m problem\u001b[38;5;241m.\u001b[39m_metadata[\u001b[38;5;124m\"\u001b[39m\u001b[38;5;124msetup_status\u001b[39m\u001b[38;5;124m\"\u001b[39m] \u001b[38;5;241m<\u001b[39m _SetupStatus\u001b[38;5;241m.\u001b[39mPOST_SETUP:\n\u001b[0;32m    265\u001b[0m         problem\u001b[38;5;241m.\u001b[39msetup()\n",
      "File \u001b[1;32m~\\anaconda3\\envs\\FAST-PEDAGO\\lib\\copy.py:172\u001b[0m, in \u001b[0;36mdeepcopy\u001b[1;34m(x, memo, _nil)\u001b[0m\n\u001b[0;32m    170\u001b[0m                 y \u001b[38;5;241m=\u001b[39m x\n\u001b[0;32m    171\u001b[0m             \u001b[38;5;28;01melse\u001b[39;00m:\n\u001b[1;32m--> 172\u001b[0m                 y \u001b[38;5;241m=\u001b[39m \u001b[43m_reconstruct\u001b[49m\u001b[43m(\u001b[49m\u001b[43mx\u001b[49m\u001b[43m,\u001b[49m\u001b[43m \u001b[49m\u001b[43mmemo\u001b[49m\u001b[43m,\u001b[49m\u001b[43m \u001b[49m\u001b[38;5;241;43m*\u001b[39;49m\u001b[43mrv\u001b[49m\u001b[43m)\u001b[49m\n\u001b[0;32m    174\u001b[0m \u001b[38;5;66;03m# If is its own copy, don't memoize.\u001b[39;00m\n\u001b[0;32m    175\u001b[0m \u001b[38;5;28;01mif\u001b[39;00m y \u001b[38;5;129;01mis\u001b[39;00m \u001b[38;5;129;01mnot\u001b[39;00m x:\n",
      "File \u001b[1;32m~\\anaconda3\\envs\\FAST-PEDAGO\\lib\\copy.py:270\u001b[0m, in \u001b[0;36m_reconstruct\u001b[1;34m(x, memo, func, args, state, listiter, dictiter, deepcopy)\u001b[0m\n\u001b[0;32m    268\u001b[0m \u001b[38;5;28;01mif\u001b[39;00m state \u001b[38;5;129;01mis\u001b[39;00m \u001b[38;5;129;01mnot\u001b[39;00m \u001b[38;5;28;01mNone\u001b[39;00m:\n\u001b[0;32m    269\u001b[0m     \u001b[38;5;28;01mif\u001b[39;00m deep:\n\u001b[1;32m--> 270\u001b[0m         state \u001b[38;5;241m=\u001b[39m \u001b[43mdeepcopy\u001b[49m\u001b[43m(\u001b[49m\u001b[43mstate\u001b[49m\u001b[43m,\u001b[49m\u001b[43m \u001b[49m\u001b[43mmemo\u001b[49m\u001b[43m)\u001b[49m\n\u001b[0;32m    271\u001b[0m     \u001b[38;5;28;01mif\u001b[39;00m \u001b[38;5;28mhasattr\u001b[39m(y, \u001b[38;5;124m'\u001b[39m\u001b[38;5;124m__setstate__\u001b[39m\u001b[38;5;124m'\u001b[39m):\n\u001b[0;32m    272\u001b[0m         y\u001b[38;5;241m.\u001b[39m__setstate__(state)\n",
      "File \u001b[1;32m~\\anaconda3\\envs\\FAST-PEDAGO\\lib\\copy.py:146\u001b[0m, in \u001b[0;36mdeepcopy\u001b[1;34m(x, memo, _nil)\u001b[0m\n\u001b[0;32m    144\u001b[0m copier \u001b[38;5;241m=\u001b[39m _deepcopy_dispatch\u001b[38;5;241m.\u001b[39mget(\u001b[38;5;28mcls\u001b[39m)\n\u001b[0;32m    145\u001b[0m \u001b[38;5;28;01mif\u001b[39;00m copier \u001b[38;5;129;01mis\u001b[39;00m \u001b[38;5;129;01mnot\u001b[39;00m \u001b[38;5;28;01mNone\u001b[39;00m:\n\u001b[1;32m--> 146\u001b[0m     y \u001b[38;5;241m=\u001b[39m \u001b[43mcopier\u001b[49m\u001b[43m(\u001b[49m\u001b[43mx\u001b[49m\u001b[43m,\u001b[49m\u001b[43m \u001b[49m\u001b[43mmemo\u001b[49m\u001b[43m)\u001b[49m\n\u001b[0;32m    147\u001b[0m \u001b[38;5;28;01melse\u001b[39;00m:\n\u001b[0;32m    148\u001b[0m     \u001b[38;5;28;01mif\u001b[39;00m \u001b[38;5;28missubclass\u001b[39m(\u001b[38;5;28mcls\u001b[39m, \u001b[38;5;28mtype\u001b[39m):\n",
      "File \u001b[1;32m~\\anaconda3\\envs\\FAST-PEDAGO\\lib\\copy.py:230\u001b[0m, in \u001b[0;36m_deepcopy_dict\u001b[1;34m(x, memo, deepcopy)\u001b[0m\n\u001b[0;32m    228\u001b[0m memo[\u001b[38;5;28mid\u001b[39m(x)] \u001b[38;5;241m=\u001b[39m y\n\u001b[0;32m    229\u001b[0m \u001b[38;5;28;01mfor\u001b[39;00m key, value \u001b[38;5;129;01min\u001b[39;00m x\u001b[38;5;241m.\u001b[39mitems():\n\u001b[1;32m--> 230\u001b[0m     y[deepcopy(key, memo)] \u001b[38;5;241m=\u001b[39m \u001b[43mdeepcopy\u001b[49m\u001b[43m(\u001b[49m\u001b[43mvalue\u001b[49m\u001b[43m,\u001b[49m\u001b[43m \u001b[49m\u001b[43mmemo\u001b[49m\u001b[43m)\u001b[49m\n\u001b[0;32m    231\u001b[0m \u001b[38;5;28;01mreturn\u001b[39;00m y\n",
      "File \u001b[1;32m~\\anaconda3\\envs\\FAST-PEDAGO\\lib\\copy.py:172\u001b[0m, in \u001b[0;36mdeepcopy\u001b[1;34m(x, memo, _nil)\u001b[0m\n\u001b[0;32m    170\u001b[0m                 y \u001b[38;5;241m=\u001b[39m x\n\u001b[0;32m    171\u001b[0m             \u001b[38;5;28;01melse\u001b[39;00m:\n\u001b[1;32m--> 172\u001b[0m                 y \u001b[38;5;241m=\u001b[39m \u001b[43m_reconstruct\u001b[49m\u001b[43m(\u001b[49m\u001b[43mx\u001b[49m\u001b[43m,\u001b[49m\u001b[43m \u001b[49m\u001b[43mmemo\u001b[49m\u001b[43m,\u001b[49m\u001b[43m \u001b[49m\u001b[38;5;241;43m*\u001b[39;49m\u001b[43mrv\u001b[49m\u001b[43m)\u001b[49m\n\u001b[0;32m    174\u001b[0m \u001b[38;5;66;03m# If is its own copy, don't memoize.\u001b[39;00m\n\u001b[0;32m    175\u001b[0m \u001b[38;5;28;01mif\u001b[39;00m y \u001b[38;5;129;01mis\u001b[39;00m \u001b[38;5;129;01mnot\u001b[39;00m x:\n",
      "File \u001b[1;32m~\\anaconda3\\envs\\FAST-PEDAGO\\lib\\copy.py:270\u001b[0m, in \u001b[0;36m_reconstruct\u001b[1;34m(x, memo, func, args, state, listiter, dictiter, deepcopy)\u001b[0m\n\u001b[0;32m    268\u001b[0m \u001b[38;5;28;01mif\u001b[39;00m state \u001b[38;5;129;01mis\u001b[39;00m \u001b[38;5;129;01mnot\u001b[39;00m \u001b[38;5;28;01mNone\u001b[39;00m:\n\u001b[0;32m    269\u001b[0m     \u001b[38;5;28;01mif\u001b[39;00m deep:\n\u001b[1;32m--> 270\u001b[0m         state \u001b[38;5;241m=\u001b[39m \u001b[43mdeepcopy\u001b[49m\u001b[43m(\u001b[49m\u001b[43mstate\u001b[49m\u001b[43m,\u001b[49m\u001b[43m \u001b[49m\u001b[43mmemo\u001b[49m\u001b[43m)\u001b[49m\n\u001b[0;32m    271\u001b[0m     \u001b[38;5;28;01mif\u001b[39;00m \u001b[38;5;28mhasattr\u001b[39m(y, \u001b[38;5;124m'\u001b[39m\u001b[38;5;124m__setstate__\u001b[39m\u001b[38;5;124m'\u001b[39m):\n\u001b[0;32m    272\u001b[0m         y\u001b[38;5;241m.\u001b[39m__setstate__(state)\n",
      "File \u001b[1;32m~\\anaconda3\\envs\\FAST-PEDAGO\\lib\\copy.py:146\u001b[0m, in \u001b[0;36mdeepcopy\u001b[1;34m(x, memo, _nil)\u001b[0m\n\u001b[0;32m    144\u001b[0m copier \u001b[38;5;241m=\u001b[39m _deepcopy_dispatch\u001b[38;5;241m.\u001b[39mget(\u001b[38;5;28mcls\u001b[39m)\n\u001b[0;32m    145\u001b[0m \u001b[38;5;28;01mif\u001b[39;00m copier \u001b[38;5;129;01mis\u001b[39;00m \u001b[38;5;129;01mnot\u001b[39;00m \u001b[38;5;28;01mNone\u001b[39;00m:\n\u001b[1;32m--> 146\u001b[0m     y \u001b[38;5;241m=\u001b[39m \u001b[43mcopier\u001b[49m\u001b[43m(\u001b[49m\u001b[43mx\u001b[49m\u001b[43m,\u001b[49m\u001b[43m \u001b[49m\u001b[43mmemo\u001b[49m\u001b[43m)\u001b[49m\n\u001b[0;32m    147\u001b[0m \u001b[38;5;28;01melse\u001b[39;00m:\n\u001b[0;32m    148\u001b[0m     \u001b[38;5;28;01mif\u001b[39;00m \u001b[38;5;28missubclass\u001b[39m(\u001b[38;5;28mcls\u001b[39m, \u001b[38;5;28mtype\u001b[39m):\n",
      "File \u001b[1;32m~\\anaconda3\\envs\\FAST-PEDAGO\\lib\\copy.py:230\u001b[0m, in \u001b[0;36m_deepcopy_dict\u001b[1;34m(x, memo, deepcopy)\u001b[0m\n\u001b[0;32m    228\u001b[0m memo[\u001b[38;5;28mid\u001b[39m(x)] \u001b[38;5;241m=\u001b[39m y\n\u001b[0;32m    229\u001b[0m \u001b[38;5;28;01mfor\u001b[39;00m key, value \u001b[38;5;129;01min\u001b[39;00m x\u001b[38;5;241m.\u001b[39mitems():\n\u001b[1;32m--> 230\u001b[0m     y[deepcopy(key, memo)] \u001b[38;5;241m=\u001b[39m \u001b[43mdeepcopy\u001b[49m\u001b[43m(\u001b[49m\u001b[43mvalue\u001b[49m\u001b[43m,\u001b[49m\u001b[43m \u001b[49m\u001b[43mmemo\u001b[49m\u001b[43m)\u001b[49m\n\u001b[0;32m    231\u001b[0m \u001b[38;5;28;01mreturn\u001b[39;00m y\n",
      "File \u001b[1;32m~\\anaconda3\\envs\\FAST-PEDAGO\\lib\\copy.py:172\u001b[0m, in \u001b[0;36mdeepcopy\u001b[1;34m(x, memo, _nil)\u001b[0m\n\u001b[0;32m    170\u001b[0m                 y \u001b[38;5;241m=\u001b[39m x\n\u001b[0;32m    171\u001b[0m             \u001b[38;5;28;01melse\u001b[39;00m:\n\u001b[1;32m--> 172\u001b[0m                 y \u001b[38;5;241m=\u001b[39m \u001b[43m_reconstruct\u001b[49m\u001b[43m(\u001b[49m\u001b[43mx\u001b[49m\u001b[43m,\u001b[49m\u001b[43m \u001b[49m\u001b[43mmemo\u001b[49m\u001b[43m,\u001b[49m\u001b[43m \u001b[49m\u001b[38;5;241;43m*\u001b[39;49m\u001b[43mrv\u001b[49m\u001b[43m)\u001b[49m\n\u001b[0;32m    174\u001b[0m \u001b[38;5;66;03m# If is its own copy, don't memoize.\u001b[39;00m\n\u001b[0;32m    175\u001b[0m \u001b[38;5;28;01mif\u001b[39;00m y \u001b[38;5;129;01mis\u001b[39;00m \u001b[38;5;129;01mnot\u001b[39;00m x:\n",
      "File \u001b[1;32m~\\anaconda3\\envs\\FAST-PEDAGO\\lib\\copy.py:270\u001b[0m, in \u001b[0;36m_reconstruct\u001b[1;34m(x, memo, func, args, state, listiter, dictiter, deepcopy)\u001b[0m\n\u001b[0;32m    268\u001b[0m \u001b[38;5;28;01mif\u001b[39;00m state \u001b[38;5;129;01mis\u001b[39;00m \u001b[38;5;129;01mnot\u001b[39;00m \u001b[38;5;28;01mNone\u001b[39;00m:\n\u001b[0;32m    269\u001b[0m     \u001b[38;5;28;01mif\u001b[39;00m deep:\n\u001b[1;32m--> 270\u001b[0m         state \u001b[38;5;241m=\u001b[39m \u001b[43mdeepcopy\u001b[49m\u001b[43m(\u001b[49m\u001b[43mstate\u001b[49m\u001b[43m,\u001b[49m\u001b[43m \u001b[49m\u001b[43mmemo\u001b[49m\u001b[43m)\u001b[49m\n\u001b[0;32m    271\u001b[0m     \u001b[38;5;28;01mif\u001b[39;00m \u001b[38;5;28mhasattr\u001b[39m(y, \u001b[38;5;124m'\u001b[39m\u001b[38;5;124m__setstate__\u001b[39m\u001b[38;5;124m'\u001b[39m):\n\u001b[0;32m    272\u001b[0m         y\u001b[38;5;241m.\u001b[39m__setstate__(state)\n",
      "    \u001b[1;31m[... skipping similar frames: deepcopy at line 146 (1 times)]\u001b[0m\n",
      "File \u001b[1;32m~\\anaconda3\\envs\\FAST-PEDAGO\\lib\\copy.py:230\u001b[0m, in \u001b[0;36m_deepcopy_dict\u001b[1;34m(x, memo, deepcopy)\u001b[0m\n\u001b[0;32m    228\u001b[0m memo[\u001b[38;5;28mid\u001b[39m(x)] \u001b[38;5;241m=\u001b[39m y\n\u001b[0;32m    229\u001b[0m \u001b[38;5;28;01mfor\u001b[39;00m key, value \u001b[38;5;129;01min\u001b[39;00m x\u001b[38;5;241m.\u001b[39mitems():\n\u001b[1;32m--> 230\u001b[0m     y[deepcopy(key, memo)] \u001b[38;5;241m=\u001b[39m \u001b[43mdeepcopy\u001b[49m\u001b[43m(\u001b[49m\u001b[43mvalue\u001b[49m\u001b[43m,\u001b[49m\u001b[43m \u001b[49m\u001b[43mmemo\u001b[49m\u001b[43m)\u001b[49m\n\u001b[0;32m    231\u001b[0m \u001b[38;5;28;01mreturn\u001b[39;00m y\n",
      "File \u001b[1;32m~\\anaconda3\\envs\\FAST-PEDAGO\\lib\\copy.py:146\u001b[0m, in \u001b[0;36mdeepcopy\u001b[1;34m(x, memo, _nil)\u001b[0m\n\u001b[0;32m    144\u001b[0m copier \u001b[38;5;241m=\u001b[39m _deepcopy_dispatch\u001b[38;5;241m.\u001b[39mget(\u001b[38;5;28mcls\u001b[39m)\n\u001b[0;32m    145\u001b[0m \u001b[38;5;28;01mif\u001b[39;00m copier \u001b[38;5;129;01mis\u001b[39;00m \u001b[38;5;129;01mnot\u001b[39;00m \u001b[38;5;28;01mNone\u001b[39;00m:\n\u001b[1;32m--> 146\u001b[0m     y \u001b[38;5;241m=\u001b[39m \u001b[43mcopier\u001b[49m\u001b[43m(\u001b[49m\u001b[43mx\u001b[49m\u001b[43m,\u001b[49m\u001b[43m \u001b[49m\u001b[43mmemo\u001b[49m\u001b[43m)\u001b[49m\n\u001b[0;32m    147\u001b[0m \u001b[38;5;28;01melse\u001b[39;00m:\n\u001b[0;32m    148\u001b[0m     \u001b[38;5;28;01mif\u001b[39;00m \u001b[38;5;28missubclass\u001b[39m(\u001b[38;5;28mcls\u001b[39m, \u001b[38;5;28mtype\u001b[39m):\n",
      "File \u001b[1;32m~\\anaconda3\\envs\\FAST-PEDAGO\\lib\\copy.py:205\u001b[0m, in \u001b[0;36m_deepcopy_list\u001b[1;34m(x, memo, deepcopy)\u001b[0m\n\u001b[0;32m    203\u001b[0m append \u001b[38;5;241m=\u001b[39m y\u001b[38;5;241m.\u001b[39mappend\n\u001b[0;32m    204\u001b[0m \u001b[38;5;28;01mfor\u001b[39;00m a \u001b[38;5;129;01min\u001b[39;00m x:\n\u001b[1;32m--> 205\u001b[0m     append(\u001b[43mdeepcopy\u001b[49m\u001b[43m(\u001b[49m\u001b[43ma\u001b[49m\u001b[43m,\u001b[49m\u001b[43m \u001b[49m\u001b[43mmemo\u001b[49m\u001b[43m)\u001b[49m)\n\u001b[0;32m    206\u001b[0m \u001b[38;5;28;01mreturn\u001b[39;00m y\n",
      "File \u001b[1;32m~\\anaconda3\\envs\\FAST-PEDAGO\\lib\\copy.py:172\u001b[0m, in \u001b[0;36mdeepcopy\u001b[1;34m(x, memo, _nil)\u001b[0m\n\u001b[0;32m    170\u001b[0m                 y \u001b[38;5;241m=\u001b[39m x\n\u001b[0;32m    171\u001b[0m             \u001b[38;5;28;01melse\u001b[39;00m:\n\u001b[1;32m--> 172\u001b[0m                 y \u001b[38;5;241m=\u001b[39m \u001b[43m_reconstruct\u001b[49m\u001b[43m(\u001b[49m\u001b[43mx\u001b[49m\u001b[43m,\u001b[49m\u001b[43m \u001b[49m\u001b[43mmemo\u001b[49m\u001b[43m,\u001b[49m\u001b[43m \u001b[49m\u001b[38;5;241;43m*\u001b[39;49m\u001b[43mrv\u001b[49m\u001b[43m)\u001b[49m\n\u001b[0;32m    174\u001b[0m \u001b[38;5;66;03m# If is its own copy, don't memoize.\u001b[39;00m\n\u001b[0;32m    175\u001b[0m \u001b[38;5;28;01mif\u001b[39;00m y \u001b[38;5;129;01mis\u001b[39;00m \u001b[38;5;129;01mnot\u001b[39;00m x:\n",
      "File \u001b[1;32m~\\anaconda3\\envs\\FAST-PEDAGO\\lib\\copy.py:270\u001b[0m, in \u001b[0;36m_reconstruct\u001b[1;34m(x, memo, func, args, state, listiter, dictiter, deepcopy)\u001b[0m\n\u001b[0;32m    268\u001b[0m \u001b[38;5;28;01mif\u001b[39;00m state \u001b[38;5;129;01mis\u001b[39;00m \u001b[38;5;129;01mnot\u001b[39;00m \u001b[38;5;28;01mNone\u001b[39;00m:\n\u001b[0;32m    269\u001b[0m     \u001b[38;5;28;01mif\u001b[39;00m deep:\n\u001b[1;32m--> 270\u001b[0m         state \u001b[38;5;241m=\u001b[39m \u001b[43mdeepcopy\u001b[49m\u001b[43m(\u001b[49m\u001b[43mstate\u001b[49m\u001b[43m,\u001b[49m\u001b[43m \u001b[49m\u001b[43mmemo\u001b[49m\u001b[43m)\u001b[49m\n\u001b[0;32m    271\u001b[0m     \u001b[38;5;28;01mif\u001b[39;00m \u001b[38;5;28mhasattr\u001b[39m(y, \u001b[38;5;124m'\u001b[39m\u001b[38;5;124m__setstate__\u001b[39m\u001b[38;5;124m'\u001b[39m):\n\u001b[0;32m    272\u001b[0m         y\u001b[38;5;241m.\u001b[39m__setstate__(state)\n",
      "File \u001b[1;32m~\\anaconda3\\envs\\FAST-PEDAGO\\lib\\copy.py:146\u001b[0m, in \u001b[0;36mdeepcopy\u001b[1;34m(x, memo, _nil)\u001b[0m\n\u001b[0;32m    144\u001b[0m copier \u001b[38;5;241m=\u001b[39m _deepcopy_dispatch\u001b[38;5;241m.\u001b[39mget(\u001b[38;5;28mcls\u001b[39m)\n\u001b[0;32m    145\u001b[0m \u001b[38;5;28;01mif\u001b[39;00m copier \u001b[38;5;129;01mis\u001b[39;00m \u001b[38;5;129;01mnot\u001b[39;00m \u001b[38;5;28;01mNone\u001b[39;00m:\n\u001b[1;32m--> 146\u001b[0m     y \u001b[38;5;241m=\u001b[39m \u001b[43mcopier\u001b[49m\u001b[43m(\u001b[49m\u001b[43mx\u001b[49m\u001b[43m,\u001b[49m\u001b[43m \u001b[49m\u001b[43mmemo\u001b[49m\u001b[43m)\u001b[49m\n\u001b[0;32m    147\u001b[0m \u001b[38;5;28;01melse\u001b[39;00m:\n\u001b[0;32m    148\u001b[0m     \u001b[38;5;28;01mif\u001b[39;00m \u001b[38;5;28missubclass\u001b[39m(\u001b[38;5;28mcls\u001b[39m, \u001b[38;5;28mtype\u001b[39m):\n",
      "File \u001b[1;32m~\\anaconda3\\envs\\FAST-PEDAGO\\lib\\copy.py:230\u001b[0m, in \u001b[0;36m_deepcopy_dict\u001b[1;34m(x, memo, deepcopy)\u001b[0m\n\u001b[0;32m    228\u001b[0m memo[\u001b[38;5;28mid\u001b[39m(x)] \u001b[38;5;241m=\u001b[39m y\n\u001b[0;32m    229\u001b[0m \u001b[38;5;28;01mfor\u001b[39;00m key, value \u001b[38;5;129;01min\u001b[39;00m x\u001b[38;5;241m.\u001b[39mitems():\n\u001b[1;32m--> 230\u001b[0m     y[deepcopy(key, memo)] \u001b[38;5;241m=\u001b[39m \u001b[43mdeepcopy\u001b[49m\u001b[43m(\u001b[49m\u001b[43mvalue\u001b[49m\u001b[43m,\u001b[49m\u001b[43m \u001b[49m\u001b[43mmemo\u001b[49m\u001b[43m)\u001b[49m\n\u001b[0;32m    231\u001b[0m \u001b[38;5;28;01mreturn\u001b[39;00m y\n",
      "File \u001b[1;32m~\\anaconda3\\envs\\FAST-PEDAGO\\lib\\copy.py:161\u001b[0m, in \u001b[0;36mdeepcopy\u001b[1;34m(x, memo, _nil)\u001b[0m\n\u001b[0;32m    159\u001b[0m reductor \u001b[38;5;241m=\u001b[39m \u001b[38;5;28mgetattr\u001b[39m(x, \u001b[38;5;124m\"\u001b[39m\u001b[38;5;124m__reduce_ex__\u001b[39m\u001b[38;5;124m\"\u001b[39m, \u001b[38;5;28;01mNone\u001b[39;00m)\n\u001b[0;32m    160\u001b[0m \u001b[38;5;28;01mif\u001b[39;00m reductor \u001b[38;5;129;01mis\u001b[39;00m \u001b[38;5;129;01mnot\u001b[39;00m \u001b[38;5;28;01mNone\u001b[39;00m:\n\u001b[1;32m--> 161\u001b[0m     rv \u001b[38;5;241m=\u001b[39m \u001b[43mreductor\u001b[49m\u001b[43m(\u001b[49m\u001b[38;5;241;43m4\u001b[39;49m\u001b[43m)\u001b[49m\n\u001b[0;32m    162\u001b[0m \u001b[38;5;28;01melse\u001b[39;00m:\n\u001b[0;32m    163\u001b[0m     reductor \u001b[38;5;241m=\u001b[39m \u001b[38;5;28mgetattr\u001b[39m(x, \u001b[38;5;124m\"\u001b[39m\u001b[38;5;124m__reduce__\u001b[39m\u001b[38;5;124m\"\u001b[39m, \u001b[38;5;28;01mNone\u001b[39;00m)\n",
      "\u001b[1;31mTypeError\u001b[0m: cannot pickle 'sqlite3.Connection' object"
     ]
    }
   ],
   "source": [
    "# To get FAST-OAD outputs, you have to use the method we have added\n",
    "# to our slightly modified Problem class: \n",
    "problem.write_outputs()"
   ]
  },
  {
   "cell_type": "code",
   "execution_count": null,
   "id": "9f9e1019-a325-4856-9b60-d45f7e6bfb70",
   "metadata": {},
   "outputs": [],
   "source": []
  },
  {
   "cell_type": "code",
   "execution_count": null,
   "id": "786d1eb0-5fce-4368-adef-684620506a04",
   "metadata": {},
   "outputs": [],
   "source": []
  },
  {
   "cell_type": "code",
   "execution_count": null,
   "id": "7872e5d6-a10f-49fe-9536-186a0b46e021",
   "metadata": {},
   "outputs": [],
   "source": []
  },
  {
   "cell_type": "code",
   "execution_count": null,
   "id": "e9abfd2c-0c43-46ae-bb7a-b12852dc184c",
   "metadata": {},
   "outputs": [],
   "source": []
  },
  {
   "cell_type": "code",
   "execution_count": null,
   "id": "6f59af02-924a-43d2-9584-ddba088cefda",
   "metadata": {},
   "outputs": [],
   "source": []
  },
  {
   "cell_type": "code",
   "execution_count": 89,
   "id": "3f38c83a-74df-46ca-a7f9-e4112d83102a",
   "metadata": {},
   "outputs": [
    {
     "data": {
      "text/plain": [
       "'workdir\\\\oad_23.yml'"
      ]
     },
     "execution_count": 89,
     "metadata": {},
     "output_type": "execute_result"
    }
   ],
   "source": [
    "#oad.generate_configuration_file(CONFIGURATION_FILE, overwrite=True)\n",
    "\n",
    "# The above generated configuration uses the quick and simple Breguet module to compute performances.\n",
    "# If you want to use the more accurate, much more CPU-costly time-step integration, uncomment and run\n",
    "# the next line:\n",
    "shutil.copy(pth.join(DATA_FOLDER_PATH, \"oad_23.yml\"), CONFIGURATION_FILE)"
   ]
  },
  {
   "cell_type": "code",
   "execution_count": null,
   "id": "64409dd2-34d9-4036-ac8a-a0bf692f3280",
   "metadata": {},
   "outputs": [],
   "source": []
  },
  {
   "cell_type": "code",
   "execution_count": null,
   "id": "fa71c3fd-a51c-4b20-a365-42dabb22c98c",
   "metadata": {},
   "outputs": [],
   "source": []
  },
  {
   "cell_type": "code",
   "execution_count": null,
   "id": "7c25566d-6fea-404e-b8fc-d795246351d2",
   "metadata": {},
   "outputs": [],
   "source": []
  },
  {
   "cell_type": "code",
   "execution_count": null,
   "id": "aa531d05-35e6-4883-9d55-c9b254cecab5",
   "metadata": {},
   "outputs": [],
   "source": []
  },
  {
   "cell_type": "code",
   "execution_count": null,
   "id": "9949a6c0-569a-4ceb-990b-168f8fcb65a2",
   "metadata": {},
   "outputs": [],
   "source": []
  },
  {
   "cell_type": "code",
   "execution_count": null,
   "id": "af71c59b-b819-4857-8e0c-3dcff3a383f2",
   "metadata": {},
   "outputs": [],
   "source": []
  },
  {
   "cell_type": "code",
   "execution_count": 90,
   "id": "f82884b1-dbec-4cf2-875e-efec8f1e448b",
   "metadata": {},
   "outputs": [
    {
     "ename": "RuntimeError",
     "evalue": "<model> <class FASTOADModel>: Output not found for response 'data:geometry:wing:span'.",
     "output_type": "error",
     "traceback": [
      "\u001b[1;31m---------------------------------------------------------------------------\u001b[0m",
      "\u001b[1;31mKeyError\u001b[0m                                  Traceback (most recent call last)",
      "File \u001b[1;32m~\\anaconda3\\envs\\FAST-PEDAGO\\lib\\site-packages\\openmdao\\core\\system.py:3247\u001b[0m, in \u001b[0;36mSystem.get_responses\u001b[1;34m(self, recurse, get_sizes, use_prom_ivc)\u001b[0m\n\u001b[0;32m   3245\u001b[0m \u001b[38;5;28;01mif\u001b[39;00m alias \u001b[38;5;129;01mis\u001b[39;00m \u001b[38;5;28;01mNone\u001b[39;00m:\n\u001b[0;32m   3246\u001b[0m     \u001b[38;5;66;03m# A constraint can be on an input, so use connected output name.\u001b[39;00m\n\u001b[1;32m-> 3247\u001b[0m     key \u001b[38;5;241m=\u001b[39m in_abs \u001b[38;5;241m=\u001b[39m \u001b[43mprom2abs_in\u001b[49m\u001b[43m[\u001b[49m\u001b[43mname\u001b[49m\u001b[43m]\u001b[49m[\u001b[38;5;241m0\u001b[39m]\n\u001b[0;32m   3248\u001b[0m     src_path \u001b[38;5;241m=\u001b[39m conns[in_abs]\n",
      "\u001b[1;31mKeyError\u001b[0m: 'data:geometry:wing:span'",
      "\nDuring handling of the above exception, another exception occurred:\n",
      "\u001b[1;31mRuntimeError\u001b[0m                              Traceback (most recent call last)",
      "Input \u001b[1;32mIn [90]\u001b[0m, in \u001b[0;36m<cell line: 1>\u001b[1;34m()\u001b[0m\n\u001b[1;32m----> 1\u001b[0m \u001b[43moad\u001b[49m\u001b[38;5;241;43m.\u001b[39;49m\u001b[43mgenerate_inputs\u001b[49m\u001b[43m(\u001b[49m\u001b[43mCONFIGURATION_FILE\u001b[49m\u001b[43m,\u001b[49m\u001b[43m \u001b[49m\u001b[43mSOURCE_FILE\u001b[49m\u001b[43m,\u001b[49m\u001b[43m \u001b[49m\u001b[43moverwrite\u001b[49m\u001b[38;5;241;43m=\u001b[39;49m\u001b[38;5;28;43;01mTrue\u001b[39;49;00m\u001b[43m)\u001b[49m\n",
      "File \u001b[1;32m~\\anaconda3\\envs\\FAST-PEDAGO\\lib\\site-packages\\fastoad\\cmd\\api.py:231\u001b[0m, in \u001b[0;36mgenerate_inputs\u001b[1;34m(configuration_file_path, source_path, source_path_schema, overwrite)\u001b[0m\n\u001b[0;32m    229\u001b[0m     conf\u001b[38;5;241m.\u001b[39mwrite_needed_inputs(source_path, VariableLegacy1XmlFormatter())\n\u001b[0;32m    230\u001b[0m \u001b[38;5;28;01melse\u001b[39;00m:\n\u001b[1;32m--> 231\u001b[0m     \u001b[43mconf\u001b[49m\u001b[38;5;241;43m.\u001b[39;49m\u001b[43mwrite_needed_inputs\u001b[49m\u001b[43m(\u001b[49m\u001b[43msource_path\u001b[49m\u001b[43m)\u001b[49m\n\u001b[0;32m    233\u001b[0m _LOGGER\u001b[38;5;241m.\u001b[39minfo(\u001b[38;5;124m\"\u001b[39m\u001b[38;5;124mProblem inputs written in \u001b[39m\u001b[38;5;132;01m%s\u001b[39;00m\u001b[38;5;124m\"\u001b[39m, input_file_path)\n\u001b[0;32m    234\u001b[0m \u001b[38;5;28;01mreturn\u001b[39;00m input_file_path\n",
      "File \u001b[1;32m~\\anaconda3\\envs\\FAST-PEDAGO\\lib\\site-packages\\fastoad\\io\\configuration\\configuration.py:214\u001b[0m, in \u001b[0;36mFASTOADProblemConfigurator.write_needed_inputs\u001b[1;34m(self, source_file_path, source_formatter)\u001b[0m\n\u001b[0;32m    200\u001b[0m \u001b[38;5;124;03m\"\"\"\u001b[39;00m\n\u001b[0;32m    201\u001b[0m \u001b[38;5;124;03mWrites the input file of the problem with unconnected inputs of the\u001b[39;00m\n\u001b[0;32m    202\u001b[0m \u001b[38;5;124;03mconfigured problem.\u001b[39;00m\n\u001b[1;32m   (...)\u001b[0m\n\u001b[0;32m    211\u001b[0m \u001b[38;5;124;03m                         not provided, expected format will be the default one.\u001b[39;00m\n\u001b[0;32m    212\u001b[0m \u001b[38;5;124;03m\"\"\"\u001b[39;00m\n\u001b[0;32m    213\u001b[0m problem \u001b[38;5;241m=\u001b[39m \u001b[38;5;28mself\u001b[39m\u001b[38;5;241m.\u001b[39mget_problem(read_inputs\u001b[38;5;241m=\u001b[39m\u001b[38;5;28;01mFalse\u001b[39;00m)\n\u001b[1;32m--> 214\u001b[0m \u001b[43mproblem\u001b[49m\u001b[38;5;241;43m.\u001b[39;49m\u001b[43msetup\u001b[49m\u001b[43m(\u001b[49m\u001b[43m)\u001b[49m\n\u001b[0;32m    215\u001b[0m variables \u001b[38;5;241m=\u001b[39m DataFile(\u001b[38;5;28mself\u001b[39m\u001b[38;5;241m.\u001b[39minput_file_path, load_data\u001b[38;5;241m=\u001b[39m\u001b[38;5;28;01mFalse\u001b[39;00m)\n\u001b[0;32m    217\u001b[0m unconnected_inputs \u001b[38;5;241m=\u001b[39m VariableList\u001b[38;5;241m.\u001b[39mfrom_problem(\n\u001b[0;32m    218\u001b[0m     problem,\n\u001b[0;32m    219\u001b[0m     use_initial_values\u001b[38;5;241m=\u001b[39m\u001b[38;5;28;01mTrue\u001b[39;00m,\n\u001b[1;32m   (...)\u001b[0m\n\u001b[0;32m    222\u001b[0m     io_status\u001b[38;5;241m=\u001b[39m\u001b[38;5;124m\"\u001b[39m\u001b[38;5;124minputs\u001b[39m\u001b[38;5;124m\"\u001b[39m,\n\u001b[0;32m    223\u001b[0m )\n",
      "File \u001b[1;32m~\\anaconda3\\envs\\FAST-PEDAGO\\lib\\site-packages\\fastoad\\openmdao\\problem.py:91\u001b[0m, in \u001b[0;36mFASTOADProblem.setup\u001b[1;34m(self, *args, **kwargs)\u001b[0m\n\u001b[0;32m     88\u001b[0m             ivc\u001b[38;5;241m.\u001b[39madd_output(name, [np\u001b[38;5;241m.\u001b[39mnan, np\u001b[38;5;241m.\u001b[39mnan], units\u001b[38;5;241m=\u001b[39mmeta[\u001b[38;5;124m\"\u001b[39m\u001b[38;5;124munits\u001b[39m\u001b[38;5;124m\"\u001b[39m])\n\u001b[0;32m     89\u001b[0m         \u001b[38;5;28mself\u001b[39m\u001b[38;5;241m.\u001b[39mmodel\u001b[38;5;241m.\u001b[39madd_subsystem(SHAPER_SYSTEM_NAME, ivc, promotes\u001b[38;5;241m=\u001b[39m[\u001b[38;5;124m\"\u001b[39m\u001b[38;5;124m*\u001b[39m\u001b[38;5;124m\"\u001b[39m])\n\u001b[1;32m---> 91\u001b[0m \u001b[38;5;28;43msuper\u001b[39;49m\u001b[43m(\u001b[49m\u001b[43m)\u001b[49m\u001b[38;5;241;43m.\u001b[39;49m\u001b[43msetup\u001b[49m\u001b[43m(\u001b[49m\u001b[38;5;241;43m*\u001b[39;49m\u001b[43margs\u001b[49m\u001b[43m,\u001b[49m\u001b[43m \u001b[49m\u001b[38;5;241;43m*\u001b[39;49m\u001b[38;5;241;43m*\u001b[39;49m\u001b[43mkwargs\u001b[49m\u001b[43m)\u001b[49m\n\u001b[0;32m     93\u001b[0m \u001b[38;5;28;01mif\u001b[39;00m \u001b[38;5;28mself\u001b[39m\u001b[38;5;241m.\u001b[39m_read_inputs_after_setup:\n\u001b[0;32m     94\u001b[0m     \u001b[38;5;28mself\u001b[39m\u001b[38;5;241m.\u001b[39m_read_inputs_with_setup_done()\n",
      "File \u001b[1;32m~\\anaconda3\\envs\\FAST-PEDAGO\\lib\\site-packages\\openmdao\\core\\problem.py:1014\u001b[0m, in \u001b[0;36mProblem.setup\u001b[1;34m(self, check, logger, mode, force_alloc_complex, distributed_vector_class, local_vector_class, derivatives)\u001b[0m\n\u001b[0;32m    977\u001b[0m \u001b[38;5;66;03m# this metadata will be shared by all Systems/Solvers in the system tree\u001b[39;00m\n\u001b[0;32m    978\u001b[0m \u001b[38;5;28mself\u001b[39m\u001b[38;5;241m.\u001b[39m_metadata \u001b[38;5;241m=\u001b[39m {\n\u001b[0;32m    979\u001b[0m     \u001b[38;5;124m'\u001b[39m\u001b[38;5;124mname\u001b[39m\u001b[38;5;124m'\u001b[39m: \u001b[38;5;28mself\u001b[39m\u001b[38;5;241m.\u001b[39m_name,  \u001b[38;5;66;03m# the name of this Problem\u001b[39;00m\n\u001b[0;32m    980\u001b[0m     \u001b[38;5;124m'\u001b[39m\u001b[38;5;124mcomm\u001b[39m\u001b[38;5;124m'\u001b[39m: comm,\n\u001b[1;32m   (...)\u001b[0m\n\u001b[0;32m   1012\u001b[0m                                       \u001b[38;5;66;03m# be converted to warnings.\u001b[39;00m\n\u001b[0;32m   1013\u001b[0m }\n\u001b[1;32m-> 1014\u001b[0m \u001b[43mmodel\u001b[49m\u001b[38;5;241;43m.\u001b[39;49m\u001b[43m_setup\u001b[49m\u001b[43m(\u001b[49m\u001b[43mmodel_comm\u001b[49m\u001b[43m,\u001b[49m\u001b[43m \u001b[49m\u001b[43mmode\u001b[49m\u001b[43m,\u001b[49m\u001b[43m \u001b[49m\u001b[38;5;28;43mself\u001b[39;49m\u001b[38;5;241;43m.\u001b[39;49m\u001b[43m_metadata\u001b[49m\u001b[43m)\u001b[49m\n\u001b[0;32m   1016\u001b[0m \u001b[38;5;66;03m# set static mode back to True in all systems in this Problem\u001b[39;00m\n\u001b[0;32m   1017\u001b[0m \u001b[38;5;28mself\u001b[39m\u001b[38;5;241m.\u001b[39m_metadata[\u001b[38;5;124m'\u001b[39m\u001b[38;5;124mstatic_mode\u001b[39m\u001b[38;5;124m'\u001b[39m] \u001b[38;5;241m=\u001b[39m \u001b[38;5;28;01mTrue\u001b[39;00m\n",
      "File \u001b[1;32m~\\anaconda3\\envs\\FAST-PEDAGO\\lib\\site-packages\\openmdao\\core\\system.py:866\u001b[0m, in \u001b[0;36mSystem._setup\u001b[1;34m(self, comm, mode, prob_meta)\u001b[0m\n\u001b[0;32m    862\u001b[0m \u001b[38;5;28mself\u001b[39m\u001b[38;5;241m.\u001b[39m_setup_var_sizes()\n\u001b[0;32m    864\u001b[0m \u001b[38;5;28mself\u001b[39m\u001b[38;5;241m.\u001b[39m_top_level_post_sizes()\n\u001b[1;32m--> 866\u001b[0m \u001b[38;5;28mself\u001b[39m\u001b[38;5;241m.\u001b[39m_problem_meta[\u001b[38;5;124m'\u001b[39m\u001b[38;5;124mrelevant\u001b[39m\u001b[38;5;124m'\u001b[39m] \u001b[38;5;241m=\u001b[39m \u001b[38;5;28;43mself\u001b[39;49m\u001b[38;5;241;43m.\u001b[39;49m\u001b[43m_init_relevance\u001b[49m\u001b[43m(\u001b[49m\u001b[43mmode\u001b[49m\u001b[43m)\u001b[49m\n\u001b[0;32m    868\u001b[0m \u001b[38;5;66;03m# determine which connections are managed by which group, and check validity of connections\u001b[39;00m\n\u001b[0;32m    869\u001b[0m \u001b[38;5;28mself\u001b[39m\u001b[38;5;241m.\u001b[39m_setup_connections()\n",
      "File \u001b[1;32m~\\anaconda3\\envs\\FAST-PEDAGO\\lib\\site-packages\\openmdao\\core\\system.py:1625\u001b[0m, in \u001b[0;36mSystem._init_relevance\u001b[1;34m(self, mode)\u001b[0m\n\u001b[0;32m   1623\u001b[0m \u001b[38;5;28;01mif\u001b[39;00m \u001b[38;5;28mself\u001b[39m\u001b[38;5;241m.\u001b[39m_use_derivatives:\n\u001b[0;32m   1624\u001b[0m     desvars \u001b[38;5;241m=\u001b[39m \u001b[38;5;28mself\u001b[39m\u001b[38;5;241m.\u001b[39mget_design_vars(recurse\u001b[38;5;241m=\u001b[39m\u001b[38;5;28;01mTrue\u001b[39;00m, get_sizes\u001b[38;5;241m=\u001b[39m\u001b[38;5;28;01mFalse\u001b[39;00m, use_prom_ivc\u001b[38;5;241m=\u001b[39m\u001b[38;5;28;01mFalse\u001b[39;00m)\n\u001b[1;32m-> 1625\u001b[0m     responses \u001b[38;5;241m=\u001b[39m \u001b[38;5;28;43mself\u001b[39;49m\u001b[38;5;241;43m.\u001b[39;49m\u001b[43mget_responses\u001b[49m\u001b[43m(\u001b[49m\u001b[43mrecurse\u001b[49m\u001b[38;5;241;43m=\u001b[39;49m\u001b[38;5;28;43;01mTrue\u001b[39;49;00m\u001b[43m,\u001b[49m\u001b[43m \u001b[49m\u001b[43mget_sizes\u001b[49m\u001b[38;5;241;43m=\u001b[39;49m\u001b[38;5;28;43;01mFalse\u001b[39;49;00m\u001b[43m,\u001b[49m\u001b[43m \u001b[49m\u001b[43muse_prom_ivc\u001b[49m\u001b[38;5;241;43m=\u001b[39;49m\u001b[38;5;28;43;01mFalse\u001b[39;49;00m\u001b[43m)\u001b[49m\n\u001b[0;32m   1627\u001b[0m     responses \u001b[38;5;241m=\u001b[39m \u001b[38;5;28mself\u001b[39m\u001b[38;5;241m.\u001b[39m_check_alias_overlaps(responses)\n\u001b[0;32m   1629\u001b[0m     \u001b[38;5;28;01mreturn\u001b[39;00m \u001b[38;5;28mself\u001b[39m\u001b[38;5;241m.\u001b[39mget_relevant_vars(desvars, responses, mode)\n",
      "File \u001b[1;32m~\\anaconda3\\envs\\FAST-PEDAGO\\lib\\site-packages\\openmdao\\core\\system.py:3269\u001b[0m, in \u001b[0;36mSystem.get_responses\u001b[1;34m(self, recurse, get_sizes, use_prom_ivc)\u001b[0m\n\u001b[0;32m   3267\u001b[0m \u001b[38;5;28;01mexcept\u001b[39;00m \u001b[38;5;167;01mKeyError\u001b[39;00m \u001b[38;5;28;01mas\u001b[39;00m err:\n\u001b[0;32m   3268\u001b[0m     msg \u001b[38;5;241m=\u001b[39m \u001b[38;5;124m\"\u001b[39m\u001b[38;5;132;01m{}\u001b[39;00m\u001b[38;5;124m: Output not found for response \u001b[39m\u001b[38;5;132;01m{}\u001b[39;00m\u001b[38;5;124m.\u001b[39m\u001b[38;5;124m\"\u001b[39m\n\u001b[1;32m-> 3269\u001b[0m     \u001b[38;5;28;01mraise\u001b[39;00m \u001b[38;5;167;01mRuntimeError\u001b[39;00m(msg\u001b[38;5;241m.\u001b[39mformat(\u001b[38;5;28mself\u001b[39m\u001b[38;5;241m.\u001b[39mmsginfo, \u001b[38;5;28mstr\u001b[39m(err)))\n\u001b[0;32m   3271\u001b[0m \u001b[38;5;28;01mif\u001b[39;00m get_sizes:\n\u001b[0;32m   3272\u001b[0m     \u001b[38;5;66;03m# Size them all\u001b[39;00m\n\u001b[0;32m   3273\u001b[0m     sizes \u001b[38;5;241m=\u001b[39m model\u001b[38;5;241m.\u001b[39m_var_sizes[\u001b[38;5;124m'\u001b[39m\u001b[38;5;124moutput\u001b[39m\u001b[38;5;124m'\u001b[39m]\n",
      "\u001b[1;31mRuntimeError\u001b[0m: <model> <class FASTOADModel>: Output not found for response 'data:geometry:wing:span'."
     ]
    }
   ],
   "source": [
    "oad.generate_inputs(CONFIGURATION_FILE, SOURCE_FILE, overwrite=True)"
   ]
  },
  {
   "cell_type": "code",
   "execution_count": null,
   "id": "c3f3d624-1d7f-4ce5-9ba1-3ecf0ed46968",
   "metadata": {},
   "outputs": [],
   "source": []
  },
  {
   "cell_type": "code",
   "execution_count": null,
   "id": "b909667b-a4b5-4aa8-a70f-af81eb119591",
   "metadata": {},
   "outputs": [],
   "source": []
  },
  {
   "cell_type": "code",
   "execution_count": null,
   "id": "3dc1c2be-8acd-46c0-a47c-936680a75e27",
   "metadata": {},
   "outputs": [],
   "source": []
  },
  {
   "cell_type": "code",
   "execution_count": null,
   "id": "7cb9d253-9918-40e8-b8dd-a7db5b1c19f2",
   "metadata": {},
   "outputs": [],
   "source": []
  },
  {
   "cell_type": "code",
   "execution_count": null,
   "id": "a4ad840e-d77c-4462-8225-56a4a03c1af6",
   "metadata": {},
   "outputs": [],
   "source": []
  },
  {
   "cell_type": "code",
   "execution_count": null,
   "id": "110274e2-ee26-4110-a8f7-d001a11afc05",
   "metadata": {},
   "outputs": [],
   "source": []
  },
  {
   "cell_type": "code",
   "execution_count": null,
   "id": "bcf607f9-fbae-4ca2-abf6-c5077fe5ee59",
   "metadata": {},
   "outputs": [],
   "source": []
  },
  {
   "cell_type": "code",
   "execution_count": 85,
   "id": "29d59aa5-a375-4e7c-89a5-6c88b9acafdc",
   "metadata": {},
   "outputs": [
    {
     "data": {
      "text/html": [
       "<table border=\"1\" class=\"dataframe\">\n",
       "  <thead>\n",
       "    <tr style=\"text-align: right;\">\n",
       "      <th>NAME</th>\n",
       "      <th>I/O</th>\n",
       "      <th>DESCRIPTION</th>\n",
       "    </tr>\n",
       "  </thead>\n",
       "  <tbody>\n",
       "    <tr>\n",
       "      <td>data:TLAR:approach_speed</td>\n",
       "      <td>IN</td>\n",
       "      <td>top-level requirement: approach speed</td>\n",
       "    </tr>\n",
       "    <tr>\n",
       "      <td>data:aerodynamics:aircraft:landing:CL_max</td>\n",
       "      <td>IN</td>\n",
       "      <td>maximum lift coefficient in landing conditions</td>\n",
       "    </tr>\n",
       "    <tr>\n",
       "      <td>data:geometry:wing:aspect_ratio</td>\n",
       "      <td>IN</td>\n",
       "      <td>wing aspect ratio</td>\n",
       "    </tr>\n",
       "    <tr>\n",
       "      <td>data:geometry:wing:root:thickness_ratio</td>\n",
       "      <td>IN</td>\n",
       "      <td>thickness ratio at wing root</td>\n",
       "    </tr>\n",
       "    <tr>\n",
       "      <td>data:geometry:wing:tip:thickness_ratio</td>\n",
       "      <td>IN</td>\n",
       "      <td>thickness ratio at wing tip</td>\n",
       "    </tr>\n",
       "    <tr>\n",
       "      <td>data:weight:aircraft:MFW</td>\n",
       "      <td>IN</td>\n",
       "      <td>maximum fuel weight</td>\n",
       "    </tr>\n",
       "    <tr>\n",
       "      <td>data:weight:aircraft:MLW</td>\n",
       "      <td>IN</td>\n",
       "      <td>maximum landing weight</td>\n",
       "    </tr>\n",
       "    <tr>\n",
       "      <td>data:weight:aircraft:sizing_block_fuel</td>\n",
       "      <td>IN</td>\n",
       "      <td>block fuel quantity (i.e. loaded before taxi-out) used for sizing process</td>\n",
       "    </tr>\n",
       "    <tr>\n",
       "      <td>data:aerodynamics:aircraft:landing:additional_CL_capacity</td>\n",
       "      <td>OUT</td>\n",
       "      <td>at landing, is equal to (maximum lift coefficient)-(maximum required lift coefficient)</td>\n",
       "    </tr>\n",
       "    <tr>\n",
       "      <td>data:geometry:wing:area</td>\n",
       "      <td>OUT</td>\n",
       "      <td>wing reference area</td>\n",
       "    </tr>\n",
       "    <tr>\n",
       "      <td>data:weight:aircraft:additional_fuel_capacity</td>\n",
       "      <td>OUT</td>\n",
       "      <td>fuel mass capacity of wing that exceeds sizing mission requirement</td>\n",
       "    </tr>\n",
       "  </tbody>\n",
       "</table>"
      ],
      "text/plain": [
       "<IPython.core.display.HTML object>"
      ]
     },
     "metadata": {},
     "output_type": "display_data"
    }
   ],
   "source": [
    "oad.list_variables(CONFIGURATION_FILE)"
   ]
  },
  {
   "cell_type": "code",
   "execution_count": null,
   "id": "0c3d3ff0-ead1-445a-b657-b8c7ed313354",
   "metadata": {},
   "outputs": [],
   "source": []
  },
  {
   "cell_type": "code",
   "execution_count": null,
   "id": "d2bcd336-c1b5-4770-b773-5e3cb9bc66f1",
   "metadata": {},
   "outputs": [],
   "source": []
  },
  {
   "cell_type": "code",
   "execution_count": null,
   "id": "8b7b6269-e117-4236-b3e4-aee8a17e29bd",
   "metadata": {},
   "outputs": [],
   "source": []
  },
  {
   "cell_type": "code",
   "execution_count": null,
   "id": "a3af9556-449f-4b4a-8fd6-8f94686975d8",
   "metadata": {},
   "outputs": [],
   "source": []
  },
  {
   "cell_type": "code",
   "execution_count": 86,
   "id": "b7add627-13ad-4041-a71e-33cf3263587f",
   "metadata": {},
   "outputs": [
    {
     "name": "stdout",
     "output_type": "stream",
     "text": [
      "Analysis FASTOADModel pushed\u001b[0m\n"
     ]
    },
    {
     "data": {
      "text/html": [
       "\n",
       "        <iframe\n",
       "            width=\"100%\"\n",
       "            height=\"500px\"\n",
       "            src=\"workdir\\xdsm.html\"\n",
       "            frameborder=\"0\"\n",
       "            allowfullscreen\n",
       "            \n",
       "        ></iframe>\n",
       "        "
      ],
      "text/plain": [
       "<IPython.lib.display.IFrame at 0x1eeeb38b580>"
      ]
     },
     "execution_count": 86,
     "metadata": {},
     "output_type": "execute_result"
    }
   ],
   "source": [
    "XDSM_FILE = pth.join(WORK_FOLDER_PATH, 'xdsm.html')\n",
    "oad.write_xdsm(CONFIGURATION_FILE, XDSM_FILE, overwrite=True)\n",
    "from IPython.display import IFrame\n",
    "IFrame(src=XDSM_FILE, width='100%', height='500px')"
   ]
  },
  {
   "cell_type": "code",
   "execution_count": 19,
   "id": "5318ea30-6998-4452-ac10-fe5acb2935ba",
   "metadata": {},
   "outputs": [],
   "source": [
    "import ipywidgets as widgets"
   ]
  },
  {
   "cell_type": "code",
   "execution_count": 43,
   "id": "37f5ef48-cff8-4b01-8711-d1fee818a4f5",
   "metadata": {},
   "outputs": [
    {
     "ename": "ModuleNotFoundError",
     "evalue": "No module named 'openpyxl'",
     "output_type": "error",
     "traceback": [
      "\u001b[1;31m---------------------------------------------------------------------------\u001b[0m",
      "\u001b[1;31mModuleNotFoundError\u001b[0m                       Traceback (most recent call last)",
      "Input \u001b[1;32mIn [43]\u001b[0m, in \u001b[0;36m<cell line: 1>\u001b[1;34m()\u001b[0m\n\u001b[1;32m----> 1\u001b[0m \u001b[38;5;28;01mimport\u001b[39;00m \u001b[38;5;21;01mopenpyxl\u001b[39;00m\n",
      "\u001b[1;31mModuleNotFoundError\u001b[0m: No module named 'openpyxl'"
     ]
    }
   ],
   "source": []
  },
  {
   "cell_type": "code",
   "execution_count": null,
   "id": "00612902-aa2a-46c8-b219-24af12bb39ed",
   "metadata": {},
   "outputs": [],
   "source": []
  },
  {
   "cell_type": "code",
   "execution_count": null,
   "id": "8a7066b6-ea90-499f-b831-0d820510c7d6",
   "metadata": {},
   "outputs": [],
   "source": []
  },
  {
   "cell_type": "code",
   "execution_count": null,
   "id": "dacd9839-2cde-4c7b-a421-12705bb77dcd",
   "metadata": {},
   "outputs": [],
   "source": []
  },
  {
   "cell_type": "code",
   "execution_count": 9,
   "id": "e0def6ff-60b2-44f9-91f5-5a802bcb02a4",
   "metadata": {},
   "outputs": [],
   "source": [
    "import csv"
   ]
  },
  {
   "cell_type": "code",
   "execution_count": null,
   "id": "ee1943f6-1b8c-4077-b5db-5f2b58d6b3fc",
   "metadata": {},
   "outputs": [],
   "source": []
  },
  {
   "cell_type": "code",
   "execution_count": 10,
   "id": "080c4b33-34c5-4352-bcc6-ef6f3b00fda3",
   "metadata": {},
   "outputs": [],
   "source": [
    "\n",
    " \n",
    "# Création de 3 listes vides pour chaque type de données:\n",
    "identifiant=[]\n",
    "nom=[]\n",
    "prenom=[]\n",
    "# Ouverture du fichier\n",
    "path='data\\Module.csv'\n",
    "fichier=open(path,\"r\")\n",
    "# Lecture du fichier\n",
    "contenu=csv.reader(fichier,delimiter=\";\")\n",
    "# Ajout des différentes données dans les listes vides\n",
    "for row in contenu:\n",
    "    identifiant.append(row[0])\n",
    "    nom.append(row[1])\n",
    "# fermeture du fichier\n",
    "fichier.close()"
   ]
  },
  {
   "cell_type": "code",
   "execution_count": null,
   "id": "92000e5a-cb2e-471f-b128-1a0d8bd17aec",
   "metadata": {},
   "outputs": [],
   "source": []
  },
  {
   "cell_type": "code",
   "execution_count": 11,
   "id": "e891bbab-bed3-42b8-9050-8c875ec3dc27",
   "metadata": {},
   "outputs": [
    {
     "data": {
      "text/plain": [
       "['Nom',\n",
       " 'data:TLAR:NPAX',\n",
       " 'data:TLAR:cruise_mach',\n",
       " 'data:geometry:cabin:aisle_width',\n",
       " 'data:geometry:cabin:exit_width',\n",
       " 'data:geometry:cabin:seats:economical:count_by_row',\n",
       " 'data:geometry:cabin:seats:economical:length',\n",
       " 'data:geometry:cabin:seats:economical:width',\n",
       " 'data:geometry:has_T_tail',\n",
       " 'data:geometry:horizontal_tail:MAC:at25percent:x:from_wingMAC25',\n",
       " 'data:geometry:horizontal_tail:area',\n",
       " 'data:geometry:horizontal_tail:aspect_ratio',\n",
       " 'data:geometry:horizontal_tail:sweep_25',\n",
       " 'data:geometry:horizontal_tail:taper_ratio',\n",
       " 'data:geometry:horizontal_tail:wetted_area',\n",
       " 'data:geometry:propulsion:engine:count',\n",
       " 'data:geometry:propulsion:engine:y_ratio',\n",
       " 'data:geometry:propulsion:layout',\n",
       " 'data:geometry:vertical_tail:area',\n",
       " 'data:geometry:vertical_tail:aspect_ratio',\n",
       " 'data:geometry:vertical_tail:sweep_25',\n",
       " 'data:geometry:vertical_tail:taper_ratio',\n",
       " 'data:geometry:vertical_tail:wetted_area',\n",
       " 'data:geometry:wing:MAC:at25percent:x',\n",
       " 'data:geometry:wing:area',\n",
       " 'data:geometry:wing:aspect_ratio',\n",
       " 'data:geometry:wing:kink:span_ratio',\n",
       " 'data:geometry:wing:sweep_25',\n",
       " 'data:geometry:wing:virtual_taper_ratio',\n",
       " 'data:propulsion:MTO_thrust']"
      ]
     },
     "execution_count": 11,
     "metadata": {},
     "output_type": "execute_result"
    }
   ],
   "source": [
    "identifiant"
   ]
  },
  {
   "cell_type": "code",
   "execution_count": null,
   "id": "0e480bcb-7f3d-4628-bee2-03dc69c0c1d9",
   "metadata": {},
   "outputs": [],
   "source": []
  },
  {
   "cell_type": "code",
   "execution_count": 12,
   "id": "ace79a71-e4ab-4811-a61c-914d0b4b252b",
   "metadata": {},
   "outputs": [
    {
     "data": {
      "text/plain": [
       "['Description',\n",
       " 'top-level requirement: number of passengers, assuming a classic eco/business class repartition',\n",
       " 'top-level requirement: cruise Mach number',\n",
       " 'width of aisles',\n",
       " 'width of exits',\n",
       " 'number of economical class seats along width',\n",
       " 'length of economical class seats',\n",
       " 'width of economical class seats',\n",
       " '0=horizontal tail is attached to fuselage / 1=horizontal tail is attached to top of vertical tail',\n",
       " 'distance along X between 25% MAC of wing and 25% MAC of horizontal tail',\n",
       " 'horizontal tail area',\n",
       " 'aspect ratio of horizontal tail',\n",
       " 'data:geometry:horizontal_tail:sweep_25',\n",
       " 'taper ratio of horizontal tail',\n",
       " 'wetted area of horizontal tail',\n",
       " 'number of engines',\n",
       " 'engine position with respect to total span',\n",
       " 'position of engines (1=under the wing / 2=rear fuselage)',\n",
       " 'vertical tail area',\n",
       " 'aspect ratio of vertical tail',\n",
       " 'sweep angle at 25% chord of vertical tail',\n",
       " 'taper ratio of vertical tail',\n",
       " 'wetted area of vertical tail',\n",
       " 'X-position of the 25% of mean aerodynamic chord of wing w.r.t. aircraft nose (drives position of wing along fuselage)',\n",
       " 'wing reference area',\n",
       " 'wing aspect ratio',\n",
       " 'ratio (Y-position of kink)/(semi-span)',\n",
       " 'sweep angle at 25% chord of wing',\n",
       " 'taper ratio of wing computed from virtual root chord',\n",
       " 'maximum thrust of one engine at sea level']"
      ]
     },
     "execution_count": 12,
     "metadata": {},
     "output_type": "execute_result"
    }
   ],
   "source": [
    "nom"
   ]
  },
  {
   "cell_type": "code",
   "execution_count": null,
   "id": "bbfaaedc-7283-48a0-8650-fdaaefe68f19",
   "metadata": {},
   "outputs": [],
   "source": []
  },
  {
   "cell_type": "code",
   "execution_count": 13,
   "id": "b37b38ef-608b-4738-a874-220412baba72",
   "metadata": {},
   "outputs": [
    {
     "data": {
      "application/vnd.jupyter.widget-view+json": {
       "model_id": "e90c53a9c14c46bab977672a2140e98a",
       "version_major": 2,
       "version_minor": 0
      },
      "text/plain": [
       "HBox(children=(VBox(children=(Label(value='Nom', layout=Layout(width='auto'), style=DescriptionStyle(descripti…"
      ]
     },
     "metadata": {},
     "output_type": "display_data"
    }
   ],
   "source": [
    "from ipywidgets import Layout, Button, VBox, FloatText,Label,HBox\n",
    "\n",
    "items_layout = Layout(width='auto')     # override the default width of the button to 'auto' to let the button grow\n",
    "\n",
    "box_layout = Layout(border='solid',\n",
    "                    width='auto')\n",
    "style = {'description_width': 'initial'}\n",
    "\n",
    "items = [Label(value=word, layout=items_layout,style=style) for word in identifiant]\n",
    "box1 = VBox(children=items)\n",
    "i=0\n",
    "item=[]\n",
    "while(i<len(identifiant)):\n",
    "    \n",
    "    f=FloatText()\n",
    "    item.append(f)\n",
    "    i=i+1\n",
    "box2=VBox(children=item)\n",
    "ITEM=[box1,box2]\n",
    "HBox(children=ITEM)"
   ]
  },
  {
   "cell_type": "code",
   "execution_count": null,
   "id": "64a0ce8e-eeb7-46dc-95fd-ee64baa056ed",
   "metadata": {},
   "outputs": [],
   "source": []
  },
  {
   "cell_type": "code",
   "execution_count": 14,
   "id": "cd21338d-20d0-4b3b-a2af-2db322ee692a",
   "metadata": {},
   "outputs": [],
   "source": [
    "item[0].value=20"
   ]
  },
  {
   "cell_type": "code",
   "execution_count": null,
   "id": "5239840c-4f9d-49ca-91c8-8284e027b1b5",
   "metadata": {},
   "outputs": [],
   "source": []
  },
  {
   "cell_type": "code",
   "execution_count": 8,
   "id": "672e5526-b511-417c-aea1-ad3ae13722b2",
   "metadata": {},
   "outputs": [],
   "source": [
    "from tkinter import *\n",
    "def fen():\n",
    "    window = Tk()\n",
    "    window.title(\"Apprendre tkinter\")\n",
    "    window.mainloop()\n",
    "    return window"
   ]
  },
  {
   "cell_type": "code",
   "execution_count": null,
   "id": "6fe33965-b975-4267-8f09-cdaee5510393",
   "metadata": {},
   "outputs": [],
   "source": [
    "fenetre=fen()"
   ]
  },
  {
   "cell_type": "code",
   "execution_count": null,
   "id": "85cf733b-428d-41ad-b9b7-ce4c630fbf59",
   "metadata": {},
   "outputs": [],
   "source": []
  },
  {
   "cell_type": "code",
   "execution_count": null,
   "id": "6e377383-68cf-4a99-9c0c-79baa7fd0a99",
   "metadata": {},
   "outputs": [],
   "source": []
  },
  {
   "cell_type": "code",
   "execution_count": null,
   "id": "a7268d7f-4b05-40f5-943f-a95439a06bc5",
   "metadata": {},
   "outputs": [],
   "source": []
  },
  {
   "cell_type": "code",
   "execution_count": null,
   "id": "d6c10eb4-028c-42a1-93ce-beb52819668c",
   "metadata": {},
   "outputs": [],
   "source": []
  },
  {
   "cell_type": "code",
   "execution_count": null,
   "id": "babc975e-b352-4d46-b372-643ba7dd5e8c",
   "metadata": {},
   "outputs": [],
   "source": []
  },
  {
   "cell_type": "code",
   "execution_count": null,
   "id": "b82bdf5c-272a-4d06-80cc-57f8bcb5ebb7",
   "metadata": {},
   "outputs": [],
   "source": []
  },
  {
   "cell_type": "code",
   "execution_count": 56,
   "id": "656c0774-7299-4590-a5a4-20084110193e",
   "metadata": {},
   "outputs": [],
   "source": [
    "path='data\\mod.csv'"
   ]
  },
  {
   "cell_type": "code",
   "execution_count": null,
   "id": "42ed6527-b32b-4aec-bc92-bea87f6a1125",
   "metadata": {},
   "outputs": [],
   "source": []
  },
  {
   "cell_type": "code",
   "execution_count": null,
   "id": "52319b43-998b-42d3-8cd1-f4641ef70066",
   "metadata": {},
   "outputs": [],
   "source": []
  },
  {
   "cell_type": "code",
   "execution_count": null,
   "id": "7252125d-692b-4bee-9fcf-add822e8fd3c",
   "metadata": {},
   "outputs": [],
   "source": []
  },
  {
   "cell_type": "code",
   "execution_count": null,
   "id": "829ae7b5-7b1d-4733-90a2-32eaa13e2bf1",
   "metadata": {},
   "outputs": [],
   "source": []
  },
  {
   "cell_type": "code",
   "execution_count": null,
   "id": "10a34e86-1589-4eb8-a721-bcda96dea93a",
   "metadata": {},
   "outputs": [],
   "source": []
  },
  {
   "cell_type": "code",
   "execution_count": null,
   "id": "dce9e908-f127-404e-888f-3f79b3832d5a",
   "metadata": {},
   "outputs": [],
   "source": []
  },
  {
   "cell_type": "code",
   "execution_count": null,
   "id": "fdea09e3-d781-4e17-9a1e-fcd84f0fa403",
   "metadata": {},
   "outputs": [],
   "source": []
  },
  {
   "cell_type": "code",
   "execution_count": null,
   "id": "14b29510-1a55-4a14-a8aa-4e79f1b90e60",
   "metadata": {},
   "outputs": [],
   "source": []
  },
  {
   "cell_type": "code",
   "execution_count": null,
   "id": "0b2516ff-0003-4049-b8b4-cb8ea330f268",
   "metadata": {},
   "outputs": [],
   "source": []
  },
  {
   "cell_type": "code",
   "execution_count": null,
   "id": "81bc1d01-9e1c-43cd-b0b8-e5c50813014f",
   "metadata": {},
   "outputs": [],
   "source": []
  },
  {
   "cell_type": "code",
   "execution_count": null,
   "id": "04ed7e85-731e-4472-bf0c-ef91d63ffe10",
   "metadata": {},
   "outputs": [],
   "source": []
  },
  {
   "cell_type": "code",
   "execution_count": 57,
   "id": "da3c8f84-d1da-4d2e-bdab-ffc813fcc20e",
   "metadata": {},
   "outputs": [],
   "source": [
    "table=pd.read_csv(path)"
   ]
  },
  {
   "cell_type": "code",
   "execution_count": null,
   "id": "2012e895-28f3-4fd1-9792-6cacd689c78d",
   "metadata": {},
   "outputs": [],
   "source": []
  },
  {
   "cell_type": "code",
   "execution_count": null,
   "id": "02982f19-04e0-42a6-9733-a974dcc15067",
   "metadata": {},
   "outputs": [],
   "source": []
  },
  {
   "cell_type": "code",
   "execution_count": 58,
   "id": "15459fa4-cd1b-45be-810b-2be2bc8d8d30",
   "metadata": {},
   "outputs": [
    {
     "name": "stdout",
     "output_type": "stream",
     "text": [
      "                                                  Nom\n",
      "0                                      data:TLAR:NPAX\n",
      "1                               data:TLAR:cruise_mach\n",
      "2                     data:geometry:cabin:aisle_width\n",
      "3                      data:geometry:cabin:exit_width\n",
      "4   data:geometry:cabin:seats:economical:count_by_row\n",
      "5         data:geometry:cabin:seats:economical:length\n",
      "6          data:geometry:cabin:seats:economical:width\n",
      "7                            data:geometry:has_T_tail\n",
      "8   data:geometry:horizontal_tail:MAC:at25percent:...\n",
      "9                  data:geometry:horizontal_tail:area\n",
      "10         data:geometry:horizontal_tail:aspect_ratio\n",
      "11             data:geometry:horizontal_tail:sweep_25\n",
      "12          data:geometry:horizontal_tail:taper_ratio\n",
      "13          data:geometry:horizontal_tail:wetted_area\n",
      "14              data:geometry:propulsion:engine:count\n",
      "15            data:geometry:propulsion:engine:y_ratio\n",
      "16                    data:geometry:propulsion:layout\n",
      "17                   data:geometry:vertical_tail:area\n",
      "18           data:geometry:vertical_tail:aspect_ratio\n",
      "19               data:geometry:vertical_tail:sweep_25\n",
      "20            data:geometry:vertical_tail:taper_ratio\n",
      "21            data:geometry:vertical_tail:wetted_area\n",
      "22               data:geometry:wing:MAC:at25percent:x\n",
      "23                            data:geometry:wing:area\n",
      "24                    data:geometry:wing:aspect_ratio\n",
      "25                 data:geometry:wing:kink:span_ratio\n",
      "26                        data:geometry:wing:sweep_25\n",
      "27             data:geometry:wing:virtual_taper_ratio\n",
      "28                         data:propulsion:MTO_thrust\n"
     ]
    }
   ],
   "source": [
    "print(table)"
   ]
  },
  {
   "cell_type": "code",
   "execution_count": 62,
   "id": "8aad92f7-5202-4112-b15a-47f78a8b633e",
   "metadata": {},
   "outputs": [],
   "source": [
    "tab1=table=pd.read_csv(path)T.values.tolist()[0]"
   ]
  },
  {
   "cell_type": "code",
   "execution_count": 72,
   "id": "3c8b9169-d6e9-4c9a-8c5a-304d0469e410",
   "metadata": {},
   "outputs": [
    {
     "ename": "TypeError",
     "evalue": "string indices must be integers",
     "output_type": "error",
     "traceback": [
      "\u001b[1;31m---------------------------------------------------------------------------\u001b[0m",
      "\u001b[1;31mTypeError\u001b[0m                                 Traceback (most recent call last)",
      "Input \u001b[1;32mIn [72]\u001b[0m, in \u001b[0;36m<cell line: 1>\u001b[1;34m()\u001b[0m\n\u001b[0;32m      1\u001b[0m \u001b[38;5;28;01mfor\u001b[39;00m col \u001b[38;5;129;01min\u001b[39;00m table:\n\u001b[1;32m----> 2\u001b[0m     liste\u001b[38;5;241m.\u001b[39mappend(\u001b[43mcol\u001b[49m\u001b[43m[\u001b[49m\u001b[38;5;124;43m'\u001b[39;49m\u001b[38;5;124;43mNom\u001b[39;49m\u001b[38;5;124;43m'\u001b[39;49m\u001b[43m]\u001b[49m)\n",
      "\u001b[1;31mTypeError\u001b[0m: string indices must be integers"
     ]
    }
   ],
   "source": []
  },
  {
   "cell_type": "code",
   "execution_count": null,
   "id": "4b51ccc9-a50f-4959-93b1-1914319ef280",
   "metadata": {},
   "outputs": [],
   "source": []
  },
  {
   "cell_type": "code",
   "execution_count": null,
   "id": "1f828d85-8ba4-4e0c-ab61-1f3022f88260",
   "metadata": {},
   "outputs": [],
   "source": []
  },
  {
   "cell_type": "code",
   "execution_count": 68,
   "id": "166dabf8-8247-4708-b489-03015a6f649d",
   "metadata": {},
   "outputs": [
    {
     "data": {
      "text/plain": [
       "['data:TLAR:cruise_mach',\n",
       " 0                                        data:TLAR:NPAX\n",
       " 1                                 data:TLAR:cruise_mach\n",
       " 2                       data:geometry:cabin:aisle_width\n",
       " 3                        data:geometry:cabin:exit_width\n",
       " 4     data:geometry:cabin:seats:economical:count_by_row\n",
       " 5           data:geometry:cabin:seats:economical:length\n",
       " 6            data:geometry:cabin:seats:economical:width\n",
       " 7                              data:geometry:has_T_tail\n",
       " 8     data:geometry:horizontal_tail:MAC:at25percent:...\n",
       " 9                    data:geometry:horizontal_tail:area\n",
       " 10           data:geometry:horizontal_tail:aspect_ratio\n",
       " 11               data:geometry:horizontal_tail:sweep_25\n",
       " 12            data:geometry:horizontal_tail:taper_ratio\n",
       " 13            data:geometry:horizontal_tail:wetted_area\n",
       " 14                data:geometry:propulsion:engine:count\n",
       " 15              data:geometry:propulsion:engine:y_ratio\n",
       " 16                      data:geometry:propulsion:layout\n",
       " 17                     data:geometry:vertical_tail:area\n",
       " 18             data:geometry:vertical_tail:aspect_ratio\n",
       " 19                 data:geometry:vertical_tail:sweep_25\n",
       " 20              data:geometry:vertical_tail:taper_ratio\n",
       " 21              data:geometry:vertical_tail:wetted_area\n",
       " 22                 data:geometry:wing:MAC:at25percent:x\n",
       " 23                              data:geometry:wing:area\n",
       " 24                      data:geometry:wing:aspect_ratio\n",
       " 25                   data:geometry:wing:kink:span_ratio\n",
       " 26                          data:geometry:wing:sweep_25\n",
       " 27               data:geometry:wing:virtual_taper_ratio\n",
       " 28                           data:propulsion:MTO_thrust\n",
       " Name: Nom, dtype: object]"
      ]
     },
     "execution_count": 68,
     "metadata": {},
     "output_type": "execute_result"
    }
   ],
   "source": [
    "liste"
   ]
  },
  {
   "cell_type": "code",
   "execution_count": 70,
   "id": "ab6586c8-39a5-4c15-a776-9a0235eb1852",
   "metadata": {},
   "outputs": [
    {
     "data": {
      "text/plain": [
       "0                                        data:TLAR:NPAX\n",
       "1                                 data:TLAR:cruise_mach\n",
       "2                       data:geometry:cabin:aisle_width\n",
       "3                        data:geometry:cabin:exit_width\n",
       "4     data:geometry:cabin:seats:economical:count_by_row\n",
       "5           data:geometry:cabin:seats:economical:length\n",
       "6            data:geometry:cabin:seats:economical:width\n",
       "7                              data:geometry:has_T_tail\n",
       "8     data:geometry:horizontal_tail:MAC:at25percent:...\n",
       "9                    data:geometry:horizontal_tail:area\n",
       "10           data:geometry:horizontal_tail:aspect_ratio\n",
       "11               data:geometry:horizontal_tail:sweep_25\n",
       "12            data:geometry:horizontal_tail:taper_ratio\n",
       "13            data:geometry:horizontal_tail:wetted_area\n",
       "14                data:geometry:propulsion:engine:count\n",
       "15              data:geometry:propulsion:engine:y_ratio\n",
       "16                      data:geometry:propulsion:layout\n",
       "17                     data:geometry:vertical_tail:area\n",
       "18             data:geometry:vertical_tail:aspect_ratio\n",
       "19                 data:geometry:vertical_tail:sweep_25\n",
       "20              data:geometry:vertical_tail:taper_ratio\n",
       "21              data:geometry:vertical_tail:wetted_area\n",
       "22                 data:geometry:wing:MAC:at25percent:x\n",
       "23                              data:geometry:wing:area\n",
       "24                      data:geometry:wing:aspect_ratio\n",
       "25                   data:geometry:wing:kink:span_ratio\n",
       "26                          data:geometry:wing:sweep_25\n",
       "27               data:geometry:wing:virtual_taper_ratio\n",
       "28                           data:propulsion:MTO_thrust\n",
       "Name: Nom, dtype: object"
      ]
     },
     "execution_count": 70,
     "metadata": {},
     "output_type": "execute_result"
    }
   ],
   "source": [
    "liste[1]"
   ]
  },
  {
   "cell_type": "code",
   "execution_count": null,
   "id": "814bb290-6709-4e6d-a2fd-51ff0e5d4264",
   "metadata": {},
   "outputs": [],
   "source": []
  },
  {
   "cell_type": "code",
   "execution_count": null,
   "id": "1aef2c8b-a06d-477a-85e0-899c24ca6c01",
   "metadata": {},
   "outputs": [],
   "source": []
  },
  {
   "cell_type": "code",
   "execution_count": null,
   "id": "7c33181b-6156-466e-b5a2-dccc8551ca4b",
   "metadata": {},
   "outputs": [],
   "source": []
  },
  {
   "cell_type": "code",
   "execution_count": null,
   "id": "99515713-90b1-4354-b775-eb082b6f8cf7",
   "metadata": {},
   "outputs": [],
   "source": []
  },
  {
   "cell_type": "code",
   "execution_count": null,
   "id": "a34b73df-713c-485a-862e-6b87b7acf574",
   "metadata": {},
   "outputs": [],
   "source": []
  },
  {
   "cell_type": "code",
   "execution_count": null,
   "id": "22fcc7e4-3415-4820-8ec4-f407e006ec14",
   "metadata": {},
   "outputs": [],
   "source": []
  },
  {
   "cell_type": "code",
   "execution_count": null,
   "id": "e503d651-9f94-45df-8c85-22cc14470918",
   "metadata": {},
   "outputs": [],
   "source": []
  },
  {
   "cell_type": "code",
   "execution_count": 50,
   "id": "8b27dd95-2a60-4e24-ab15-2bb169bf74c0",
   "metadata": {},
   "outputs": [
    {
     "ename": "KeyError",
     "evalue": "'Nom'",
     "output_type": "error",
     "traceback": [
      "\u001b[1;31m---------------------------------------------------------------------------\u001b[0m",
      "\u001b[1;31mKeyError\u001b[0m                                  Traceback (most recent call last)",
      "File \u001b[1;32m~\\anaconda3\\envs\\FAST-PEDAGO\\lib\\site-packages\\pandas\\core\\indexes\\base.py:3621\u001b[0m, in \u001b[0;36mIndex.get_loc\u001b[1;34m(self, key, method, tolerance)\u001b[0m\n\u001b[0;32m   3620\u001b[0m \u001b[38;5;28;01mtry\u001b[39;00m:\n\u001b[1;32m-> 3621\u001b[0m     \u001b[38;5;28;01mreturn\u001b[39;00m \u001b[38;5;28;43mself\u001b[39;49m\u001b[38;5;241;43m.\u001b[39;49m\u001b[43m_engine\u001b[49m\u001b[38;5;241;43m.\u001b[39;49m\u001b[43mget_loc\u001b[49m\u001b[43m(\u001b[49m\u001b[43mcasted_key\u001b[49m\u001b[43m)\u001b[49m\n\u001b[0;32m   3622\u001b[0m \u001b[38;5;28;01mexcept\u001b[39;00m \u001b[38;5;167;01mKeyError\u001b[39;00m \u001b[38;5;28;01mas\u001b[39;00m err:\n",
      "File \u001b[1;32m~\\anaconda3\\envs\\FAST-PEDAGO\\lib\\site-packages\\pandas\\_libs\\index.pyx:136\u001b[0m, in \u001b[0;36mpandas._libs.index.IndexEngine.get_loc\u001b[1;34m()\u001b[0m\n",
      "File \u001b[1;32m~\\anaconda3\\envs\\FAST-PEDAGO\\lib\\site-packages\\pandas\\_libs\\index.pyx:163\u001b[0m, in \u001b[0;36mpandas._libs.index.IndexEngine.get_loc\u001b[1;34m()\u001b[0m\n",
      "File \u001b[1;32mpandas\\_libs\\hashtable_class_helper.pxi:5198\u001b[0m, in \u001b[0;36mpandas._libs.hashtable.PyObjectHashTable.get_item\u001b[1;34m()\u001b[0m\n",
      "File \u001b[1;32mpandas\\_libs\\hashtable_class_helper.pxi:5206\u001b[0m, in \u001b[0;36mpandas._libs.hashtable.PyObjectHashTable.get_item\u001b[1;34m()\u001b[0m\n",
      "\u001b[1;31mKeyError\u001b[0m: 'Nom'",
      "\nThe above exception was the direct cause of the following exception:\n",
      "\u001b[1;31mKeyError\u001b[0m                                  Traceback (most recent call last)",
      "Input \u001b[1;32mIn [50]\u001b[0m, in \u001b[0;36m<cell line: 1>\u001b[1;34m()\u001b[0m\n\u001b[1;32m----> 1\u001b[0m ligne\u001b[38;5;241m=\u001b[39m\u001b[43mtable\u001b[49m\u001b[38;5;241;43m.\u001b[39;49m\u001b[43mloc\u001b[49m\u001b[43m[\u001b[49m\u001b[43m:\u001b[49m\u001b[43m,\u001b[49m\u001b[38;5;124;43m'\u001b[39;49m\u001b[38;5;124;43mNom\u001b[39;49m\u001b[38;5;124;43m'\u001b[39;49m\u001b[43m]\u001b[49m\n",
      "File \u001b[1;32m~\\anaconda3\\envs\\FAST-PEDAGO\\lib\\site-packages\\pandas\\core\\indexing.py:961\u001b[0m, in \u001b[0;36m_LocationIndexer.__getitem__\u001b[1;34m(self, key)\u001b[0m\n\u001b[0;32m    959\u001b[0m     \u001b[38;5;28;01mif\u001b[39;00m \u001b[38;5;28mself\u001b[39m\u001b[38;5;241m.\u001b[39m_is_scalar_access(key):\n\u001b[0;32m    960\u001b[0m         \u001b[38;5;28;01mreturn\u001b[39;00m \u001b[38;5;28mself\u001b[39m\u001b[38;5;241m.\u001b[39mobj\u001b[38;5;241m.\u001b[39m_get_value(\u001b[38;5;241m*\u001b[39mkey, takeable\u001b[38;5;241m=\u001b[39m\u001b[38;5;28mself\u001b[39m\u001b[38;5;241m.\u001b[39m_takeable)\n\u001b[1;32m--> 961\u001b[0m     \u001b[38;5;28;01mreturn\u001b[39;00m \u001b[38;5;28;43mself\u001b[39;49m\u001b[38;5;241;43m.\u001b[39;49m\u001b[43m_getitem_tuple\u001b[49m\u001b[43m(\u001b[49m\u001b[43mkey\u001b[49m\u001b[43m)\u001b[49m\n\u001b[0;32m    962\u001b[0m \u001b[38;5;28;01melse\u001b[39;00m:\n\u001b[0;32m    963\u001b[0m     \u001b[38;5;66;03m# we by definition only have the 0th axis\u001b[39;00m\n\u001b[0;32m    964\u001b[0m     axis \u001b[38;5;241m=\u001b[39m \u001b[38;5;28mself\u001b[39m\u001b[38;5;241m.\u001b[39maxis \u001b[38;5;129;01mor\u001b[39;00m \u001b[38;5;241m0\u001b[39m\n",
      "File \u001b[1;32m~\\anaconda3\\envs\\FAST-PEDAGO\\lib\\site-packages\\pandas\\core\\indexing.py:1140\u001b[0m, in \u001b[0;36m_LocIndexer._getitem_tuple\u001b[1;34m(self, tup)\u001b[0m\n\u001b[0;32m   1138\u001b[0m \u001b[38;5;28;01mwith\u001b[39;00m suppress(IndexingError):\n\u001b[0;32m   1139\u001b[0m     tup \u001b[38;5;241m=\u001b[39m \u001b[38;5;28mself\u001b[39m\u001b[38;5;241m.\u001b[39m_expand_ellipsis(tup)\n\u001b[1;32m-> 1140\u001b[0m     \u001b[38;5;28;01mreturn\u001b[39;00m \u001b[38;5;28;43mself\u001b[39;49m\u001b[38;5;241;43m.\u001b[39;49m\u001b[43m_getitem_lowerdim\u001b[49m\u001b[43m(\u001b[49m\u001b[43mtup\u001b[49m\u001b[43m)\u001b[49m\n\u001b[0;32m   1142\u001b[0m \u001b[38;5;66;03m# no multi-index, so validate all of the indexers\u001b[39;00m\n\u001b[0;32m   1143\u001b[0m tup \u001b[38;5;241m=\u001b[39m \u001b[38;5;28mself\u001b[39m\u001b[38;5;241m.\u001b[39m_validate_tuple_indexer(tup)\n",
      "File \u001b[1;32m~\\anaconda3\\envs\\FAST-PEDAGO\\lib\\site-packages\\pandas\\core\\indexing.py:867\u001b[0m, in \u001b[0;36m_LocationIndexer._getitem_lowerdim\u001b[1;34m(self, tup)\u001b[0m\n\u001b[0;32m    863\u001b[0m \u001b[38;5;28;01mfor\u001b[39;00m i, key \u001b[38;5;129;01min\u001b[39;00m \u001b[38;5;28menumerate\u001b[39m(tup):\n\u001b[0;32m    864\u001b[0m     \u001b[38;5;28;01mif\u001b[39;00m is_label_like(key):\n\u001b[0;32m    865\u001b[0m         \u001b[38;5;66;03m# We don't need to check for tuples here because those are\u001b[39;00m\n\u001b[0;32m    866\u001b[0m         \u001b[38;5;66;03m#  caught by the _is_nested_tuple_indexer check above.\u001b[39;00m\n\u001b[1;32m--> 867\u001b[0m         section \u001b[38;5;241m=\u001b[39m \u001b[38;5;28;43mself\u001b[39;49m\u001b[38;5;241;43m.\u001b[39;49m\u001b[43m_getitem_axis\u001b[49m\u001b[43m(\u001b[49m\u001b[43mkey\u001b[49m\u001b[43m,\u001b[49m\u001b[43m \u001b[49m\u001b[43maxis\u001b[49m\u001b[38;5;241;43m=\u001b[39;49m\u001b[43mi\u001b[49m\u001b[43m)\u001b[49m\n\u001b[0;32m    869\u001b[0m         \u001b[38;5;66;03m# We should never have a scalar section here, because\u001b[39;00m\n\u001b[0;32m    870\u001b[0m         \u001b[38;5;66;03m#  _getitem_lowerdim is only called after a check for\u001b[39;00m\n\u001b[0;32m    871\u001b[0m         \u001b[38;5;66;03m#  is_scalar_access, which that would be.\u001b[39;00m\n\u001b[0;32m    872\u001b[0m         \u001b[38;5;28;01mif\u001b[39;00m section\u001b[38;5;241m.\u001b[39mndim \u001b[38;5;241m==\u001b[39m \u001b[38;5;28mself\u001b[39m\u001b[38;5;241m.\u001b[39mndim:\n\u001b[0;32m    873\u001b[0m             \u001b[38;5;66;03m# we're in the middle of slicing through a MultiIndex\u001b[39;00m\n\u001b[0;32m    874\u001b[0m             \u001b[38;5;66;03m# revise the key wrt to `section` by inserting an _NS\u001b[39;00m\n",
      "File \u001b[1;32m~\\anaconda3\\envs\\FAST-PEDAGO\\lib\\site-packages\\pandas\\core\\indexing.py:1202\u001b[0m, in \u001b[0;36m_LocIndexer._getitem_axis\u001b[1;34m(self, key, axis)\u001b[0m\n\u001b[0;32m   1200\u001b[0m \u001b[38;5;66;03m# fall thru to straight lookup\u001b[39;00m\n\u001b[0;32m   1201\u001b[0m \u001b[38;5;28mself\u001b[39m\u001b[38;5;241m.\u001b[39m_validate_key(key, axis)\n\u001b[1;32m-> 1202\u001b[0m \u001b[38;5;28;01mreturn\u001b[39;00m \u001b[38;5;28;43mself\u001b[39;49m\u001b[38;5;241;43m.\u001b[39;49m\u001b[43m_get_label\u001b[49m\u001b[43m(\u001b[49m\u001b[43mkey\u001b[49m\u001b[43m,\u001b[49m\u001b[43m \u001b[49m\u001b[43maxis\u001b[49m\u001b[38;5;241;43m=\u001b[39;49m\u001b[43maxis\u001b[49m\u001b[43m)\u001b[49m\n",
      "File \u001b[1;32m~\\anaconda3\\envs\\FAST-PEDAGO\\lib\\site-packages\\pandas\\core\\indexing.py:1153\u001b[0m, in \u001b[0;36m_LocIndexer._get_label\u001b[1;34m(self, label, axis)\u001b[0m\n\u001b[0;32m   1151\u001b[0m \u001b[38;5;28;01mdef\u001b[39;00m \u001b[38;5;21m_get_label\u001b[39m(\u001b[38;5;28mself\u001b[39m, label, axis: \u001b[38;5;28mint\u001b[39m):\n\u001b[0;32m   1152\u001b[0m     \u001b[38;5;66;03m# GH#5667 this will fail if the label is not present in the axis.\u001b[39;00m\n\u001b[1;32m-> 1153\u001b[0m     \u001b[38;5;28;01mreturn\u001b[39;00m \u001b[38;5;28;43mself\u001b[39;49m\u001b[38;5;241;43m.\u001b[39;49m\u001b[43mobj\u001b[49m\u001b[38;5;241;43m.\u001b[39;49m\u001b[43mxs\u001b[49m\u001b[43m(\u001b[49m\u001b[43mlabel\u001b[49m\u001b[43m,\u001b[49m\u001b[43m \u001b[49m\u001b[43maxis\u001b[49m\u001b[38;5;241;43m=\u001b[39;49m\u001b[43maxis\u001b[49m\u001b[43m)\u001b[49m\n",
      "File \u001b[1;32m~\\anaconda3\\envs\\FAST-PEDAGO\\lib\\site-packages\\pandas\\core\\generic.py:3861\u001b[0m, in \u001b[0;36mNDFrame.xs\u001b[1;34m(self, key, axis, level, drop_level)\u001b[0m\n\u001b[0;32m   3859\u001b[0m \u001b[38;5;28;01mif\u001b[39;00m axis \u001b[38;5;241m==\u001b[39m \u001b[38;5;241m1\u001b[39m:\n\u001b[0;32m   3860\u001b[0m     \u001b[38;5;28;01mif\u001b[39;00m drop_level:\n\u001b[1;32m-> 3861\u001b[0m         \u001b[38;5;28;01mreturn\u001b[39;00m \u001b[38;5;28;43mself\u001b[39;49m\u001b[43m[\u001b[49m\u001b[43mkey\u001b[49m\u001b[43m]\u001b[49m\n\u001b[0;32m   3862\u001b[0m     index \u001b[38;5;241m=\u001b[39m \u001b[38;5;28mself\u001b[39m\u001b[38;5;241m.\u001b[39mcolumns\n\u001b[0;32m   3863\u001b[0m \u001b[38;5;28;01melse\u001b[39;00m:\n",
      "File \u001b[1;32m~\\anaconda3\\envs\\FAST-PEDAGO\\lib\\site-packages\\pandas\\core\\frame.py:3505\u001b[0m, in \u001b[0;36mDataFrame.__getitem__\u001b[1;34m(self, key)\u001b[0m\n\u001b[0;32m   3503\u001b[0m \u001b[38;5;28;01mif\u001b[39;00m \u001b[38;5;28mself\u001b[39m\u001b[38;5;241m.\u001b[39mcolumns\u001b[38;5;241m.\u001b[39mnlevels \u001b[38;5;241m>\u001b[39m \u001b[38;5;241m1\u001b[39m:\n\u001b[0;32m   3504\u001b[0m     \u001b[38;5;28;01mreturn\u001b[39;00m \u001b[38;5;28mself\u001b[39m\u001b[38;5;241m.\u001b[39m_getitem_multilevel(key)\n\u001b[1;32m-> 3505\u001b[0m indexer \u001b[38;5;241m=\u001b[39m \u001b[38;5;28;43mself\u001b[39;49m\u001b[38;5;241;43m.\u001b[39;49m\u001b[43mcolumns\u001b[49m\u001b[38;5;241;43m.\u001b[39;49m\u001b[43mget_loc\u001b[49m\u001b[43m(\u001b[49m\u001b[43mkey\u001b[49m\u001b[43m)\u001b[49m\n\u001b[0;32m   3506\u001b[0m \u001b[38;5;28;01mif\u001b[39;00m is_integer(indexer):\n\u001b[0;32m   3507\u001b[0m     indexer \u001b[38;5;241m=\u001b[39m [indexer]\n",
      "File \u001b[1;32m~\\anaconda3\\envs\\FAST-PEDAGO\\lib\\site-packages\\pandas\\core\\indexes\\base.py:3623\u001b[0m, in \u001b[0;36mIndex.get_loc\u001b[1;34m(self, key, method, tolerance)\u001b[0m\n\u001b[0;32m   3621\u001b[0m     \u001b[38;5;28;01mreturn\u001b[39;00m \u001b[38;5;28mself\u001b[39m\u001b[38;5;241m.\u001b[39m_engine\u001b[38;5;241m.\u001b[39mget_loc(casted_key)\n\u001b[0;32m   3622\u001b[0m \u001b[38;5;28;01mexcept\u001b[39;00m \u001b[38;5;167;01mKeyError\u001b[39;00m \u001b[38;5;28;01mas\u001b[39;00m err:\n\u001b[1;32m-> 3623\u001b[0m     \u001b[38;5;28;01mraise\u001b[39;00m \u001b[38;5;167;01mKeyError\u001b[39;00m(key) \u001b[38;5;28;01mfrom\u001b[39;00m \u001b[38;5;21;01merr\u001b[39;00m\n\u001b[0;32m   3624\u001b[0m \u001b[38;5;28;01mexcept\u001b[39;00m \u001b[38;5;167;01mTypeError\u001b[39;00m:\n\u001b[0;32m   3625\u001b[0m     \u001b[38;5;66;03m# If we have a listlike key, _check_indexing_error will raise\u001b[39;00m\n\u001b[0;32m   3626\u001b[0m     \u001b[38;5;66;03m#  InvalidIndexError. Otherwise we fall through and re-raise\u001b[39;00m\n\u001b[0;32m   3627\u001b[0m     \u001b[38;5;66;03m#  the TypeError.\u001b[39;00m\n\u001b[0;32m   3628\u001b[0m     \u001b[38;5;28mself\u001b[39m\u001b[38;5;241m.\u001b[39m_check_indexing_error(key)\n",
      "\u001b[1;31mKeyError\u001b[0m: 'Nom'"
     ]
    }
   ],
   "source": []
  },
  {
   "cell_type": "code",
   "execution_count": null,
   "id": "81375e4a-62a8-4510-ac4c-8e5ea884571d",
   "metadata": {},
   "outputs": [],
   "source": []
  },
  {
   "cell_type": "code",
   "execution_count": null,
   "id": "6f80f041-675c-4e61-a16b-90ebd8de9083",
   "metadata": {},
   "outputs": [],
   "source": []
  },
  {
   "cell_type": "code",
   "execution_count": null,
   "id": "11dd34ce-6671-43bf-b5e6-784216fad9b9",
   "metadata": {},
   "outputs": [],
   "source": []
  },
  {
   "cell_type": "code",
   "execution_count": null,
   "id": "97cd1361-fb63-4c4f-84af-227981c53a85",
   "metadata": {},
   "outputs": [],
   "source": []
  },
  {
   "cell_type": "code",
   "execution_count": null,
   "id": "d9a17f12-9719-44aa-98c7-5f02e3a12ea0",
   "metadata": {},
   "outputs": [],
   "source": []
  },
  {
   "cell_type": "code",
   "execution_count": null,
   "id": "34264c37-98e8-4924-8abb-f276e6ba391a",
   "metadata": {},
   "outputs": [],
   "source": []
  },
  {
   "cell_type": "code",
   "execution_count": null,
   "id": "383585b7-a701-446e-9d40-79ee0db7883c",
   "metadata": {},
   "outputs": [],
   "source": []
  },
  {
   "cell_type": "code",
   "execution_count": null,
   "id": "0aab3fb5-cc57-4d7b-b582-7f4ac7d9cb4e",
   "metadata": {},
   "outputs": [],
   "source": []
  },
  {
   "cell_type": "code",
   "execution_count": null,
   "id": "fce6bc98-4877-44db-9a40-ae1f667465b5",
   "metadata": {},
   "outputs": [],
   "source": []
  },
  {
   "cell_type": "code",
   "execution_count": null,
   "id": "d1b2178d-d060-49d3-a4a0-0a3c22edc5e4",
   "metadata": {},
   "outputs": [],
   "source": []
  },
  {
   "cell_type": "code",
   "execution_count": 28,
   "id": "0028cb32-45e4-4fb7-86b3-dd152288b84a",
   "metadata": {},
   "outputs": [
    {
     "name": "stdout",
     "output_type": "stream",
     "text": [
      "                                                                                      Nom;Description\n",
      "data:TLAR:NPAX;top-level requirement: number of...   assuming a classic eco/business class reparti...\n",
      "data:TLAR:cruise_mach;top-level requirement: cr...                                                NaN\n",
      "data:geometry:cabin:aisle_width;width of aisles                                                   NaN\n",
      "data:geometry:cabin:exit_width;width of exits                                                     NaN\n",
      "data:geometry:cabin:seats:economical:count_by_r...                                                NaN\n",
      "data:geometry:cabin:seats:economical:length;len...                                                NaN\n",
      "data:geometry:cabin:seats:economical:width;widt...                                                NaN\n",
      "data:geometry:has_T_tail;0=horizontal tail is a...                                                NaN\n",
      "data:geometry:horizontal_tail:MAC:at25percent:x...                                                NaN\n",
      "data:geometry:horizontal_tail:area;horizontal t...                                                NaN\n",
      "data:geometry:horizontal_tail:aspect_ratio;aspe...                                                NaN\n",
      "data:geometry:horizontal_tail:sweep_25;data:geo...                                                NaN\n",
      "data:geometry:horizontal_tail:taper_ratio;taper...                                                NaN\n",
      "data:geometry:horizontal_tail:wetted_area;wette...                                                NaN\n",
      "data:geometry:propulsion:engine:count;number of...                                                NaN\n",
      "data:geometry:propulsion:engine:y_ratio;engine ...                                                NaN\n",
      "data:geometry:propulsion:layout;position of eng...                                                NaN\n",
      "data:geometry:vertical_tail:area;vertical tail ...                                                NaN\n",
      "data:geometry:vertical_tail:aspect_ratio;aspect...                                                NaN\n",
      "data:geometry:vertical_tail:sweep_25;sweep angl...                                                NaN\n",
      "data:geometry:vertical_tail:taper_ratio;taper r...                                                NaN\n",
      "data:geometry:vertical_tail:wetted_area;wetted ...                                                NaN\n",
      "data:geometry:wing:MAC:at25percent:x;X-position...                                                NaN\n",
      "data:geometry:wing:area;wing reference area                                                       NaN\n",
      "data:geometry:wing:aspect_ratio;wing aspect ratio                                                 NaN\n",
      "data:geometry:wing:kink:span_ratio;ratio (Y-pos...                                                NaN\n",
      "data:geometry:wing:sweep_25;sweep angle at 25% ...                                                NaN\n",
      "data:geometry:wing:virtual_taper_ratio;taper ra...                                                NaN\n",
      "data:propulsion:MTO_thrust;maximum thrust of on...                                                NaN\n"
     ]
    }
   ],
   "source": [
    "print(table)"
   ]
  },
  {
   "cell_type": "code",
   "execution_count": null,
   "id": "b6233a5c-4337-4526-9953-bdb70c4ab402",
   "metadata": {},
   "outputs": [],
   "source": []
  },
  {
   "cell_type": "code",
   "execution_count": 29,
   "id": "71d18ce4-ccfb-4f5f-98ae-3a9ed6cef908",
   "metadata": {},
   "outputs": [
    {
     "ename": "KeyError",
     "evalue": "'Nom'",
     "output_type": "error",
     "traceback": [
      "\u001b[1;31m---------------------------------------------------------------------------\u001b[0m",
      "\u001b[1;31mKeyError\u001b[0m                                  Traceback (most recent call last)",
      "File \u001b[1;32m~\\anaconda3\\envs\\FAST-PEDAGO\\lib\\site-packages\\pandas\\core\\indexes\\base.py:3621\u001b[0m, in \u001b[0;36mIndex.get_loc\u001b[1;34m(self, key, method, tolerance)\u001b[0m\n\u001b[0;32m   3620\u001b[0m \u001b[38;5;28;01mtry\u001b[39;00m:\n\u001b[1;32m-> 3621\u001b[0m     \u001b[38;5;28;01mreturn\u001b[39;00m \u001b[38;5;28;43mself\u001b[39;49m\u001b[38;5;241;43m.\u001b[39;49m\u001b[43m_engine\u001b[49m\u001b[38;5;241;43m.\u001b[39;49m\u001b[43mget_loc\u001b[49m\u001b[43m(\u001b[49m\u001b[43mcasted_key\u001b[49m\u001b[43m)\u001b[49m\n\u001b[0;32m   3622\u001b[0m \u001b[38;5;28;01mexcept\u001b[39;00m \u001b[38;5;167;01mKeyError\u001b[39;00m \u001b[38;5;28;01mas\u001b[39;00m err:\n",
      "File \u001b[1;32m~\\anaconda3\\envs\\FAST-PEDAGO\\lib\\site-packages\\pandas\\_libs\\index.pyx:136\u001b[0m, in \u001b[0;36mpandas._libs.index.IndexEngine.get_loc\u001b[1;34m()\u001b[0m\n",
      "File \u001b[1;32m~\\anaconda3\\envs\\FAST-PEDAGO\\lib\\site-packages\\pandas\\_libs\\index.pyx:163\u001b[0m, in \u001b[0;36mpandas._libs.index.IndexEngine.get_loc\u001b[1;34m()\u001b[0m\n",
      "File \u001b[1;32mpandas\\_libs\\hashtable_class_helper.pxi:5198\u001b[0m, in \u001b[0;36mpandas._libs.hashtable.PyObjectHashTable.get_item\u001b[1;34m()\u001b[0m\n",
      "File \u001b[1;32mpandas\\_libs\\hashtable_class_helper.pxi:5206\u001b[0m, in \u001b[0;36mpandas._libs.hashtable.PyObjectHashTable.get_item\u001b[1;34m()\u001b[0m\n",
      "\u001b[1;31mKeyError\u001b[0m: 'Nom'",
      "\nThe above exception was the direct cause of the following exception:\n",
      "\u001b[1;31mKeyError\u001b[0m                                  Traceback (most recent call last)",
      "Input \u001b[1;32mIn [29]\u001b[0m, in \u001b[0;36m<cell line: 1>\u001b[1;34m()\u001b[0m\n\u001b[1;32m----> 1\u001b[0m ligne\u001b[38;5;241m=\u001b[39m\u001b[43mtable\u001b[49m\u001b[38;5;241;43m.\u001b[39;49m\u001b[43mloc\u001b[49m\u001b[43m[\u001b[49m\u001b[38;5;241;43m1\u001b[39;49m\u001b[43m,\u001b[49m\u001b[38;5;124;43m'\u001b[39;49m\u001b[38;5;124;43mNom\u001b[39;49m\u001b[38;5;124;43m'\u001b[39;49m\u001b[43m]\u001b[49m\n",
      "File \u001b[1;32m~\\anaconda3\\envs\\FAST-PEDAGO\\lib\\site-packages\\pandas\\core\\indexing.py:960\u001b[0m, in \u001b[0;36m_LocationIndexer.__getitem__\u001b[1;34m(self, key)\u001b[0m\n\u001b[0;32m    958\u001b[0m     key \u001b[38;5;241m=\u001b[39m \u001b[38;5;28mtuple\u001b[39m(com\u001b[38;5;241m.\u001b[39mapply_if_callable(x, \u001b[38;5;28mself\u001b[39m\u001b[38;5;241m.\u001b[39mobj) \u001b[38;5;28;01mfor\u001b[39;00m x \u001b[38;5;129;01min\u001b[39;00m key)\n\u001b[0;32m    959\u001b[0m     \u001b[38;5;28;01mif\u001b[39;00m \u001b[38;5;28mself\u001b[39m\u001b[38;5;241m.\u001b[39m_is_scalar_access(key):\n\u001b[1;32m--> 960\u001b[0m         \u001b[38;5;28;01mreturn\u001b[39;00m \u001b[38;5;28;43mself\u001b[39;49m\u001b[38;5;241;43m.\u001b[39;49m\u001b[43mobj\u001b[49m\u001b[38;5;241;43m.\u001b[39;49m\u001b[43m_get_value\u001b[49m\u001b[43m(\u001b[49m\u001b[38;5;241;43m*\u001b[39;49m\u001b[43mkey\u001b[49m\u001b[43m,\u001b[49m\u001b[43m \u001b[49m\u001b[43mtakeable\u001b[49m\u001b[38;5;241;43m=\u001b[39;49m\u001b[38;5;28;43mself\u001b[39;49m\u001b[38;5;241;43m.\u001b[39;49m\u001b[43m_takeable\u001b[49m\u001b[43m)\u001b[49m\n\u001b[0;32m    961\u001b[0m     \u001b[38;5;28;01mreturn\u001b[39;00m \u001b[38;5;28mself\u001b[39m\u001b[38;5;241m.\u001b[39m_getitem_tuple(key)\n\u001b[0;32m    962\u001b[0m \u001b[38;5;28;01melse\u001b[39;00m:\n\u001b[0;32m    963\u001b[0m     \u001b[38;5;66;03m# we by definition only have the 0th axis\u001b[39;00m\n",
      "File \u001b[1;32m~\\anaconda3\\envs\\FAST-PEDAGO\\lib\\site-packages\\pandas\\core\\frame.py:3615\u001b[0m, in \u001b[0;36mDataFrame._get_value\u001b[1;34m(self, index, col, takeable)\u001b[0m\n\u001b[0;32m   3612\u001b[0m     series \u001b[38;5;241m=\u001b[39m \u001b[38;5;28mself\u001b[39m\u001b[38;5;241m.\u001b[39m_ixs(col, axis\u001b[38;5;241m=\u001b[39m\u001b[38;5;241m1\u001b[39m)\n\u001b[0;32m   3613\u001b[0m     \u001b[38;5;28;01mreturn\u001b[39;00m series\u001b[38;5;241m.\u001b[39m_values[index]\n\u001b[1;32m-> 3615\u001b[0m series \u001b[38;5;241m=\u001b[39m \u001b[38;5;28;43mself\u001b[39;49m\u001b[38;5;241;43m.\u001b[39;49m\u001b[43m_get_item_cache\u001b[49m\u001b[43m(\u001b[49m\u001b[43mcol\u001b[49m\u001b[43m)\u001b[49m\n\u001b[0;32m   3616\u001b[0m engine \u001b[38;5;241m=\u001b[39m \u001b[38;5;28mself\u001b[39m\u001b[38;5;241m.\u001b[39mindex\u001b[38;5;241m.\u001b[39m_engine\n\u001b[0;32m   3618\u001b[0m \u001b[38;5;28;01mif\u001b[39;00m \u001b[38;5;129;01mnot\u001b[39;00m \u001b[38;5;28misinstance\u001b[39m(\u001b[38;5;28mself\u001b[39m\u001b[38;5;241m.\u001b[39mindex, MultiIndex):\n\u001b[0;32m   3619\u001b[0m     \u001b[38;5;66;03m# CategoricalIndex: Trying to use the engine fastpath may give incorrect\u001b[39;00m\n\u001b[0;32m   3620\u001b[0m     \u001b[38;5;66;03m#  results if our categories are integers that dont match our codes\u001b[39;00m\n\u001b[0;32m   3621\u001b[0m     \u001b[38;5;66;03m# IntervalIndex: IntervalTree has no get_loc\u001b[39;00m\n",
      "File \u001b[1;32m~\\anaconda3\\envs\\FAST-PEDAGO\\lib\\site-packages\\pandas\\core\\frame.py:3931\u001b[0m, in \u001b[0;36mDataFrame._get_item_cache\u001b[1;34m(self, item)\u001b[0m\n\u001b[0;32m   3926\u001b[0m res \u001b[38;5;241m=\u001b[39m cache\u001b[38;5;241m.\u001b[39mget(item)\n\u001b[0;32m   3927\u001b[0m \u001b[38;5;28;01mif\u001b[39;00m res \u001b[38;5;129;01mis\u001b[39;00m \u001b[38;5;28;01mNone\u001b[39;00m:\n\u001b[0;32m   3928\u001b[0m     \u001b[38;5;66;03m# All places that call _get_item_cache have unique columns,\u001b[39;00m\n\u001b[0;32m   3929\u001b[0m     \u001b[38;5;66;03m#  pending resolution of GH#33047\u001b[39;00m\n\u001b[1;32m-> 3931\u001b[0m     loc \u001b[38;5;241m=\u001b[39m \u001b[38;5;28;43mself\u001b[39;49m\u001b[38;5;241;43m.\u001b[39;49m\u001b[43mcolumns\u001b[49m\u001b[38;5;241;43m.\u001b[39;49m\u001b[43mget_loc\u001b[49m\u001b[43m(\u001b[49m\u001b[43mitem\u001b[49m\u001b[43m)\u001b[49m\n\u001b[0;32m   3932\u001b[0m     res \u001b[38;5;241m=\u001b[39m \u001b[38;5;28mself\u001b[39m\u001b[38;5;241m.\u001b[39m_ixs(loc, axis\u001b[38;5;241m=\u001b[39m\u001b[38;5;241m1\u001b[39m)\n\u001b[0;32m   3934\u001b[0m     cache[item] \u001b[38;5;241m=\u001b[39m res\n",
      "File \u001b[1;32m~\\anaconda3\\envs\\FAST-PEDAGO\\lib\\site-packages\\pandas\\core\\indexes\\base.py:3623\u001b[0m, in \u001b[0;36mIndex.get_loc\u001b[1;34m(self, key, method, tolerance)\u001b[0m\n\u001b[0;32m   3621\u001b[0m     \u001b[38;5;28;01mreturn\u001b[39;00m \u001b[38;5;28mself\u001b[39m\u001b[38;5;241m.\u001b[39m_engine\u001b[38;5;241m.\u001b[39mget_loc(casted_key)\n\u001b[0;32m   3622\u001b[0m \u001b[38;5;28;01mexcept\u001b[39;00m \u001b[38;5;167;01mKeyError\u001b[39;00m \u001b[38;5;28;01mas\u001b[39;00m err:\n\u001b[1;32m-> 3623\u001b[0m     \u001b[38;5;28;01mraise\u001b[39;00m \u001b[38;5;167;01mKeyError\u001b[39;00m(key) \u001b[38;5;28;01mfrom\u001b[39;00m \u001b[38;5;21;01merr\u001b[39;00m\n\u001b[0;32m   3624\u001b[0m \u001b[38;5;28;01mexcept\u001b[39;00m \u001b[38;5;167;01mTypeError\u001b[39;00m:\n\u001b[0;32m   3625\u001b[0m     \u001b[38;5;66;03m# If we have a listlike key, _check_indexing_error will raise\u001b[39;00m\n\u001b[0;32m   3626\u001b[0m     \u001b[38;5;66;03m#  InvalidIndexError. Otherwise we fall through and re-raise\u001b[39;00m\n\u001b[0;32m   3627\u001b[0m     \u001b[38;5;66;03m#  the TypeError.\u001b[39;00m\n\u001b[0;32m   3628\u001b[0m     \u001b[38;5;28mself\u001b[39m\u001b[38;5;241m.\u001b[39m_check_indexing_error(key)\n",
      "\u001b[1;31mKeyError\u001b[0m: 'Nom'"
     ]
    }
   ],
   "source": [
    "ligne=table.loc[1,'Nom']"
   ]
  },
  {
   "cell_type": "code",
   "execution_count": null,
   "id": "4f76989b-a88f-4fb9-a9f2-6b00365cf61d",
   "metadata": {},
   "outputs": [],
   "source": []
  },
  {
   "cell_type": "code",
   "execution_count": null,
   "id": "242b86ea-569c-45f9-94f1-5bca372a0254",
   "metadata": {},
   "outputs": [],
   "source": []
  },
  {
   "cell_type": "code",
   "execution_count": null,
   "id": "cc465999-3c71-4bd9-a73e-e55cdbd3dd2f",
   "metadata": {},
   "outputs": [],
   "source": []
  },
  {
   "cell_type": "code",
   "execution_count": null,
   "id": "dd261555-9a36-4c80-9e1a-7a0ba48af51c",
   "metadata": {},
   "outputs": [],
   "source": []
  },
  {
   "cell_type": "code",
   "execution_count": null,
   "id": "e66e9ada-2c49-48e5-91fb-1da4a8a2becb",
   "metadata": {},
   "outputs": [],
   "source": []
  },
  {
   "cell_type": "code",
   "execution_count": null,
   "id": "7d9802da-d512-4294-9ea5-62d505be3932",
   "metadata": {},
   "outputs": [],
   "source": []
  },
  {
   "cell_type": "code",
   "execution_count": 5,
   "id": "d2b2c854-e34f-4b54-b39c-4de497ec6aa7",
   "metadata": {},
   "outputs": [
    {
     "name": "stdout",
     "output_type": "stream",
     "text": [
      "<bound method NDFrame.head of   Nom;Prenom;Note\n",
      "0   SY;Ousmane;10\n",
      "1    KA;Moussa;15\n",
      "2     SY;Demba;16\n",
      "3      SY;Pate;17\n",
      "4      SY;Diop;18\n",
      "5      SY;Seck;19\n",
      "6       SY;Sow;20\n",
      "7   DIA;Moussa;21\n",
      "8    DIA;Fatou;22\n",
      "9     DIA;Coly;23>\n"
     ]
    }
   ],
   "source": [
    "print(table.head)"
   ]
  },
  {
   "cell_type": "code",
   "execution_count": 7,
   "id": "4149e9be-f176-446b-b2be-e4d45683e2fc",
   "metadata": {},
   "outputs": [
    {
     "ename": "KeyError",
     "evalue": "1",
     "output_type": "error",
     "traceback": [
      "\u001b[1;31m---------------------------------------------------------------------------\u001b[0m",
      "\u001b[1;31mKeyError\u001b[0m                                  Traceback (most recent call last)",
      "File \u001b[1;32m~\\anaconda3\\envs\\FAST-PEDAGO\\lib\\site-packages\\pandas\\core\\indexes\\base.py:3621\u001b[0m, in \u001b[0;36mIndex.get_loc\u001b[1;34m(self, key, method, tolerance)\u001b[0m\n\u001b[0;32m   3620\u001b[0m \u001b[38;5;28;01mtry\u001b[39;00m:\n\u001b[1;32m-> 3621\u001b[0m     \u001b[38;5;28;01mreturn\u001b[39;00m \u001b[38;5;28;43mself\u001b[39;49m\u001b[38;5;241;43m.\u001b[39;49m\u001b[43m_engine\u001b[49m\u001b[38;5;241;43m.\u001b[39;49m\u001b[43mget_loc\u001b[49m\u001b[43m(\u001b[49m\u001b[43mcasted_key\u001b[49m\u001b[43m)\u001b[49m\n\u001b[0;32m   3622\u001b[0m \u001b[38;5;28;01mexcept\u001b[39;00m \u001b[38;5;167;01mKeyError\u001b[39;00m \u001b[38;5;28;01mas\u001b[39;00m err:\n",
      "File \u001b[1;32m~\\anaconda3\\envs\\FAST-PEDAGO\\lib\\site-packages\\pandas\\_libs\\index.pyx:136\u001b[0m, in \u001b[0;36mpandas._libs.index.IndexEngine.get_loc\u001b[1;34m()\u001b[0m\n",
      "File \u001b[1;32m~\\anaconda3\\envs\\FAST-PEDAGO\\lib\\site-packages\\pandas\\_libs\\index.pyx:163\u001b[0m, in \u001b[0;36mpandas._libs.index.IndexEngine.get_loc\u001b[1;34m()\u001b[0m\n",
      "File \u001b[1;32mpandas\\_libs\\hashtable_class_helper.pxi:5198\u001b[0m, in \u001b[0;36mpandas._libs.hashtable.PyObjectHashTable.get_item\u001b[1;34m()\u001b[0m\n",
      "File \u001b[1;32mpandas\\_libs\\hashtable_class_helper.pxi:5206\u001b[0m, in \u001b[0;36mpandas._libs.hashtable.PyObjectHashTable.get_item\u001b[1;34m()\u001b[0m\n",
      "\u001b[1;31mKeyError\u001b[0m: 1",
      "\nThe above exception was the direct cause of the following exception:\n",
      "\u001b[1;31mKeyError\u001b[0m                                  Traceback (most recent call last)",
      "Input \u001b[1;32mIn [7]\u001b[0m, in \u001b[0;36m<cell line: 1>\u001b[1;34m()\u001b[0m\n\u001b[1;32m----> 1\u001b[0m ligne\u001b[38;5;241m=\u001b[39m\u001b[43mtable\u001b[49m\u001b[43m[\u001b[49m\u001b[38;5;241;43m1\u001b[39;49m\u001b[43m]\u001b[49m\n",
      "File \u001b[1;32m~\\anaconda3\\envs\\FAST-PEDAGO\\lib\\site-packages\\pandas\\core\\frame.py:3505\u001b[0m, in \u001b[0;36mDataFrame.__getitem__\u001b[1;34m(self, key)\u001b[0m\n\u001b[0;32m   3503\u001b[0m \u001b[38;5;28;01mif\u001b[39;00m \u001b[38;5;28mself\u001b[39m\u001b[38;5;241m.\u001b[39mcolumns\u001b[38;5;241m.\u001b[39mnlevels \u001b[38;5;241m>\u001b[39m \u001b[38;5;241m1\u001b[39m:\n\u001b[0;32m   3504\u001b[0m     \u001b[38;5;28;01mreturn\u001b[39;00m \u001b[38;5;28mself\u001b[39m\u001b[38;5;241m.\u001b[39m_getitem_multilevel(key)\n\u001b[1;32m-> 3505\u001b[0m indexer \u001b[38;5;241m=\u001b[39m \u001b[38;5;28;43mself\u001b[39;49m\u001b[38;5;241;43m.\u001b[39;49m\u001b[43mcolumns\u001b[49m\u001b[38;5;241;43m.\u001b[39;49m\u001b[43mget_loc\u001b[49m\u001b[43m(\u001b[49m\u001b[43mkey\u001b[49m\u001b[43m)\u001b[49m\n\u001b[0;32m   3506\u001b[0m \u001b[38;5;28;01mif\u001b[39;00m is_integer(indexer):\n\u001b[0;32m   3507\u001b[0m     indexer \u001b[38;5;241m=\u001b[39m [indexer]\n",
      "File \u001b[1;32m~\\anaconda3\\envs\\FAST-PEDAGO\\lib\\site-packages\\pandas\\core\\indexes\\base.py:3623\u001b[0m, in \u001b[0;36mIndex.get_loc\u001b[1;34m(self, key, method, tolerance)\u001b[0m\n\u001b[0;32m   3621\u001b[0m     \u001b[38;5;28;01mreturn\u001b[39;00m \u001b[38;5;28mself\u001b[39m\u001b[38;5;241m.\u001b[39m_engine\u001b[38;5;241m.\u001b[39mget_loc(casted_key)\n\u001b[0;32m   3622\u001b[0m \u001b[38;5;28;01mexcept\u001b[39;00m \u001b[38;5;167;01mKeyError\u001b[39;00m \u001b[38;5;28;01mas\u001b[39;00m err:\n\u001b[1;32m-> 3623\u001b[0m     \u001b[38;5;28;01mraise\u001b[39;00m \u001b[38;5;167;01mKeyError\u001b[39;00m(key) \u001b[38;5;28;01mfrom\u001b[39;00m \u001b[38;5;21;01merr\u001b[39;00m\n\u001b[0;32m   3624\u001b[0m \u001b[38;5;28;01mexcept\u001b[39;00m \u001b[38;5;167;01mTypeError\u001b[39;00m:\n\u001b[0;32m   3625\u001b[0m     \u001b[38;5;66;03m# If we have a listlike key, _check_indexing_error will raise\u001b[39;00m\n\u001b[0;32m   3626\u001b[0m     \u001b[38;5;66;03m#  InvalidIndexError. Otherwise we fall through and re-raise\u001b[39;00m\n\u001b[0;32m   3627\u001b[0m     \u001b[38;5;66;03m#  the TypeError.\u001b[39;00m\n\u001b[0;32m   3628\u001b[0m     \u001b[38;5;28mself\u001b[39m\u001b[38;5;241m.\u001b[39m_check_indexing_error(key)\n",
      "\u001b[1;31mKeyError\u001b[0m: 1"
     ]
    }
   ],
   "source": []
  },
  {
   "cell_type": "code",
   "execution_count": 69,
   "id": "d2732bb9-ea7f-4201-a887-d0c9204fceb3",
   "metadata": {},
   "outputs": [],
   "source": [
    "# The MDA process menu\n",
    "import ipywidgets as widgets\n",
    "from ipywidgets import Button, Layout,HBox,VBox\n",
    "import csv\n",
    "def csv_into_table(path):\n",
    "    table = []\n",
    "    f = open(path)\n",
    "    myreader = csv.reader(f, delimiter=';')\n",
    "    headings = next(myreader)\n",
    "\n",
    "    for row in myreader:\n",
    "        table.append(row[0])\n",
    "    return table\n",
    "def Menu():\n",
    "    h1=widgets.HTML(\n",
    "    value=\" <b>MDA Menu</b>\",\n",
    ")\n",
    "    table=csv_into_table('data\\menu.csv')\n",
    "   \n",
    "    layout=Layout(width='16.5%', height='80px', border='2px solid green')     \n",
    "    # override the default width of the button to 'auto' to let the button grow\n",
    "    Menu_layout = Layout(border='4px solid black',width='100%',padding='10px')\n",
    "    box_layout = widgets.Layout(display='flex',flex_flow='column',align_items='center',width='50%')\n",
    "    but = [Button(description=word, layout=layout, style=dict(button_color='lightgreen')) for word in table]\n",
    "    box2 = HBox(children=but,layout=Menu_layout)\n",
    "    box1 = widgets.HBox(children=[h1],layout=box_layout)\n",
    "    form = VBox(children=[box1,box2], layout=Layout(border='6px solid green', padding='10px', align_items='center', width='100'))\n",
    "    display(form)\n"
   ]
  },
  {
   "cell_type": "code",
   "execution_count": null,
   "id": "bc5192fb-c0a6-4204-9462-db40c5ff67d2",
   "metadata": {},
   "outputs": [],
   "source": []
  },
  {
   "cell_type": "code",
   "execution_count": null,
   "id": "7580a360-172a-4958-9d8a-a69664f5b50a",
   "metadata": {},
   "outputs": [],
   "source": []
  },
  {
   "cell_type": "code",
   "execution_count": null,
   "id": "6464911a-4682-4bc7-866f-105c9146a915",
   "metadata": {},
   "outputs": [],
   "source": []
  },
  {
   "cell_type": "code",
   "execution_count": null,
   "id": "ca08c26c-52fb-4935-8f43-38de3b702abb",
   "metadata": {},
   "outputs": [],
   "source": []
  },
  {
   "cell_type": "code",
   "execution_count": null,
   "id": "33c5144d-bfce-4077-80be-3eaa1034b58d",
   "metadata": {},
   "outputs": [],
   "source": []
  },
  {
   "cell_type": "code",
   "execution_count": null,
   "id": "0107f7f6-7c92-4eea-8efb-39d1bd93031f",
   "metadata": {},
   "outputs": [],
   "source": []
  },
  {
   "cell_type": "code",
   "execution_count": null,
   "id": "d0150dde-29ee-4994-857c-257ec80ad252",
   "metadata": {},
   "outputs": [],
   "source": []
  },
  {
   "cell_type": "code",
   "execution_count": null,
   "id": "718c32ec-a9b9-4d2d-a3cf-eeaa89ed5b5e",
   "metadata": {},
   "outputs": [],
   "source": []
  },
  {
   "cell_type": "code",
   "execution_count": 70,
   "id": "85df1211-53d0-4e7c-8003-9025092bde70",
   "metadata": {},
   "outputs": [
    {
     "data": {
      "application/vnd.jupyter.widget-view+json": {
       "model_id": "fe259f334a4b4d098cded14f42aff297",
       "version_major": 2,
       "version_minor": 0
      },
      "text/plain": [
       "VBox(children=(HBox(children=(HTML(value=' <b>MDA Menu</b>'),), layout=Layout(align_items='center', display='f…"
      ]
     },
     "metadata": {},
     "output_type": "display_data"
    }
   ],
   "source": [
    "men=Menu()"
   ]
  },
  {
   "cell_type": "code",
   "execution_count": null,
   "id": "58196a37-e007-4580-a6bc-803cf1f0240e",
   "metadata": {},
   "outputs": [],
   "source": []
  },
  {
   "cell_type": "code",
   "execution_count": null,
   "id": "e8a25ed4-5d51-4067-bf55-bc3ab177ba9f",
   "metadata": {},
   "outputs": [],
   "source": []
  },
  {
   "cell_type": "code",
   "execution_count": null,
   "id": "ff8251f4-b3c5-4656-a690-f61c3d699394",
   "metadata": {},
   "outputs": [],
   "source": []
  },
  {
   "cell_type": "code",
   "execution_count": null,
   "id": "0e3803a0-b181-4dee-b8c6-cdf452900f3d",
   "metadata": {},
   "outputs": [],
   "source": []
  },
  {
   "cell_type": "code",
   "execution_count": null,
   "id": "c33e157d-3bb0-4d9f-af68-8319e8b003e5",
   "metadata": {},
   "outputs": [],
   "source": []
  },
  {
   "cell_type": "code",
   "execution_count": null,
   "id": "2565555a-5ed9-4adf-bdfb-ab2756d29c92",
   "metadata": {},
   "outputs": [],
   "source": []
  },
  {
   "cell_type": "code",
   "execution_count": null,
   "id": "901bf468-a962-4dda-a322-ac1448899340",
   "metadata": {},
   "outputs": [],
   "source": []
  },
  {
   "cell_type": "code",
   "execution_count": null,
   "id": "1ea16afd-0392-4a31-a57f-7269da09a40e",
   "metadata": {},
   "outputs": [],
   "source": []
  },
  {
   "cell_type": "code",
   "execution_count": null,
   "id": "0aa9f8c0-2a02-4aab-b4dd-4d25fff591f2",
   "metadata": {},
   "outputs": [],
   "source": []
  },
  {
   "cell_type": "code",
   "execution_count": null,
   "id": "74f36e70-5374-4a28-b432-5752b8f2c6f3",
   "metadata": {},
   "outputs": [],
   "source": []
  },
  {
   "cell_type": "code",
   "execution_count": null,
   "id": "14724bb9-2999-4658-a772-fe449e790cd6",
   "metadata": {},
   "outputs": [],
   "source": []
  },
  {
   "cell_type": "code",
   "execution_count": null,
   "id": "86d3bd6c-7c13-46d3-8897-e4aaa0d84ac2",
   "metadata": {},
   "outputs": [],
   "source": []
  },
  {
   "cell_type": "code",
   "execution_count": null,
   "id": "4c775dc5-98b6-4c3a-9816-29e836fc3c09",
   "metadata": {},
   "outputs": [],
   "source": []
  },
  {
   "cell_type": "code",
   "execution_count": null,
   "id": "0ccf914b-8f43-4761-9be5-1813dd8487fa",
   "metadata": {},
   "outputs": [],
   "source": []
  },
  {
   "cell_type": "code",
   "execution_count": null,
   "id": "c32ad57e-ecd7-46ce-bfea-6b86ab1bf1c7",
   "metadata": {},
   "outputs": [],
   "source": []
  },
  {
   "cell_type": "code",
   "execution_count": null,
   "id": "410fa0b9-79eb-4391-b56e-62e4aa97f24d",
   "metadata": {},
   "outputs": [],
   "source": []
  },
  {
   "cell_type": "code",
   "execution_count": null,
   "id": "b7ac30dd-fcdc-4038-9de0-42607be6612a",
   "metadata": {},
   "outputs": [],
   "source": []
  },
  {
   "cell_type": "code",
   "execution_count": null,
   "id": "8b722ee2-f8a5-4d60-ab4e-2bb6a61cc87a",
   "metadata": {},
   "outputs": [],
   "source": []
  },
  {
   "cell_type": "code",
   "execution_count": null,
   "id": "a7b84699-f343-498f-983f-764dd0f6f416",
   "metadata": {},
   "outputs": [],
   "source": []
  },
  {
   "cell_type": "code",
   "execution_count": null,
   "id": "33867b8a-70dc-4e88-9faa-04cbf95ca2fa",
   "metadata": {},
   "outputs": [],
   "source": []
  },
  {
   "cell_type": "code",
   "execution_count": null,
   "id": "d91661a3-b179-4b30-b394-7c60e351ed70",
   "metadata": {},
   "outputs": [],
   "source": []
  },
  {
   "cell_type": "code",
   "execution_count": null,
   "id": "83f458c9-21a3-4229-9a40-db886126f3e4",
   "metadata": {},
   "outputs": [],
   "source": []
  },
  {
   "cell_type": "code",
   "execution_count": null,
   "id": "9daaa037-e96f-40e0-819b-c8e9ea0e73a7",
   "metadata": {},
   "outputs": [],
   "source": []
  },
  {
   "cell_type": "code",
   "execution_count": null,
   "id": "3fb47f28-90d1-4450-8bc4-703d7118f397",
   "metadata": {},
   "outputs": [],
   "source": []
  },
  {
   "cell_type": "code",
   "execution_count": null,
   "id": "9cfeb752-ceca-4c9f-9605-42093a1d267c",
   "metadata": {},
   "outputs": [],
   "source": []
  },
  {
   "cell_type": "code",
   "execution_count": null,
   "id": "82952b8d-8553-4928-ae78-69dcf516bb9f",
   "metadata": {},
   "outputs": [],
   "source": []
  },
  {
   "cell_type": "code",
   "execution_count": null,
   "id": "afbf4d88-b9ac-40c4-9fcd-f71a8a9bcdef",
   "metadata": {},
   "outputs": [],
   "source": []
  },
  {
   "cell_type": "code",
   "execution_count": null,
   "id": "39d13b4e-1c36-4af8-9537-a6337aad8341",
   "metadata": {},
   "outputs": [],
   "source": []
  },
  {
   "cell_type": "code",
   "execution_count": null,
   "id": "46e34fa7-fd37-4db1-ae5b-688487624604",
   "metadata": {},
   "outputs": [],
   "source": []
  },
  {
   "cell_type": "code",
   "execution_count": null,
   "id": "93452c18-677c-409a-addf-3a25e142347a",
   "metadata": {},
   "outputs": [],
   "source": []
  },
  {
   "cell_type": "code",
   "execution_count": null,
   "id": "50839e14-9fbb-4c97-b2af-3e9215840d29",
   "metadata": {},
   "outputs": [],
   "source": []
  },
  {
   "cell_type": "code",
   "execution_count": null,
   "id": "a62d44ee-a6a3-4be8-a42d-82f81ddf1a05",
   "metadata": {},
   "outputs": [],
   "source": []
  },
  {
   "cell_type": "code",
   "execution_count": null,
   "id": "16fcad2c-7ef5-4b39-b786-b02c28a34a2d",
   "metadata": {},
   "outputs": [],
   "source": []
  },
  {
   "cell_type": "code",
   "execution_count": null,
   "id": "4bab85c2-dc9c-4d5a-8869-037b2af0bb29",
   "metadata": {},
   "outputs": [],
   "source": []
  },
  {
   "cell_type": "code",
   "execution_count": null,
   "id": "75d9390c-3c35-42da-aa21-691aba9f4941",
   "metadata": {},
   "outputs": [],
   "source": []
  },
  {
   "cell_type": "code",
   "execution_count": null,
   "id": "48179024-85e1-4864-8819-333b06d42504",
   "metadata": {},
   "outputs": [],
   "source": []
  },
  {
   "cell_type": "code",
   "execution_count": null,
   "id": "bc321a8f-45bd-43a6-a611-7c15431b45a8",
   "metadata": {},
   "outputs": [],
   "source": []
  },
  {
   "cell_type": "code",
   "execution_count": null,
   "id": "44f9751e-30cb-49b3-a281-ebe35d392c8d",
   "metadata": {},
   "outputs": [
    {
     "name": "stdout",
     "output_type": "stream",
     "text": [
      "NL: NLBGS Converged in 2 iterations\n"
     ]
    },
    {
     "name": "stderr",
     "output_type": "stream",
     "text": [
      "INFO    : Computation finished after 9.28 seconds\n",
      "INFO    : Problem outputs written in C:\\Users\\PC\\PycharmProjects\\FAST-PEDAGO\\Presentation\\workdir\\problem_outputs.xml\n"
     ]
    }
   ],
   "source": [
    "eval_problem = oad.evaluate_problem(CONFIGURATION_FILE, overwrite=True)"
   ]
  },
  {
   "cell_type": "code",
   "execution_count": null,
   "id": "d2c4e6e1-7d5a-4de3-9faa-da2325c3bee5",
   "metadata": {},
   "outputs": [],
   "source": []
  },
  {
   "cell_type": "code",
   "execution_count": null,
   "id": "38466280-ff02-4162-a6ba-23e0a4468ca8",
   "metadata": {},
   "outputs": [],
   "source": []
  },
  {
   "cell_type": "code",
   "execution_count": null,
   "id": "3a969aac-53de-45d9-a339-bdf684d2e1bc",
   "metadata": {},
   "outputs": [
    {
     "data": {
      "application/vnd.jupyter.widget-view+json": {
       "model_id": "b4714c224cb24651bccabf477618bf76",
       "version_major": 2,
       "version_minor": 0
      },
      "text/plain": [
       "VBox(children=(HBox(children=(Button(description='Load', icon='upload', style=ButtonStyle(), tooltip='Load the…"
      ]
     },
     "metadata": {},
     "output_type": "display_data"
    }
   ],
   "source": [
    "oad.variable_viewer(eval_problem.output_file_path)"
   ]
  },
  {
   "cell_type": "code",
   "execution_count": null,
   "id": "2d5f87fc-ad9c-4758-8ec0-52d1fa47c773",
   "metadata": {},
   "outputs": [],
   "source": []
  },
  {
   "cell_type": "code",
   "execution_count": null,
   "id": "575565b7-5a92-47f2-a77b-0d20927edf8f",
   "metadata": {},
   "outputs": [],
   "source": []
  },
  {
   "cell_type": "code",
   "execution_count": null,
   "id": "a3bb7138-3ba1-4f60-bfc1-a1f27e2e7377",
   "metadata": {},
   "outputs": [
    {
     "data": {
      "application/vnd.plotly.v1+json": {
       "config": {
        "plotlyServerURL": "https://plot.ly"
       },
       "data": [
        {
         "mode": "lines+markers",
         "name": "FAST-OAD",
         "type": "scatter",
         "uid": "68c75ccb-0f6f-4604-b4a6-edc7a0ba5436",
         "x": [
          0,
          -1.95994,
          -6.386988727091978,
          -17.031969938911942,
          -17.031969938911942,
          -6.386988727091978,
          -1.95994,
          0,
          0,
          0,
          1.95994,
          6.386988727091978,
          17.031969938911942,
          17.031969938911942,
          6.386988727091978,
          1.95994,
          0,
          0
         ],
         "y": [
          12.508209551035018,
          12.508209551035018,
          14.766639545653462,
          20.19710718740356,
          21.668646808656415,
          18.519348427055828,
          18.519348427055828,
          18.519348427055828,
          12.508209551035018,
          12.508209551035018,
          12.508209551035018,
          14.766639545653462,
          20.19710718740356,
          21.668646808656415,
          18.519348427055828,
          18.519348427055828,
          18.519348427055828,
          12.508209551035018
         ]
        }
       ],
       "layout": {
        "autosize": true,
        "template": {
         "data": {
          "bar": [
           {
            "error_x": {
             "color": "#2a3f5f"
            },
            "error_y": {
             "color": "#2a3f5f"
            },
            "marker": {
             "line": {
              "color": "#E5ECF6",
              "width": 0.5
             },
             "pattern": {
              "fillmode": "overlay",
              "size": 10,
              "solidity": 0.2
             }
            },
            "type": "bar"
           }
          ],
          "barpolar": [
           {
            "marker": {
             "line": {
              "color": "#E5ECF6",
              "width": 0.5
             },
             "pattern": {
              "fillmode": "overlay",
              "size": 10,
              "solidity": 0.2
             }
            },
            "type": "barpolar"
           }
          ],
          "carpet": [
           {
            "aaxis": {
             "endlinecolor": "#2a3f5f",
             "gridcolor": "white",
             "linecolor": "white",
             "minorgridcolor": "white",
             "startlinecolor": "#2a3f5f"
            },
            "baxis": {
             "endlinecolor": "#2a3f5f",
             "gridcolor": "white",
             "linecolor": "white",
             "minorgridcolor": "white",
             "startlinecolor": "#2a3f5f"
            },
            "type": "carpet"
           }
          ],
          "choropleth": [
           {
            "colorbar": {
             "outlinewidth": 0,
             "ticks": ""
            },
            "type": "choropleth"
           }
          ],
          "contour": [
           {
            "colorbar": {
             "outlinewidth": 0,
             "ticks": ""
            },
            "colorscale": [
             [
              0,
              "#0d0887"
             ],
             [
              0.1111111111111111,
              "#46039f"
             ],
             [
              0.2222222222222222,
              "#7201a8"
             ],
             [
              0.3333333333333333,
              "#9c179e"
             ],
             [
              0.4444444444444444,
              "#bd3786"
             ],
             [
              0.5555555555555556,
              "#d8576b"
             ],
             [
              0.6666666666666666,
              "#ed7953"
             ],
             [
              0.7777777777777778,
              "#fb9f3a"
             ],
             [
              0.8888888888888888,
              "#fdca26"
             ],
             [
              1,
              "#f0f921"
             ]
            ],
            "type": "contour"
           }
          ],
          "contourcarpet": [
           {
            "colorbar": {
             "outlinewidth": 0,
             "ticks": ""
            },
            "type": "contourcarpet"
           }
          ],
          "heatmap": [
           {
            "colorbar": {
             "outlinewidth": 0,
             "ticks": ""
            },
            "colorscale": [
             [
              0,
              "#0d0887"
             ],
             [
              0.1111111111111111,
              "#46039f"
             ],
             [
              0.2222222222222222,
              "#7201a8"
             ],
             [
              0.3333333333333333,
              "#9c179e"
             ],
             [
              0.4444444444444444,
              "#bd3786"
             ],
             [
              0.5555555555555556,
              "#d8576b"
             ],
             [
              0.6666666666666666,
              "#ed7953"
             ],
             [
              0.7777777777777778,
              "#fb9f3a"
             ],
             [
              0.8888888888888888,
              "#fdca26"
             ],
             [
              1,
              "#f0f921"
             ]
            ],
            "type": "heatmap"
           }
          ],
          "heatmapgl": [
           {
            "colorbar": {
             "outlinewidth": 0,
             "ticks": ""
            },
            "colorscale": [
             [
              0,
              "#0d0887"
             ],
             [
              0.1111111111111111,
              "#46039f"
             ],
             [
              0.2222222222222222,
              "#7201a8"
             ],
             [
              0.3333333333333333,
              "#9c179e"
             ],
             [
              0.4444444444444444,
              "#bd3786"
             ],
             [
              0.5555555555555556,
              "#d8576b"
             ],
             [
              0.6666666666666666,
              "#ed7953"
             ],
             [
              0.7777777777777778,
              "#fb9f3a"
             ],
             [
              0.8888888888888888,
              "#fdca26"
             ],
             [
              1,
              "#f0f921"
             ]
            ],
            "type": "heatmapgl"
           }
          ],
          "histogram": [
           {
            "marker": {
             "pattern": {
              "fillmode": "overlay",
              "size": 10,
              "solidity": 0.2
             }
            },
            "type": "histogram"
           }
          ],
          "histogram2d": [
           {
            "colorbar": {
             "outlinewidth": 0,
             "ticks": ""
            },
            "colorscale": [
             [
              0,
              "#0d0887"
             ],
             [
              0.1111111111111111,
              "#46039f"
             ],
             [
              0.2222222222222222,
              "#7201a8"
             ],
             [
              0.3333333333333333,
              "#9c179e"
             ],
             [
              0.4444444444444444,
              "#bd3786"
             ],
             [
              0.5555555555555556,
              "#d8576b"
             ],
             [
              0.6666666666666666,
              "#ed7953"
             ],
             [
              0.7777777777777778,
              "#fb9f3a"
             ],
             [
              0.8888888888888888,
              "#fdca26"
             ],
             [
              1,
              "#f0f921"
             ]
            ],
            "type": "histogram2d"
           }
          ],
          "histogram2dcontour": [
           {
            "colorbar": {
             "outlinewidth": 0,
             "ticks": ""
            },
            "colorscale": [
             [
              0,
              "#0d0887"
             ],
             [
              0.1111111111111111,
              "#46039f"
             ],
             [
              0.2222222222222222,
              "#7201a8"
             ],
             [
              0.3333333333333333,
              "#9c179e"
             ],
             [
              0.4444444444444444,
              "#bd3786"
             ],
             [
              0.5555555555555556,
              "#d8576b"
             ],
             [
              0.6666666666666666,
              "#ed7953"
             ],
             [
              0.7777777777777778,
              "#fb9f3a"
             ],
             [
              0.8888888888888888,
              "#fdca26"
             ],
             [
              1,
              "#f0f921"
             ]
            ],
            "type": "histogram2dcontour"
           }
          ],
          "mesh3d": [
           {
            "colorbar": {
             "outlinewidth": 0,
             "ticks": ""
            },
            "type": "mesh3d"
           }
          ],
          "parcoords": [
           {
            "line": {
             "colorbar": {
              "outlinewidth": 0,
              "ticks": ""
             }
            },
            "type": "parcoords"
           }
          ],
          "pie": [
           {
            "automargin": true,
            "type": "pie"
           }
          ],
          "scatter": [
           {
            "marker": {
             "colorbar": {
              "outlinewidth": 0,
              "ticks": ""
             }
            },
            "type": "scatter"
           }
          ],
          "scatter3d": [
           {
            "line": {
             "colorbar": {
              "outlinewidth": 0,
              "ticks": ""
             }
            },
            "marker": {
             "colorbar": {
              "outlinewidth": 0,
              "ticks": ""
             }
            },
            "type": "scatter3d"
           }
          ],
          "scattercarpet": [
           {
            "marker": {
             "colorbar": {
              "outlinewidth": 0,
              "ticks": ""
             }
            },
            "type": "scattercarpet"
           }
          ],
          "scattergeo": [
           {
            "marker": {
             "colorbar": {
              "outlinewidth": 0,
              "ticks": ""
             }
            },
            "type": "scattergeo"
           }
          ],
          "scattergl": [
           {
            "marker": {
             "colorbar": {
              "outlinewidth": 0,
              "ticks": ""
             }
            },
            "type": "scattergl"
           }
          ],
          "scattermapbox": [
           {
            "marker": {
             "colorbar": {
              "outlinewidth": 0,
              "ticks": ""
             }
            },
            "type": "scattermapbox"
           }
          ],
          "scatterpolar": [
           {
            "marker": {
             "colorbar": {
              "outlinewidth": 0,
              "ticks": ""
             }
            },
            "type": "scatterpolar"
           }
          ],
          "scatterpolargl": [
           {
            "marker": {
             "colorbar": {
              "outlinewidth": 0,
              "ticks": ""
             }
            },
            "type": "scatterpolargl"
           }
          ],
          "scatterternary": [
           {
            "marker": {
             "colorbar": {
              "outlinewidth": 0,
              "ticks": ""
             }
            },
            "type": "scatterternary"
           }
          ],
          "surface": [
           {
            "colorbar": {
             "outlinewidth": 0,
             "ticks": ""
            },
            "colorscale": [
             [
              0,
              "#0d0887"
             ],
             [
              0.1111111111111111,
              "#46039f"
             ],
             [
              0.2222222222222222,
              "#7201a8"
             ],
             [
              0.3333333333333333,
              "#9c179e"
             ],
             [
              0.4444444444444444,
              "#bd3786"
             ],
             [
              0.5555555555555556,
              "#d8576b"
             ],
             [
              0.6666666666666666,
              "#ed7953"
             ],
             [
              0.7777777777777778,
              "#fb9f3a"
             ],
             [
              0.8888888888888888,
              "#fdca26"
             ],
             [
              1,
              "#f0f921"
             ]
            ],
            "type": "surface"
           }
          ],
          "table": [
           {
            "cells": {
             "fill": {
              "color": "#EBF0F8"
             },
             "line": {
              "color": "white"
             }
            },
            "header": {
             "fill": {
              "color": "#C8D4E3"
             },
             "line": {
              "color": "white"
             }
            },
            "type": "table"
           }
          ]
         },
         "layout": {
          "annotationdefaults": {
           "arrowcolor": "#2a3f5f",
           "arrowhead": 0,
           "arrowwidth": 1
          },
          "autotypenumbers": "strict",
          "coloraxis": {
           "colorbar": {
            "outlinewidth": 0,
            "ticks": ""
           }
          },
          "colorscale": {
           "diverging": [
            [
             0,
             "#8e0152"
            ],
            [
             0.1,
             "#c51b7d"
            ],
            [
             0.2,
             "#de77ae"
            ],
            [
             0.3,
             "#f1b6da"
            ],
            [
             0.4,
             "#fde0ef"
            ],
            [
             0.5,
             "#f7f7f7"
            ],
            [
             0.6,
             "#e6f5d0"
            ],
            [
             0.7,
             "#b8e186"
            ],
            [
             0.8,
             "#7fbc41"
            ],
            [
             0.9,
             "#4d9221"
            ],
            [
             1,
             "#276419"
            ]
           ],
           "sequential": [
            [
             0,
             "#0d0887"
            ],
            [
             0.1111111111111111,
             "#46039f"
            ],
            [
             0.2222222222222222,
             "#7201a8"
            ],
            [
             0.3333333333333333,
             "#9c179e"
            ],
            [
             0.4444444444444444,
             "#bd3786"
            ],
            [
             0.5555555555555556,
             "#d8576b"
            ],
            [
             0.6666666666666666,
             "#ed7953"
            ],
            [
             0.7777777777777778,
             "#fb9f3a"
            ],
            [
             0.8888888888888888,
             "#fdca26"
            ],
            [
             1,
             "#f0f921"
            ]
           ],
           "sequentialminus": [
            [
             0,
             "#0d0887"
            ],
            [
             0.1111111111111111,
             "#46039f"
            ],
            [
             0.2222222222222222,
             "#7201a8"
            ],
            [
             0.3333333333333333,
             "#9c179e"
            ],
            [
             0.4444444444444444,
             "#bd3786"
            ],
            [
             0.5555555555555556,
             "#d8576b"
            ],
            [
             0.6666666666666666,
             "#ed7953"
            ],
            [
             0.7777777777777778,
             "#fb9f3a"
            ],
            [
             0.8888888888888888,
             "#fdca26"
            ],
            [
             1,
             "#f0f921"
            ]
           ]
          },
          "colorway": [
           "#636efa",
           "#EF553B",
           "#00cc96",
           "#ab63fa",
           "#FFA15A",
           "#19d3f3",
           "#FF6692",
           "#B6E880",
           "#FF97FF",
           "#FECB52"
          ],
          "font": {
           "color": "#2a3f5f"
          },
          "geo": {
           "bgcolor": "white",
           "lakecolor": "white",
           "landcolor": "#E5ECF6",
           "showlakes": true,
           "showland": true,
           "subunitcolor": "white"
          },
          "hoverlabel": {
           "align": "left"
          },
          "hovermode": "closest",
          "mapbox": {
           "style": "light"
          },
          "paper_bgcolor": "white",
          "plot_bgcolor": "#E5ECF6",
          "polar": {
           "angularaxis": {
            "gridcolor": "white",
            "linecolor": "white",
            "ticks": ""
           },
           "bgcolor": "#E5ECF6",
           "radialaxis": {
            "gridcolor": "white",
            "linecolor": "white",
            "ticks": ""
           }
          },
          "scene": {
           "xaxis": {
            "backgroundcolor": "#E5ECF6",
            "gridcolor": "white",
            "gridwidth": 2,
            "linecolor": "white",
            "showbackground": true,
            "ticks": "",
            "zerolinecolor": "white"
           },
           "yaxis": {
            "backgroundcolor": "#E5ECF6",
            "gridcolor": "white",
            "gridwidth": 2,
            "linecolor": "white",
            "showbackground": true,
            "ticks": "",
            "zerolinecolor": "white"
           },
           "zaxis": {
            "backgroundcolor": "#E5ECF6",
            "gridcolor": "white",
            "gridwidth": 2,
            "linecolor": "white",
            "showbackground": true,
            "ticks": "",
            "zerolinecolor": "white"
           }
          },
          "shapedefaults": {
           "line": {
            "color": "#2a3f5f"
           }
          },
          "ternary": {
           "aaxis": {
            "gridcolor": "white",
            "linecolor": "white",
            "ticks": ""
           },
           "baxis": {
            "gridcolor": "white",
            "linecolor": "white",
            "ticks": ""
           },
           "bgcolor": "#E5ECF6",
           "caxis": {
            "gridcolor": "white",
            "linecolor": "white",
            "ticks": ""
           }
          },
          "title": {
           "x": 0.05
          },
          "xaxis": {
           "automargin": true,
           "gridcolor": "white",
           "linecolor": "white",
           "ticks": "",
           "title": {
            "standoff": 15
           },
           "zerolinecolor": "white",
           "zerolinewidth": 2
          },
          "yaxis": {
           "automargin": true,
           "gridcolor": "white",
           "linecolor": "white",
           "ticks": "",
           "title": {
            "standoff": 15
           },
           "zerolinecolor": "white",
           "zerolinewidth": 2
          }
         }
        },
        "title": {
         "text": "Wing Geometry",
         "x": 0.5
        },
        "xaxis": {
         "autorange": true,
         "domain": [
          0,
          1
         ],
         "range": [
          -29.260037453955725,
          29.260037453955725
         ],
         "title": {
          "text": "y"
         },
         "type": "linear"
        },
        "yaxis": {
         "autorange": true,
         "domain": [
          0,
          1
         ],
         "range": [
          11.752251136571116,
          22.424605223120317
         ],
         "scaleanchor": "x",
         "scaleratio": 1,
         "title": {
          "text": "x"
         },
         "type": "linear"
        }
       }
      },
      "image/png": "[encoded data removed]",
      "text/html": [
       "<div>                            <div id=\"ade6bf97-3696-4694-b18f-14e610db87b6\" class=\"plotly-graph-div\" style=\"height:525px; width:100%;\"></div>            <script type=\"text/javascript\">                require([\"plotly\"], function(Plotly) {                    window.PLOTLYENV=window.PLOTLYENV || {};                                    if (document.getElementById(\"ade6bf97-3696-4694-b18f-14e610db87b6\")) {                    Plotly.newPlot(                        \"ade6bf97-3696-4694-b18f-14e610db87b6\",                        [{\"mode\":\"lines+markers\",\"name\":\"FAST-OAD\",\"x\":[-0.0,-1.95994,-6.386988727091978,-17.031969938911942,-17.031969938911942,-6.386988727091978,-1.95994,-0.0,-0.0,0.0,1.95994,6.386988727091978,17.031969938911942,17.031969938911942,6.386988727091978,1.95994,0.0,0.0],\"y\":[12.508209551035018,12.508209551035018,14.766639545653462,20.19710718740356,21.668646808656415,18.519348427055828,18.519348427055828,18.519348427055828,12.508209551035018,12.508209551035018,12.508209551035018,14.766639545653462,20.19710718740356,21.668646808656415,18.519348427055828,18.519348427055828,18.519348427055828,12.508209551035018],\"type\":\"scatter\",\"uid\":\"68c75ccb-0f6f-4604-b4a6-edc7a0ba5436\"}],                        {\"template\":{\"data\":{\"barpolar\":[{\"marker\":{\"line\":{\"color\":\"#E5ECF6\",\"width\":0.5},\"pattern\":{\"fillmode\":\"overlay\",\"size\":10,\"solidity\":0.2}},\"type\":\"barpolar\"}],\"bar\":[{\"error_x\":{\"color\":\"#2a3f5f\"},\"error_y\":{\"color\":\"#2a3f5f\"},\"marker\":{\"line\":{\"color\":\"#E5ECF6\",\"width\":0.5},\"pattern\":{\"fillmode\":\"overlay\",\"size\":10,\"solidity\":0.2}},\"type\":\"bar\"}],\"carpet\":[{\"aaxis\":{\"endlinecolor\":\"#2a3f5f\",\"gridcolor\":\"white\",\"linecolor\":\"white\",\"minorgridcolor\":\"white\",\"startlinecolor\":\"#2a3f5f\"},\"baxis\":{\"endlinecolor\":\"#2a3f5f\",\"gridcolor\":\"white\",\"linecolor\":\"white\",\"minorgridcolor\":\"white\",\"startlinecolor\":\"#2a3f5f\"},\"type\":\"carpet\"}],\"choropleth\":[{\"colorbar\":{\"outlinewidth\":0,\"ticks\":\"\"},\"type\":\"choropleth\"}],\"contourcarpet\":[{\"colorbar\":{\"outlinewidth\":0,\"ticks\":\"\"},\"type\":\"contourcarpet\"}],\"contour\":[{\"colorbar\":{\"outlinewidth\":0,\"ticks\":\"\"},\"colorscale\":[[0.0,\"#0d0887\"],[0.1111111111111111,\"#46039f\"],[0.2222222222222222,\"#7201a8\"],[0.3333333333333333,\"#9c179e\"],[0.4444444444444444,\"#bd3786\"],[0.5555555555555556,\"#d8576b\"],[0.6666666666666666,\"#ed7953\"],[0.7777777777777778,\"#fb9f3a\"],[0.8888888888888888,\"#fdca26\"],[1.0,\"#f0f921\"]],\"type\":\"contour\"}],\"heatmapgl\":[{\"colorbar\":{\"outlinewidth\":0,\"ticks\":\"\"},\"colorscale\":[[0.0,\"#0d0887\"],[0.1111111111111111,\"#46039f\"],[0.2222222222222222,\"#7201a8\"],[0.3333333333333333,\"#9c179e\"],[0.4444444444444444,\"#bd3786\"],[0.5555555555555556,\"#d8576b\"],[0.6666666666666666,\"#ed7953\"],[0.7777777777777778,\"#fb9f3a\"],[0.8888888888888888,\"#fdca26\"],[1.0,\"#f0f921\"]],\"type\":\"heatmapgl\"}],\"heatmap\":[{\"colorbar\":{\"outlinewidth\":0,\"ticks\":\"\"},\"colorscale\":[[0.0,\"#0d0887\"],[0.1111111111111111,\"#46039f\"],[0.2222222222222222,\"#7201a8\"],[0.3333333333333333,\"#9c179e\"],[0.4444444444444444,\"#bd3786\"],[0.5555555555555556,\"#d8576b\"],[0.6666666666666666,\"#ed7953\"],[0.7777777777777778,\"#fb9f3a\"],[0.8888888888888888,\"#fdca26\"],[1.0,\"#f0f921\"]],\"type\":\"heatmap\"}],\"histogram2dcontour\":[{\"colorbar\":{\"outlinewidth\":0,\"ticks\":\"\"},\"colorscale\":[[0.0,\"#0d0887\"],[0.1111111111111111,\"#46039f\"],[0.2222222222222222,\"#7201a8\"],[0.3333333333333333,\"#9c179e\"],[0.4444444444444444,\"#bd3786\"],[0.5555555555555556,\"#d8576b\"],[0.6666666666666666,\"#ed7953\"],[0.7777777777777778,\"#fb9f3a\"],[0.8888888888888888,\"#fdca26\"],[1.0,\"#f0f921\"]],\"type\":\"histogram2dcontour\"}],\"histogram2d\":[{\"colorbar\":{\"outlinewidth\":0,\"ticks\":\"\"},\"colorscale\":[[0.0,\"#0d0887\"],[0.1111111111111111,\"#46039f\"],[0.2222222222222222,\"#7201a8\"],[0.3333333333333333,\"#9c179e\"],[0.4444444444444444,\"#bd3786\"],[0.5555555555555556,\"#d8576b\"],[0.6666666666666666,\"#ed7953\"],[0.7777777777777778,\"#fb9f3a\"],[0.8888888888888888,\"#fdca26\"],[1.0,\"#f0f921\"]],\"type\":\"histogram2d\"}],\"histogram\":[{\"marker\":{\"pattern\":{\"fillmode\":\"overlay\",\"size\":10,\"solidity\":0.2}},\"type\":\"histogram\"}],\"mesh3d\":[{\"colorbar\":{\"outlinewidth\":0,\"ticks\":\"\"},\"type\":\"mesh3d\"}],\"parcoords\":[{\"line\":{\"colorbar\":{\"outlinewidth\":0,\"ticks\":\"\"}},\"type\":\"parcoords\"}],\"pie\":[{\"automargin\":true,\"type\":\"pie\"}],\"scatter3d\":[{\"line\":{\"colorbar\":{\"outlinewidth\":0,\"ticks\":\"\"}},\"marker\":{\"colorbar\":{\"outlinewidth\":0,\"ticks\":\"\"}},\"type\":\"scatter3d\"}],\"scattercarpet\":[{\"marker\":{\"colorbar\":{\"outlinewidth\":0,\"ticks\":\"\"}},\"type\":\"scattercarpet\"}],\"scattergeo\":[{\"marker\":{\"colorbar\":{\"outlinewidth\":0,\"ticks\":\"\"}},\"type\":\"scattergeo\"}],\"scattergl\":[{\"marker\":{\"colorbar\":{\"outlinewidth\":0,\"ticks\":\"\"}},\"type\":\"scattergl\"}],\"scattermapbox\":[{\"marker\":{\"colorbar\":{\"outlinewidth\":0,\"ticks\":\"\"}},\"type\":\"scattermapbox\"}],\"scatterpolargl\":[{\"marker\":{\"colorbar\":{\"outlinewidth\":0,\"ticks\":\"\"}},\"type\":\"scatterpolargl\"}],\"scatterpolar\":[{\"marker\":{\"colorbar\":{\"outlinewidth\":0,\"ticks\":\"\"}},\"type\":\"scatterpolar\"}],\"scatter\":[{\"marker\":{\"colorbar\":{\"outlinewidth\":0,\"ticks\":\"\"}},\"type\":\"scatter\"}],\"scatterternary\":[{\"marker\":{\"colorbar\":{\"outlinewidth\":0,\"ticks\":\"\"}},\"type\":\"scatterternary\"}],\"surface\":[{\"colorbar\":{\"outlinewidth\":0,\"ticks\":\"\"},\"colorscale\":[[0.0,\"#0d0887\"],[0.1111111111111111,\"#46039f\"],[0.2222222222222222,\"#7201a8\"],[0.3333333333333333,\"#9c179e\"],[0.4444444444444444,\"#bd3786\"],[0.5555555555555556,\"#d8576b\"],[0.6666666666666666,\"#ed7953\"],[0.7777777777777778,\"#fb9f3a\"],[0.8888888888888888,\"#fdca26\"],[1.0,\"#f0f921\"]],\"type\":\"surface\"}],\"table\":[{\"cells\":{\"fill\":{\"color\":\"#EBF0F8\"},\"line\":{\"color\":\"white\"}},\"header\":{\"fill\":{\"color\":\"#C8D4E3\"},\"line\":{\"color\":\"white\"}},\"type\":\"table\"}]},\"layout\":{\"annotationdefaults\":{\"arrowcolor\":\"#2a3f5f\",\"arrowhead\":0,\"arrowwidth\":1},\"autotypenumbers\":\"strict\",\"coloraxis\":{\"colorbar\":{\"outlinewidth\":0,\"ticks\":\"\"}},\"colorscale\":{\"diverging\":[[0,\"#8e0152\"],[0.1,\"#c51b7d\"],[0.2,\"#de77ae\"],[0.3,\"#f1b6da\"],[0.4,\"#fde0ef\"],[0.5,\"#f7f7f7\"],[0.6,\"#e6f5d0\"],[0.7,\"#b8e186\"],[0.8,\"#7fbc41\"],[0.9,\"#4d9221\"],[1,\"#276419\"]],\"sequential\":[[0.0,\"#0d0887\"],[0.1111111111111111,\"#46039f\"],[0.2222222222222222,\"#7201a8\"],[0.3333333333333333,\"#9c179e\"],[0.4444444444444444,\"#bd3786\"],[0.5555555555555556,\"#d8576b\"],[0.6666666666666666,\"#ed7953\"],[0.7777777777777778,\"#fb9f3a\"],[0.8888888888888888,\"#fdca26\"],[1.0,\"#f0f921\"]],\"sequentialminus\":[[0.0,\"#0d0887\"],[0.1111111111111111,\"#46039f\"],[0.2222222222222222,\"#7201a8\"],[0.3333333333333333,\"#9c179e\"],[0.4444444444444444,\"#bd3786\"],[0.5555555555555556,\"#d8576b\"],[0.6666666666666666,\"#ed7953\"],[0.7777777777777778,\"#fb9f3a\"],[0.8888888888888888,\"#fdca26\"],[1.0,\"#f0f921\"]]},\"colorway\":[\"#636efa\",\"#EF553B\",\"#00cc96\",\"#ab63fa\",\"#FFA15A\",\"#19d3f3\",\"#FF6692\",\"#B6E880\",\"#FF97FF\",\"#FECB52\"],\"font\":{\"color\":\"#2a3f5f\"},\"geo\":{\"bgcolor\":\"white\",\"lakecolor\":\"white\",\"landcolor\":\"#E5ECF6\",\"showlakes\":true,\"showland\":true,\"subunitcolor\":\"white\"},\"hoverlabel\":{\"align\":\"left\"},\"hovermode\":\"closest\",\"mapbox\":{\"style\":\"light\"},\"paper_bgcolor\":\"white\",\"plot_bgcolor\":\"#E5ECF6\",\"polar\":{\"angularaxis\":{\"gridcolor\":\"white\",\"linecolor\":\"white\",\"ticks\":\"\"},\"bgcolor\":\"#E5ECF6\",\"radialaxis\":{\"gridcolor\":\"white\",\"linecolor\":\"white\",\"ticks\":\"\"}},\"scene\":{\"xaxis\":{\"backgroundcolor\":\"#E5ECF6\",\"gridcolor\":\"white\",\"gridwidth\":2,\"linecolor\":\"white\",\"showbackground\":true,\"ticks\":\"\",\"zerolinecolor\":\"white\"},\"yaxis\":{\"backgroundcolor\":\"#E5ECF6\",\"gridcolor\":\"white\",\"gridwidth\":2,\"linecolor\":\"white\",\"showbackground\":true,\"ticks\":\"\",\"zerolinecolor\":\"white\"},\"zaxis\":{\"backgroundcolor\":\"#E5ECF6\",\"gridcolor\":\"white\",\"gridwidth\":2,\"linecolor\":\"white\",\"showbackground\":true,\"ticks\":\"\",\"zerolinecolor\":\"white\"}},\"shapedefaults\":{\"line\":{\"color\":\"#2a3f5f\"}},\"ternary\":{\"aaxis\":{\"gridcolor\":\"white\",\"linecolor\":\"white\",\"ticks\":\"\"},\"baxis\":{\"gridcolor\":\"white\",\"linecolor\":\"white\",\"ticks\":\"\"},\"bgcolor\":\"#E5ECF6\",\"caxis\":{\"gridcolor\":\"white\",\"linecolor\":\"white\",\"ticks\":\"\"}},\"title\":{\"x\":0.05},\"xaxis\":{\"automargin\":true,\"gridcolor\":\"white\",\"linecolor\":\"white\",\"ticks\":\"\",\"title\":{\"standoff\":15},\"zerolinecolor\":\"white\",\"zerolinewidth\":2},\"yaxis\":{\"automargin\":true,\"gridcolor\":\"white\",\"linecolor\":\"white\",\"ticks\":\"\",\"title\":{\"standoff\":15},\"zerolinecolor\":\"white\",\"zerolinewidth\":2}}},\"yaxis\":{\"scaleanchor\":\"x\",\"scaleratio\":1,\"title\":{\"text\":\"x\"}},\"title\":{\"text\":\"Wing Geometry\",\"x\":0.5},\"xaxis\":{\"title\":{\"text\":\"y\"}}},                        {\"responsive\": true}                    ).then(function(){\n",
       "                            \n",
       "var gd = document.getElementById('ade6bf97-3696-4694-b18f-14e610db87b6');\n",
       "var x = new MutationObserver(function (mutations, observer) {{\n",
       "        var display = window.getComputedStyle(gd).display;\n",
       "        if (!display || display === 'none') {{\n",
       "            console.log([gd, 'removed!']);\n",
       "            Plotly.purge(gd);\n",
       "            observer.disconnect();\n",
       "        }}\n",
       "}});\n",
       "\n",
       "// Listen for the removal of the full notebook cells\n",
       "var notebookContainer = gd.closest('#notebook-container');\n",
       "if (notebookContainer) {{\n",
       "    x.observe(notebookContainer, {childList: true});\n",
       "}}\n",
       "\n",
       "// Listen for the clearing of the current output cell\n",
       "var outputEl = gd.closest('.output');\n",
       "if (outputEl) {{\n",
       "    x.observe(outputEl, {childList: true});\n",
       "}}\n",
       "\n",
       "                        })                };                });            </script>        </div>"
      ]
     },
     "metadata": {},
     "output_type": "display_data"
    }
   ],
   "source": [
    "fig = oad.wing_geometry_plot(eval_problem.output_file_path, name=\"FAST-OAD\")\n",
    "fig.show()"
   ]
  },
  {
   "cell_type": "code",
   "execution_count": null,
   "id": "40466a3a-812c-414c-b38e-208a5d1e0965",
   "metadata": {},
   "outputs": [
    {
     "data": {
      "application/vnd.jupyter.widget-view+json": {
       "model_id": "ae6107a1f3ff415db7e63f152790110e",
       "version_major": 2,
       "version_minor": 0
      },
      "text/plain": [
       "FigureWidget({\n",
       "    'data': [{'mode': 'lines+markers',\n",
       "              'type': 'scatter',\n",
       "              'uid': '9…"
      ]
     },
     "metadata": {},
     "output_type": "display_data"
    }
   ],
   "source": [
    "oad.aircraft_geometry_plot(eval_problem.output_file_path)"
   ]
  },
  {
   "cell_type": "code",
   "execution_count": null,
   "id": "271795f3-ee96-4d69-b591-0fe4f1ef6bf0",
   "metadata": {},
   "outputs": [
    {
     "name": "stderr",
     "output_type": "stream",
     "text": [
      "INFO    : N2 diagram written in C:\\Users\\PC\\PycharmProjects\\FAST-PEDAGO\\Presentation\\workdir\\n2.html\n"
     ]
    },
    {
     "data": {
      "text/html": [
       "\n",
       "        <iframe\n",
       "            width=\"100%\"\n",
       "            height=\"500px\"\n",
       "            src=\"workdir\\n2.html\"\n",
       "            frameborder=\"0\"\n",
       "            allowfullscreen\n",
       "            \n",
       "        ></iframe>\n",
       "        "
      ],
      "text/plain": [
       "<IPython.lib.display.IFrame at 0x2087809b730>"
      ]
     },
     "execution_count": 52,
     "metadata": {},
     "output_type": "execute_result"
    }
   ],
   "source": [
    "N2_FILE = pth.join(WORK_FOLDER_PATH, \"n2.html\")\n",
    "oad.write_n2(CONFIGURATION_FILE, N2_FILE, overwrite=True)\n",
    "from IPython.display import IFrame\n",
    "\n",
    "IFrame(src=N2_FILE, width=\"100%\", height=\"500px\")"
   ]
  },
  {
   "cell_type": "code",
   "execution_count": null,
   "id": "59832c7c-c9f4-41a1-9360-87317fe35dd0",
   "metadata": {},
   "outputs": [
    {
     "name": "stdout",
     "output_type": "stream",
     "text": [
      "Analysis FASTOADModel pushed\u001b[0m\n"
     ]
    },
    {
     "data": {
      "text/html": [
       "\n",
       "        <iframe\n",
       "            width=\"100%\"\n",
       "            height=\"500px\"\n",
       "            src=\"workdir\\xdsm.html\"\n",
       "            frameborder=\"0\"\n",
       "            allowfullscreen\n",
       "            \n",
       "        ></iframe>\n",
       "        "
      ],
      "text/plain": [
       "<IPython.lib.display.IFrame at 0x2080dd77bb0>"
      ]
     },
     "execution_count": 106,
     "metadata": {},
     "output_type": "execute_result"
    }
   ],
   "source": [
    "XDSM_FILE = pth.join(WORK_FOLDER_PATH, 'xdsm.html')\n",
    "oad.write_xdsm(CONFIGURATION_FILE, XDSM_FILE, overwrite=True)\n",
    "from IPython.display import IFrame\n",
    "IFrame(src=XDSM_FILE, width='100%', height='500px')"
   ]
  },
  {
   "cell_type": "code",
   "execution_count": null,
   "id": "75cec621-5161-4532-824e-c3c30a44ee98",
   "metadata": {},
   "outputs": [],
   "source": []
  },
  {
   "cell_type": "code",
   "execution_count": null,
   "id": "37931f20-1598-4ffa-b762-2f9f699d5ec5",
   "metadata": {},
   "outputs": [],
   "source": []
  },
  {
   "cell_type": "code",
   "execution_count": null,
   "id": "a3eb0864-be26-4fc5-9a42-32689d3741b7",
   "metadata": {},
   "outputs": [],
   "source": []
  }
 ],
 "metadata": {
  "kernelspec": {
   "display_name": "Python 3 (ipykernel)",
   "language": "python",
   "name": "python3"
  },
  "language_info": {
   "codemirror_mode": {
    "name": "ipython",
    "version": 3
   },
   "file_extension": ".py",
   "mimetype": "text/x-python",
   "name": "python",
   "nbconvert_exporter": "python",
   "pygments_lexer": "ipython3",
   "version": "3.8.13"
  }
 },
 "nbformat": 4,
 "nbformat_minor": 5
}
