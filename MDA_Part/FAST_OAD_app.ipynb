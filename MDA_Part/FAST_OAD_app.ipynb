{
 "cells": [
  {
   "cell_type": "markdown",
   "id": "5c924dbe",
   "metadata": {},
   "source": [
    "# "
   ]
  },
  {
   "cell_type": "code",
   "execution_count": 4,
   "id": "a92b006f",
   "metadata": {
    "scrolled": false
   },
   "outputs": [
    {
     "data": {
      "application/vnd.jupyter.widget-view+json": {
       "model_id": "3b9c9d4434994512ab038eb842cc37b2",
       "version_major": 2,
       "version_minor": 0
      },
      "text/plain": [
       "HTML(value='\\n        <style>\\n        .custom-vbox {\\n            background-color: white;\\n        }\\n      …"
      ]
     },
     "metadata": {},
     "output_type": "display_data"
    },
    {
     "data": {
      "text/html": [
       "<style>\n",
       "        .vbox-with-background {\n",
       "            background-image: url(\"BlockImage/Images/Wing.jpg\");\n",
       "            background-size: cover;\n",
       "            background-position: center;\n",
       "            background-repeat: no-repeat;\n",
       "            width: 100%;\n",
       "            height: 100%;\n",
       "        }\n",
       "        </style>"
      ],
      "text/plain": [
       "<IPython.core.display.HTML object>"
      ]
     },
     "metadata": {},
     "output_type": "display_data"
    },
    {
     "data": {
      "application/vnd.jupyter.widget-view+json": {
       "model_id": "e5920fa447a54bc8867dfa8b05fe5b28",
       "version_major": 2,
       "version_minor": 0
      },
      "text/plain": [
       "VBox(children=(HBox(children=(HTML(value=\" <h1 style='text-align:center;font-weight:bold;font-family:Arial, sa…"
      ]
     },
     "metadata": {},
     "output_type": "display_data"
    }
   ],
   "source": [
    "import ipywidgets as widgets\n",
    "from IPython.display import display\n",
    "from Interface import Interface\n",
    "Interface().__init__()\n",
    "Interface().Menu()\n"
   ]
  },
  {
   "cell_type": "code",
   "execution_count": null,
   "id": "b78deb72",
   "metadata": {},
   "outputs": [],
   "source": []
  }
 ],
 "metadata": {
  "kernelspec": {
   "display_name": "Python 3 (ipykernel)",
   "language": "python",
   "name": "python3"
  },
  "language_info": {
   "codemirror_mode": {
    "name": "ipython",
    "version": 3
   },
   "file_extension": ".py",
   "mimetype": "text/x-python",
   "name": "python",
   "nbconvert_exporter": "python",
   "pygments_lexer": "ipython3",
   "version": "3.9.16"
  }
 },
 "nbformat": 4,
 "nbformat_minor": 5
}
