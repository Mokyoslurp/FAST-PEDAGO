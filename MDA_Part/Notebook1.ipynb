{
 "cells": [
  {
   "cell_type": "code",
   "execution_count": 1,
   "id": "75c741af-8f51-438a-9e98-c08219123543",
   "metadata": {},
   "outputs": [],
   "source": [
    "from Module.menu_gui import Menu"
   ]
  },
  {
   "cell_type": "code",
   "execution_count": null,
   "id": "4c126a2f",
   "metadata": {},
   "outputs": [],
   "source": []
  },
  {
   "cell_type": "code",
   "execution_count": null,
   "id": "a8676995-769d-4008-9e8b-4acbc289c0ba",
   "metadata": {},
   "outputs": [],
   "source": []
  },
  {
   "cell_type": "code",
   "execution_count": 2,
   "id": "29f9b910-6a56-4004-bfbc-f22c1966b5eb",
   "metadata": {},
   "outputs": [
    {
     "data": {
      "application/vnd.jupyter.widget-view+json": {
       "model_id": "f531fea286ee4619b0a9580aa2d54140",
       "version_major": 2,
       "version_minor": 0
      },
      "text/plain": [
       "VBox(children=(HBox(children=(HTML(value=' <b>MDA Menu</b>'),), layout=Layout(align_items='center', display='f…"
      ]
     },
     "metadata": {},
     "output_type": "display_data"
    },
    {
     "data": {
      "application/vnd.jupyter.widget-view+json": {
       "model_id": "e6eb98ac29c94cd1a4bcef070a78e29d",
       "version_major": 2,
       "version_minor": 0
      },
      "text/plain": [
       "VBox(children=(HBox(children=(HTML(value=\"<b><font color='blue'>OAD Configuration</b>\"),), layout=Layout(align…"
      ]
     },
     "metadata": {},
     "output_type": "display_data"
    }
   ],
   "source": [
    "men=Menu()"
   ]
  },
  {
   "cell_type": "code",
   "execution_count": null,
   "id": "fd2deaf0",
   "metadata": {},
   "outputs": [],
   "source": []
  },
  {
   "cell_type": "code",
   "execution_count": null,
   "id": "699b5374-07fc-475e-a6f1-6385723bf8f5",
   "metadata": {},
   "outputs": [],
   "source": []
  },
  {
   "cell_type": "code",
   "execution_count": null,
   "id": "7dad496d-1c16-4552-9ffc-42b3be1b5344",
   "metadata": {},
   "outputs": [],
   "source": []
  },
  {
   "cell_type": "code",
   "execution_count": null,
   "id": "d0dfe412-e12e-4a68-9115-54ae81fce17d",
   "metadata": {},
   "outputs": [],
   "source": []
  },
  {
   "cell_type": "code",
   "execution_count": null,
   "id": "b8731cc4-d71d-485a-98e9-33640138ee16",
   "metadata": {},
   "outputs": [],
   "source": []
  },
  {
   "cell_type": "code",
   "execution_count": null,
   "id": "77e7e0eb-1c36-40ba-bb37-50c88d3e4733",
   "metadata": {},
   "outputs": [],
   "source": []
  },
  {
   "cell_type": "code",
   "execution_count": null,
   "id": "2c35d6e2-de54-4a1f-ae50-3756bf402a6c",
   "metadata": {},
   "outputs": [],
   "source": []
  },
  {
   "cell_type": "code",
   "execution_count": null,
   "id": "8be4caf5-83c7-42d6-92da-ff3644872b5a",
   "metadata": {},
   "outputs": [],
   "source": [
    "from Module.Configuration_ui import Menu_1"
   ]
  },
  {
   "cell_type": "code",
   "execution_count": null,
   "id": "93f55df7-8f01-41ad-a85a-c2bbdce75f0e",
   "metadata": {},
   "outputs": [],
   "source": []
  },
  {
   "cell_type": "code",
   "execution_count": null,
   "id": "413315d8-c4c3-42f1-9228-15dc1552921d",
   "metadata": {},
   "outputs": [],
   "source": []
  },
  {
   "cell_type": "code",
   "execution_count": null,
   "id": "ce56d911-3e2c-4ace-a67c-e189d13d9bb9",
   "metadata": {},
   "outputs": [],
   "source": [
    "men1=Menu_1()"
   ]
  },
  {
   "cell_type": "code",
   "execution_count": null,
   "id": "cd1514a1-d195-496f-addc-7822b9ff8992",
   "metadata": {},
   "outputs": [],
   "source": []
  },
  {
   "cell_type": "code",
   "execution_count": null,
   "id": "2bd1b408-111a-4ac8-94b1-2bf7c02a5d08",
   "metadata": {},
   "outputs": [],
   "source": []
  },
  {
   "cell_type": "code",
   "execution_count": null,
   "id": "f574aa3c-3b71-412b-be32-572280923f9e",
   "metadata": {},
   "outputs": [],
   "source": []
  },
  {
   "cell_type": "code",
   "execution_count": null,
   "id": "d9a3cc51-a2bb-4ae3-ae90-d3f3e5f502c2",
   "metadata": {},
   "outputs": [],
   "source": []
  },
  {
   "cell_type": "code",
   "execution_count": null,
   "id": "5d1560c2-139b-4b28-aee5-5a835fb67136",
   "metadata": {},
   "outputs": [],
   "source": []
  },
  {
   "cell_type": "code",
   "execution_count": null,
   "id": "a21d7da8-5063-49e7-94fa-220d5126ca2c",
   "metadata": {},
   "outputs": [],
   "source": []
  },
  {
   "cell_type": "code",
   "execution_count": null,
   "id": "dc59bd31-cb95-4620-96a1-0a2d49bacf67",
   "metadata": {},
   "outputs": [],
   "source": []
  },
  {
   "cell_type": "code",
   "execution_count": null,
   "id": "dd6f5b4c-e440-4ece-9d7c-016dee2c10ca",
   "metadata": {},
   "outputs": [],
   "source": []
  },
  {
   "cell_type": "code",
   "execution_count": null,
   "id": "f63cec36-9c96-4366-b4ac-f27ec6e23a96",
   "metadata": {},
   "outputs": [],
   "source": []
  },
  {
   "cell_type": "code",
   "execution_count": null,
   "id": "cdba969f-123e-448b-8fb6-2b46a1807e73",
   "metadata": {},
   "outputs": [],
   "source": []
  },
  {
   "cell_type": "code",
   "execution_count": null,
   "id": "1e034b21-9dc4-4c0e-b47f-2084aa45b05b",
   "metadata": {},
   "outputs": [],
   "source": []
  },
  {
   "cell_type": "code",
   "execution_count": null,
   "id": "5ece7ef0-03bd-451d-85b6-5c92488d279f",
   "metadata": {},
   "outputs": [],
   "source": []
  },
  {
   "cell_type": "code",
   "execution_count": null,
   "id": "b43e5c37-b69a-46e4-9a85-b299e76d11bd",
   "metadata": {},
   "outputs": [],
   "source": []
  },
  {
   "cell_type": "code",
   "execution_count": null,
   "id": "993ab28b-28a7-4082-836e-2df56c1da1b2",
   "metadata": {},
   "outputs": [],
   "source": []
  },
  {
   "cell_type": "code",
   "execution_count": null,
   "id": "3bb18e83-40b8-444c-89fe-db7c77c39f10",
   "metadata": {},
   "outputs": [],
   "source": []
  },
  {
   "cell_type": "code",
   "execution_count": null,
   "id": "f2d7a2b9-9f52-400d-9b17-0083df47d162",
   "metadata": {},
   "outputs": [],
   "source": []
  },
  {
   "cell_type": "code",
   "execution_count": null,
   "id": "a95e9d0e-a452-40c4-bb60-27493d676040",
   "metadata": {},
   "outputs": [],
   "source": []
  },
  {
   "cell_type": "code",
   "execution_count": null,
   "id": "3b1dba44-2b6e-4ceb-83c5-79c0931a68ce",
   "metadata": {},
   "outputs": [],
   "source": []
  },
  {
   "cell_type": "code",
   "execution_count": null,
   "id": "b8872540-9f25-4c22-9341-8aeb18a3fdee",
   "metadata": {},
   "outputs": [],
   "source": []
  },
  {
   "cell_type": "code",
   "execution_count": null,
   "id": "69d4529e-b5fd-463f-8615-5e0ed01f0c4a",
   "metadata": {},
   "outputs": [],
   "source": []
  },
  {
   "cell_type": "code",
   "execution_count": null,
   "id": "360b1463-fdc4-4fac-b26b-8f65f7640b96",
   "metadata": {},
   "outputs": [],
   "source": []
  },
  {
   "cell_type": "code",
   "execution_count": null,
   "id": "2d5236be-310a-4b5b-ac48-eca038b1ce5f",
   "metadata": {},
   "outputs": [],
   "source": []
  },
  {
   "cell_type": "code",
   "execution_count": null,
   "id": "be1caf94-3d81-4531-b5dd-619780d6cbc0",
   "metadata": {},
   "outputs": [],
   "source": []
  },
  {
   "cell_type": "code",
   "execution_count": null,
   "id": "a0d69d0c-a0d3-4b90-a8d8-0f9b007442a0",
   "metadata": {},
   "outputs": [],
   "source": []
  },
  {
   "cell_type": "code",
   "execution_count": null,
   "id": "24820fd0-0cd7-43ec-8ee3-0485511e317c",
   "metadata": {},
   "outputs": [],
   "source": []
  },
  {
   "cell_type": "code",
   "execution_count": null,
   "id": "d4584da6-c153-4407-93ba-b29478737b82",
   "metadata": {},
   "outputs": [],
   "source": []
  },
  {
   "cell_type": "code",
   "execution_count": null,
   "id": "6a419bbd-a7e4-4b45-8cc7-1ef84cf2e172",
   "metadata": {},
   "outputs": [],
   "source": []
  },
  {
   "cell_type": "code",
   "execution_count": null,
   "id": "5cff5c81-24b4-4f86-aeee-a2bbe327d01d",
   "metadata": {},
   "outputs": [],
   "source": []
  },
  {
   "cell_type": "code",
   "execution_count": null,
   "id": "50eb8051-7186-406e-826e-60a7b8c95228",
   "metadata": {},
   "outputs": [],
   "source": []
  },
  {
   "cell_type": "code",
   "execution_count": null,
   "id": "a82f61dc-9b8c-4128-a910-1930e2e4fe66",
   "metadata": {},
   "outputs": [],
   "source": []
  },
  {
   "cell_type": "code",
   "execution_count": null,
   "id": "a08da76a-209e-42ea-8c6f-32650ce25fcf",
   "metadata": {},
   "outputs": [],
   "source": []
  },
  {
   "cell_type": "code",
   "execution_count": null,
   "id": "c3f4fbb4-7d5f-4622-9b81-1797fb780e58",
   "metadata": {},
   "outputs": [],
   "source": []
  },
  {
   "cell_type": "code",
   "execution_count": null,
   "id": "25b00007-4ef8-4edc-ad80-2c479c5c2058",
   "metadata": {},
   "outputs": [],
   "source": []
  },
  {
   "cell_type": "code",
   "execution_count": null,
   "id": "44ba303e-9ce3-4315-a6b2-eeb338eacbe1",
   "metadata": {},
   "outputs": [],
   "source": []
  },
  {
   "cell_type": "code",
   "execution_count": null,
   "id": "11f7f061-cd76-45f5-8009-37ca8cc0609a",
   "metadata": {},
   "outputs": [],
   "source": []
  },
  {
   "cell_type": "code",
   "execution_count": null,
   "id": "620f591e-7bc1-4d9e-a7ab-983d35b4272f",
   "metadata": {},
   "outputs": [],
   "source": []
  },
  {
   "cell_type": "code",
   "execution_count": null,
   "id": "377566db-2b20-41ba-b680-7003499c6727",
   "metadata": {},
   "outputs": [],
   "source": []
  },
  {
   "cell_type": "code",
   "execution_count": null,
   "id": "08657400-e29c-4fe3-8a96-b1549b60db1a",
   "metadata": {},
   "outputs": [],
   "source": []
  },
  {
   "cell_type": "code",
   "execution_count": null,
   "id": "14519604-f97d-4a71-a150-b03f7b15bc72",
   "metadata": {},
   "outputs": [],
   "source": []
  },
  {
   "cell_type": "code",
   "execution_count": null,
   "id": "4abc52cc-2ddc-42c0-9ca9-a4eb0461fa38",
   "metadata": {},
   "outputs": [],
   "source": []
  },
  {
   "cell_type": "code",
   "execution_count": null,
   "id": "5636a323-e2d9-446e-921d-723e8a05192d",
   "metadata": {},
   "outputs": [],
   "source": []
  },
  {
   "cell_type": "code",
   "execution_count": null,
   "id": "8de1029b-bc58-4424-9110-a768e4768034",
   "metadata": {},
   "outputs": [],
   "source": []
  },
  {
   "cell_type": "code",
   "execution_count": null,
   "id": "c3e8b8de-642e-4e52-ad1b-94709119cca8",
   "metadata": {},
   "outputs": [],
   "source": []
  },
  {
   "cell_type": "code",
   "execution_count": null,
   "id": "8ece7dd5-da58-40cf-b4ad-d66cda4c0801",
   "metadata": {},
   "outputs": [],
   "source": []
  },
  {
   "cell_type": "code",
   "execution_count": null,
   "id": "83055771-8e81-4bf6-ae65-e079a17819d7",
   "metadata": {},
   "outputs": [],
   "source": []
  },
  {
   "cell_type": "code",
   "execution_count": null,
   "id": "3a20fae0-5be6-4c5e-9982-b96626923c2e",
   "metadata": {},
   "outputs": [],
   "source": []
  },
  {
   "cell_type": "code",
   "execution_count": null,
   "id": "5b79b9b5-8da4-44cf-bdae-7cdff8b3fd88",
   "metadata": {},
   "outputs": [],
   "source": []
  },
  {
   "cell_type": "code",
   "execution_count": null,
   "id": "4180549a-3d6c-4ca5-90f9-59721dd885c6",
   "metadata": {},
   "outputs": [],
   "source": []
  },
  {
   "cell_type": "code",
   "execution_count": null,
   "id": "3cdd69a3-c7c8-4968-8721-35d04c799f12",
   "metadata": {},
   "outputs": [],
   "source": []
  },
  {
   "cell_type": "code",
   "execution_count": null,
   "id": "80f7091c-732c-45a4-b9eb-a67f498fe44d",
   "metadata": {},
   "outputs": [],
   "source": []
  },
  {
   "cell_type": "code",
   "execution_count": null,
   "id": "7ef89485-aa88-4052-b860-33931f4dd8b9",
   "metadata": {},
   "outputs": [],
   "source": []
  },
  {
   "cell_type": "code",
   "execution_count": null,
   "id": "91605e4d-ec97-4150-990f-ae8aa5dd0410",
   "metadata": {},
   "outputs": [],
   "source": []
  },
  {
   "cell_type": "code",
   "execution_count": null,
   "id": "ee567fc7-87f0-483d-8667-c76d7058ca5f",
   "metadata": {},
   "outputs": [],
   "source": []
  },
  {
   "cell_type": "code",
   "execution_count": null,
   "id": "78f3006e-0323-4fc1-9f89-9f2586c86804",
   "metadata": {},
   "outputs": [],
   "source": []
  },
  {
   "cell_type": "code",
   "execution_count": null,
   "id": "c0803aa4-69da-438f-87d3-6c20aadafb6b",
   "metadata": {},
   "outputs": [],
   "source": []
  },
  {
   "cell_type": "code",
   "execution_count": null,
   "id": "e64362e7-4604-4121-95ae-d1105909c73f",
   "metadata": {},
   "outputs": [],
   "source": []
  },
  {
   "cell_type": "code",
   "execution_count": null,
   "id": "1c6b1a4e-8bc3-4792-8afe-9d8e0c8d1cc1",
   "metadata": {},
   "outputs": [],
   "source": []
  },
  {
   "cell_type": "code",
   "execution_count": null,
   "id": "a4355510-20a5-4a48-bc55-e8edfbd1cfb5",
   "metadata": {},
   "outputs": [],
   "source": []
  },
  {
   "cell_type": "code",
   "execution_count": null,
   "id": "38bac8ba-8340-4085-8ada-89a9b76ff22e",
   "metadata": {},
   "outputs": [],
   "source": []
  },
  {
   "cell_type": "code",
   "execution_count": null,
   "id": "dc61c7f0-b990-43c8-9196-f8207614728d",
   "metadata": {},
   "outputs": [],
   "source": []
  },
  {
   "cell_type": "code",
   "execution_count": null,
   "id": "e8abedbe-8ded-43b8-aae7-0b4f3bed9921",
   "metadata": {},
   "outputs": [],
   "source": []
  },
  {
   "cell_type": "code",
   "execution_count": null,
   "id": "bad94f8a-b6bf-4cc6-894a-54fa9fba7047",
   "metadata": {},
   "outputs": [],
   "source": []
  },
  {
   "cell_type": "code",
   "execution_count": null,
   "id": "0140e96c-6a36-495e-baa6-0c733025d5fd",
   "metadata": {},
   "outputs": [],
   "source": []
  },
  {
   "cell_type": "code",
   "execution_count": null,
   "id": "ab41cc1a-4a89-4cbd-b9d5-487a0ea632fb",
   "metadata": {},
   "outputs": [],
   "source": []
  },
  {
   "cell_type": "code",
   "execution_count": null,
   "id": "8f3dae1f-6465-46a9-9981-19e5bd370d63",
   "metadata": {},
   "outputs": [],
   "source": []
  },
  {
   "cell_type": "code",
   "execution_count": null,
   "id": "5fde3e23-2de1-48e5-becb-dbff6b287320",
   "metadata": {},
   "outputs": [],
   "source": []
  },
  {
   "cell_type": "code",
   "execution_count": null,
   "id": "ae9a68cf-1faf-4681-b4f0-cb913bb77728",
   "metadata": {},
   "outputs": [],
   "source": [
    "from Module.Configuration_ui import Config_ui\n",
    "conf=Config_ui()"
   ]
  },
  {
   "cell_type": "code",
   "execution_count": null,
   "id": "c223bfff-7b70-45ec-8383-6d48acc6cf9f",
   "metadata": {},
   "outputs": [],
   "source": []
  },
  {
   "cell_type": "code",
   "execution_count": null,
   "id": "982b326b-8589-487d-b7cb-684f3f3b482b",
   "metadata": {},
   "outputs": [],
   "source": []
  },
  {
   "cell_type": "code",
   "execution_count": null,
   "id": "00f7e0c7-d56b-422c-8bbf-5369365a29db",
   "metadata": {},
   "outputs": [],
   "source": []
  },
  {
   "cell_type": "code",
   "execution_count": null,
   "id": "72117af1-b231-4328-b6fb-3aa137229a92",
   "metadata": {},
   "outputs": [],
   "source": []
  },
  {
   "cell_type": "code",
   "execution_count": null,
   "id": "74ccc8ca-50f8-4c9c-93b1-19463bad273f",
   "metadata": {},
   "outputs": [],
   "source": []
  },
  {
   "cell_type": "code",
   "execution_count": null,
   "id": "6517db4a-1820-4b70-90dc-70d4f899e271",
   "metadata": {},
   "outputs": [],
   "source": []
  },
  {
   "cell_type": "code",
   "execution_count": null,
   "id": "527270f4-fc7f-4e1e-abf2-feb6053986eb",
   "metadata": {},
   "outputs": [],
   "source": []
  },
  {
   "cell_type": "code",
   "execution_count": null,
   "id": "8f02fcd4-d9f5-4ec6-b7db-80d91fadba44",
   "metadata": {},
   "outputs": [],
   "source": []
  },
  {
   "cell_type": "code",
   "execution_count": null,
   "id": "3ecb08c5-2bff-4889-a040-41d71b9c09f0",
   "metadata": {},
   "outputs": [],
   "source": []
  },
  {
   "cell_type": "code",
   "execution_count": null,
   "id": "126b0b42-b69f-4456-828c-25dbf0f68727",
   "metadata": {},
   "outputs": [],
   "source": []
  },
  {
   "cell_type": "code",
   "execution_count": null,
   "id": "3c52bf72-6c17-45b3-86fe-e13e4f4ea446",
   "metadata": {},
   "outputs": [],
   "source": []
  },
  {
   "cell_type": "code",
   "execution_count": null,
   "id": "404f6862-4d1c-4edc-b1a7-46de233dc273",
   "metadata": {},
   "outputs": [],
   "source": []
  },
  {
   "cell_type": "code",
   "execution_count": null,
   "id": "68fd9a3e-4e71-4049-a84f-eed66d27281f",
   "metadata": {},
   "outputs": [],
   "source": []
  },
  {
   "cell_type": "code",
   "execution_count": null,
   "id": "3dbb3764-876b-4546-81d0-50cf791385a1",
   "metadata": {},
   "outputs": [],
   "source": []
  },
  {
   "cell_type": "code",
   "execution_count": null,
   "id": "ddbc1cd9-6cf2-46fc-8357-ce3724f991aa",
   "metadata": {},
   "outputs": [],
   "source": []
  },
  {
   "cell_type": "code",
   "execution_count": null,
   "id": "e2ae006d-596b-48cf-ad19-00ce1e1089f0",
   "metadata": {},
   "outputs": [],
   "source": []
  },
  {
   "cell_type": "code",
   "execution_count": null,
   "id": "17a5f62e-bd1a-458f-bcdc-4c920df68d2e",
   "metadata": {},
   "outputs": [],
   "source": []
  },
  {
   "cell_type": "code",
   "execution_count": null,
   "id": "e1125904-c160-4be3-be89-1bb2fa247d83",
   "metadata": {},
   "outputs": [],
   "source": []
  },
  {
   "cell_type": "code",
   "execution_count": null,
   "id": "affb7e3c-e461-49b5-be7d-d8ae5eefdf7e",
   "metadata": {},
   "outputs": [],
   "source": []
  },
  {
   "cell_type": "code",
   "execution_count": null,
   "id": "89b2f26c-f5df-44f2-a627-c586658c46e9",
   "metadata": {},
   "outputs": [],
   "source": []
  },
  {
   "cell_type": "code",
   "execution_count": null,
   "id": "315a6447-b64b-47e0-8c4d-c4777208499c",
   "metadata": {},
   "outputs": [],
   "source": []
  },
  {
   "cell_type": "code",
   "execution_count": null,
   "id": "866a17c4-3f14-4fc3-899d-f6fbc337ea2f",
   "metadata": {},
   "outputs": [],
   "source": []
  },
  {
   "cell_type": "code",
   "execution_count": null,
   "id": "b5fb956b-49d7-45e0-9314-142ab0a83f5e",
   "metadata": {},
   "outputs": [],
   "source": []
  },
  {
   "cell_type": "code",
   "execution_count": null,
   "id": "f752d70d-5126-4bca-96e4-2d5f28778d3e",
   "metadata": {},
   "outputs": [],
   "source": []
  },
  {
   "cell_type": "code",
   "execution_count": null,
   "id": "a49906cf-984c-4371-9c25-70d72c199d71",
   "metadata": {},
   "outputs": [],
   "source": []
  },
  {
   "cell_type": "code",
   "execution_count": null,
   "id": "aeeaccd8-50c6-49f1-b134-3f5f01420246",
   "metadata": {},
   "outputs": [],
   "source": []
  },
  {
   "cell_type": "code",
   "execution_count": null,
   "id": "1474ee13-8c60-4151-b24f-d5249d150a67",
   "metadata": {},
   "outputs": [],
   "source": []
  },
  {
   "cell_type": "code",
   "execution_count": null,
   "id": "70fec998-18b3-4de5-a466-5335c8643828",
   "metadata": {},
   "outputs": [],
   "source": []
  },
  {
   "cell_type": "code",
   "execution_count": null,
   "id": "4c728503-edf8-4213-a55d-81ce80e9f3b2",
   "metadata": {},
   "outputs": [],
   "source": []
  },
  {
   "cell_type": "code",
   "execution_count": null,
   "id": "3804877a-305c-4ebf-a492-1e3fcc7981c5",
   "metadata": {},
   "outputs": [],
   "source": []
  },
  {
   "cell_type": "code",
   "execution_count": null,
   "id": "9b9d729e-300b-4fcd-9fb8-9ace9f2eecf7",
   "metadata": {},
   "outputs": [],
   "source": []
  },
  {
   "cell_type": "code",
   "execution_count": null,
   "id": "1dd0c6f1-deb2-4350-a80c-fa1ecdc2009c",
   "metadata": {},
   "outputs": [],
   "source": []
  },
  {
   "cell_type": "code",
   "execution_count": null,
   "id": "bf138d76-c8a8-4664-8c10-f4b17d1dc653",
   "metadata": {},
   "outputs": [],
   "source": []
  },
  {
   "cell_type": "code",
   "execution_count": null,
   "id": "dc62b2df-cd01-4377-ae28-a03a619be117",
   "metadata": {},
   "outputs": [],
   "source": []
  },
  {
   "cell_type": "code",
   "execution_count": null,
   "id": "905b2502-b173-4748-b948-e934af249875",
   "metadata": {},
   "outputs": [],
   "source": []
  },
  {
   "cell_type": "code",
   "execution_count": null,
   "id": "d08c20ee-8db9-49ed-9194-89957d31e2d7",
   "metadata": {},
   "outputs": [],
   "source": []
  },
  {
   "cell_type": "code",
   "execution_count": null,
   "id": "b0311ea6-cad2-4738-9d23-1032c3b09afe",
   "metadata": {},
   "outputs": [],
   "source": []
  },
  {
   "cell_type": "code",
   "execution_count": null,
   "id": "ff51e13e-0d7a-4316-affa-fed5ea08395f",
   "metadata": {},
   "outputs": [],
   "source": []
  },
  {
   "cell_type": "code",
   "execution_count": null,
   "id": "a0113d8f-7c22-42e9-80f6-98698241cf97",
   "metadata": {},
   "outputs": [],
   "source": []
  },
  {
   "cell_type": "code",
   "execution_count": null,
   "id": "94c2959e-bb35-4261-abf0-c138d1f5681e",
   "metadata": {},
   "outputs": [],
   "source": []
  },
  {
   "cell_type": "code",
   "execution_count": null,
   "id": "c0e94656-7087-483c-a91c-22805701c765",
   "metadata": {},
   "outputs": [],
   "source": []
  },
  {
   "cell_type": "code",
   "execution_count": null,
   "id": "78a18aa4-5127-4f48-8e5c-f2bc09061e1a",
   "metadata": {},
   "outputs": [],
   "source": [
    "def Config_ui():\n",
    "    from ipywidgets import Button, Layout,HBox,VBox,HTML\n",
    "    from IPython.display import display\n",
    "    text = 'OAD Configuration'\n",
    "    widget1 = HTML(value = f\"<b><font color='blue'>{text}</b>\")\n",
    "    table=['Import','Use Folder','Refrence File','Configuration file']\n",
    "    layout=Layout(display='flex',flex_flow='column',align_items='center',width='50%')\n",
    "    box_layout =Layout(display='flex',flex_flow='column',align_items='center',width='50%')\n",
    "    Menu_layout = Layout(width='100%',padding='5px',display='center')\n",
    "    but = [Button(description=word, layout=layout, style=dict(button_color='red')) for word in table]\n",
    "    box1 =HBox(children=[widget1],layout=box_layout)\n",
    "    box2 = HBox(children=but,layout=Menu_layout)\n",
    "    box=VBox(children=[box1,box2],layout=Layout(border='6px solid blue', padding='10px', align_items='center', width='100'))\n",
    "    display(box)\n"
   ]
  },
  {
   "cell_type": "code",
   "execution_count": null,
   "id": "0a29f4d8-8852-4a00-9070-42d140b97cb0",
   "metadata": {},
   "outputs": [],
   "source": [
    "conf=Config_ui()"
   ]
  },
  {
   "cell_type": "code",
   "execution_count": null,
   "id": "21371bb1-f584-42c0-a339-140eed19caae",
   "metadata": {},
   "outputs": [],
   "source": []
  },
  {
   "cell_type": "code",
   "execution_count": null,
   "id": "2f06697b-f535-4a22-9010-71dfafe378d3",
   "metadata": {},
   "outputs": [],
   "source": []
  },
  {
   "cell_type": "code",
   "execution_count": null,
   "id": "52e5cab2-8401-4934-9889-4790b1c4b987",
   "metadata": {},
   "outputs": [],
   "source": []
  },
  {
   "cell_type": "code",
   "execution_count": null,
   "id": "87703d7c-1919-4401-89aa-ea2f797019e0",
   "metadata": {},
   "outputs": [],
   "source": []
  },
  {
   "cell_type": "code",
   "execution_count": null,
   "id": "f2fa63c3-a12b-49a7-9d36-46c011a6c885",
   "metadata": {},
   "outputs": [],
   "source": []
  },
  {
   "cell_type": "code",
   "execution_count": null,
   "id": "f657a194-1bcf-4d19-b59e-3d9ad9e9ba1b",
   "metadata": {},
   "outputs": [],
   "source": []
  },
  {
   "cell_type": "code",
   "execution_count": null,
   "id": "e77da5b5-bd4f-41be-9320-9e2b661b9e05",
   "metadata": {},
   "outputs": [],
   "source": []
  },
  {
   "cell_type": "code",
   "execution_count": null,
   "id": "2ea127f4-c114-4961-a46c-ebe5ab8f65f6",
   "metadata": {},
   "outputs": [],
   "source": []
  },
  {
   "cell_type": "code",
   "execution_count": null,
   "id": "f5462c71-cbff-4680-90bc-fdf62f2f57d5",
   "metadata": {},
   "outputs": [],
   "source": []
  },
  {
   "cell_type": "code",
   "execution_count": null,
   "id": "376394df-e2b2-4d38-b843-7f8221eccf8b",
   "metadata": {},
   "outputs": [],
   "source": []
  },
  {
   "cell_type": "code",
   "execution_count": null,
   "id": "8e9434f6-3dd4-43a8-bdba-a571a13de521",
   "metadata": {},
   "outputs": [],
   "source": []
  },
  {
   "cell_type": "code",
   "execution_count": null,
   "id": "9b329864-3337-48e8-af4b-079aa5b02c16",
   "metadata": {},
   "outputs": [],
   "source": []
  },
  {
   "cell_type": "code",
   "execution_count": null,
   "id": "6043899a-f483-412d-b4d2-ffe1f7cfd6b5",
   "metadata": {},
   "outputs": [],
   "source": []
  },
  {
   "cell_type": "code",
   "execution_count": null,
   "id": "4075bd4c-d182-4b0f-b464-9e58b98ad785",
   "metadata": {},
   "outputs": [],
   "source": []
  },
  {
   "cell_type": "code",
   "execution_count": null,
   "id": "aa66cb63-945f-4a44-b31c-5be39ccc604d",
   "metadata": {},
   "outputs": [],
   "source": []
  },
  {
   "cell_type": "code",
   "execution_count": null,
   "id": "54ac6a6f-584b-4a46-b15d-ac19319b000b",
   "metadata": {},
   "outputs": [],
   "source": []
  },
  {
   "cell_type": "code",
   "execution_count": null,
   "id": "4d5a0227-3980-4426-b737-944b38f17a26",
   "metadata": {},
   "outputs": [],
   "source": []
  },
  {
   "cell_type": "code",
   "execution_count": null,
   "id": "ac884cd0-756e-4b68-a2e0-975730eb8063",
   "metadata": {},
   "outputs": [],
   "source": []
  },
  {
   "cell_type": "code",
   "execution_count": null,
   "id": "82e8ce21-26df-4de6-827a-afad06f305a4",
   "metadata": {},
   "outputs": [],
   "source": []
  },
  {
   "cell_type": "code",
   "execution_count": null,
   "id": "c2dd4988-e7f3-4040-b46d-400e21eb9e64",
   "metadata": {},
   "outputs": [],
   "source": []
  },
  {
   "cell_type": "code",
   "execution_count": null,
   "id": "662e1ae9-d227-493b-a4f5-9bf6738c2529",
   "metadata": {},
   "outputs": [],
   "source": []
  },
  {
   "cell_type": "code",
   "execution_count": null,
   "id": "d88cbd36-db7d-4ab5-b8bb-a3e1ca77d2a3",
   "metadata": {},
   "outputs": [],
   "source": []
  },
  {
   "cell_type": "code",
   "execution_count": null,
   "id": "b86dc514-539d-4544-88ab-43e6a2a33395",
   "metadata": {},
   "outputs": [],
   "source": []
  },
  {
   "cell_type": "code",
   "execution_count": null,
   "id": "e025fd12-add2-450d-b808-a42f0a8f28d2",
   "metadata": {},
   "outputs": [],
   "source": []
  },
  {
   "cell_type": "code",
   "execution_count": null,
   "id": "90fb7451-706e-4a15-b0e9-e1e13eaa689b",
   "metadata": {},
   "outputs": [],
   "source": []
  },
  {
   "cell_type": "code",
   "execution_count": null,
   "id": "331ff026-4d91-4f55-815c-8ea0a8417383",
   "metadata": {},
   "outputs": [],
   "source": []
  },
  {
   "cell_type": "code",
   "execution_count": null,
   "id": "90bc0ec5-b27a-42c1-80bc-cba241dbbd4d",
   "metadata": {},
   "outputs": [],
   "source": []
  },
  {
   "cell_type": "code",
   "execution_count": null,
   "id": "511ffbe5-87b3-46fa-bc8b-3e16fe8e6b08",
   "metadata": {},
   "outputs": [],
   "source": []
  },
  {
   "cell_type": "code",
   "execution_count": null,
   "id": "4859a024-d8c3-48ec-8353-5927e8b937fb",
   "metadata": {},
   "outputs": [],
   "source": []
  },
  {
   "cell_type": "code",
   "execution_count": null,
   "id": "f08c30ac-84ed-48ba-b32e-57418b19363d",
   "metadata": {},
   "outputs": [],
   "source": []
  },
  {
   "cell_type": "code",
   "execution_count": null,
   "id": "f5f0771a-fbde-41d3-9a56-4990ffd6e343",
   "metadata": {},
   "outputs": [],
   "source": []
  },
  {
   "cell_type": "code",
   "execution_count": null,
   "id": "dbef4b34-c066-4422-9b8a-f9991fa0a1e4",
   "metadata": {},
   "outputs": [],
   "source": []
  },
  {
   "cell_type": "code",
   "execution_count": null,
   "id": "4104fcaa-0954-484c-93e9-76c23ea07bb5",
   "metadata": {},
   "outputs": [],
   "source": []
  },
  {
   "cell_type": "code",
   "execution_count": null,
   "id": "56343d3c-7c74-45d5-86f1-34c4f1f43721",
   "metadata": {},
   "outputs": [],
   "source": []
  },
  {
   "cell_type": "code",
   "execution_count": null,
   "id": "32389f86-6d01-4aa9-b3e4-9739e4cb16f9",
   "metadata": {},
   "outputs": [],
   "source": []
  },
  {
   "cell_type": "code",
   "execution_count": null,
   "id": "b19c978b-1de1-43c8-8ae9-6719013234fb",
   "metadata": {},
   "outputs": [],
   "source": [
    "but"
   ]
  },
  {
   "cell_type": "code",
   "execution_count": null,
   "id": "940bd50d-e862-40d7-a39b-b15a08670def",
   "metadata": {},
   "outputs": [],
   "source": []
  },
  {
   "cell_type": "code",
   "execution_count": null,
   "id": "edd7c685-c9d5-4bc1-8be9-7a4c8a1364da",
   "metadata": {},
   "outputs": [],
   "source": []
  },
  {
   "cell_type": "code",
   "execution_count": null,
   "id": "17245e82-404f-4773-a8d7-75730c5da299",
   "metadata": {},
   "outputs": [],
   "source": []
  },
  {
   "cell_type": "code",
   "execution_count": null,
   "id": "821d8f36-895a-42ae-946b-557f88cf7866",
   "metadata": {},
   "outputs": [],
   "source": []
  },
  {
   "cell_type": "code",
   "execution_count": null,
   "id": "978f0415-ef5d-4d41-a570-0813bff5e6a5",
   "metadata": {},
   "outputs": [],
   "source": []
  },
  {
   "cell_type": "code",
   "execution_count": null,
   "id": "cf3e63a1-3d53-4f5d-b4c0-85d35addffdf",
   "metadata": {},
   "outputs": [],
   "source": []
  },
  {
   "cell_type": "code",
   "execution_count": null,
   "id": "16c99d9a-dc3c-4790-834b-9a80a709ae43",
   "metadata": {},
   "outputs": [],
   "source": []
  },
  {
   "cell_type": "code",
   "execution_count": null,
   "id": "932dc06b-3e69-45b3-9aec-8e8448614b65",
   "metadata": {},
   "outputs": [],
   "source": []
  },
  {
   "cell_type": "code",
   "execution_count": null,
   "id": "ef5e968b-97f2-48eb-9e53-9e15201939e3",
   "metadata": {},
   "outputs": [],
   "source": []
  },
  {
   "cell_type": "code",
   "execution_count": null,
   "id": "6f4b9b7e-9d22-4477-afca-44806413d960",
   "metadata": {},
   "outputs": [],
   "source": []
  },
  {
   "cell_type": "code",
   "execution_count": null,
   "id": "96cba689-6b8e-4ae7-a6e2-376f9a3c1054",
   "metadata": {},
   "outputs": [],
   "source": []
  },
  {
   "cell_type": "code",
   "execution_count": null,
   "id": "eaa818d8-38d1-47c1-9269-02989e897780",
   "metadata": {},
   "outputs": [],
   "source": []
  },
  {
   "cell_type": "code",
   "execution_count": null,
   "id": "49581f13-fd23-4b7b-a2fc-dc5db3503f1b",
   "metadata": {},
   "outputs": [],
   "source": []
  },
  {
   "cell_type": "code",
   "execution_count": null,
   "id": "3f6dd3ac-8645-4eba-b403-73f4f9cb199d",
   "metadata": {},
   "outputs": [],
   "source": []
  },
  {
   "cell_type": "code",
   "execution_count": null,
   "id": "cdeef78a-e277-471b-9a71-3414ecdc1e40",
   "metadata": {},
   "outputs": [],
   "source": []
  },
  {
   "cell_type": "code",
   "execution_count": null,
   "id": "62b13b76-f583-44b1-bd05-529ee3ce60b3",
   "metadata": {},
   "outputs": [],
   "source": []
  }
 ],
 "metadata": {
  "kernelspec": {
   "display_name": "Python 3 (ipykernel)",
   "language": "python",
   "name": "python3"
  },
  "language_info": {
   "codemirror_mode": {
    "name": "ipython",
    "version": 3
   },
   "file_extension": ".py",
   "mimetype": "text/x-python",
   "name": "python",
   "nbconvert_exporter": "python",
   "pygments_lexer": "ipython3",
   "version": "3.8.13"
  }
 },
 "nbformat": 4,
 "nbformat_minor": 5
}
