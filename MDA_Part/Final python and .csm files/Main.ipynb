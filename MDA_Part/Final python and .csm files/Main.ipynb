{
 "cells": [
  {
   "cell_type": "markdown",
   "metadata": {},
   "source": [
    "\n",
    "# Created on Tue Nov 29 17:49:45 2022\n",
    "\n",
    "# Author: Sameer Sheriff and José CAROLA DOS SANTOS"
   ]
  },
  {
   "cell_type": "markdown",
   "metadata": {},
   "source": [
    "In the location of this Jupyter file, create a folder, CSMWorkdir with the following:\n",
    "1. CSMBaseModel.csm\n",
    "2. FAST-OAD XML Input file (inputFAST.xml or CeRAS01_baseline.xml here)\n",
    "3. ESP.bat - the batch file to run ESP \n",
    "\n",
    "Additionally, ensure the ESP.bat file has been correctly filled as per the documentation. "
   ]
  },
  {
   "cell_type": "code",
   "execution_count": 58,
   "metadata": {},
   "outputs": [
    {
     "name": "stdout",
     "output_type": "stream",
     "text": [
      "Requirement already satisfied: xmltodict in c:\\users\\eric\\anaconda3\\envs\\fast-oad\\lib\\site-packages (0.13.0)\n",
      "Requirement already satisfied: steputils in c:\\users\\eric\\anaconda3\\envs\\fast-oad\\lib\\site-packages (0.1)\n",
      "Requirement already satisfied: pyparsing in c:\\users\\eric\\anaconda3\\envs\\fast-oad\\lib\\site-packages (from steputils) (2.4.7)\n",
      "Requirement already satisfied: antlr4-python3-runtime in c:\\users\\eric\\anaconda3\\envs\\fast-oad\\lib\\site-packages (from steputils) (4.12.0)\n",
      "Requirement already satisfied: pythreejs in c:\\users\\eric\\anaconda3\\envs\\fast-oad\\lib\\site-packages (2.4.2)\n",
      "Requirement already satisfied: ipydatawidgets>=1.1.1 in c:\\users\\eric\\anaconda3\\envs\\fast-oad\\lib\\site-packages (from pythreejs) (4.3.3)\n",
      "Requirement already satisfied: traitlets in c:\\users\\eric\\anaconda3\\envs\\fast-oad\\lib\\site-packages (from pythreejs) (5.9.0)\n",
      "Requirement already satisfied: numpy in c:\\users\\eric\\anaconda3\\envs\\fast-oad\\lib\\site-packages (from pythreejs) (1.24.2)\n",
      "Requirement already satisfied: ipywidgets>=7.2.1 in c:\\users\\eric\\anaconda3\\envs\\fast-oad\\lib\\site-packages (from pythreejs) (8.0.4)\n",
      "Requirement already satisfied: traittypes>=0.2.0 in c:\\users\\eric\\anaconda3\\envs\\fast-oad\\lib\\site-packages (from ipydatawidgets>=1.1.1->pythreejs) (0.2.1)\n",
      "Requirement already satisfied: ipykernel>=4.5.1 in c:\\users\\eric\\anaconda3\\envs\\fast-oad\\lib\\site-packages (from ipywidgets>=7.2.1->pythreejs) (6.21.3)\n",
      "Requirement already satisfied: widgetsnbextension~=4.0 in c:\\users\\eric\\anaconda3\\envs\\fast-oad\\lib\\site-packages (from ipywidgets>=7.2.1->pythreejs) (4.0.5)\n",
      "Requirement already satisfied: jupyterlab-widgets~=3.0 in c:\\users\\eric\\anaconda3\\envs\\fast-oad\\lib\\site-packages (from ipywidgets>=7.2.1->pythreejs) (3.0.7)\n",
      "Requirement already satisfied: ipython>=6.1.0 in c:\\users\\eric\\anaconda3\\envs\\fast-oad\\lib\\site-packages (from ipywidgets>=7.2.1->pythreejs) (8.12.0)\n",
      "Requirement already satisfied: comm>=0.1.1 in c:\\users\\eric\\anaconda3\\envs\\fast-oad\\lib\\site-packages (from ipykernel>=4.5.1->ipywidgets>=7.2.1->pythreejs) (0.1.2)\n",
      "Requirement already satisfied: matplotlib-inline>=0.1 in c:\\users\\eric\\anaconda3\\envs\\fast-oad\\lib\\site-packages (from ipykernel>=4.5.1->ipywidgets>=7.2.1->pythreejs) (0.1.6)\n",
      "Requirement already satisfied: nest-asyncio in c:\\users\\eric\\anaconda3\\envs\\fast-oad\\lib\\site-packages (from ipykernel>=4.5.1->ipywidgets>=7.2.1->pythreejs) (1.5.6)\n",
      "Requirement already satisfied: psutil in c:\\users\\eric\\anaconda3\\envs\\fast-oad\\lib\\site-packages (from ipykernel>=4.5.1->ipywidgets>=7.2.1->pythreejs) (5.9.4)\n",
      "Requirement already satisfied: pyzmq>=20 in c:\\users\\eric\\anaconda3\\envs\\fast-oad\\lib\\site-packages (from ipykernel>=4.5.1->ipywidgets>=7.2.1->pythreejs) (25.0.0)\n",
      "Requirement already satisfied: packaging in c:\\users\\eric\\anaconda3\\envs\\fast-oad\\lib\\site-packages (from ipykernel>=4.5.1->ipywidgets>=7.2.1->pythreejs) (23.0)\n",
      "Requirement already satisfied: jupyter-core!=5.0.*,>=4.12 in c:\\users\\eric\\anaconda3\\envs\\fast-oad\\lib\\site-packages (from ipykernel>=4.5.1->ipywidgets>=7.2.1->pythreejs) (5.3.0)\n",
      "Requirement already satisfied: jupyter-client>=6.1.12 in c:\\users\\eric\\anaconda3\\envs\\fast-oad\\lib\\site-packages (from ipykernel>=4.5.1->ipywidgets>=7.2.1->pythreejs) (8.1.0)\n",
      "Requirement already satisfied: tornado>=6.1 in c:\\users\\eric\\anaconda3\\envs\\fast-oad\\lib\\site-packages (from ipykernel>=4.5.1->ipywidgets>=7.2.1->pythreejs) (6.2)\n",
      "Requirement already satisfied: debugpy>=1.6.5 in c:\\users\\eric\\anaconda3\\envs\\fast-oad\\lib\\site-packages (from ipykernel>=4.5.1->ipywidgets>=7.2.1->pythreejs) (1.6.6)\n",
      "Requirement already satisfied: pickleshare in c:\\users\\eric\\anaconda3\\envs\\fast-oad\\lib\\site-packages (from ipython>=6.1.0->ipywidgets>=7.2.1->pythreejs) (0.7.5)\n",
      "Requirement already satisfied: pygments>=2.4.0 in c:\\users\\eric\\anaconda3\\envs\\fast-oad\\lib\\site-packages (from ipython>=6.1.0->ipywidgets>=7.2.1->pythreejs) (2.14.0)\n",
      "Requirement already satisfied: typing-extensions in c:\\users\\eric\\anaconda3\\envs\\fast-oad\\lib\\site-packages (from ipython>=6.1.0->ipywidgets>=7.2.1->pythreejs) (4.4.0)\n",
      "Requirement already satisfied: decorator in c:\\users\\eric\\anaconda3\\envs\\fast-oad\\lib\\site-packages (from ipython>=6.1.0->ipywidgets>=7.2.1->pythreejs) (5.1.1)\n",
      "Requirement already satisfied: jedi>=0.16 in c:\\users\\eric\\anaconda3\\envs\\fast-oad\\lib\\site-packages (from ipython>=6.1.0->ipywidgets>=7.2.1->pythreejs) (0.18.2)\n",
      "Requirement already satisfied: colorama in c:\\users\\eric\\anaconda3\\envs\\fast-oad\\lib\\site-packages (from ipython>=6.1.0->ipywidgets>=7.2.1->pythreejs) (0.4.6)\n",
      "Requirement already satisfied: backcall in c:\\users\\eric\\anaconda3\\envs\\fast-oad\\lib\\site-packages (from ipython>=6.1.0->ipywidgets>=7.2.1->pythreejs) (0.2.0)\n",
      "Requirement already satisfied: stack-data in c:\\users\\eric\\anaconda3\\envs\\fast-oad\\lib\\site-packages (from ipython>=6.1.0->ipywidgets>=7.2.1->pythreejs) (0.6.2)\n",
      "Requirement already satisfied: prompt-toolkit!=3.0.37,<3.1.0,>=3.0.30 in c:\\users\\eric\\anaconda3\\envs\\fast-oad\\lib\\site-packages (from ipython>=6.1.0->ipywidgets>=7.2.1->pythreejs) (3.0.38)\n",
      "Requirement already satisfied: parso<0.9.0,>=0.8.0 in c:\\users\\eric\\anaconda3\\envs\\fast-oad\\lib\\site-packages (from jedi>=0.16->ipython>=6.1.0->ipywidgets>=7.2.1->pythreejs) (0.8.3)\n",
      "Requirement already satisfied: python-dateutil>=2.8.2 in c:\\users\\eric\\anaconda3\\envs\\fast-oad\\lib\\site-packages (from jupyter-client>=6.1.12->ipykernel>=4.5.1->ipywidgets>=7.2.1->pythreejs) (2.8.2)\n",
      "Requirement already satisfied: importlib-metadata>=4.8.3 in c:\\users\\eric\\anaconda3\\envs\\fast-oad\\lib\\site-packages (from jupyter-client>=6.1.12->ipykernel>=4.5.1->ipywidgets>=7.2.1->pythreejs) (4.11.3)\n",
      "Requirement already satisfied: platformdirs>=2.5 in c:\\users\\eric\\anaconda3\\envs\\fast-oad\\lib\\site-packages (from jupyter-core!=5.0.*,>=4.12->ipykernel>=4.5.1->ipywidgets>=7.2.1->pythreejs) (2.5.2)\n",
      "Requirement already satisfied: pywin32>=300 in c:\\users\\eric\\anaconda3\\envs\\fast-oad\\lib\\site-packages (from jupyter-core!=5.0.*,>=4.12->ipykernel>=4.5.1->ipywidgets>=7.2.1->pythreejs) (305.1)\n",
      "Requirement already satisfied: wcwidth in c:\\users\\eric\\anaconda3\\envs\\fast-oad\\lib\\site-packages (from prompt-toolkit!=3.0.37,<3.1.0,>=3.0.30->ipython>=6.1.0->ipywidgets>=7.2.1->pythreejs) (0.2.6)\n",
      "Requirement already satisfied: executing>=1.2.0 in c:\\users\\eric\\anaconda3\\envs\\fast-oad\\lib\\site-packages (from stack-data->ipython>=6.1.0->ipywidgets>=7.2.1->pythreejs) (1.2.0)\n",
      "Requirement already satisfied: asttokens>=2.1.0 in c:\\users\\eric\\anaconda3\\envs\\fast-oad\\lib\\site-packages (from stack-data->ipython>=6.1.0->ipywidgets>=7.2.1->pythreejs) (2.2.1)\n",
      "Requirement already satisfied: pure-eval in c:\\users\\eric\\anaconda3\\envs\\fast-oad\\lib\\site-packages (from stack-data->ipython>=6.1.0->ipywidgets>=7.2.1->pythreejs) (0.2.2)\n",
      "Requirement already satisfied: six in c:\\users\\eric\\anaconda3\\envs\\fast-oad\\lib\\site-packages (from asttokens>=2.1.0->stack-data->ipython>=6.1.0->ipywidgets>=7.2.1->pythreejs) (1.16.0)\n",
      "Requirement already satisfied: zipp>=0.5 in c:\\users\\eric\\anaconda3\\envs\\fast-oad\\lib\\site-packages (from importlib-metadata>=4.8.3->jupyter-client>=6.1.12->ipykernel>=4.5.1->ipywidgets>=7.2.1->pythreejs) (3.11.0)\n",
      "Requirement already satisfied: pyvista in c:\\users\\eric\\anaconda3\\envs\\fast-oad\\lib\\site-packages (0.38.5)\n",
      "Requirement already satisfied: numpy in c:\\users\\eric\\anaconda3\\envs\\fast-oad\\lib\\site-packages (from pyvista) (1.24.2)\n",
      "Requirement already satisfied: pooch in c:\\users\\eric\\anaconda3\\envs\\fast-oad\\lib\\site-packages (from pyvista) (1.4.0)\n",
      "Requirement already satisfied: scooby>=0.5.1 in c:\\users\\eric\\anaconda3\\envs\\fast-oad\\lib\\site-packages (from pyvista) (0.7.1)\n",
      "Requirement already satisfied: imageio in c:\\users\\eric\\anaconda3\\envs\\fast-oad\\lib\\site-packages (from pyvista) (2.27.0)\n",
      "Requirement already satisfied: pillow in c:\\users\\eric\\anaconda3\\envs\\fast-oad\\lib\\site-packages (from pyvista) (9.5.0)\n",
      "Requirement already satisfied: vtk in c:\\users\\eric\\anaconda3\\envs\\fast-oad\\lib\\site-packages (from pyvista) (9.2.6)\n",
      "Requirement already satisfied: requests in c:\\users\\eric\\anaconda3\\envs\\fast-oad\\lib\\site-packages (from pooch->pyvista) (2.28.1)\n",
      "Requirement already satisfied: packaging in c:\\users\\eric\\anaconda3\\envs\\fast-oad\\lib\\site-packages (from pooch->pyvista) (23.0)\n",
      "Requirement already satisfied: appdirs in c:\\users\\eric\\anaconda3\\envs\\fast-oad\\lib\\site-packages (from pooch->pyvista) (1.4.4)\n",
      "Requirement already satisfied: matplotlib>=2.0.0 in c:\\users\\eric\\anaconda3\\envs\\fast-oad\\lib\\site-packages (from vtk->pyvista) (3.7.1)\n",
      "Requirement already satisfied: kiwisolver>=1.0.1 in c:\\users\\eric\\anaconda3\\envs\\fast-oad\\lib\\site-packages (from matplotlib>=2.0.0->vtk->pyvista) (1.4.4)\n",
      "Requirement already satisfied: pyparsing>=2.3.1 in c:\\users\\eric\\anaconda3\\envs\\fast-oad\\lib\\site-packages (from matplotlib>=2.0.0->vtk->pyvista) (2.4.7)\n",
      "Requirement already satisfied: importlib-resources>=3.2.0 in c:\\users\\eric\\anaconda3\\envs\\fast-oad\\lib\\site-packages (from matplotlib>=2.0.0->vtk->pyvista) (5.12.0)\n",
      "Requirement already satisfied: fonttools>=4.22.0 in c:\\users\\eric\\anaconda3\\envs\\fast-oad\\lib\\site-packages (from matplotlib>=2.0.0->vtk->pyvista) (4.39.3)\n",
      "Requirement already satisfied: cycler>=0.10 in c:\\users\\eric\\anaconda3\\envs\\fast-oad\\lib\\site-packages (from matplotlib>=2.0.0->vtk->pyvista) (0.11.0)\n",
      "Requirement already satisfied: python-dateutil>=2.7 in c:\\users\\eric\\anaconda3\\envs\\fast-oad\\lib\\site-packages (from matplotlib>=2.0.0->vtk->pyvista) (2.8.2)\n",
      "Requirement already satisfied: contourpy>=1.0.1 in c:\\users\\eric\\anaconda3\\envs\\fast-oad\\lib\\site-packages (from matplotlib>=2.0.0->vtk->pyvista) (1.0.7)\n",
      "Requirement already satisfied: charset-normalizer<3,>=2 in c:\\users\\eric\\anaconda3\\envs\\fast-oad\\lib\\site-packages (from requests->pooch->pyvista) (2.0.4)\n",
      "Requirement already satisfied: urllib3<1.27,>=1.21.1 in c:\\users\\eric\\anaconda3\\envs\\fast-oad\\lib\\site-packages (from requests->pooch->pyvista) (1.26.15)\n",
      "Requirement already satisfied: certifi>=2017.4.17 in c:\\users\\eric\\anaconda3\\envs\\fast-oad\\lib\\site-packages (from requests->pooch->pyvista) (2022.12.7)\n",
      "Requirement already satisfied: idna<4,>=2.5 in c:\\users\\eric\\anaconda3\\envs\\fast-oad\\lib\\site-packages (from requests->pooch->pyvista) (3.4)\n",
      "Requirement already satisfied: zipp>=3.1.0 in c:\\users\\eric\\anaconda3\\envs\\fast-oad\\lib\\site-packages (from importlib-resources>=3.2.0->matplotlib>=2.0.0->vtk->pyvista) (3.11.0)\n",
      "Requirement already satisfied: six>=1.5 in c:\\users\\eric\\anaconda3\\envs\\fast-oad\\lib\\site-packages (from python-dateutil>=2.7->matplotlib>=2.0.0->vtk->pyvista) (1.16.0)\n"
     ]
    },
    {
     "name": "stdout",
     "output_type": "stream",
     "text": [
      "Collecting stl\n",
      "  Downloading stl-0.0.3.tar.gz (4.2 kB)\n",
      "  Preparing metadata (setup.py): started\n",
      "  Preparing metadata (setup.py): finished with status 'done'\n",
      "Building wheels for collected packages: stl\n",
      "  Building wheel for stl (setup.py): started\n",
      "  Building wheel for stl (setup.py): finished with status 'done'\n",
      "  Created wheel for stl: filename=stl-0.0.3-py3-none-any.whl size=5347 sha256=8e606c2247c56a55bf1f951b351d5e368da3532bf5e5f26f19027bfa4feb72b4\n",
      "  Stored in directory: c:\\users\\eric\\appdata\\local\\pip\\cache\\wheels\\c6\\b2\\c0\\a33f54fbfffde82a668e4c8483af3884f91acb6b1e71b5e3d4\n",
      "Successfully built stl\n",
      "Installing collected packages: stl\n",
      "Successfully installed stl-0.0.3\n"
     ]
    }
   ],
   "source": [
    "!pip install xmltodict\n",
    "!pip install steputils\n",
    "!pip install pythreejs\n",
    "!pip install pyvista\n",
    "!pip install stl"
   ]
  },
  {
   "cell_type": "code",
   "execution_count": 60,
   "metadata": {},
   "outputs": [
    {
     "ename": "ImportError",
     "evalue": "cannot import name 'mesh' from 'stl' (C:\\Users\\ERIC\\anaconda3\\envs\\FAST-OAD\\lib\\site-packages\\stl\\__init__.py)",
     "output_type": "error",
     "traceback": [
      "\u001b[1;31m---------------------------------------------------------------------------\u001b[0m",
      "\u001b[1;31mImportError\u001b[0m                               Traceback (most recent call last)",
      "Cell \u001b[1;32mIn[60], line 13\u001b[0m\n\u001b[0;32m     11\u001b[0m \u001b[38;5;28;01mfrom\u001b[39;00m \u001b[38;5;21;01msteputils\u001b[39;00m \u001b[38;5;28;01mimport\u001b[39;00m p21\n\u001b[0;32m     12\u001b[0m \u001b[38;5;28;01mimport\u001b[39;00m \u001b[38;5;21;01mpyvista\u001b[39;00m \u001b[38;5;28;01mas\u001b[39;00m \u001b[38;5;21;01mpv\u001b[39;00m\n\u001b[1;32m---> 13\u001b[0m \u001b[38;5;28;01mfrom\u001b[39;00m \u001b[38;5;21;01mstl\u001b[39;00m \u001b[38;5;28;01mimport\u001b[39;00m mesh\n\u001b[0;32m     14\u001b[0m \u001b[38;5;28;01mimport\u001b[39;00m \u001b[38;5;21;01mstl2numpy\u001b[39;00m\n\u001b[0;32m     16\u001b[0m Base_folder \u001b[38;5;241m=\u001b[39m \u001b[38;5;124m\"\u001b[39m\u001b[38;5;124mBase files\u001b[39m\u001b[38;5;124m\"\u001b[39m\n",
      "\u001b[1;31mImportError\u001b[0m: cannot import name 'mesh' from 'stl' (C:\\Users\\ERIC\\anaconda3\\envs\\FAST-OAD\\lib\\site-packages\\stl\\__init__.py)"
     ]
    }
   ],
   "source": [
    "import xml.etree.ElementTree as ET\n",
    "import collections #used for ordered dict\n",
    "import json\n",
    "import xmltodict\n",
    "import os\n",
    "import subprocess\n",
    "import numpy\n",
    "import easygui\n",
    "import shutil\n",
    "import pythreejs as three\n",
    "from steputils import p21\n",
    "import pyvista as pv\n",
    "from stl import mesh\n",
    "import stl2numpy\n",
    "\n",
    "Base_folder = \"Base files\"\n",
    "WORK_FOLDER_PATH = \"CSMworkdir\"\n",
    "\n",
    "# Check if the destination folder already exists\n",
    "if os.path.exists(WORK_FOLDER_PATH):\n",
    "    # If it does, delete the existing folder and its contents\n",
    "    shutil.rmtree(WORK_FOLDER_PATH)\n",
    "# Copies contents of base file to new work folder \n",
    "shutil.copytree(Base_folder, WORK_FOLDER_PATH)\n",
    "\n",
    "csm_file = os.path.join(WORK_FOLDER_PATH, \"CsmBaseModel.csm\")\n",
    "batch_file = os.path.join(WORK_FOLDER_PATH, \"ESP.bat\")"
   ]
  },
  {
   "cell_type": "code",
   "execution_count": 33,
   "metadata": {},
   "outputs": [
    {
     "name": "stdout",
     "output_type": "stream",
     "text": [
      "CSMworkdir\\ESP.bat\n",
      "Python 3.9.16\n"
     ]
    }
   ],
   "source": [
    "print(batch_file)\n",
    "!python --version"
   ]
  },
  {
   "cell_type": "markdown",
   "metadata": {},
   "source": [
    "## Copy input fast-oad file into \"workdir\" folder for jupyter to access"
   ]
  },
  {
   "cell_type": "code",
   "execution_count": 34,
   "metadata": {},
   "outputs": [
    {
     "name": "stdout",
     "output_type": "stream",
     "text": [
      "CSMworkdir\\inputFAST.xml\n"
     ]
    }
   ],
   "source": [
    "xml_data_file = os.path.join(WORK_FOLDER_PATH, \"inputFAST.xml\")\n",
    "print(xml_data_file)"
   ]
  },
  {
   "cell_type": "markdown",
   "metadata": {},
   "source": [
    "This section creates odered dictionary of entire XML file"
   ]
  },
  {
   "cell_type": "code",
   "execution_count": 35,
   "metadata": {},
   "outputs": [
    {
     "name": "stdout",
     "output_type": "stream",
     "text": [
      "{'has_T_tail': {'@is_input': 'True', '#text': '0.0'}, 'aircraft': {'wetted_area': {'@units': 'm**2', '@is_input': 'False', '#text': '834.8572353506464'}}, 'cabin': {'NPAX1': {'@is_input': 'False', '#text': '157.0'}, 'aisle_width': {'@units': 'm', '@is_input': 'True', '#text': '0.48'}, 'exit_width': {'@units': 'm', '@is_input': 'True', '#text': '0.51'}, 'length': {'@units': 'm', '@is_input': 'False', '#text': '30.380964840000004'}, 'containers': {'count_by_row': {'@is_input': 'True', '#text': '1.0'}}, 'crew_count': {'commercial': {'@is_input': 'False', '#text': '4.0'}, 'technical': {'@is_input': 'True', '#text': '2.0'}}, 'seats': {'economical': {'count_by_row': {'@is_input': 'True', '#text': '6.0'}, 'length': {'@units': 'm', '@is_input': 'True', '#text': '0.86'}, 'width': {'@units': 'm', '@is_input': 'True', '#text': '0.46'}}}}, 'flap': {'chord_ratio': {'@is_input': 'True', '#text': '0.197'}, 'span_ratio': {'@is_input': 'True', '#text': '0.8'}}, 'fuselage': {'PAX_length': {'@units': 'm', '@is_input': 'False', '#text': '22.87'}, 'front_length': {'@units': 'm', '@is_input': 'False', '#text': '6.901795999999999'}, 'length': {'@units': 'm', '@is_input': 'False', '#text': '37.507364'}, 'maximum_height': {'@units': 'm', '@is_input': 'False', '#text': '4.05988'}, 'maximum_width': {'@units': 'm', '@is_input': 'False', '#text': '3.91988'}, 'rear_length': {'@units': 'm', '@is_input': 'False', '#text': '14.615568'}, 'wetted_area': {'@units': 'm**2', '@is_input': 'False', '#text': '401.95600094323777'}}, 'horizontal_tail': {'area': {'@units': 'm**2', '@is_input': 'False', '#text': '36.21418494874766'}, 'aspect_ratio': {'@is_input': 'True', '#text': '4.28778048454'}, 'span': {'@units': 'm', '@is_input': 'False', '#text': '56.461078465601418'}, 'sweep_0': {'@units': 'deg', '@is_input': 'False', '#text': '33.31651496553977'}, 'sweep_100': {'@units': 'deg', '@is_input': 'False', '#text': '8.808941784256668'}, 'sweep_25': {'@units': 'deg', '@is_input': 'True', '#text': '28.0'}, 'taper_ratio': {'@is_input': 'True', '#text': '0.3'}, 'thickness_ratio': {'@is_input': 'True', '#text': '0.1'}, 'wetted_area': {'@units': 'm**2', '@is_input': 'False', '#text': '72.42836989749532'}, 'MAC': {'length': {'@units': 'm', '@is_input': 'False', '#text': '3.1870576519890546'}, 'y': {'@units': 'm', '@is_input': 'False', '#text': '2.556118659610547'}, 'at25percent': {'x': {'from_wingMAC25': {'@units': 'm', '@is_input': 'False', '#text': '16.831650926846798'}, 'local': {'@units': 'm', '@is_input': 'False', '#text': '1.6801110121913776'}}}}, 'root': {'chord': {'@units': 'm', '@is_input': 'False', '#text': '4.471052101711264'}}, 'tip': {'chord': {'@units': 'm', '@is_input': 'False', '#text': '1.341315630513379'}}}, 'landing_gear': {'height': {'@units': 'm', '@is_input': 'False', '#text': '3.0411414104151127'}}, 'propulsion': {'layout': {'@is_input': 'True', '#text': '1.0'}, 'engine': {'count': {'@is_input': 'True', '#text': '2.0'}, 'y_ratio': {'@is_input': 'True', '#text': '0.34'}}, 'fan': {'length': {'@units': 'm', '@is_input': 'False', '#text': '3.1268896238914476'}}, 'nacelle': {'diameter': {'@units': 'm', '@is_input': 'False', '#text': '2.1722438645822235'}, 'length': {'@units': 'm', '@is_input': 'False', '#text': '5.2114827064857465'}, 'wetted_area': {'@units': 'm**2', '@is_input': 'False', '#text': '21.6092'}, 'y': {'@units': 'm', '@is_input': 'False', '#text': '7.628911378028249'}}, 'pylon': {'length': {'@units': 'm', '@is_input': 'False', '#text': '5.732630977134321'}, 'wetted_area': {'@units': 'm**2', '@is_input': 'False', '#text': '7.56322'}}}, 'slat': {'chord_ratio': {'@is_input': 'True', '#text': '0.177'}, 'span_ratio': {'@is_input': 'True', '#text': '0.9'}}, 'vertical_tail': {'area': {'@units': 'm**2', '@is_input': 'False', '#text': '34.41082725841225'}, 'aspect_ratio': {'@is_input': 'True', '#text': '1.74462618632'}, 'span': {'@units': 'm', '@is_input': 'False', '#text': '7.748163043445385'}, 'sweep_0': {'@units': 'deg', '@is_input': 'False', '#text': '40.51480176597914'}, 'sweep_100': {'@units': 'deg', '@is_input': 'False', '#text': '13.34651978540079'}, 'sweep_25': {'@units': 'deg', '@is_input': 'True', '#text': '35.0'}, 'taper_ratio': {'@is_input': 'True', '#text': '0.3'}, 'thickness_ratio': {'@is_input': 'True', '#text': '0.1'}, 'wetted_area': {'@units': 'm**2', '@is_input': 'False', '#text': '72.26273724266572'}, 'MAC': {'length': {'@units': 'm', '@is_input': 'False', '#text': '4.870383914068978'}, 'z': {'@units': 'm', '@is_input': 'False', '#text': '3.178733556285286'}, 'at25percent': {'x': {'from_wingMAC25': {'@units': 'm', '@is_input': 'False', '#text': '15.706430006846794'}, 'local': {'@units': 'm', '@is_input': 'False', '#text': '2.7163154627974877'}}}}, 'root': {'chord': {'@units': 'm', '@is_input': 'False', '#text': '6.832552972974466'}}, 'tip': {'chord': {'@units': 'm', '@is_input': 'False', '#text': '2.04976589189234'}}}, 'wing': {'area': {'@units': 'm**2', '@is_input': 'False', '#text': '138.67108437578642'}, 'aspect_ratio': {'@is_input': 'True', '#text': '14.5225'}, 'b_50': {'@units': 'm', '@is_input': 'False', '#text': '48.768359371139155'}, 'outer_area': {'@units': 'm**2', '@is_input': 'False', '#text': '114.93264325896295'}, 'span': {'@units': 'm', '@is_input': 'False', '#text': '90.87594928251911'}, 'sweep_0': {'@units': 'deg', '@is_input': 'False', '#text': '25.9985488129507'}, 'sweep_100_inner': {'@units': 'deg', '@is_input': 'False', '#text': '0.0'}, 'sweep_100_outer': {'@units': 'deg', '@is_input': 'False', '#text': '19.959750263475513'}, 'sweep_25': {'@units': 'deg', '@is_input': 'True', '#text': '24.54'}, 'taper_ratio': {'@is_input': 'False', '#text': '0.19184819162786035'}, 'thickness_ratio': {'@is_input': 'False', '#text': '0.12698637971822446'}, 'virtual_taper_ratio': {'@is_input': 'True', '#text': '0.313'}, 'wetted_area': {'@units': 'm**2', '@is_input': 'False', '#text': '229.8652865179259'}, 'MAC': {'length': {'@units': 'm', '@is_input': 'False', '#text': '3.8725293953457665'}, 'y': {'@units': 'm', '@is_input': 'False', '#text': '8.11081603275189'}, 'at25percent': {'x': {'@units': 'm', '@is_input': 'False', '#text': '17.300050268604206'}}, 'leading_edge': {'x': {'local': {'@units': 'm', '@is_input': 'False', '#text': '3.081604840446854'}}}}, 'kink': {'chord': {'@units': 'm', '@is_input': 'False', '#text': '2.9081398542620205'}, 'span_ratio': {'@is_input': 'True', '#text': '0.375'}, 'thickness_ratio': {'@is_input': 'False', '#text': '0.11936719693513098'}, 'y': {'@units': 'm', '@is_input': 'False', '#text': '8.414240490472332'}, 'leading_edge': {'x': {'local': {'@units': 'm', '@is_input': 'False', '#text': '3.1477703258176044'}}}}, 'root': {'chord': {'@units': 'm', '@is_input': 'False', '#text': '6.055910180079625'}, 'thickness_ratio': {'@is_input': 'False', '#text': '0.15746311085059833'}, 'virtual_chord': {'@units': 'm', '@is_input': 'False', '#text': '3.7118703409234066'}, 'y': {'@units': 'm', '@is_input': 'False', '#text': '1.95994'}}, 'tip': {'chord': {'@units': 'm', '@is_input': 'False', '#text': '1.1618154167090262'}, 'thickness_ratio': {'@is_input': 'False', '#text': '0.10920828655767303'}, 'y': {'@units': 'm', '@is_input': 'False', '#text': '22.437974641259554'}, 'leading_edge': {'x': {'local': {'@units': 'm', '@is_input': 'False', '#text': '9.987162802533929'}}}}, 'spar_ratio': {'front': {'kink': {'@is_input': 'True', '#text': '0.15'}, 'root': {'@is_input': 'True', '#text': '0.11'}, 'tip': {'@is_input': 'True', '#text': '0.27'}}, 'rear': {'kink': {'@is_input': 'True', '#text': '0.66'}, 'root': {'@is_input': 'True', '#text': '0.57'}, 'tip': {'@is_input': 'True', '#text': '0.56'}}}}}\n"
     ]
    }
   ],
   "source": [
    "# Opening the xml file in read mode\n",
    "with open(xml_data_file,\"r\") as xml_obj:\n",
    "    #coverting the xml data to a Python ordered dictionary\n",
    "    data_dict_ordered = xmltodict.parse(xml_obj.read())\n",
    "    #closing the file\n",
    "    xml_obj.close()\n",
    "    #print(data_dict_ordered)\n",
    "    \n",
    "#converts nested ordered dict to dict\n",
    "data_dict = {}\n",
    "data_dict = json.loads(json.dumps(data_dict_ordered))\n",
    "#print(data_dict)\n",
    "#filters out the necessary geometry data values\n",
    "geometry_dict = data_dict['FASTOAD_model']['data']['geometry']\n",
    "print(geometry_dict)\n",
    "area = geometry_dict['aircraft']['wetted_area']"
   ]
  },
  {
   "cell_type": "markdown",
   "metadata": {},
   "source": [
    "Function to convert all entries in dict to variables "
   ]
  },
  {
   "cell_type": "code",
   "execution_count": 36,
   "metadata": {},
   "outputs": [],
   "source": [
    "xml_parameters = {}\n",
    "def update_globals(d, namespace):\n",
    "    for k, v in d.items():\n",
    "        if 'is_input' in k or '@units' in k: #removes unwanted variables\n",
    "            continue\n",
    "\n",
    "        if isinstance(v, dict): #this line checks if v is a dictionary\n",
    "            update_globals(v, namespace + k + '_')\n",
    "        else:\n",
    "            # This assigns each entry of the dict to a global variable \n",
    "            # This also removes the _#text from the end of the variable names\n",
    "            #globals()[(namespace + k).removesuffix('_#text')] = round(float(v),5)\n",
    "            xml_parameters[(namespace + k).removesuffix('_#text')] = round(float(v),5)\n",
    "            #xml_parameters[f\"{namespace}{k[:-5]}\"] = round(float(v),5)"
   ]
  },
  {
   "cell_type": "markdown",
   "metadata": {},
   "source": [
    "Call the Reclusive function"
   ]
  },
  {
   "cell_type": "code",
   "execution_count": 37,
   "metadata": {},
   "outputs": [
    {
     "name": "stdout",
     "output_type": "stream",
     "text": [
      "{'has_T_tail': 0.0, 'aircraft_wetted_area': 834.85724, 'cabin_NPAX1': 157.0, 'cabin_aisle_width': 0.48, 'cabin_exit_width': 0.51, 'cabin_length': 30.38096, 'cabin_containers_count_by_row': 1.0, 'cabin_crew_count_commercial': 4.0, 'cabin_crew_count_technical': 2.0, 'cabin_seats_economical_count_by_row': 6.0, 'cabin_seats_economical_length': 0.86, 'cabin_seats_economical_width': 0.46, 'flap_chord_ratio': 0.197, 'flap_span_ratio': 0.8, 'fuselage_PAX_length': 22.87, 'fuselage_front_length': 6.9018, 'fuselage_length': 37.50736, 'fuselage_maximum_height': 4.05988, 'fuselage_maximum_width': 3.91988, 'fuselage_rear_length': 14.61557, 'fuselage_wetted_area': 401.956, 'horizontal_tail_area': 36.21418, 'horizontal_tail_aspect_ratio': 4.28778, 'horizontal_tail_span': 56.46108, 'horizontal_tail_sweep_0': 33.31651, 'horizontal_tail_sweep_100': 8.80894, 'horizontal_tail_sweep_25': 28.0, 'horizontal_tail_taper_ratio': 0.3, 'horizontal_tail_thickness_ratio': 0.1, 'horizontal_tail_wetted_area': 72.42837, 'horizontal_tail_MAC_length': 3.18706, 'horizontal_tail_MAC_y': 2.55612, 'horizontal_tail_MAC_at25percent_x_from_wingMAC25': 16.83165, 'horizontal_tail_MAC_at25percent_x_local': 1.68011, 'horizontal_tail_root_chord': 4.47105, 'horizontal_tail_tip_chord': 1.34132, 'landing_gear_height': 3.04114, 'propulsion_layout': 1.0, 'propulsion_engine_count': 2.0, 'propulsion_engine_y_ratio': 0.34, 'propulsion_fan_length': 3.12689, 'propulsion_nacelle_diameter': 2.17224, 'propulsion_nacelle_length': 5.21148, 'propulsion_nacelle_wetted_area': 21.6092, 'propulsion_nacelle_y': 7.62891, 'propulsion_pylon_length': 5.73263, 'propulsion_pylon_wetted_area': 7.56322, 'slat_chord_ratio': 0.177, 'slat_span_ratio': 0.9, 'vertical_tail_area': 34.41083, 'vertical_tail_aspect_ratio': 1.74463, 'vertical_tail_span': 7.74816, 'vertical_tail_sweep_0': 40.5148, 'vertical_tail_sweep_100': 13.34652, 'vertical_tail_sweep_25': 35.0, 'vertical_tail_taper_ratio': 0.3, 'vertical_tail_thickness_ratio': 0.1, 'vertical_tail_wetted_area': 72.26274, 'vertical_tail_MAC_length': 4.87038, 'vertical_tail_MAC_z': 3.17873, 'vertical_tail_MAC_at25percent_x_from_wingMAC25': 15.70643, 'vertical_tail_MAC_at25percent_x_local': 2.71632, 'vertical_tail_root_chord': 6.83255, 'vertical_tail_tip_chord': 2.04977, 'wing_area': 138.67108, 'wing_aspect_ratio': 14.5225, 'wing_b_50': 48.76836, 'wing_outer_area': 114.93264, 'wing_span': 90.87595, 'wing_sweep_0': 25.99855, 'wing_sweep_100_inner': 0.0, 'wing_sweep_100_outer': 19.95975, 'wing_sweep_25': 24.54, 'wing_taper_ratio': 0.19185, 'wing_thickness_ratio': 0.12699, 'wing_virtual_taper_ratio': 0.313, 'wing_wetted_area': 229.86529, 'wing_MAC_length': 3.87253, 'wing_MAC_y': 8.11082, 'wing_MAC_at25percent_x': 17.30005, 'wing_MAC_leading_edge_x_local': 3.0816, 'wing_kink_chord': 2.90814, 'wing_kink_span_ratio': 0.375, 'wing_kink_thickness_ratio': 0.11937, 'wing_kink_y': 8.41424, 'wing_kink_leading_edge_x_local': 3.14777, 'wing_root_chord': 6.05591, 'wing_root_thickness_ratio': 0.15746, 'wing_root_virtual_chord': 3.71187, 'wing_root_y': 1.95994, 'wing_tip_chord': 1.16182, 'wing_tip_thickness_ratio': 0.10921, 'wing_tip_y': 22.43797, 'wing_tip_leading_edge_x_local': 9.98716, 'wing_spar_ratio_front_kink': 0.15, 'wing_spar_ratio_front_root': 0.11, 'wing_spar_ratio_front_tip': 0.27, 'wing_spar_ratio_rear_kink': 0.66, 'wing_spar_ratio_rear_root': 0.57, 'wing_spar_ratio_rear_tip': 0.56}\n"
     ]
    }
   ],
   "source": [
    "update_globals(geometry_dict, '')\n",
    "\n",
    "print(xml_parameters)"
   ]
  },
  {
   "cell_type": "markdown",
   "metadata": {},
   "source": [
    "Open csm file and update values using input XML file"
   ]
  },
  {
   "cell_type": "code",
   "execution_count": 38,
   "metadata": {},
   "outputs": [
    {
     "name": "stdout",
     "output_type": "stream",
     "text": [
      "4.05988\n",
      "3.91988\n",
      "37.50736\n",
      "6.9018\n",
      "14.61557\n",
      "17.30005\n",
      "3.0816\n",
      "3.87253\n",
      "3.14777\n",
      "8.41424\n",
      "9.98716\n",
      "22.43797\n",
      "2.71632\n",
      "15.70643\n",
      "40.5148\n",
      "7.74816\n",
      "1.68011\n",
      "16.83165\n",
      "33.31651\n",
      "56.46108\n",
      "6.05591\n",
      "0.15746\n",
      "2.90814\n",
      "0.11937\n",
      "1.16182\n",
      "0.10921\n",
      "4.47105\n",
      "0.1\n",
      "1.34132\n",
      "0.1\n",
      "6.83255\n",
      "0.1\n",
      "2.04977\n",
      "0.1\n",
      "{'fus:height': 4.05988, 'fus:width': 3.91988, 'fus:length': 37.50736, 'fus:front_length': 6.9018, 'fus:rear_length': 14.61557, 'wing:mac:Xat25': 17.30005, 'wing:mac:leadingX': 3.0816, 'wing:mac:length': 3.87253, 'wing:kink:leadingX': 3.14777, 'wing:kink:y': 8.41424, 'wing:tip:leadingX': 9.98716, 'wing:tip:y': 22.43797, 'vtp:mac25:Xat25': 2.71632, 'vtp:mac25:wingMac': 15.70643, 'vtp:sweep:0': 40.5148, 'vtp:span': 7.74816, 'htp:mac25:Xat25': 1.68011, 'htp:mac25:wingMac': 16.83165, 'htp:sweep:0': 33.31651, 'htp:span': 56.46108, 'wing:root:c': 6.05591, 'wing:root:t': 0.15746, 'wing:kink:c': 2.90814, 'wing:kink:t': 0.11937, 'wing:tip:c': 1.16182, 'wing:tip:t': 0.10921, 'htp:root:c': 4.47105, 'htp:root:t': 0.1, 'htp:tip:c': 1.34132, 'htp:tip:t': 0.1, 'vtp:root:c': 6.83255, 'vtp:root:t': 0.1, 'vtp:tip:c': 2.04977, 'vtp:tip:t': 0.1}\n"
     ]
    }
   ],
   "source": [
    "data_file = []\n",
    "with open(csm_file, 'r') as data:\n",
    "    for line in data.readlines():\n",
    "        data_file.append(line)       \n",
    "    data.close()\n",
    "\n",
    "# List of CSM variable names - XML variable names\n",
    "variables = {#'test':'test',\n",
    "            'fus:height':'fuselage_maximum_height',\n",
    "            'fus:width':'fuselage_maximum_width',\n",
    "            'fus:length':'fuselage_length',\n",
    "            'fus:front_length':'fuselage_front_length',\n",
    "            'fus:rear_length':'fuselage_rear_length',\n",
    "            'fus:width':'fuselage_maximum_width',\n",
    "            'fus:length':'fuselage_length',\n",
    "            'wing:mac:Xat25':'wing_MAC_at25percent_x',\n",
    "            'wing:mac:leadingX':'wing_MAC_leading_edge_x_local',\n",
    "            'wing:mac:length':'wing_MAC_length',\n",
    "            'wing:kink:leadingX':'wing_kink_leading_edge_x_local',\n",
    "            'wing:kink:y':'wing_kink_y',\n",
    "            'wing:tip:leadingX':'wing_tip_leading_edge_x_local',\n",
    "            'wing:tip:y':'wing_tip_y',\n",
    "            'vtp:mac25:Xat25':'vertical_tail_MAC_at25percent_x_local',\n",
    "            'vtp:mac25:wingMac':'vertical_tail_MAC_at25percent_x_from_wingMAC25',\n",
    "            'vtp:sweep:0':'vertical_tail_sweep_0',\n",
    "            'vtp:span':'vertical_tail_span',\n",
    "            'htp:mac25:Xat25':'horizontal_tail_MAC_at25percent_x_local',\n",
    "            'htp:mac25:wingMac':'horizontal_tail_MAC_at25percent_x_from_wingMAC25',\n",
    "            'htp:sweep:0':'horizontal_tail_sweep_0',\n",
    "            'htp:span':'horizontal_tail_span',\n",
    "            #'wing:root:Y':,#\n",
    "            #'wing:root:Z':'wing_root_z',#\n",
    "            'wing:root:c':'wing_root_chord',\n",
    "            'wing:root:t':'wing_root_thickness_ratio',\n",
    "            #'wing:root:m':'wing_root_camber',#\n",
    "            #'wing:root:a':'wing_root_aoa',#\n",
    "            #'wing:kink:Y':,#\n",
    "            'wing:kink:c':'wing_kink_chord',\n",
    "            'wing:kink:t':'wing_kink_thickness_ratio',\n",
    "            #'wing:kink:m':'wing_kink_camber',#\n",
    "            #'wing:kink:a':'wing_kink_aoa',#\n",
    "            'wing:tip:c':'wing_tip_chord',\n",
    "            'wing:tip:t':'wing_tip_thickness_ratio',\n",
    "            #'wing:tip:m':'wing_tip_camber',#\n",
    "            #'wing:tip:a':'wing_tip_aoa',#\n",
    "            'htp:root:c':'horizontal_tail_root_chord',\n",
    "            'htp:root:t':'horizontal_tail_thickness_ratio',\n",
    "            #'htp:root:m':'',#\n",
    "            #'htp:root:a':'',#\n",
    "            'htp:tip:c':'horizontal_tail_tip_chord',\n",
    "            'htp:tip:t':'horizontal_tail_thickness_ratio',\n",
    "            #'htp:tip:m':'',#\n",
    "            #'htp:tip:a':'',#\n",
    "            'vtp:root:c':'vertical_tail_root_chord',\n",
    "            'vtp:root:t':'vertical_tail_thickness_ratio',\n",
    "            #'vtp:root:m':'',#\n",
    "            #'vtp:root:a':'',#\n",
    "            'vtp:tip:c':'vertical_tail_tip_chord',\n",
    "            'vtp:tip:t':'vertical_tail_thickness_ratio',\n",
    "            #'vtp:tip:m':'',#\n",
    "            #'vtp:tip:a':'',#\n",
    "            }\n",
    "\n",
    "# Make a dict with updated values \n",
    "csm_values = {}\n",
    "for i,j in variables.items():\n",
    "    #print(j)\n",
    "    csm_values[i] = xml_parameters[j]\n",
    "    if j in xml_parameters:\n",
    "        print(xml_parameters[j])\n",
    "        \n",
    "    else:\n",
    "        continue\n",
    "    \n",
    "#print(variables)\n",
    "\n",
    "print(csm_values)\n",
    "\n"
   ]
  },
  {
   "cell_type": "markdown",
   "metadata": {},
   "source": [
    "Function to create a new CSM file with updated values "
   ]
  },
  {
   "cell_type": "code",
   "execution_count": 39,
   "metadata": {},
   "outputs": [],
   "source": [
    "def updateCSM(data_file, csm_file):\n",
    "    count = 0    \n",
    "    tempString = ''\n",
    "    val = 0\n",
    "    des = 'DESPMTR'\n",
    "\n",
    "    while count<len(data_file):\n",
    "        tempString = data_file[count].split() #splits line with search word\n",
    "        for i in csm_values:\n",
    "            if des in data_file[count] and (i in data_file[count]):\n",
    "                val = tempString[tempString.index(i)+1] #finds next word of search word, i.e, the value\n",
    "                data_file[count] = data_file[count].replace(val, str(csm_values[i])) #replaces the value with chosen value\n",
    "                #If value was found and replaced, search is ended\n",
    "                break\n",
    "            else:\n",
    "                continue\n",
    "        count+=1  \n",
    "    # find old file name and add 'updated' \n",
    "    new_file = os.path.basename(csm_file)\n",
    "    new_file = ('Updated_'+ new_file)\n",
    "    new_file_path = os.path.join(WORK_FOLDER_PATH, new_file)\n",
    "    print(new_file_path)\n",
    "    # Creating a new .csm file with changes\n",
    "    # opening file in 'w' or write mode\n",
    "    with open(new_file_path, 'w') as x:\n",
    "        for i in data_file:\n",
    "            x.write(i)\n",
    "        \n",
    "        x.close() \n",
    "    return new_file"
   ]
  },
  {
   "cell_type": "raw",
   "metadata": {},
   "source": [
    "Call function to updateCSM values "
   ]
  },
  {
   "cell_type": "code",
   "execution_count": 40,
   "metadata": {},
   "outputs": [
    {
     "name": "stdout",
     "output_type": "stream",
     "text": [
      "CSMworkdir\\Updated_CsmBaseModel.csm\n",
      "Updated_CsmBaseModel.csm\n"
     ]
    }
   ],
   "source": [
    "new_file = updateCSM(data_file, csm_file)\n",
    "print(new_file)"
   ]
  },
  {
   "cell_type": "markdown",
   "metadata": {},
   "source": [
    "# Editing batch file"
   ]
  },
  {
   "cell_type": "code",
   "execution_count": 41,
   "metadata": {},
   "outputs": [],
   "source": [
    "#editing ESP run batch file\n",
    "# opening file in 'r' or read mode\n",
    "batch_file_data = []\n",
    "with open(batch_file, 'r') as x:\n",
    "    for line in x.readlines():\n",
    "        batch_file_data.append(line)\n",
    "    x.close()\n",
    "batch_file_path = (os.getcwd()+ \"\\\\\" + WORK_FOLDER_PATH)\n",
    "count = 0\n",
    "while count<len(batch_file_data):\n",
    "        if 'cd /d ' in batch_file_data[count]:\n",
    "            batch_file_data[count] = 'cd /d ' + batch_file_path\n",
    "        elif 'serveCSM' in batch_file_data[count]:\n",
    "            batch_file_data[count] = '\\nserveCSM \"' + new_file + '\"'\n",
    "        # else:\n",
    "        #     data_file[len(data_file)-1] = 'cd /d ' + new_file_path\n",
    "        #     data_file.append('serveCSM \"' + new_file + '\"')\n",
    "\n",
    "        count+=1\n",
    "\n",
    "        \n",
    "with open(batch_file, 'w') as x:\n",
    "    for i in batch_file_data:\n",
    "        x.write(i)\n",
    "    x.close()    \n"
   ]
  },
  {
   "cell_type": "markdown",
   "metadata": {},
   "source": [
    "#  Run batch file to model aircraft"
   ]
  },
  {
   "cell_type": "code",
   "execution_count": 42,
   "metadata": {},
   "outputs": [],
   "source": [
    "%%capture captured_output\n",
    "!CSMworkdir\\ESP.bat > CSMworkdir\\esp_logs.txt\n"
   ]
  },
  {
   "cell_type": "markdown",
   "metadata": {},
   "source": [
    "Create a new folder 'Run _' for each new run "
   ]
  },
  {
   "cell_type": "code",
   "execution_count": null,
   "metadata": {},
   "outputs": [],
   "source": [
    "# Specify the prefix for the folder name\n",
    "prefix = 'run'\n",
    "\n",
    "# Initialize the counter variable file\n",
    "counter_file = 'counter_file.txt'\n",
    "if os.path.exists(counter_file):\n",
    "    with open(counter_file, 'r') as f:\n",
    "        counter = int(f.read())\n",
    "else:\n",
    "    counter = 0\n",
    "\n",
    "# Increment the counter variable\n",
    "counter += 1\n",
    "\n",
    "# Create the new folder with the serialized name\n",
    "run_folder = f'{prefix} {counter}'\n",
    "shutil.copytree(WORK_FOLDER_PATH, run_folder)\n",
    "\n",
    "# Save the updated counter variable to the file\n",
    "with open(counter_file, 'w') as f:\n",
    "    f.write(str(counter))\n",
    "# Copy all the latest files to the new Run folder\n",
    "\n"
   ]
  },
  {
   "cell_type": "code",
   "execution_count": null,
   "metadata": {},
   "outputs": [],
   "source": []
  },
  {
   "cell_type": "code",
   "execution_count": null,
   "metadata": {},
   "outputs": [],
   "source": []
  },
  {
   "cell_type": "code",
   "execution_count": null,
   "metadata": {},
   "outputs": [],
   "source": []
  },
  {
   "cell_type": "code",
   "execution_count": null,
   "metadata": {},
   "outputs": [],
   "source": []
  }
 ],
 "metadata": {
  "kernelspec": {
   "display_name": "Python 3 (ipykernel)",
   "language": "python",
   "name": "python3"
  },
  "language_info": {
   "codemirror_mode": {
    "name": "ipython",
    "version": 3
   },
   "file_extension": ".py",
   "mimetype": "text/x-python",
   "name": "python",
   "nbconvert_exporter": "python",
   "pygments_lexer": "ipython3",
   "version": "3.9.16"
  },
  "varInspector": {
   "cols": {
    "lenName": 16,
    "lenType": 16,
    "lenVar": 40
   },
   "kernels_config": {
    "python": {
     "delete_cmd_postfix": "",
     "delete_cmd_prefix": "del ",
     "library": "var_list.py",
     "varRefreshCmd": "print(var_dic_list())"
    },
    "r": {
     "delete_cmd_postfix": ") ",
     "delete_cmd_prefix": "rm(",
     "library": "var_list.r",
     "varRefreshCmd": "cat(var_dic_list()) "
    }
   },
   "types_to_exclude": [
    "module",
    "function",
    "builtin_function_or_method",
    "instance",
    "_Feature"
   ],
   "window_display": false
  }
 },
 "nbformat": 4,
 "nbformat_minor": 4
}
